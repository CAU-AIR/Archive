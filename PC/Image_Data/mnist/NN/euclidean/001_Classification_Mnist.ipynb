{
 "cells": [
  {
   "cell_type": "markdown",
   "metadata": {},
   "source": [
    "## Mnist Dataset Classification using K-Nearest Neighbors (Euclidean)\n",
    "\n",
    "### Summary\n",
    "<img align=\"right\" src=\"../image/NearestNeighbor.png\" width=150 height=150>\n",
    "KNN은 새로운 데이터가 주어졌을 때 기존 데이터 가운데 가장 가까운 k개 이웃의 정보로 새로운 데이터를 예측하는 알고리즘\n",
    "\n",
    "새로운 데이터가 주어진 경우 기존 모든 데이터와의 거리를 계산한다. 계산된 거리 값이 작은 k개의 데이터를 선정한다. 새로운 데이터의 클래스는 선정된 데이터들의 클래스 중 가장 많이 선택된 클래스로 분류한다.\n",
    "\n",
    "거리 계산 방법에는 Euclidean, Mahalanobis 등 있다.\n",
    "\n",
    "Mnist 데이터셋을 이용하여 0부터 9까지의 10가지 손글씨 클래스를 구분한다. 거리 계산 방법은 Euclidean을 사용한다.\n",
    "\n",
    "Time 측정 방법은 Method 측면에서는 \n",
    "1. Model Fitting Time : KNN의 경우 데이터셋에 대한 Checking 및 데이터셋 메모리에 카피\n",
    "2. All Test Data Prediction Time\n",
    "3. One Instance Prediction Time 10번 평균\n",
    "\n",
    "PCA 측면에서는 \n",
    "1. Calculate Train Data SVD Matrix Time\n",
    "2. Transform Train X to N-PCA Time\n",
    "3. Transform Test X to N-PCA Time"
   ]
  },
  {
   "cell_type": "code",
   "execution_count": 121,
   "metadata": {},
   "outputs": [],
   "source": [
    "import time\n",
    "from tqdm import tqdm\n",
    "import numpy as np\n",
    "import pandas as pd\n",
    "\n",
    "import seaborn as sns\n",
    "import matplotlib.pyplot as plt\n",
    "from PIL import Image\n",
    "\n",
    "from sklearn.datasets import fetch_openml\n",
    "from sklearn.model_selection import train_test_split\n",
    "from sklearn.metrics import accuracy_score\n",
    "from sklearn import preprocessing\n",
    "from sklearn.decomposition import PCA\n",
    "from sklearn.discriminant_analysis import LinearDiscriminantAnalysis\n",
    "from sklearn.neighbors import KNeighborsClassifier\n",
    "\n",
    "from torchvision.datasets import MNIST\n",
    "from torchvision import transforms\n",
    "from torch.utils.data import DataLoader\n"
   ]
  },
  {
   "cell_type": "code",
   "execution_count": 4,
   "metadata": {},
   "outputs": [],
   "source": [
    "class BaseConfig:\n",
    "    def __init__(self):\n",
    "        pass\n",
    "\n",
    "    def info(self):\n",
    "        config_list = {\n",
    "            0 : ['Dataset', self.dataset, \n",
    "                 \"Train size: \" + str(int((1-self.test_size)*100))+\"%\",\n",
    "                 'Feature size: ' + str(self.feature_size), 1],\n",
    "            1 : ['Method', self.method, \n",
    "                 \"k = \" + str(self.k), self.distance, 2],\n",
    "            2 : ['Dimension reduction', \n",
    "                 'Method: ' + str(self.reduction_method[0]),\n",
    "                 'Component size: ' + str(self.reduction_method[1]),\n",
    "                 'Feature Reduction Ratio: ' + \\\n",
    "                    str(round(self.reduction_method[1]/self.feature_size, 3)*100 if self.reduction_method[1] is not None else None)+\"%\", 3],\n",
    "            3 : ['Iteration', str(self.iter), -1]\n",
    "        }\n",
    "\n",
    "        print(\"Device \" + \"─\" * 2 + \" \" + self.device)\n",
    "        print(\"│\")\n",
    "\n",
    "        parent = 1\n",
    "        for child in range(len(config_list)):\n",
    "            for idx, contents in enumerate(config_list[child][:-1]):\n",
    "                if idx == 0 and child == len(config_list)-1:\n",
    "                    print(\"└\" + \"─\" * 2 + contents)\n",
    "                elif idx == 0:\n",
    "                    print(\"├\" + \"─\" * 2 + contents)\n",
    "                elif child == len(config_list)-1:\n",
    "                    print(\" \" * 4 + \"└\" + \"─\" * 4 + contents)\n",
    "                else:\n",
    "                    print(\"│\" + \" \" * 4 + \"└\" + \"─\" * 4 + contents)\n",
    "            parent = config_list[child][-1]\n",
    "            if parent == -1: break\n",
    "            print(\"│\")\n",
    "\n",
    "    def print_rutin(self):\n",
    "        if self.reduction_method[0] is None:\n",
    "            rutin = str(self.device) + \" - \" + str(self.dataset) + \"(\" + str(int((1-self.test_size)*100)) + \"%) - \" + str(self.method) + \" - \" + str(self.iter) + \" iteration\"\n",
    "            print(rutin)\n",
    "        else:\n",
    "            rutin = str(self.device) + \" - \" + str(self.dataset) + \"(\" + str(int((1-self.test_size)*100)) + \"%) - \" + str(self.method) + \" - \" + str(self.iter) + \" iteration - \" + str(self.reduction_method[0]) + \"(feature \" + str(self.reduction_method[1]) + \")\"\n",
    "            print(rutin)\n",
    "\n",
    "class Config(BaseConfig):\n",
    "    def __init__(self):\n",
    "        super(BaseConfig, self).__init__()\n",
    "        self.device = 'PC'\n",
    "        self.dataset = 'Mnist'\n",
    "        self.test_size = 0.2\n",
    "        self.feature_size = 784\n",
    "        self.method = 'kNN'\n",
    "        self.k = 1\n",
    "        self.distance = 'Euclidean'\n",
    "        self.reduction_method = [None, None] # method, n_components\n",
    "        self.iter = 10\n"
   ]
  },
  {
   "cell_type": "markdown",
   "metadata": {},
   "source": [
    "## Load Mnist Dataset"
   ]
  },
  {
   "cell_type": "markdown",
   "metadata": {},
   "source": [
    "<a title=\"By Josef Steppan [CC BY-SA 4.0 (https://creativecommons.org/licenses/by-sa/4.0)], from Wikimedia Commons\" href=\"https://commons.wikimedia.org/wiki/File:MnistExamples.png\"><img width=\"512\" alt=\"MnistExamples\" src=\"https://upload.wikimedia.org/wikipedia/commons/2/27/MnistExamples.png\"/></a>"
   ]
  },
  {
   "cell_type": "code",
   "execution_count": 30,
   "metadata": {},
   "outputs": [
    {
     "name": "stdout",
     "output_type": "stream",
     "text": [
      "torch.Size([60000, 28, 28])\n",
      "torch.Size([10000, 28, 28])\n"
     ]
    }
   ],
   "source": [
    "transform = transforms.Compose([transforms.ToTensor(),\n",
    "                                transforms.Normalize((0.1307,), (0.3081,))\n",
    "                                ])\n",
    "\n",
    "batch_size = 512\n",
    "\n",
    "trainset = MNIST(root='../../../datasets', train=True, download=False, transform=transform)\n",
    "train_loader = DataLoader(trainset, batch_size=batch_size, shuffle=True, num_workers=2)\n",
    "\n",
    "validationset = MNIST(root='../../../datasets', train=False, download=False, transform=transform)\n",
    "val_loader = DataLoader(validationset, batch_size=batch_size, shuffle=False, num_workers=2)\n",
    "\n",
    "print(trainset.data.shape)\n",
    "print(validationset.data.shape)"
   ]
  },
  {
   "cell_type": "code",
   "execution_count": 6,
   "metadata": {},
   "outputs": [],
   "source": [
    "train_mnist = MNIST(root='../../../datasets', train=True, download=False)\n",
    "test_mnist = MNIST(root='../../../datasets', train=False, download=False)"
   ]
  },
  {
   "cell_type": "code",
   "execution_count": 7,
   "metadata": {},
   "outputs": [
    {
     "name": "stdout",
     "output_type": "stream",
     "text": [
      "Train data X shape : (60000, 28, 28), y shape : (60000,)\n",
      "Test data X shape : (10000, 28, 28), y shape : (10000,)\n"
     ]
    }
   ],
   "source": [
    "train_mnist_X, train_mnist_y = train_mnist.data.numpy(), train_mnist.targets.numpy()\n",
    "test_mnist_X, test_mnist_y = test_mnist.data.numpy(), test_mnist.targets.numpy()\n",
    "\n",
    "print(f'Train data X shape : {train_mnist_X.shape}, y shape : {train_mnist_y.shape}')\n",
    "print(f'Test data X shape : {test_mnist_X.shape}, y shape : {test_mnist_y.shape}')"
   ]
  },
  {
   "cell_type": "code",
   "execution_count": 10,
   "metadata": {},
   "outputs": [
    {
     "name": "stdout",
     "output_type": "stream",
     "text": [
      "Mnist Data range [0, 255] \n",
      "--> Mnist Data Normalized range [0.0, 1.0] \n"
     ]
    }
   ],
   "source": [
    "print(f'Mnist Data range [{train_mnist_X.min()}, {train_mnist_X.max()}] ')\n",
    "\n",
    "train_mnist_X, test_mnist_X = train_mnist_X / 255., test_mnist_X / 255.\n",
    "\n",
    "print(f'--> Mnist Data Normalized range [{train_mnist_X.min()}, {train_mnist_X.max()}] ')"
   ]
  },
  {
   "cell_type": "markdown",
   "metadata": {},
   "source": [
    "## Sample Images"
   ]
  },
  {
   "cell_type": "code",
   "execution_count": 9,
   "metadata": {},
   "outputs": [
    {
     "data": {
      "image/png": "[encoded data removed]",
      "text/plain": [
       "<Figure size 1080x360 with 10 Axes>"
      ]
     },
     "metadata": {
      "needs_background": "light"
     },
     "output_type": "display_data"
    }
   ],
   "source": [
    "plt.figure(figsize=(15, 5))\n",
    "\n",
    "for i in range(10):\n",
    "    sample_idx = np.where(train_mnist_y == i)[0][0]\n",
    "\n",
    "    sample_image = train_mnist_X[sample_idx]\n",
    "    sample_label = train_mnist_y[sample_idx]\n",
    "\n",
    "    plt.subplot(2, 5, i+1) # nrows, ncolumns, index\n",
    "    plt.title(sample_label)\n",
    "    plt.imshow(sample_image,'gray')\n",
    "plt.show()"
   ]
  },
  {
   "cell_type": "markdown",
   "metadata": {},
   "source": [
    "## Train & Test Data Label Distribution"
   ]
  },
  {
   "cell_type": "code",
   "execution_count": 10,
   "metadata": {},
   "outputs": [
    {
     "data": {
      "image/png": "[encoded data removed]",
      "text/plain": [
       "<Figure size 1080x360 with 2 Axes>"
      ]
     },
     "metadata": {
      "needs_background": "light"
     },
     "output_type": "display_data"
    }
   ],
   "source": [
    "plt.figure(figsize=(15, 5))\n",
    "\n",
    "plt.subplot(1, 2, 1)\n",
    "sns.histplot(train_mnist_y, palette=\"tab10\")\n",
    "plt.title(\"Class Distribution of Mnist Train Dataset\")\n",
    "\n",
    "plt.subplot(1, 2, 2)\n",
    "sns.histplot(test_mnist_y, palette=\"tab10\")\n",
    "plt.title(\"Class Distribution of Mnist Test Dataset\")\n",
    "plt.show()"
   ]
  },
  {
   "cell_type": "markdown",
   "metadata": {},
   "source": [
    "## Preprocessing\n",
    " * Flatten 28 x 28 images to 784 vectors"
   ]
  },
  {
   "cell_type": "code",
   "execution_count": 11,
   "metadata": {},
   "outputs": [
    {
     "name": "stdout",
     "output_type": "stream",
     "text": [
      "Mnist Data shape train : (60000, 28, 28), test : (10000, 28, 28)\n",
      "--> Mnist Data shape train : (60000, 784), test : (10000, 784)\n"
     ]
    }
   ],
   "source": [
    "print(f'Mnist Data shape train : {train_mnist_X.shape}, test : {test_mnist_X.shape}')\n",
    "\n",
    "train_mnist_X = train_mnist_X.reshape(-1, 784)\n",
    "test_mnist_X = test_mnist_X.reshape(-1, 784)\n",
    "\n",
    "print(f'--> Mnist Data shape train : {train_mnist_X.shape}, test : {test_mnist_X.shape}')"
   ]
  },
  {
   "cell_type": "code",
   "execution_count": 13,
   "metadata": {},
   "outputs": [
    {
     "data": {
      "text/plain": [
       "Normalizer()"
      ]
     },
     "execution_count": 13,
     "metadata": {},
     "output_type": "execute_result"
    }
   ],
   "source": [
    "scaler = preprocessing.StandardScaler()\n",
    "normal = preprocessing.Normalizer()\n",
    "\n",
    "scaler.fit(train_mnist_X)\n",
    "normal.fit(train_mnist_X)"
   ]
  },
  {
   "cell_type": "code",
   "execution_count": 15,
   "metadata": {},
   "outputs": [],
   "source": [
    "x_s = scaler.transform(train_mnist_X)\n",
    "x_n = normal.transform(train_mnist_X)"
   ]
  },
  {
   "cell_type": "code",
   "execution_count": 28,
   "metadata": {},
   "outputs": [
    {
     "data": {
      "text/plain": [
       "0.013792965378637572"
      ]
     },
     "execution_count": 28,
     "metadata": {},
     "output_type": "execute_result"
    }
   ],
   "source": [
    "x_n.mean()"
   ]
  },
  {
   "cell_type": "markdown",
   "metadata": {},
   "source": [
    "## K-Nearest Neighbor"
   ]
  },
  {
   "cell_type": "code",
   "execution_count": 39,
   "metadata": {},
   "outputs": [
    {
     "name": "stdout",
     "output_type": "stream",
     "text": [
      "Device ── PC\n",
      "│\n",
      "├──Dataset\n",
      "│    └────Mnist\n",
      "│    └────Train size: 80%\n",
      "│    └────Feature size: 784\n",
      "│\n",
      "├──Method\n",
      "│    └────kNN\n",
      "│    └────k = 1\n",
      "│    └────Euclidean\n",
      "│\n",
      "├──Dimension reduction\n",
      "│    └────Method: None\n",
      "│    └────Component size: None\n",
      "│    └────Feature Reduction Ratio: None%\n",
      "│\n",
      "└──Iteration\n",
      "    └────10\n"
     ]
    }
   ],
   "source": [
    "config = Config()\n",
    "config.info()"
   ]
  },
  {
   "cell_type": "markdown",
   "metadata": {},
   "source": [
    "### KNN run function"
   ]
  },
  {
   "cell_type": "code",
   "execution_count": 43,
   "metadata": {},
   "outputs": [],
   "source": [
    "def knn_run(train_data_X = train_mnist_X,\n",
    "            train_data_y = train_mnist_y,\n",
    "            test_data_X = test_mnist_X,\n",
    "            test_data_y = test_mnist_y,\n",
    "            config = None,\n",
    "            weights = 'distance'):\n",
    "\n",
    "    assert config is not None\n",
    "    # config.info()\n",
    "    config.print_rutin()\n",
    "    k = config.k\n",
    "    max_seed = config.iter\n",
    "\n",
    "    avg_test_acc = []\n",
    "    avg_knn_fit_time = []\n",
    "    avg_pred_time = []\n",
    "    preds = []\n",
    "\n",
    "    for seed in tqdm(range(max_seed)):\n",
    "        x_train, x_test, y_train, y_test = train_data_X, test_data_X, train_data_y, test_data_y\n",
    "\n",
    "        knn = KNeighborsClassifier(n_neighbors=k, weights=weights, n_jobs=-1)\n",
    "\n",
    "        start_time = time.perf_counter()\n",
    "        knn.fit(x_train, y_train)\n",
    "        knn_fit_time = time.perf_counter() - start_time\n",
    "        avg_knn_fit_time.append(knn_fit_time)\n",
    "\n",
    "        start_time = time.perf_counter()\n",
    "        pred = knn.predict(x_test)\n",
    "        pred_time = time.perf_counter() - start_time\n",
    "        preds.append(pred)\n",
    "\n",
    "        test_score = accuracy_score(pred, y_test)\n",
    "        avg_test_acc.append(test_score)\n",
    "        avg_pred_time.append(pred_time)\n",
    "\n",
    "    print(\"Train size : \", len(x_train), \" / Test size : \", len(x_test))\n",
    "    print(\"-----\" * 8)\n",
    "    print(\"Test set score: %.4f ± %.5f\" % (np.array(avg_test_acc).mean(), np.array(avg_test_acc).std()))\n",
    "    print(\"KNN fitting Time: %.4f ± %.5f\" % (np.array(avg_knn_fit_time).mean(), np.array(avg_knn_fit_time).std()), \"sec\")\n",
    "    print(\"All Test dataset Prediction Time at once : %.4f ± %.5f\" % (np.array(avg_pred_time).mean(), np.array(avg_pred_time).std()), \"sec\")\n",
    "    print(\"Divide the Prediction Time by Test size : %.8f ± %.8f\" % (np.array(avg_pred_time).mean()/len(x_test), np.array(avg_pred_time).std()/len(x_test)), \"sec\")\n",
    "\n",
    "    return avg_test_acc, avg_knn_fit_time, avg_pred_time"
   ]
  },
  {
   "cell_type": "markdown",
   "metadata": {},
   "source": [
    "* K : {1, 2, 3, 5}-NN Results"
   ]
  },
  {
   "cell_type": "code",
   "execution_count": 44,
   "metadata": {},
   "outputs": [
    {
     "name": "stdout",
     "output_type": "stream",
     "text": [
      "PC - Mnist(80%) - kNN - 10 iteration\n"
     ]
    },
    {
     "name": "stderr",
     "output_type": "stream",
     "text": [
      "100%|██████████| 10/10 [01:23<00:00,  8.35s/it]"
     ]
    },
    {
     "name": "stdout",
     "output_type": "stream",
     "text": [
      "Train size :  60000  / Test size :  10000\n",
      "----------------------------------------\n",
      "Test set score: 0.9691 ± 0.00000\n",
      "KNN fitting Time: 0.0028 ± 0.00031 sec\n",
      "All Test dataset Prediction Time at once : 8.3492 ± 0.04587 sec\n",
      "Divide the Prediction Time by Test size : 0.00083492 ± 0.00000459 sec\n"
     ]
    },
    {
     "name": "stderr",
     "output_type": "stream",
     "text": [
      "\n"
     ]
    }
   ],
   "source": [
    "config.k = 1\n",
    "\n",
    "avg_test_acc, avg_knn_fit_time, avg_pred_time = knn_run(train_data_X = train_mnist_X,\n",
    "                                                        train_data_y = train_mnist_y,\n",
    "                                                        test_data_X = test_mnist_X,\n",
    "                                                        test_data_y = test_mnist_y,\n",
    "                                                        config = config,\n",
    "                                                        weights = 'distance')"
   ]
  },
  {
   "cell_type": "code",
   "execution_count": 45,
   "metadata": {},
   "outputs": [
    {
     "name": "stdout",
     "output_type": "stream",
     "text": [
      "PC - Mnist(80%) - kNN - 10 iteration\n"
     ]
    },
    {
     "name": "stderr",
     "output_type": "stream",
     "text": [
      "100%|██████████| 10/10 [01:27<00:00,  8.75s/it]"
     ]
    },
    {
     "name": "stdout",
     "output_type": "stream",
     "text": [
      "Train size :  60000  / Test size :  10000\n",
      "----------------------------------------\n",
      "Test set score: 0.9691 ± 0.00000\n",
      "KNN fitting Time: 0.0027 ± 0.00036 sec\n",
      "All Test dataset Prediction Time at once : 8.7486 ± 0.06288 sec\n",
      "Divide the Prediction Time by Test size : 0.00087486 ± 0.00000629 sec\n"
     ]
    },
    {
     "name": "stderr",
     "output_type": "stream",
     "text": [
      "\n"
     ]
    }
   ],
   "source": [
    "config.k = 2\n",
    "\n",
    "avg_test_acc, avg_knn_fit_time, avg_pred_time = knn_run(train_data_X = train_mnist_X,\n",
    "                                                        train_data_y = train_mnist_y,\n",
    "                                                        test_data_X = test_mnist_X,\n",
    "                                                        test_data_y = test_mnist_y,\n",
    "                                                        config = config,\n",
    "                                                        weights = 'distance')"
   ]
  },
  {
   "cell_type": "code",
   "execution_count": 46,
   "metadata": {},
   "outputs": [
    {
     "name": "stdout",
     "output_type": "stream",
     "text": [
      "PC - Mnist(80%) - kNN - 10 iteration\n"
     ]
    },
    {
     "name": "stderr",
     "output_type": "stream",
     "text": [
      "100%|██████████| 10/10 [01:31<00:00,  9.16s/it]"
     ]
    },
    {
     "name": "stdout",
     "output_type": "stream",
     "text": [
      "Train size :  60000  / Test size :  10000\n",
      "----------------------------------------\n",
      "Test set score: 0.9717 ± 0.00000\n",
      "KNN fitting Time: 0.0026 ± 0.00011 sec\n",
      "All Test dataset Prediction Time at once : 9.1586 ± 0.01919 sec\n",
      "Divide the Prediction Time by Test size : 0.00091586 ± 0.00000192 sec\n"
     ]
    },
    {
     "name": "stderr",
     "output_type": "stream",
     "text": [
      "\n"
     ]
    }
   ],
   "source": [
    "config.k = 3\n",
    "\n",
    "avg_test_acc, avg_knn_fit_time, avg_pred_time = knn_run(train_data_X = train_mnist_X,\n",
    "                                                        train_data_y = train_mnist_y,\n",
    "                                                        test_data_X = test_mnist_X,\n",
    "                                                        test_data_y = test_mnist_y,\n",
    "                                                        config = config,\n",
    "                                                        weights = 'distance')"
   ]
  },
  {
   "cell_type": "code",
   "execution_count": 47,
   "metadata": {},
   "outputs": [
    {
     "name": "stdout",
     "output_type": "stream",
     "text": [
      "PC - Mnist(80%) - kNN - 10 iteration\n"
     ]
    },
    {
     "name": "stderr",
     "output_type": "stream",
     "text": [
      "100%|██████████| 10/10 [01:59<00:00, 11.90s/it]"
     ]
    },
    {
     "name": "stdout",
     "output_type": "stream",
     "text": [
      "Train size :  60000  / Test size :  10000\n",
      "----------------------------------------\n",
      "Test set score: 0.9691 ± 0.00000\n",
      "KNN fitting Time: 0.0026 ± 0.00021 sec\n",
      "All Test dataset Prediction Time at once : 11.8980 ± 0.06315 sec\n",
      "Divide the Prediction Time by Test size : 0.00118980 ± 0.00000632 sec\n"
     ]
    },
    {
     "name": "stderr",
     "output_type": "stream",
     "text": [
      "\n"
     ]
    }
   ],
   "source": [
    "config.k = 5\n",
    "\n",
    "avg_test_acc, avg_knn_fit_time, avg_pred_time = knn_run(train_data_X = train_mnist_X,\n",
    "                                                        train_data_y = train_mnist_y,\n",
    "                                                        test_data_X = test_mnist_X,\n",
    "                                                        test_data_y = test_mnist_y,\n",
    "                                                        config = config,\n",
    "                                                        weights = 'distance')"
   ]
  },
  {
   "cell_type": "markdown",
   "metadata": {},
   "source": [
    "### 1개의 Instance를 예측하는데 걸리는 시간 측정 - 10번 반복"
   ]
  },
  {
   "cell_type": "code",
   "execution_count": 66,
   "metadata": {},
   "outputs": [],
   "source": [
    "def knn_run_one_instance(train_data_X = train_mnist_X,\n",
    "            train_data_y = train_mnist_y,\n",
    "            test_data_X = test_mnist_X,\n",
    "            test_data_y = test_mnist_y,\n",
    "            config = None,\n",
    "            weights = 'distance'):\n",
    "\n",
    "    assert config is not None\n",
    "    config.info()\n",
    "    k = config.k\n",
    "    max_seed = config.iter\n",
    "\n",
    "\n",
    "    x_train, x_test, y_train, y_test = train_data_X, test_data_X, train_data_y, test_data_y\n",
    "\n",
    "    knn = KNeighborsClassifier(n_neighbors=k, weights='distance', n_jobs=-1)\n",
    "\n",
    "    start_time = time.perf_counter()\n",
    "    knn.fit(x_train, y_train)\n",
    "    knn_fit_time = time.perf_counter() - start_time\n",
    "\n",
    "\n",
    "    avg_pred_time = []\n",
    "    preds = []\n",
    "    ys_test = []\n",
    "    count = 0\n",
    "\n",
    "    for x_one, y_one in tqdm(zip(x_test, y_test)):\n",
    "        x_one = x_one.reshape(1, -1)\n",
    "\n",
    "        start = time.perf_counter()\n",
    "        pred = knn.predict(x_one)\n",
    "        pred_time = time.perf_counter() - start\n",
    "        \n",
    "\n",
    "        avg_pred_time.append(pred_time)\n",
    "        preds.append(pred)\n",
    "        ys_test.append(y_one)\n",
    "\n",
    "        count += 1\n",
    "        if count == 10:\n",
    "            break\n",
    "\n",
    "    test_score = accuracy_score(preds, ys_test)\n",
    "    avg_test_acc.append(test_score)\n",
    "    avg_pred_time.append(pred_time)\n",
    "\n",
    "    print(\"Train size : \", len(x_train), \" / Test size : \", 10)\n",
    "    print(\"-----\" * 8)\n",
    "    print(\"Test set score: %f\" % np.array(avg_test_acc).mean())\n",
    "    print(\"KNN fitting Time: %.4f\" % (knn_fit_time), \"sec\")\n",
    "    print(\"One Instance Prediction Average Time : %.8f ± %.8f\" % (np.array(avg_pred_time).mean(), np.array(avg_pred_time).std()), \"sec\")\n",
    "\n",
    "    return avg_test_acc, knn_fit_time, avg_pred_time"
   ]
  },
  {
   "cell_type": "code",
   "execution_count": 67,
   "metadata": {},
   "outputs": [
    {
     "name": "stdout",
     "output_type": "stream",
     "text": [
      "Device ── PC\n",
      "│\n",
      "├──Dataset\n",
      "│    └────Mnist\n",
      "│    └────Train size: 80%\n",
      "│    └────Feature size: 784\n",
      "│\n",
      "├──Method\n",
      "│    └────kNN\n",
      "│    └────k = 1\n",
      "│    └────Euclidean\n",
      "│\n",
      "├──Dimension reduction\n",
      "│    └────Method: None\n",
      "│    └────Component size: None\n",
      "│    └────Feature Reduction Ratio: None%\n",
      "│\n",
      "└──Iteration\n",
      "    └────10\n"
     ]
    },
    {
     "name": "stderr",
     "output_type": "stream",
     "text": [
      "9it [00:00, 12.99it/s]"
     ]
    },
    {
     "name": "stdout",
     "output_type": "stream",
     "text": [
      "Train size :  60000  / Test size :  10\n",
      "----------------------------------------\n",
      "Test set score: 0.985696\n",
      "KNN fitting Time: 0.0031 sec\n",
      "One Instance Prediction Average Time : 0.06916218 ± 0.00167305 sec\n"
     ]
    },
    {
     "name": "stderr",
     "output_type": "stream",
     "text": [
      "\n"
     ]
    }
   ],
   "source": [
    "config.k = 1\n",
    "\n",
    "avg_test_acc, knn_fit_time, avg_pred_time = knn_run_one_instance(train_data_X = train_mnist_X,\n",
    "                                                        train_data_y = train_mnist_y,\n",
    "                                                        test_data_X = test_mnist_X,\n",
    "                                                        test_data_y = test_mnist_y,\n",
    "                                                        config = config,\n",
    "                                                        weights = 'distance')"
   ]
  },
  {
   "cell_type": "code",
   "execution_count": 68,
   "metadata": {},
   "outputs": [
    {
     "name": "stdout",
     "output_type": "stream",
     "text": [
      "Device ── PC\n",
      "│\n",
      "├──Dataset\n",
      "│    └────Mnist\n",
      "│    └────Train size: 80%\n",
      "│    └────Feature size: 784\n",
      "│\n",
      "├──Method\n",
      "│    └────kNN\n",
      "│    └────k = 2\n",
      "│    └────Euclidean\n",
      "│\n",
      "├──Dimension reduction\n",
      "│    └────Method: None\n",
      "│    └────Component size: None\n",
      "│    └────Feature Reduction Ratio: None%\n",
      "│\n",
      "└──Iteration\n",
      "    └────10\n"
     ]
    },
    {
     "name": "stderr",
     "output_type": "stream",
     "text": [
      "9it [00:00, 10.81it/s]"
     ]
    },
    {
     "name": "stdout",
     "output_type": "stream",
     "text": [
      "Train size :  60000  / Test size :  10\n",
      "----------------------------------------\n",
      "Test set score: 0.986292\n",
      "KNN fitting Time: 0.0031 sec\n",
      "One Instance Prediction Average Time : 0.08337473 ± 0.00842552 sec\n"
     ]
    },
    {
     "name": "stderr",
     "output_type": "stream",
     "text": [
      "\n"
     ]
    }
   ],
   "source": [
    "config.k = 2\n",
    "\n",
    "avg_test_acc, knn_fit_time, avg_pred_time = knn_run_one_instance(train_data_X = train_mnist_X,\n",
    "                                                        train_data_y = train_mnist_y,\n",
    "                                                        test_data_X = test_mnist_X,\n",
    "                                                        test_data_y = test_mnist_y,\n",
    "                                                        config = config,\n",
    "                                                        weights = 'distance')"
   ]
  },
  {
   "cell_type": "code",
   "execution_count": 69,
   "metadata": {},
   "outputs": [
    {
     "name": "stdout",
     "output_type": "stream",
     "text": [
      "Device ── PC\n",
      "│\n",
      "├──Dataset\n",
      "│    └────Mnist\n",
      "│    └────Train size: 80%\n",
      "│    └────Feature size: 784\n",
      "│\n",
      "├──Method\n",
      "│    └────kNN\n",
      "│    └────k = 3\n",
      "│    └────Euclidean\n",
      "│\n",
      "├──Dimension reduction\n",
      "│    └────Method: None\n",
      "│    └────Component size: None\n",
      "│    └────Feature Reduction Ratio: None%\n",
      "│\n",
      "└──Iteration\n",
      "    └────10\n"
     ]
    },
    {
     "name": "stderr",
     "output_type": "stream",
     "text": [
      "9it [00:00, 12.06it/s]"
     ]
    },
    {
     "name": "stdout",
     "output_type": "stream",
     "text": [
      "Train size :  60000  / Test size :  10\n",
      "----------------------------------------\n",
      "Test set score: 0.986840\n",
      "KNN fitting Time: 0.0031 sec\n",
      "One Instance Prediction Average Time : 0.07372734 ± 0.00757569 sec\n"
     ]
    },
    {
     "name": "stderr",
     "output_type": "stream",
     "text": [
      "\n"
     ]
    }
   ],
   "source": [
    "config.k = 3\n",
    "\n",
    "avg_test_acc, knn_fit_time, avg_pred_time = knn_run_one_instance(train_data_X = train_mnist_X,\n",
    "                                                        train_data_y = train_mnist_y,\n",
    "                                                        test_data_X = test_mnist_X,\n",
    "                                                        test_data_y = test_mnist_y,\n",
    "                                                        config = config,\n",
    "                                                        weights = 'distance')"
   ]
  },
  {
   "cell_type": "code",
   "execution_count": 70,
   "metadata": {},
   "outputs": [],
   "source": [
    "n_components_list = []\n",
    "pca_fit_time_list = []\n",
    "train_features_extract_time_list = []\n",
    "test_features_extract_time_list = []"
   ]
  },
  {
   "cell_type": "markdown",
   "metadata": {},
   "source": [
    "## PCA run function"
   ]
  },
  {
   "cell_type": "code",
   "execution_count": 71,
   "metadata": {},
   "outputs": [],
   "source": [
    "def pca_run(train_data_X = train_mnist_X,\n",
    "            test_data_X = test_mnist_X,\n",
    "            config=None):\n",
    "\n",
    "    assert config is not None\n",
    "    config.info()\n",
    "\n",
    "    n_components = config.reduction_method[1]\n",
    "\n",
    "    pca_dims = PCA(n_components)\n",
    "    print(f\"The number of components : {n_components}\")\n",
    "\n",
    "    start_time = time.perf_counter()\n",
    "    pca_dims.fit(train_data_X)\n",
    "    pca_fit_time = time.perf_counter () - start_time\n",
    "    print()\n",
    "    print(f\"Calculating SVD Matrix Time on Train Data-{train_data_X.shape} : {pca_fit_time:4f} sec\")\n",
    "    \n",
    "    start_time = time.perf_counter()\n",
    "    train_features = pca_dims.transform(train_data_X)\n",
    "    train_features_extract_time = time.perf_counter () - start_time\n",
    "    print(f\"Transform train X-{train_data_X.shape} to {n_components}-PCA Time: {train_features_extract_time:4f} sec\")\n",
    "\n",
    "    start_time = time.perf_counter()\n",
    "    test_features = pca_dims.transform(test_data_X)\n",
    "    test_features_extract_time = time.perf_counter () - start_time\n",
    "    print(f\"Transform test X-{train_data_X.shape} to {n_components}-PCA Time: {test_features_extract_time:4f} sec\")\n",
    "\n",
    "    return pca_dims, train_features, test_features, pca_fit_time, train_features_extract_time, test_features_extract_time\n",
    "    "
   ]
  },
  {
   "cell_type": "markdown",
   "metadata": {},
   "source": [
    "### PCA feature 2"
   ]
  },
  {
   "cell_type": "code",
   "execution_count": 96,
   "metadata": {},
   "outputs": [
    {
     "name": "stdout",
     "output_type": "stream",
     "text": [
      "Device ── PC\n",
      "│\n",
      "├──Dataset\n",
      "│    └────Mnist\n",
      "│    └────Train size: 80%\n",
      "│    └────Feature size: 784\n",
      "│\n",
      "├──Method\n",
      "│    └────kNN\n",
      "│    └────k = 5\n",
      "│    └────Euclidean\n",
      "│\n",
      "├──Dimension reduction\n",
      "│    └────Method: PCA\n",
      "│    └────Component size: 2\n",
      "│    └────Feature Reduction Ratio: 0.3%\n",
      "│\n",
      "└──Iteration\n",
      "    └────10\n",
      "The number of components : 2\n",
      "\n",
      "Calculating SVD Matrix Time on Train Data-(60000, 784) : 0.867288 sec\n",
      "Transform train X-(60000, 784) to 2-PCA Time: 0.185606 sec\n",
      "Transform test X-(60000, 784) to 2-PCA Time: 0.035618 sec\n"
     ]
    }
   ],
   "source": [
    "config.reduction_method = ['PCA', 2]\n",
    "\n",
    "pca_dims, train_features, test_features, pca_fit_time, train_features_extract_time, test_features_extract_time = \\\n",
    "    pca_run(train_data_X = train_mnist_X,\n",
    "            test_data_X = test_mnist_X,\n",
    "            config=config)\n",
    "\n",
    "n_components_list.append(config.reduction_method[1])\n",
    "pca_fit_time_list.append(pca_fit_time)\n",
    "train_features_extract_time_list.append(train_features_extract_time)\n",
    "test_features_extract_time_list.append(test_features_extract_time)"
   ]
  },
  {
   "cell_type": "markdown",
   "metadata": {},
   "source": [
    "* 2 PCA features - 1-NN run"
   ]
  },
  {
   "cell_type": "code",
   "execution_count": 84,
   "metadata": {},
   "outputs": [
    {
     "name": "stdout",
     "output_type": "stream",
     "text": [
      "PC - Mnist(80%) - kNN - 10 iteration - PCA(feature 2)\n"
     ]
    },
    {
     "name": "stderr",
     "output_type": "stream",
     "text": [
      "100%|██████████| 10/10 [00:00<00:00, 19.76it/s]"
     ]
    },
    {
     "name": "stdout",
     "output_type": "stream",
     "text": [
      "Train size :  60000  / Test size :  10000\n",
      "----------------------------------------\n",
      "Test set score: 0.3898 ± 0.00000\n",
      "KNN fitting Time: 0.0329 ± 0.00063 sec\n",
      "All Test dataset Prediction Time at once : 0.0171 ± 0.00084 sec\n",
      "Divide the Prediction Time by Test size : 0.00000171 ± 0.00000008 sec\n"
     ]
    },
    {
     "name": "stderr",
     "output_type": "stream",
     "text": [
      "\n"
     ]
    }
   ],
   "source": [
    "config.k = 1\n",
    "\n",
    "avg_test_acc, avg_knn_fit_time, avg_pred_time = knn_run(train_data_X = train_features,\n",
    "                                                        train_data_y = train_mnist_y,\n",
    "                                                        test_data_X = test_features,\n",
    "                                                        test_data_y = test_mnist_y,\n",
    "                                                        config = config,\n",
    "                                                        weights = 'distance')"
   ]
  },
  {
   "cell_type": "markdown",
   "metadata": {},
   "source": [
    "* 2 PCA features - 2-NN run"
   ]
  },
  {
   "cell_type": "code",
   "execution_count": 85,
   "metadata": {},
   "outputs": [
    {
     "name": "stdout",
     "output_type": "stream",
     "text": [
      "PC - Mnist(80%) - kNN - 10 iteration - PCA(feature 2)\n"
     ]
    },
    {
     "name": "stderr",
     "output_type": "stream",
     "text": [
      "100%|██████████| 10/10 [00:00<00:00, 18.83it/s]"
     ]
    },
    {
     "name": "stdout",
     "output_type": "stream",
     "text": [
      "Train size :  60000  / Test size :  10000\n",
      "----------------------------------------\n",
      "Test set score: 0.3898 ± 0.00000\n",
      "KNN fitting Time: 0.0333 ± 0.00098 sec\n",
      "All Test dataset Prediction Time at once : 0.0190 ± 0.00033 sec\n",
      "Divide the Prediction Time by Test size : 0.00000190 ± 0.00000003 sec\n"
     ]
    },
    {
     "name": "stderr",
     "output_type": "stream",
     "text": [
      "\n"
     ]
    }
   ],
   "source": [
    "config.k = 2\n",
    "\n",
    "avg_test_acc, avg_knn_fit_time, avg_pred_time = knn_run(train_data_X = train_features,\n",
    "                                                        train_data_y = train_mnist_y,\n",
    "                                                        test_data_X = test_features,\n",
    "                                                        test_data_y = test_mnist_y,\n",
    "                                                        config = config,\n",
    "                                                        weights = 'distance')"
   ]
  },
  {
   "cell_type": "markdown",
   "metadata": {},
   "source": [
    "* 2 PCA features - 3-NN run"
   ]
  },
  {
   "cell_type": "code",
   "execution_count": 97,
   "metadata": {},
   "outputs": [
    {
     "name": "stdout",
     "output_type": "stream",
     "text": [
      "PC - Mnist(80%) - kNN - 10 iteration - PCA(feature 2)\n"
     ]
    },
    {
     "name": "stderr",
     "output_type": "stream",
     "text": [
      "100%|██████████| 10/10 [00:00<00:00, 18.48it/s]"
     ]
    },
    {
     "name": "stdout",
     "output_type": "stream",
     "text": [
      "Train size :  60000  / Test size :  10000\n",
      "----------------------------------------\n",
      "Test set score: 0.4018 ± 0.00000\n",
      "KNN fitting Time: 0.0332 ± 0.00069 sec\n",
      "All Test dataset Prediction Time at once : 0.0201 ± 0.00045 sec\n",
      "Divide the Prediction Time by Test size : 0.00000201 ± 0.00000005 sec\n"
     ]
    },
    {
     "name": "stderr",
     "output_type": "stream",
     "text": [
      "\n"
     ]
    }
   ],
   "source": [
    "config.k = 3\n",
    "\n",
    "avg_test_acc, avg_knn_fit_time, avg_pred_time = knn_run(train_data_X = train_features,\n",
    "                                                        train_data_y = train_mnist_y,\n",
    "                                                        test_data_X = test_features,\n",
    "                                                        test_data_y = test_mnist_y,\n",
    "                                                        config = config,\n",
    "                                                        weights = 'distance')"
   ]
  },
  {
   "cell_type": "markdown",
   "metadata": {},
   "source": [
    "* 2 PCA features - 5-NN run"
   ]
  },
  {
   "cell_type": "code",
   "execution_count": 98,
   "metadata": {},
   "outputs": [
    {
     "name": "stdout",
     "output_type": "stream",
     "text": [
      "PC - Mnist(80%) - kNN - 10 iteration - PCA(feature 2)\n"
     ]
    },
    {
     "name": "stderr",
     "output_type": "stream",
     "text": [
      "100%|██████████| 10/10 [00:00<00:00, 17.53it/s]"
     ]
    },
    {
     "name": "stdout",
     "output_type": "stream",
     "text": [
      "Train size :  60000  / Test size :  10000\n",
      "----------------------------------------\n",
      "Test set score: 0.4125 ± 0.00000\n",
      "KNN fitting Time: 0.0338 ± 0.00222 sec\n",
      "All Test dataset Prediction Time at once : 0.0225 ± 0.00136 sec\n",
      "Divide the Prediction Time by Test size : 0.00000225 ± 0.00000014 sec\n"
     ]
    },
    {
     "name": "stderr",
     "output_type": "stream",
     "text": [
      "\n"
     ]
    }
   ],
   "source": [
    "config.k = 5\n",
    "\n",
    "avg_test_acc, avg_knn_fit_time, avg_pred_time = knn_run(train_data_X = train_features,\n",
    "                                                        train_data_y = train_mnist_y,\n",
    "                                                        test_data_X = test_features,\n",
    "                                                        test_data_y = test_mnist_y,\n",
    "                                                        config = config,\n",
    "                                                        weights = 'distance')"
   ]
  },
  {
   "cell_type": "markdown",
   "metadata": {},
   "source": [
    "### PCA feature 3"
   ]
  },
  {
   "cell_type": "code",
   "execution_count": 99,
   "metadata": {},
   "outputs": [
    {
     "name": "stdout",
     "output_type": "stream",
     "text": [
      "Device ── PC\n",
      "│\n",
      "├──Dataset\n",
      "│    └────Mnist\n",
      "│    └────Train size: 80%\n",
      "│    └────Feature size: 784\n",
      "│\n",
      "├──Method\n",
      "│    └────kNN\n",
      "│    └────k = 5\n",
      "│    └────Euclidean\n",
      "│\n",
      "├──Dimension reduction\n",
      "│    └────Method: PCA\n",
      "│    └────Component size: 3\n",
      "│    └────Feature Reduction Ratio: 0.4%\n",
      "│\n",
      "└──Iteration\n",
      "    └────10\n",
      "The number of components : 3\n",
      "\n",
      "Calculating SVD Matrix Time on Train Data-(60000, 784) : 1.079424 sec\n",
      "Transform train X-(60000, 784) to 3-PCA Time: 0.187251 sec\n",
      "Transform test X-(60000, 784) to 3-PCA Time: 0.036742 sec\n"
     ]
    }
   ],
   "source": [
    "config.reduction_method = ['PCA', 3]\n",
    "\n",
    "pca_dims, train_features, test_features, pca_fit_time, train_features_extract_time, test_features_extract_time = \\\n",
    "    pca_run(train_data_X = train_mnist_X,\n",
    "            test_data_X = test_mnist_X,\n",
    "            config=config)\n",
    "\n",
    "n_components_list.append(config.reduction_method[1])\n",
    "pca_fit_time_list.append(pca_fit_time)\n",
    "train_features_extract_time_list.append(train_features_extract_time)\n",
    "test_features_extract_time_list.append(test_features_extract_time)"
   ]
  },
  {
   "cell_type": "markdown",
   "metadata": {},
   "source": [
    "* 3 PCA features - 1-NN run"
   ]
  },
  {
   "cell_type": "code",
   "execution_count": 87,
   "metadata": {},
   "outputs": [
    {
     "name": "stdout",
     "output_type": "stream",
     "text": [
      "PC - Mnist(80%) - kNN - 10 iteration - PCA(feature 3)\n"
     ]
    },
    {
     "name": "stderr",
     "output_type": "stream",
     "text": [
      "100%|██████████| 10/10 [00:00<00:00, 14.99it/s]"
     ]
    },
    {
     "name": "stdout",
     "output_type": "stream",
     "text": [
      "Train size :  60000  / Test size :  10000\n",
      "----------------------------------------\n",
      "Test set score: 0.4428 ± 0.00000\n",
      "KNN fitting Time: 0.0448 ± 0.00194 sec\n",
      "All Test dataset Prediction Time at once : 0.0212 ± 0.00051 sec\n",
      "Divide the Prediction Time by Test size : 0.00000212 ± 0.00000005 sec\n"
     ]
    },
    {
     "name": "stderr",
     "output_type": "stream",
     "text": [
      "\n"
     ]
    }
   ],
   "source": [
    "config.k = 1\n",
    "\n",
    "avg_test_acc, avg_knn_fit_time, avg_pred_time = knn_run(train_data_X = train_features,\n",
    "                                                        train_data_y = train_mnist_y,\n",
    "                                                        test_data_X = test_features,\n",
    "                                                        test_data_y = test_mnist_y,\n",
    "                                                        config = config,\n",
    "                                                        weights = 'distance')"
   ]
  },
  {
   "cell_type": "markdown",
   "metadata": {},
   "source": [
    "* 3 PCA features - 2-NN run"
   ]
  },
  {
   "cell_type": "code",
   "execution_count": 88,
   "metadata": {},
   "outputs": [
    {
     "name": "stdout",
     "output_type": "stream",
     "text": [
      "PC - Mnist(80%) - kNN - 10 iteration - PCA(feature 3)\n"
     ]
    },
    {
     "name": "stderr",
     "output_type": "stream",
     "text": [
      "100%|██████████| 10/10 [00:00<00:00, 14.10it/s]"
     ]
    },
    {
     "name": "stdout",
     "output_type": "stream",
     "text": [
      "Train size :  60000  / Test size :  10000\n",
      "----------------------------------------\n",
      "Test set score: 0.4428 ± 0.00000\n",
      "KNN fitting Time: 0.0453 ± 0.00275 sec\n",
      "All Test dataset Prediction Time at once : 0.0249 ± 0.00072 sec\n",
      "Divide the Prediction Time by Test size : 0.00000249 ± 0.00000007 sec\n"
     ]
    },
    {
     "name": "stderr",
     "output_type": "stream",
     "text": [
      "\n"
     ]
    }
   ],
   "source": [
    "config.k = 2\n",
    "\n",
    "avg_test_acc, avg_knn_fit_time, avg_pred_time = knn_run(train_data_X = train_features,\n",
    "                                                        train_data_y = train_mnist_y,\n",
    "                                                        test_data_X = test_features,\n",
    "                                                        test_data_y = test_mnist_y,\n",
    "                                                        config = config,\n",
    "                                                        weights = 'distance')"
   ]
  },
  {
   "cell_type": "markdown",
   "metadata": {},
   "source": [
    "* 3 PCA features - 3-NN run"
   ]
  },
  {
   "cell_type": "code",
   "execution_count": 89,
   "metadata": {},
   "outputs": [
    {
     "name": "stdout",
     "output_type": "stream",
     "text": [
      "PC - Mnist(80%) - kNN - 10 iteration - PCA(feature 3)\n"
     ]
    },
    {
     "name": "stderr",
     "output_type": "stream",
     "text": [
      "100%|██████████| 10/10 [00:00<00:00, 13.72it/s]"
     ]
    },
    {
     "name": "stdout",
     "output_type": "stream",
     "text": [
      "Train size :  60000  / Test size :  10000\n",
      "----------------------------------------\n",
      "Test set score: 0.4600 ± 0.00000\n",
      "KNN fitting Time: 0.0453 ± 0.00291 sec\n",
      "All Test dataset Prediction Time at once : 0.0269 ± 0.00050 sec\n",
      "Divide the Prediction Time by Test size : 0.00000269 ± 0.00000005 sec\n"
     ]
    },
    {
     "name": "stderr",
     "output_type": "stream",
     "text": [
      "\n"
     ]
    }
   ],
   "source": [
    "config.k = 3\n",
    "\n",
    "avg_test_acc, avg_knn_fit_time, avg_pred_time = knn_run(train_data_X = train_features,\n",
    "                                                        train_data_y = train_mnist_y,\n",
    "                                                        test_data_X = test_features,\n",
    "                                                        test_data_y = test_mnist_y,\n",
    "                                                        config = config,\n",
    "                                                        weights = 'distance')"
   ]
  },
  {
   "cell_type": "markdown",
   "metadata": {},
   "source": [
    "* 3 PCA features - 5-NN run"
   ]
  },
  {
   "cell_type": "code",
   "execution_count": 100,
   "metadata": {},
   "outputs": [
    {
     "name": "stdout",
     "output_type": "stream",
     "text": [
      "PC - Mnist(80%) - kNN - 10 iteration - PCA(feature 3)\n"
     ]
    },
    {
     "name": "stderr",
     "output_type": "stream",
     "text": [
      "100%|██████████| 10/10 [00:00<00:00, 13.09it/s]"
     ]
    },
    {
     "name": "stdout",
     "output_type": "stream",
     "text": [
      "Train size :  60000  / Test size :  10000\n",
      "----------------------------------------\n",
      "Test set score: 0.4757 ± 0.00000\n",
      "KNN fitting Time: 0.0452 ± 0.00218 sec\n",
      "All Test dataset Prediction Time at once : 0.0305 ± 0.00063 sec\n",
      "Divide the Prediction Time by Test size : 0.00000305 ± 0.00000006 sec\n"
     ]
    },
    {
     "name": "stderr",
     "output_type": "stream",
     "text": [
      "\n"
     ]
    }
   ],
   "source": [
    "config.k = 5\n",
    "\n",
    "avg_test_acc, avg_knn_fit_time, avg_pred_time = knn_run(train_data_X = train_features,\n",
    "                                                        train_data_y = train_mnist_y,\n",
    "                                                        test_data_X = test_features,\n",
    "                                                        test_data_y = test_mnist_y,\n",
    "                                                        config = config,\n",
    "                                                        weights = 'distance')"
   ]
  },
  {
   "cell_type": "markdown",
   "metadata": {},
   "source": [
    "### kNN with PCA feature 5"
   ]
  },
  {
   "cell_type": "code",
   "execution_count": 101,
   "metadata": {},
   "outputs": [
    {
     "name": "stdout",
     "output_type": "stream",
     "text": [
      "Device ── PC\n",
      "│\n",
      "├──Dataset\n",
      "│    └────Mnist\n",
      "│    └────Train size: 80%\n",
      "│    └────Feature size: 784\n",
      "│\n",
      "├──Method\n",
      "│    └────kNN\n",
      "│    └────k = 5\n",
      "│    └────Euclidean\n",
      "│\n",
      "├──Dimension reduction\n",
      "│    └────Method: PCA\n",
      "│    └────Component size: 5\n",
      "│    └────Feature Reduction Ratio: 0.6%\n",
      "│\n",
      "└──Iteration\n",
      "    └────10\n",
      "The number of components : 5\n",
      "\n",
      "Calculating SVD Matrix Time on Train Data-(60000, 784) : 1.119668 sec\n",
      "Transform train X-(60000, 784) to 5-PCA Time: 0.181248 sec\n",
      "Transform test X-(60000, 784) to 5-PCA Time: 0.030710 sec\n"
     ]
    }
   ],
   "source": [
    "config.reduction_method = ['PCA', 5]\n",
    "\n",
    "pca_dims, train_features, test_features, pca_fit_time, train_features_extract_time, test_features_extract_time = \\\n",
    "    pca_run(train_data_X = train_mnist_X,\n",
    "            test_data_X = test_mnist_X,\n",
    "            config=config)\n",
    "\n",
    "n_components_list.append(config.reduction_method[1])\n",
    "pca_fit_time_list.append(pca_fit_time)\n",
    "train_features_extract_time_list.append(train_features_extract_time)\n",
    "test_features_extract_time_list.append(test_features_extract_time)"
   ]
  },
  {
   "cell_type": "markdown",
   "metadata": {},
   "source": [
    "* 5 PCA features - 1-NN run"
   ]
  },
  {
   "cell_type": "code",
   "execution_count": 102,
   "metadata": {},
   "outputs": [
    {
     "name": "stdout",
     "output_type": "stream",
     "text": [
      "PC - Mnist(80%) - kNN - 10 iteration - PCA(feature 5)\n"
     ]
    },
    {
     "name": "stderr",
     "output_type": "stream",
     "text": [
      "100%|██████████| 10/10 [00:01<00:00,  8.26it/s]"
     ]
    },
    {
     "name": "stdout",
     "output_type": "stream",
     "text": [
      "Train size :  60000  / Test size :  10000\n",
      "----------------------------------------\n",
      "Test set score: 0.6937 ± 0.00000\n",
      "KNN fitting Time: 0.0736 ± 0.00571 sec\n",
      "All Test dataset Prediction Time at once : 0.0462 ± 0.00109 sec\n",
      "Divide the Prediction Time by Test size : 0.00000462 ± 0.00000011 sec\n"
     ]
    },
    {
     "name": "stderr",
     "output_type": "stream",
     "text": [
      "\n"
     ]
    }
   ],
   "source": [
    "config.k = 1\n",
    "\n",
    "avg_test_acc, avg_knn_fit_time, avg_pred_time = knn_run(train_data_X = train_features,\n",
    "                                                        train_data_y = train_mnist_y,\n",
    "                                                        test_data_X = test_features,\n",
    "                                                        test_data_y = test_mnist_y,\n",
    "                                                        config = config,\n",
    "                                                        weights = 'distance')"
   ]
  },
  {
   "cell_type": "markdown",
   "metadata": {},
   "source": [
    "* 5 PCA features - 2-NN run"
   ]
  },
  {
   "cell_type": "code",
   "execution_count": 103,
   "metadata": {},
   "outputs": [
    {
     "name": "stdout",
     "output_type": "stream",
     "text": [
      "PC - Mnist(80%) - kNN - 10 iteration - PCA(feature 5)\n"
     ]
    },
    {
     "name": "stderr",
     "output_type": "stream",
     "text": [
      "100%|██████████| 10/10 [00:01<00:00,  7.75it/s]"
     ]
    },
    {
     "name": "stdout",
     "output_type": "stream",
     "text": [
      "Train size :  60000  / Test size :  10000\n",
      "----------------------------------------\n",
      "Test set score: 0.6937 ± 0.00000\n",
      "KNN fitting Time: 0.0714 ± 0.00518 sec\n",
      "All Test dataset Prediction Time at once : 0.0565 ± 0.00072 sec\n",
      "Divide the Prediction Time by Test size : 0.00000565 ± 0.00000007 sec\n"
     ]
    },
    {
     "name": "stderr",
     "output_type": "stream",
     "text": [
      "\n"
     ]
    }
   ],
   "source": [
    "config.k = 2\n",
    "\n",
    "avg_test_acc, avg_knn_fit_time, avg_pred_time = knn_run(train_data_X = train_features,\n",
    "                                                        train_data_y = train_mnist_y,\n",
    "                                                        test_data_X = test_features,\n",
    "                                                        test_data_y = test_mnist_y,\n",
    "                                                        config = config,\n",
    "                                                        weights = 'distance')"
   ]
  },
  {
   "cell_type": "markdown",
   "metadata": {},
   "source": [
    "* 5 PCA features - 3-NN run"
   ]
  },
  {
   "cell_type": "code",
   "execution_count": 104,
   "metadata": {},
   "outputs": [
    {
     "name": "stdout",
     "output_type": "stream",
     "text": [
      "PC - Mnist(80%) - kNN - 10 iteration - PCA(feature 5)\n"
     ]
    },
    {
     "name": "stderr",
     "output_type": "stream",
     "text": [
      "100%|██████████| 10/10 [00:01<00:00,  7.41it/s]"
     ]
    },
    {
     "name": "stdout",
     "output_type": "stream",
     "text": [
      "Train size :  60000  / Test size :  10000\n",
      "----------------------------------------\n",
      "Test set score: 0.7263 ± 0.00000\n",
      "KNN fitting Time: 0.0702 ± 0.00187 sec\n",
      "All Test dataset Prediction Time at once : 0.0638 ± 0.00093 sec\n",
      "Divide the Prediction Time by Test size : 0.00000638 ± 0.00000009 sec\n"
     ]
    },
    {
     "name": "stderr",
     "output_type": "stream",
     "text": [
      "\n"
     ]
    }
   ],
   "source": [
    "config.k = 3\n",
    "\n",
    "avg_test_acc, avg_knn_fit_time, avg_pred_time = knn_run(train_data_X = train_features,\n",
    "                                                        train_data_y = train_mnist_y,\n",
    "                                                        test_data_X = test_features,\n",
    "                                                        test_data_y = test_mnist_y,\n",
    "                                                        config = config,\n",
    "                                                        weights = 'distance')"
   ]
  },
  {
   "cell_type": "markdown",
   "metadata": {},
   "source": [
    "* 5 PCA features - 5-NN run"
   ]
  },
  {
   "cell_type": "code",
   "execution_count": 105,
   "metadata": {},
   "outputs": [
    {
     "name": "stdout",
     "output_type": "stream",
     "text": [
      "PC - Mnist(80%) - kNN - 10 iteration - PCA(feature 5)\n"
     ]
    },
    {
     "name": "stderr",
     "output_type": "stream",
     "text": [
      "100%|██████████| 10/10 [00:01<00:00,  6.92it/s]"
     ]
    },
    {
     "name": "stdout",
     "output_type": "stream",
     "text": [
      "Train size :  60000  / Test size :  10000\n",
      "----------------------------------------\n",
      "Test set score: 0.7450 ± 0.00000\n",
      "KNN fitting Time: 0.0702 ± 0.00328 sec\n",
      "All Test dataset Prediction Time at once : 0.0733 ± 0.00108 sec\n",
      "Divide the Prediction Time by Test size : 0.00000733 ± 0.00000011 sec\n"
     ]
    },
    {
     "name": "stderr",
     "output_type": "stream",
     "text": [
      "\n"
     ]
    }
   ],
   "source": [
    "config.k = 5\n",
    "\n",
    "avg_test_acc, avg_knn_fit_time, avg_pred_time = knn_run(train_data_X = train_features,\n",
    "                                                        train_data_y = train_mnist_y,\n",
    "                                                        test_data_X = test_features,\n",
    "                                                        test_data_y = test_mnist_y,\n",
    "                                                        config = config,\n",
    "                                                        weights = 'distance')"
   ]
  },
  {
   "cell_type": "markdown",
   "metadata": {},
   "source": [
    "### kNN with PCA feature 26"
   ]
  },
  {
   "cell_type": "code",
   "execution_count": 106,
   "metadata": {},
   "outputs": [
    {
     "name": "stdout",
     "output_type": "stream",
     "text": [
      "Device ── PC\n",
      "│\n",
      "├──Dataset\n",
      "│    └────Mnist\n",
      "│    └────Train size: 80%\n",
      "│    └────Feature size: 784\n",
      "│\n",
      "├──Method\n",
      "│    └────kNN\n",
      "│    └────k = 5\n",
      "│    └────Euclidean\n",
      "│\n",
      "├──Dimension reduction\n",
      "│    └────Method: PCA\n",
      "│    └────Component size: 26\n",
      "│    └────Feature Reduction Ratio: 3.3000000000000003%\n",
      "│\n",
      "└──Iteration\n",
      "    └────10\n",
      "The number of components : 26\n",
      "\n",
      "Calculating SVD Matrix Time on Train Data-(60000, 784) : 1.096050 sec\n",
      "Transform train X-(60000, 784) to 26-PCA Time: 0.252058 sec\n",
      "Transform test X-(60000, 784) to 26-PCA Time: 0.047072 sec\n"
     ]
    }
   ],
   "source": [
    "config.reduction_method = ['PCA', 26]\n",
    "\n",
    "pca_dims, train_features, test_features, pca_fit_time, train_features_extract_time, test_features_extract_time = \\\n",
    "    pca_run(train_data_X = train_mnist_X,\n",
    "            test_data_X = test_mnist_X,\n",
    "            config=config)\n",
    "\n",
    "n_components_list.append(config.reduction_method[1])\n",
    "pca_fit_time_list.append(pca_fit_time)\n",
    "train_features_extract_time_list.append(train_features_extract_time)\n",
    "test_features_extract_time_list.append(test_features_extract_time)"
   ]
  },
  {
   "cell_type": "markdown",
   "metadata": {},
   "source": [
    "* 26 PCA features - 1-NN run"
   ]
  },
  {
   "cell_type": "code",
   "execution_count": 107,
   "metadata": {},
   "outputs": [
    {
     "name": "stdout",
     "output_type": "stream",
     "text": [
      "PC - Mnist(80%) - kNN - 10 iteration - PCA(feature 26)\n"
     ]
    },
    {
     "name": "stderr",
     "output_type": "stream",
     "text": [
      "100%|██████████| 10/10 [00:56<00:00,  5.66s/it]"
     ]
    },
    {
     "name": "stdout",
     "output_type": "stream",
     "text": [
      "Train size :  60000  / Test size :  10000\n",
      "----------------------------------------\n",
      "Test set score: 0.9717 ± 0.00000\n",
      "KNN fitting Time: 0.0041 ± 0.00008 sec\n",
      "All Test dataset Prediction Time at once : 5.6537 ± 0.06541 sec\n",
      "Divide the Prediction Time by Test size : 0.00056537 ± 0.00000654 sec\n"
     ]
    },
    {
     "name": "stderr",
     "output_type": "stream",
     "text": [
      "\n"
     ]
    }
   ],
   "source": [
    "config.k = 1\n",
    "\n",
    "avg_test_acc, avg_knn_fit_time, avg_pred_time = knn_run(train_data_X = train_features,\n",
    "                                                        train_data_y = train_mnist_y,\n",
    "                                                        test_data_X = test_features,\n",
    "                                                        test_data_y = test_mnist_y,\n",
    "                                                        config = config,\n",
    "                                                        weights = 'distance')"
   ]
  },
  {
   "cell_type": "markdown",
   "metadata": {},
   "source": [
    "* 26 PCA features - 2-NN run"
   ]
  },
  {
   "cell_type": "code",
   "execution_count": 108,
   "metadata": {},
   "outputs": [
    {
     "name": "stdout",
     "output_type": "stream",
     "text": [
      "PC - Mnist(80%) - kNN - 10 iteration - PCA(feature 26)\n"
     ]
    },
    {
     "name": "stderr",
     "output_type": "stream",
     "text": [
      "100%|██████████| 10/10 [01:00<00:00,  6.03s/it]"
     ]
    },
    {
     "name": "stdout",
     "output_type": "stream",
     "text": [
      "Train size :  60000  / Test size :  10000\n",
      "----------------------------------------\n",
      "Test set score: 0.9717 ± 0.00000\n",
      "KNN fitting Time: 0.0060 ± 0.00132 sec\n",
      "All Test dataset Prediction Time at once : 6.0233 ± 0.06874 sec\n",
      "Divide the Prediction Time by Test size : 0.00060233 ± 0.00000687 sec\n"
     ]
    },
    {
     "name": "stderr",
     "output_type": "stream",
     "text": [
      "\n"
     ]
    }
   ],
   "source": [
    "config.k = 2\n",
    "\n",
    "avg_test_acc, avg_knn_fit_time, avg_pred_time = knn_run(train_data_X = train_features,\n",
    "                                                        train_data_y = train_mnist_y,\n",
    "                                                        test_data_X = test_features,\n",
    "                                                        test_data_y = test_mnist_y,\n",
    "                                                        config = config,\n",
    "                                                        weights = 'distance')"
   ]
  },
  {
   "cell_type": "markdown",
   "metadata": {},
   "source": [
    "* 26 PCA features - 3-NN run"
   ]
  },
  {
   "cell_type": "code",
   "execution_count": 109,
   "metadata": {},
   "outputs": [
    {
     "name": "stdout",
     "output_type": "stream",
     "text": [
      "PC - Mnist(80%) - kNN - 10 iteration - PCA(feature 26)\n"
     ]
    },
    {
     "name": "stderr",
     "output_type": "stream",
     "text": [
      "100%|██████████| 10/10 [01:04<00:00,  6.42s/it]"
     ]
    },
    {
     "name": "stdout",
     "output_type": "stream",
     "text": [
      "Train size :  60000  / Test size :  10000\n",
      "----------------------------------------\n",
      "Test set score: 0.9743 ± 0.00000\n",
      "KNN fitting Time: 0.0044 ± 0.00091 sec\n",
      "All Test dataset Prediction Time at once : 6.4192 ± 0.06950 sec\n",
      "Divide the Prediction Time by Test size : 0.00064192 ± 0.00000695 sec\n"
     ]
    },
    {
     "name": "stderr",
     "output_type": "stream",
     "text": [
      "\n"
     ]
    }
   ],
   "source": [
    "config.k = 3\n",
    "\n",
    "avg_test_acc, avg_knn_fit_time, avg_pred_time = knn_run(train_data_X = train_features,\n",
    "                                                        train_data_y = train_mnist_y,\n",
    "                                                        test_data_X = test_features,\n",
    "                                                        test_data_y = test_mnist_y,\n",
    "                                                        config = config,\n",
    "                                                        weights = 'distance')"
   ]
  },
  {
   "cell_type": "markdown",
   "metadata": {},
   "source": [
    "* 26 PCA features - 5-NN run"
   ]
  },
  {
   "cell_type": "code",
   "execution_count": 110,
   "metadata": {},
   "outputs": [
    {
     "name": "stdout",
     "output_type": "stream",
     "text": [
      "PC - Mnist(80%) - kNN - 10 iteration - PCA(feature 26)\n"
     ]
    },
    {
     "name": "stderr",
     "output_type": "stream",
     "text": [
      "100%|██████████| 10/10 [01:28<00:00,  8.89s/it]"
     ]
    },
    {
     "name": "stdout",
     "output_type": "stream",
     "text": [
      "Train size :  60000  / Test size :  10000\n",
      "----------------------------------------\n",
      "Test set score: 0.9746 ± 0.00000\n",
      "KNN fitting Time: 0.0044 ± 0.00108 sec\n",
      "All Test dataset Prediction Time at once : 8.8802 ± 0.04971 sec\n",
      "Divide the Prediction Time by Test size : 0.00088802 ± 0.00000497 sec\n"
     ]
    },
    {
     "name": "stderr",
     "output_type": "stream",
     "text": [
      "\n"
     ]
    }
   ],
   "source": [
    "config.k = 5\n",
    "\n",
    "avg_test_acc, avg_knn_fit_time, avg_pred_time = knn_run(train_data_X = train_features,\n",
    "                                                        train_data_y = train_mnist_y,\n",
    "                                                        test_data_X = test_features,\n",
    "                                                        test_data_y = test_mnist_y,\n",
    "                                                        config = config,\n",
    "                                                        weights = 'distance')"
   ]
  },
  {
   "cell_type": "markdown",
   "metadata": {},
   "source": [
    "### kNN with PCA feature 43"
   ]
  },
  {
   "cell_type": "code",
   "execution_count": 111,
   "metadata": {},
   "outputs": [
    {
     "name": "stdout",
     "output_type": "stream",
     "text": [
      "Device ── PC\n",
      "│\n",
      "├──Dataset\n",
      "│    └────Mnist\n",
      "│    └────Train size: 80%\n",
      "│    └────Feature size: 784\n",
      "│\n",
      "├──Method\n",
      "│    └────kNN\n",
      "│    └────k = 5\n",
      "│    └────Euclidean\n",
      "│\n",
      "├──Dimension reduction\n",
      "│    └────Method: PCA\n",
      "│    └────Component size: 43\n",
      "│    └────Feature Reduction Ratio: 5.5%\n",
      "│\n",
      "└──Iteration\n",
      "    └────10\n",
      "The number of components : 43\n",
      "\n",
      "Calculating SVD Matrix Time on Train Data-(60000, 784) : 1.547433 sec\n",
      "Transform train X-(60000, 784) to 43-PCA Time: 0.249204 sec\n",
      "Transform test X-(60000, 784) to 43-PCA Time: 0.047305 sec\n"
     ]
    }
   ],
   "source": [
    "config.reduction_method = ['PCA', 43]\n",
    "\n",
    "pca_dims, train_features, test_features, pca_fit_time, train_features_extract_time, test_features_extract_time = \\\n",
    "    pca_run(train_data_X = train_mnist_X,\n",
    "            test_data_X = test_mnist_X,\n",
    "            config=config)\n",
    "\n",
    "n_components_list.append(config.reduction_method[1])\n",
    "pca_fit_time_list.append(pca_fit_time)\n",
    "train_features_extract_time_list.append(train_features_extract_time)\n",
    "test_features_extract_time_list.append(test_features_extract_time)"
   ]
  },
  {
   "cell_type": "markdown",
   "metadata": {},
   "source": [
    "* 43 PCA features - 1-NN run"
   ]
  },
  {
   "cell_type": "code",
   "execution_count": 112,
   "metadata": {},
   "outputs": [
    {
     "name": "stdout",
     "output_type": "stream",
     "text": [
      "PC - Mnist(80%) - kNN - 10 iteration - PCA(feature 43)\n"
     ]
    },
    {
     "name": "stderr",
     "output_type": "stream",
     "text": [
      "100%|██████████| 10/10 [00:56<00:00,  5.64s/it]"
     ]
    },
    {
     "name": "stdout",
     "output_type": "stream",
     "text": [
      "Train size :  60000  / Test size :  10000\n",
      "----------------------------------------\n",
      "Test set score: 0.9735 ± 0.00000\n",
      "KNN fitting Time: 0.0055 ± 0.00111 sec\n",
      "All Test dataset Prediction Time at once : 5.6355 ± 0.09007 sec\n",
      "Divide the Prediction Time by Test size : 0.00056355 ± 0.00000901 sec\n"
     ]
    },
    {
     "name": "stderr",
     "output_type": "stream",
     "text": [
      "\n"
     ]
    }
   ],
   "source": [
    "config.k = 1\n",
    "\n",
    "avg_test_acc, avg_knn_fit_time, avg_pred_time = knn_run(train_data_X = train_features,\n",
    "                                                        train_data_y = train_mnist_y,\n",
    "                                                        test_data_X = test_features,\n",
    "                                                        test_data_y = test_mnist_y,\n",
    "                                                        config = config,\n",
    "                                                        weights = 'distance')"
   ]
  },
  {
   "cell_type": "markdown",
   "metadata": {},
   "source": [
    "* 43 PCA features - 2-NN run"
   ]
  },
  {
   "cell_type": "code",
   "execution_count": 113,
   "metadata": {},
   "outputs": [
    {
     "name": "stdout",
     "output_type": "stream",
     "text": [
      "PC - Mnist(80%) - kNN - 10 iteration - PCA(feature 43)\n"
     ]
    },
    {
     "name": "stderr",
     "output_type": "stream",
     "text": [
      "100%|██████████| 10/10 [01:00<00:00,  6.06s/it]"
     ]
    },
    {
     "name": "stdout",
     "output_type": "stream",
     "text": [
      "Train size :  60000  / Test size :  10000\n",
      "----------------------------------------\n",
      "Test set score: 0.9735 ± 0.00000\n",
      "KNN fitting Time: 0.0061 ± 0.00153 sec\n",
      "All Test dataset Prediction Time at once : 6.0498 ± 0.05053 sec\n",
      "Divide the Prediction Time by Test size : 0.00060498 ± 0.00000505 sec\n"
     ]
    },
    {
     "name": "stderr",
     "output_type": "stream",
     "text": [
      "\n"
     ]
    }
   ],
   "source": [
    "config.k = 2\n",
    "\n",
    "avg_test_acc, avg_knn_fit_time, avg_pred_time = knn_run(train_data_X = train_features,\n",
    "                                                        train_data_y = train_mnist_y,\n",
    "                                                        test_data_X = test_features,\n",
    "                                                        test_data_y = test_mnist_y,\n",
    "                                                        config = config,\n",
    "                                                        weights = 'distance')"
   ]
  },
  {
   "cell_type": "markdown",
   "metadata": {},
   "source": [
    "* 43 PCA features - 3-NN run"
   ]
  },
  {
   "cell_type": "code",
   "execution_count": 114,
   "metadata": {},
   "outputs": [
    {
     "name": "stdout",
     "output_type": "stream",
     "text": [
      "PC - Mnist(80%) - kNN - 10 iteration - PCA(feature 43)\n"
     ]
    },
    {
     "name": "stderr",
     "output_type": "stream",
     "text": [
      "100%|██████████| 10/10 [01:04<00:00,  6.45s/it]"
     ]
    },
    {
     "name": "stdout",
     "output_type": "stream",
     "text": [
      "Train size :  60000  / Test size :  10000\n",
      "----------------------------------------\n",
      "Test set score: 0.9763 ± 0.00000\n",
      "KNN fitting Time: 0.0052 ± 0.00019 sec\n",
      "All Test dataset Prediction Time at once : 6.4457 ± 0.06940 sec\n",
      "Divide the Prediction Time by Test size : 0.00064457 ± 0.00000694 sec\n"
     ]
    },
    {
     "name": "stderr",
     "output_type": "stream",
     "text": [
      "\n"
     ]
    }
   ],
   "source": [
    "config.k = 3\n",
    "\n",
    "avg_test_acc, avg_knn_fit_time, avg_pred_time = knn_run(train_data_X = train_features,\n",
    "                                                        train_data_y = train_mnist_y,\n",
    "                                                        test_data_X = test_features,\n",
    "                                                        test_data_y = test_mnist_y,\n",
    "                                                        config = config,\n",
    "                                                        weights = 'distance')"
   ]
  },
  {
   "cell_type": "markdown",
   "metadata": {},
   "source": [
    "* 43 PCA features - 5-NN run"
   ]
  },
  {
   "cell_type": "code",
   "execution_count": 115,
   "metadata": {},
   "outputs": [
    {
     "name": "stdout",
     "output_type": "stream",
     "text": [
      "PC - Mnist(80%) - kNN - 10 iteration - PCA(feature 43)\n"
     ]
    },
    {
     "name": "stderr",
     "output_type": "stream",
     "text": [
      "100%|██████████| 10/10 [01:29<00:00,  8.99s/it]"
     ]
    },
    {
     "name": "stdout",
     "output_type": "stream",
     "text": [
      "Train size :  60000  / Test size :  10000\n",
      "----------------------------------------\n",
      "Test set score: 0.9753 ± 0.00000\n",
      "KNN fitting Time: 0.0051 ± 0.00016 sec\n",
      "All Test dataset Prediction Time at once : 8.9841 ± 0.03194 sec\n",
      "Divide the Prediction Time by Test size : 0.00089841 ± 0.00000319 sec\n"
     ]
    },
    {
     "name": "stderr",
     "output_type": "stream",
     "text": [
      "\n"
     ]
    }
   ],
   "source": [
    "config.k = 5\n",
    "\n",
    "avg_test_acc, avg_knn_fit_time, avg_pred_time = knn_run(train_data_X = train_features,\n",
    "                                                        train_data_y = train_mnist_y,\n",
    "                                                        test_data_X = test_features,\n",
    "                                                        test_data_y = test_mnist_y,\n",
    "                                                        config = config,\n",
    "                                                        weights = 'distance')"
   ]
  },
  {
   "cell_type": "code",
   "execution_count": 117,
   "metadata": {},
   "outputs": [
    {
     "data": {
      "image/png": "[encoded data removed]",
      "text/plain": [
       "<Figure size 432x288 with 1 Axes>"
      ]
     },
     "metadata": {
      "needs_background": "light"
     },
     "output_type": "display_data"
    }
   ],
   "source": [
    "plt.figure()\n",
    "plt.plot(pca_fit_time_list, \"b\", label=\"Train SVD Matrix Time\")\n",
    "plt.legend()\n",
    "plt.plot(train_features_extract_time_list, \"r\", label=\"Train PCA Time\")\n",
    "plt.plot(test_features_extract_time_list, \"g\", label=\"Test PCA Time\")\n",
    "plt.legend()\n",
    "plt.title(\"PCA Time Comparison\")\n",
    "plt.show()"
   ]
  },
  {
   "cell_type": "code",
   "execution_count": 122,
   "metadata": {},
   "outputs": [],
   "source": [
    "n_components_list = []\n",
    "lda_fit_time_list = []\n",
    "train_features_extract_time_list = []\n",
    "test_features_extract_time_list = []"
   ]
  },
  {
   "cell_type": "markdown",
   "metadata": {},
   "source": [
    "## LDA run function"
   ]
  },
  {
   "cell_type": "code",
   "execution_count": 125,
   "metadata": {},
   "outputs": [],
   "source": [
    "def lda_run(train_data_X = train_mnist_X,\n",
    "            train_data_y = train_mnist_y,\n",
    "            test_data_X = test_mnist_X,\n",
    "            config=None):\n",
    "\n",
    "    assert config is not None\n",
    "    config.info()\n",
    "\n",
    "    n_components = config.reduction_method[1]\n",
    "\n",
    "    lda_dims = LinearDiscriminantAnalysis(n_components=n_components)\n",
    "    print(f\"The number of components : {n_components}\")\n",
    "\n",
    "    start_time = time.perf_counter()\n",
    "    lda_dims.fit(train_data_X, train_data_y)\n",
    "    lda_fit_time = time.perf_counter () - start_time\n",
    "    print()\n",
    "    print(f\"Calculating LDA Matrix Time on Train Data-{train_data_X.shape} : {lda_fit_time:4f} sec\")\n",
    "    \n",
    "    start_time = time.perf_counter()\n",
    "    train_features = lda_dims.transform(train_data_X)\n",
    "    train_features_extract_time = time.perf_counter () - start_time\n",
    "    print(f\"Transform train X-{train_data_X.shape} to {n_components}-LDA Time: {train_features_extract_time:4f} sec\")\n",
    "\n",
    "    start_time = time.perf_counter()\n",
    "    test_features = lda_dims.transform(test_data_X)\n",
    "    test_features_extract_time = time.perf_counter () - start_time\n",
    "    print(f\"Transform test X-{train_data_X.shape} to {n_components}-LDA Time: {test_features_extract_time:4f} sec\")\n",
    "\n",
    "    return lda_dims, train_features, test_features, lda_fit_time, train_features_extract_time, test_features_extract_time"
   ]
  },
  {
   "cell_type": "markdown",
   "metadata": {},
   "source": [
    "### LDA feature 2"
   ]
  },
  {
   "cell_type": "code",
   "execution_count": 126,
   "metadata": {},
   "outputs": [
    {
     "name": "stdout",
     "output_type": "stream",
     "text": [
      "Device ── PC\n",
      "│\n",
      "├──Dataset\n",
      "│    └────Mnist\n",
      "│    └────Train size: 80%\n",
      "│    └────Feature size: 784\n",
      "│\n",
      "├──Method\n",
      "│    └────kNN\n",
      "│    └────k = 5\n",
      "│    └────Euclidean\n",
      "│\n",
      "├──Dimension reduction\n",
      "│    └────Method: LDA\n",
      "│    └────Component size: 2\n",
      "│    └────Feature Reduction Ratio: 0.3%\n",
      "│\n",
      "└──Iteration\n",
      "    └────10\n",
      "The number of components : 2\n",
      "\n",
      "Calculating LDA Matrix Time on Train Data-(60000, 784) : 4.025529 sec\n",
      "Transform train X-(60000, 784) to 2-LDA Time: 0.105201 sec\n",
      "Transform test X-(60000, 784) to 2-LDA Time: 0.016841 sec\n"
     ]
    }
   ],
   "source": [
    "config.reduction_method = ['LDA', 2]\n",
    "\n",
    "lda_dims, train_features, test_features, lda_fit_time, train_features_extract_time, test_features_extract_time = \\\n",
    "    lda_run(train_data_X = train_mnist_X,\n",
    "            test_data_X = test_mnist_X,\n",
    "            config=config)\n",
    "\n",
    "n_components_list.append(config.reduction_method[1])\n",
    "lda_fit_time_list.append(lda_fit_time)\n",
    "train_features_extract_time_list.append(train_features_extract_time)\n",
    "test_features_extract_time_list.append(test_features_extract_time)"
   ]
  },
  {
   "cell_type": "markdown",
   "metadata": {},
   "source": [
    "* 2 LDA features - 1-NN run"
   ]
  },
  {
   "cell_type": "code",
   "execution_count": 127,
   "metadata": {},
   "outputs": [
    {
     "name": "stdout",
     "output_type": "stream",
     "text": [
      "PC - Mnist(80%) - kNN - 10 iteration - LDA(feature 2)\n"
     ]
    },
    {
     "name": "stderr",
     "output_type": "stream",
     "text": [
      "100%|██████████| 10/10 [00:00<00:00, 18.48it/s]"
     ]
    },
    {
     "name": "stdout",
     "output_type": "stream",
     "text": [
      "Train size :  60000  / Test size :  10000\n",
      "----------------------------------------\n",
      "Test set score: 0.4710 ± 0.00000\n",
      "KNN fitting Time: 0.0354 ± 0.00273 sec\n",
      "All Test dataset Prediction Time at once : 0.0179 ± 0.00056 sec\n",
      "Divide the Prediction Time by Test size : 0.00000179 ± 0.00000006 sec\n"
     ]
    },
    {
     "name": "stderr",
     "output_type": "stream",
     "text": [
      "\n"
     ]
    }
   ],
   "source": [
    "config.k = 1\n",
    "\n",
    "avg_test_acc, avg_knn_fit_time, avg_pred_time = knn_run(train_data_X = train_features,\n",
    "                                                        train_data_y = train_mnist_y,\n",
    "                                                        test_data_X = test_features,\n",
    "                                                        test_data_y = test_mnist_y,\n",
    "                                                        config = config,\n",
    "                                                        weights = 'distance')"
   ]
  },
  {
   "cell_type": "markdown",
   "metadata": {},
   "source": [
    "* 2 LDA features - 2-NN run"
   ]
  },
  {
   "cell_type": "code",
   "execution_count": 128,
   "metadata": {},
   "outputs": [
    {
     "name": "stdout",
     "output_type": "stream",
     "text": [
      "PC - Mnist(80%) - kNN - 10 iteration - LDA(feature 2)\n"
     ]
    },
    {
     "name": "stderr",
     "output_type": "stream",
     "text": [
      "100%|██████████| 10/10 [00:00<00:00, 18.34it/s]"
     ]
    },
    {
     "name": "stdout",
     "output_type": "stream",
     "text": [
      "Train size :  60000  / Test size :  10000\n",
      "----------------------------------------\n",
      "Test set score: 0.4710 ± 0.00000\n",
      "KNN fitting Time: 0.0343 ± 0.00162 sec\n",
      "All Test dataset Prediction Time at once : 0.0196 ± 0.00055 sec\n",
      "Divide the Prediction Time by Test size : 0.00000196 ± 0.00000005 sec\n"
     ]
    },
    {
     "name": "stderr",
     "output_type": "stream",
     "text": [
      "\n"
     ]
    }
   ],
   "source": [
    "config.k = 2\n",
    "\n",
    "avg_test_acc, avg_knn_fit_time, avg_pred_time = knn_run(train_data_X = train_features,\n",
    "                                                        train_data_y = train_mnist_y,\n",
    "                                                        test_data_X = test_features,\n",
    "                                                        test_data_y = test_mnist_y,\n",
    "                                                        config = config,\n",
    "                                                        weights = 'distance')"
   ]
  },
  {
   "cell_type": "markdown",
   "metadata": {},
   "source": [
    "* 2 LDA features - 3-NN run"
   ]
  },
  {
   "cell_type": "code",
   "execution_count": 129,
   "metadata": {},
   "outputs": [
    {
     "name": "stdout",
     "output_type": "stream",
     "text": [
      "PC - Mnist(80%) - kNN - 10 iteration - LDA(feature 2)\n"
     ]
    },
    {
     "name": "stderr",
     "output_type": "stream",
     "text": [
      "100%|██████████| 10/10 [00:00<00:00, 18.25it/s]"
     ]
    },
    {
     "name": "stdout",
     "output_type": "stream",
     "text": [
      "Train size :  60000  / Test size :  10000\n",
      "----------------------------------------\n",
      "Test set score: 0.4911 ± 0.00000\n",
      "KNN fitting Time: 0.0336 ± 0.00083 sec\n",
      "All Test dataset Prediction Time at once : 0.0206 ± 0.00040 sec\n",
      "Divide the Prediction Time by Test size : 0.00000206 ± 0.00000004 sec\n"
     ]
    },
    {
     "name": "stderr",
     "output_type": "stream",
     "text": [
      "\n"
     ]
    }
   ],
   "source": [
    "config.k = 3\n",
    "\n",
    "avg_test_acc, avg_knn_fit_time, avg_pred_time = knn_run(train_data_X = train_features,\n",
    "                                                        train_data_y = train_mnist_y,\n",
    "                                                        test_data_X = test_features,\n",
    "                                                        test_data_y = test_mnist_y,\n",
    "                                                        config = config,\n",
    "                                                        weights = 'distance')"
   ]
  },
  {
   "cell_type": "markdown",
   "metadata": {},
   "source": [
    "* 2 LDA features - 5-NN run"
   ]
  },
  {
   "cell_type": "code",
   "execution_count": 130,
   "metadata": {},
   "outputs": [
    {
     "name": "stdout",
     "output_type": "stream",
     "text": [
      "PC - Mnist(80%) - kNN - 10 iteration - LDA(feature 2)\n"
     ]
    },
    {
     "name": "stderr",
     "output_type": "stream",
     "text": [
      "100%|██████████| 10/10 [00:00<00:00, 16.61it/s]"
     ]
    },
    {
     "name": "stdout",
     "output_type": "stream",
     "text": [
      "Train size :  60000  / Test size :  10000\n",
      "----------------------------------------\n",
      "Test set score: 0.5115 ± 0.00000\n",
      "KNN fitting Time: 0.0359 ± 0.00373 sec\n",
      "All Test dataset Prediction Time at once : 0.0235 ± 0.00048 sec\n",
      "Divide the Prediction Time by Test size : 0.00000235 ± 0.00000005 sec\n"
     ]
    },
    {
     "name": "stderr",
     "output_type": "stream",
     "text": [
      "\n"
     ]
    }
   ],
   "source": [
    "config.k = 5\n",
    "\n",
    "avg_test_acc, avg_knn_fit_time, avg_pred_time = knn_run(train_data_X = train_features,\n",
    "                                                        train_data_y = train_mnist_y,\n",
    "                                                        test_data_X = test_features,\n",
    "                                                        test_data_y = test_mnist_y,\n",
    "                                                        config = config,\n",
    "                                                        weights = 'distance')"
   ]
  },
  {
   "cell_type": "markdown",
   "metadata": {},
   "source": [
    "### LDA feature 3"
   ]
  },
  {
   "cell_type": "code",
   "execution_count": 132,
   "metadata": {},
   "outputs": [
    {
     "name": "stdout",
     "output_type": "stream",
     "text": [
      "Device ── PC\n",
      "│\n",
      "├──Dataset\n",
      "│    └────Mnist\n",
      "│    └────Train size: 80%\n",
      "│    └────Feature size: 784\n",
      "│\n",
      "├──Method\n",
      "│    └────kNN\n",
      "│    └────k = 5\n",
      "│    └────Euclidean\n",
      "│\n",
      "├──Dimension reduction\n",
      "│    └────Method: LDA\n",
      "│    └────Component size: 3\n",
      "│    └────Feature Reduction Ratio: 0.4%\n",
      "│\n",
      "└──Iteration\n",
      "    └────10\n",
      "The number of components : 3\n",
      "\n",
      "Calculating LDA Matrix Time on Train Data-(60000, 784) : 4.016360 sec\n",
      "Transform train X-(60000, 784) to 3-LDA Time: 0.102001 sec\n",
      "Transform test X-(60000, 784) to 3-LDA Time: 0.019093 sec\n"
     ]
    }
   ],
   "source": [
    "config.reduction_method = ['LDA', 3]\n",
    "\n",
    "lda_dims, train_features, test_features, lda_fit_time, train_features_extract_time, test_features_extract_time = \\\n",
    "    lda_run(train_data_X = train_mnist_X,\n",
    "            test_data_X = test_mnist_X,\n",
    "            config=config)\n",
    "\n",
    "n_components_list.append(config.reduction_method[1])\n",
    "lda_fit_time_list.append(lda_fit_time)\n",
    "train_features_extract_time_list.append(train_features_extract_time)\n",
    "test_features_extract_time_list.append(test_features_extract_time)"
   ]
  },
  {
   "cell_type": "markdown",
   "metadata": {},
   "source": [
    "* 3 LDA features - 1-NN run"
   ]
  },
  {
   "cell_type": "code",
   "execution_count": 133,
   "metadata": {},
   "outputs": [
    {
     "name": "stdout",
     "output_type": "stream",
     "text": [
      "PC - Mnist(80%) - kNN - 10 iteration - LDA(feature 3)\n"
     ]
    },
    {
     "name": "stderr",
     "output_type": "stream",
     "text": [
      "100%|██████████| 10/10 [00:00<00:00, 14.73it/s]"
     ]
    },
    {
     "name": "stdout",
     "output_type": "stream",
     "text": [
      "Train size :  60000  / Test size :  10000\n",
      "----------------------------------------\n",
      "Test set score: 0.6689 ± 0.00000\n",
      "KNN fitting Time: 0.0453 ± 0.00233 sec\n",
      "All Test dataset Prediction Time at once : 0.0217 ± 0.00072 sec\n",
      "Divide the Prediction Time by Test size : 0.00000217 ± 0.00000007 sec\n"
     ]
    },
    {
     "name": "stderr",
     "output_type": "stream",
     "text": [
      "\n"
     ]
    }
   ],
   "source": [
    "config.k = 1\n",
    "\n",
    "avg_test_acc, avg_knn_fit_time, avg_pred_time = knn_run(train_data_X = train_features,\n",
    "                                                        train_data_y = train_mnist_y,\n",
    "                                                        test_data_X = test_features,\n",
    "                                                        test_data_y = test_mnist_y,\n",
    "                                                        config = config,\n",
    "                                                        weights = 'distance')"
   ]
  },
  {
   "cell_type": "markdown",
   "metadata": {},
   "source": [
    "* 3 LDA features - 2-NN run"
   ]
  },
  {
   "cell_type": "code",
   "execution_count": 134,
   "metadata": {},
   "outputs": [
    {
     "name": "stdout",
     "output_type": "stream",
     "text": [
      "PC - Mnist(80%) - kNN - 10 iteration - LDA(feature 3)\n"
     ]
    },
    {
     "name": "stderr",
     "output_type": "stream",
     "text": [
      "100%|██████████| 10/10 [00:00<00:00, 14.16it/s]"
     ]
    },
    {
     "name": "stdout",
     "output_type": "stream",
     "text": [
      "Train size :  60000  / Test size :  10000\n",
      "----------------------------------------\n",
      "Test set score: 0.6689 ± 0.00000\n",
      "KNN fitting Time: 0.0445 ± 0.00053 sec\n",
      "All Test dataset Prediction Time at once : 0.0254 ± 0.00078 sec\n",
      "Divide the Prediction Time by Test size : 0.00000254 ± 0.00000008 sec\n"
     ]
    },
    {
     "name": "stderr",
     "output_type": "stream",
     "text": [
      "\n"
     ]
    }
   ],
   "source": [
    "config.k = 2\n",
    "\n",
    "avg_test_acc, avg_knn_fit_time, avg_pred_time = knn_run(train_data_X = train_features,\n",
    "                                                        train_data_y = train_mnist_y,\n",
    "                                                        test_data_X = test_features,\n",
    "                                                        test_data_y = test_mnist_y,\n",
    "                                                        config = config,\n",
    "                                                        weights = 'distance')"
   ]
  },
  {
   "cell_type": "markdown",
   "metadata": {},
   "source": [
    "* 3 LDA features - 3-NN run"
   ]
  },
  {
   "cell_type": "code",
   "execution_count": 135,
   "metadata": {},
   "outputs": [
    {
     "name": "stdout",
     "output_type": "stream",
     "text": [
      "PC - Mnist(80%) - kNN - 10 iteration - LDA(feature 3)\n"
     ]
    },
    {
     "name": "stderr",
     "output_type": "stream",
     "text": [
      "100%|██████████| 10/10 [00:00<00:00, 13.74it/s]"
     ]
    },
    {
     "name": "stdout",
     "output_type": "stream",
     "text": [
      "Train size :  60000  / Test size :  10000\n",
      "----------------------------------------\n",
      "Test set score: 0.6989 ± 0.00000\n",
      "KNN fitting Time: 0.0446 ± 0.00055 sec\n",
      "All Test dataset Prediction Time at once : 0.0274 ± 0.00063 sec\n",
      "Divide the Prediction Time by Test size : 0.00000274 ± 0.00000006 sec\n"
     ]
    },
    {
     "name": "stderr",
     "output_type": "stream",
     "text": [
      "\n"
     ]
    }
   ],
   "source": [
    "config.k = 3\n",
    "\n",
    "avg_test_acc, avg_knn_fit_time, avg_pred_time = knn_run(train_data_X = train_features,\n",
    "                                                        train_data_y = train_mnist_y,\n",
    "                                                        test_data_X = test_features,\n",
    "                                                        test_data_y = test_mnist_y,\n",
    "                                                        config = config,\n",
    "                                                        weights = 'distance')"
   ]
  },
  {
   "cell_type": "markdown",
   "metadata": {},
   "source": [
    "* 3 LDA features - 5-NN run"
   ]
  },
  {
   "cell_type": "code",
   "execution_count": 136,
   "metadata": {},
   "outputs": [
    {
     "name": "stdout",
     "output_type": "stream",
     "text": [
      "PC - Mnist(80%) - kNN - 10 iteration - LDA(feature 3)\n"
     ]
    },
    {
     "name": "stderr",
     "output_type": "stream",
     "text": [
      "100%|██████████| 10/10 [00:00<00:00, 13.17it/s]"
     ]
    },
    {
     "name": "stdout",
     "output_type": "stream",
     "text": [
      "Train size :  60000  / Test size :  10000\n",
      "----------------------------------------\n",
      "Test set score: 0.7188 ± 0.00000\n",
      "KNN fitting Time: 0.0446 ± 0.00044 sec\n",
      "All Test dataset Prediction Time at once : 0.0306 ± 0.00053 sec\n",
      "Divide the Prediction Time by Test size : 0.00000306 ± 0.00000005 sec\n"
     ]
    },
    {
     "name": "stderr",
     "output_type": "stream",
     "text": [
      "\n"
     ]
    }
   ],
   "source": [
    "config.k = 5\n",
    "\n",
    "avg_test_acc, avg_knn_fit_time, avg_pred_time = knn_run(train_data_X = train_features,\n",
    "                                                        train_data_y = train_mnist_y,\n",
    "                                                        test_data_X = test_features,\n",
    "                                                        test_data_y = test_mnist_y,\n",
    "                                                        config = config,\n",
    "                                                        weights = 'distance')"
   ]
  },
  {
   "cell_type": "markdown",
   "metadata": {},
   "source": [
    "### LDA feature 5"
   ]
  },
  {
   "cell_type": "code",
   "execution_count": 137,
   "metadata": {},
   "outputs": [
    {
     "name": "stdout",
     "output_type": "stream",
     "text": [
      "Device ── PC\n",
      "│\n",
      "├──Dataset\n",
      "│    └────Mnist\n",
      "│    └────Train size: 80%\n",
      "│    └────Feature size: 784\n",
      "│\n",
      "├──Method\n",
      "│    └────kNN\n",
      "│    └────k = 5\n",
      "│    └────Euclidean\n",
      "│\n",
      "├──Dimension reduction\n",
      "│    └────Method: LDA\n",
      "│    └────Component size: 5\n",
      "│    └────Feature Reduction Ratio: 0.6%\n",
      "│\n",
      "└──Iteration\n",
      "    └────10\n",
      "The number of components : 5\n",
      "\n",
      "Calculating LDA Matrix Time on Train Data-(60000, 784) : 4.020673 sec\n",
      "Transform train X-(60000, 784) to 5-LDA Time: 0.094121 sec\n",
      "Transform test X-(60000, 784) to 5-LDA Time: 0.015756 sec\n"
     ]
    }
   ],
   "source": [
    "config.reduction_method = ['LDA', 5]\n",
    "\n",
    "lda_dims, train_features, test_features, lda_fit_time, train_features_extract_time, test_features_extract_time = \\\n",
    "    lda_run(train_data_X = train_mnist_X,\n",
    "            test_data_X = test_mnist_X,\n",
    "            config=config)\n",
    "\n",
    "n_components_list.append(config.reduction_method[1])\n",
    "lda_fit_time_list.append(lda_fit_time)\n",
    "train_features_extract_time_list.append(train_features_extract_time)\n",
    "test_features_extract_time_list.append(test_features_extract_time)"
   ]
  },
  {
   "cell_type": "markdown",
   "metadata": {},
   "source": [
    "* 5 LDA features - 1-NN run"
   ]
  },
  {
   "cell_type": "code",
   "execution_count": 138,
   "metadata": {},
   "outputs": [
    {
     "name": "stdout",
     "output_type": "stream",
     "text": [
      "PC - Mnist(80%) - kNN - 10 iteration - LDA(feature 5)\n"
     ]
    },
    {
     "name": "stderr",
     "output_type": "stream",
     "text": [
      "100%|██████████| 10/10 [00:01<00:00,  8.52it/s]"
     ]
    },
    {
     "name": "stdout",
     "output_type": "stream",
     "text": [
      "Train size :  60000  / Test size :  10000\n",
      "----------------------------------------\n",
      "Test set score: 0.7903 ± 0.00000\n",
      "KNN fitting Time: 0.0698 ± 0.00383 sec\n",
      "All Test dataset Prediction Time at once : 0.0465 ± 0.00091 sec\n",
      "Divide the Prediction Time by Test size : 0.00000465 ± 0.00000009 sec\n"
     ]
    },
    {
     "name": "stderr",
     "output_type": "stream",
     "text": [
      "\n"
     ]
    }
   ],
   "source": [
    "config.k = 1\n",
    "\n",
    "avg_test_acc, avg_knn_fit_time, avg_pred_time = knn_run(train_data_X = train_features,\n",
    "                                                        train_data_y = train_mnist_y,\n",
    "                                                        test_data_X = test_features,\n",
    "                                                        test_data_y = test_mnist_y,\n",
    "                                                        config = config,\n",
    "                                                        weights = 'distance')"
   ]
  },
  {
   "cell_type": "markdown",
   "metadata": {},
   "source": [
    "* 5 LDA features - 2-NN run"
   ]
  },
  {
   "cell_type": "code",
   "execution_count": 139,
   "metadata": {},
   "outputs": [
    {
     "name": "stdout",
     "output_type": "stream",
     "text": [
      "PC - Mnist(80%) - kNN - 10 iteration - LDA(feature 5)\n"
     ]
    },
    {
     "name": "stderr",
     "output_type": "stream",
     "text": [
      "100%|██████████| 10/10 [00:01<00:00,  7.86it/s]"
     ]
    },
    {
     "name": "stdout",
     "output_type": "stream",
     "text": [
      "Train size :  60000  / Test size :  10000\n",
      "----------------------------------------\n",
      "Test set score: 0.7903 ± 0.00000\n",
      "KNN fitting Time: 0.0692 ± 0.00198 sec\n",
      "All Test dataset Prediction Time at once : 0.0570 ± 0.00147 sec\n",
      "Divide the Prediction Time by Test size : 0.00000570 ± 0.00000015 sec\n"
     ]
    },
    {
     "name": "stderr",
     "output_type": "stream",
     "text": [
      "\n"
     ]
    }
   ],
   "source": [
    "config.k = 2\n",
    "\n",
    "avg_test_acc, avg_knn_fit_time, avg_pred_time = knn_run(train_data_X = train_features,\n",
    "                                                        train_data_y = train_mnist_y,\n",
    "                                                        test_data_X = test_features,\n",
    "                                                        test_data_y = test_mnist_y,\n",
    "                                                        config = config,\n",
    "                                                        weights = 'distance')"
   ]
  },
  {
   "cell_type": "markdown",
   "metadata": {},
   "source": [
    "* 5 LDA features - 3-NN run"
   ]
  },
  {
   "cell_type": "code",
   "execution_count": 140,
   "metadata": {},
   "outputs": [
    {
     "name": "stdout",
     "output_type": "stream",
     "text": [
      "PC - Mnist(80%) - kNN - 10 iteration - LDA(feature 5)\n"
     ]
    },
    {
     "name": "stderr",
     "output_type": "stream",
     "text": [
      "100%|██████████| 10/10 [00:01<00:00,  7.30it/s]"
     ]
    },
    {
     "name": "stdout",
     "output_type": "stream",
     "text": [
      "Train size :  60000  / Test size :  10000\n",
      "----------------------------------------\n",
      "Test set score: 0.8205 ± 0.00000\n",
      "KNN fitting Time: 0.0714 ± 0.00502 sec\n",
      "All Test dataset Prediction Time at once : 0.0646 ± 0.00104 sec\n",
      "Divide the Prediction Time by Test size : 0.00000646 ± 0.00000010 sec\n"
     ]
    },
    {
     "name": "stderr",
     "output_type": "stream",
     "text": [
      "\n"
     ]
    }
   ],
   "source": [
    "config.k = 3\n",
    "\n",
    "avg_test_acc, avg_knn_fit_time, avg_pred_time = knn_run(train_data_X = train_features,\n",
    "                                                        train_data_y = train_mnist_y,\n",
    "                                                        test_data_X = test_features,\n",
    "                                                        test_data_y = test_mnist_y,\n",
    "                                                        config = config,\n",
    "                                                        weights = 'distance')"
   ]
  },
  {
   "cell_type": "markdown",
   "metadata": {},
   "source": [
    "* 5 LDA features - 5-NN run"
   ]
  },
  {
   "cell_type": "code",
   "execution_count": 141,
   "metadata": {},
   "outputs": [
    {
     "name": "stdout",
     "output_type": "stream",
     "text": [
      "PC - Mnist(80%) - kNN - 10 iteration - LDA(feature 5)\n"
     ]
    },
    {
     "name": "stderr",
     "output_type": "stream",
     "text": [
      "100%|██████████| 10/10 [00:01<00:00,  6.90it/s]"
     ]
    },
    {
     "name": "stdout",
     "output_type": "stream",
     "text": [
      "Train size :  60000  / Test size :  10000\n",
      "----------------------------------------\n",
      "Test set score: 0.8327 ± 0.00000\n",
      "KNN fitting Time: 0.0688 ± 0.00265 sec\n",
      "All Test dataset Prediction Time at once : 0.0750 ± 0.00090 sec\n",
      "Divide the Prediction Time by Test size : 0.00000750 ± 0.00000009 sec\n"
     ]
    },
    {
     "name": "stderr",
     "output_type": "stream",
     "text": [
      "\n"
     ]
    }
   ],
   "source": [
    "config.k = 5\n",
    "\n",
    "avg_test_acc, avg_knn_fit_time, avg_pred_time = knn_run(train_data_X = train_features,\n",
    "                                                        train_data_y = train_mnist_y,\n",
    "                                                        test_data_X = test_features,\n",
    "                                                        test_data_y = test_mnist_y,\n",
    "                                                        config = config,\n",
    "                                                        weights = 'distance')"
   ]
  },
  {
   "cell_type": "markdown",
   "metadata": {},
   "source": [
    "### LDA feature 9"
   ]
  },
  {
   "cell_type": "code",
   "execution_count": 143,
   "metadata": {},
   "outputs": [
    {
     "name": "stdout",
     "output_type": "stream",
     "text": [
      "Device ── PC\n",
      "│\n",
      "├──Dataset\n",
      "│    └────Mnist\n",
      "│    └────Train size: 80%\n",
      "│    └────Feature size: 784\n",
      "│\n",
      "├──Method\n",
      "│    └────kNN\n",
      "│    └────k = 5\n",
      "│    └────Euclidean\n",
      "│\n",
      "├──Dimension reduction\n",
      "│    └────Method: LDA\n",
      "│    └────Component size: 9\n",
      "│    └────Feature Reduction Ratio: 1.0999999999999999%\n",
      "│\n",
      "└──Iteration\n",
      "    └────10\n",
      "The number of components : 9\n",
      "\n",
      "Calculating LDA Matrix Time on Train Data-(60000, 784) : 4.046038 sec\n",
      "Transform train X-(60000, 784) to 9-LDA Time: 0.134999 sec\n",
      "Transform test X-(60000, 784) to 9-LDA Time: 0.027631 sec\n"
     ]
    }
   ],
   "source": [
    "config.reduction_method = ['LDA', 9]\n",
    "\n",
    "lda_dims, train_features, test_features, lda_fit_time, train_features_extract_time, test_features_extract_time = \\\n",
    "    lda_run(train_data_X = train_mnist_X,\n",
    "            test_data_X = test_mnist_X,\n",
    "            config=config)\n",
    "\n",
    "n_components_list.append(config.reduction_method[1])\n",
    "lda_fit_time_list.append(lda_fit_time)\n",
    "train_features_extract_time_list.append(train_features_extract_time)\n",
    "test_features_extract_time_list.append(test_features_extract_time)"
   ]
  },
  {
   "cell_type": "markdown",
   "metadata": {},
   "source": [
    "* 9 LDA features - 1-NN run"
   ]
  },
  {
   "cell_type": "code",
   "execution_count": 144,
   "metadata": {},
   "outputs": [
    {
     "name": "stdout",
     "output_type": "stream",
     "text": [
      "PC - Mnist(80%) - kNN - 10 iteration - LDA(feature 9)\n"
     ]
    },
    {
     "name": "stderr",
     "output_type": "stream",
     "text": [
      "100%|██████████| 10/10 [00:03<00:00,  3.03it/s]"
     ]
    },
    {
     "name": "stdout",
     "output_type": "stream",
     "text": [
      "Train size :  60000  / Test size :  10000\n",
      "----------------------------------------\n",
      "Test set score: 0.8990 ± 0.00000\n",
      "KNN fitting Time: 0.1145 ± 0.00345 sec\n",
      "All Test dataset Prediction Time at once : 0.2148 ± 0.00140 sec\n",
      "Divide the Prediction Time by Test size : 0.00002148 ± 0.00000014 sec\n"
     ]
    },
    {
     "name": "stderr",
     "output_type": "stream",
     "text": [
      "\n"
     ]
    }
   ],
   "source": [
    "config.k = 1\n",
    "\n",
    "avg_test_acc, avg_knn_fit_time, avg_pred_time = knn_run(train_data_X = train_features,\n",
    "                                                        train_data_y = train_mnist_y,\n",
    "                                                        test_data_X = test_features,\n",
    "                                                        test_data_y = test_mnist_y,\n",
    "                                                        config = config,\n",
    "                                                        weights = 'distance')"
   ]
  },
  {
   "cell_type": "markdown",
   "metadata": {},
   "source": [
    "* 9 LDA features - 2-NN run"
   ]
  },
  {
   "cell_type": "code",
   "execution_count": 145,
   "metadata": {},
   "outputs": [
    {
     "name": "stdout",
     "output_type": "stream",
     "text": [
      "PC - Mnist(80%) - kNN - 10 iteration - LDA(feature 9)\n"
     ]
    },
    {
     "name": "stderr",
     "output_type": "stream",
     "text": [
      "100%|██████████| 10/10 [00:03<00:00,  2.65it/s]"
     ]
    },
    {
     "name": "stdout",
     "output_type": "stream",
     "text": [
      "Train size :  60000  / Test size :  10000\n",
      "----------------------------------------\n",
      "Test set score: 0.8990 ± 0.00000\n",
      "KNN fitting Time: 0.1119 ± 0.00084 sec\n",
      "All Test dataset Prediction Time at once : 0.2646 ± 0.00187 sec\n",
      "Divide the Prediction Time by Test size : 0.00002646 ± 0.00000019 sec\n"
     ]
    },
    {
     "name": "stderr",
     "output_type": "stream",
     "text": [
      "\n"
     ]
    }
   ],
   "source": [
    "config.k = 2\n",
    "\n",
    "avg_test_acc, avg_knn_fit_time, avg_pred_time = knn_run(train_data_X = train_features,\n",
    "                                                        train_data_y = train_mnist_y,\n",
    "                                                        test_data_X = test_features,\n",
    "                                                        test_data_y = test_mnist_y,\n",
    "                                                        config = config,\n",
    "                                                        weights = 'distance')"
   ]
  },
  {
   "cell_type": "markdown",
   "metadata": {},
   "source": [
    "* 9 LDA features - 3-NN run"
   ]
  },
  {
   "cell_type": "code",
   "execution_count": 146,
   "metadata": {},
   "outputs": [
    {
     "name": "stdout",
     "output_type": "stream",
     "text": [
      "PC - Mnist(80%) - kNN - 10 iteration - LDA(feature 9)\n"
     ]
    },
    {
     "name": "stderr",
     "output_type": "stream",
     "text": [
      "100%|██████████| 10/10 [00:04<00:00,  2.44it/s]"
     ]
    },
    {
     "name": "stdout",
     "output_type": "stream",
     "text": [
      "Train size :  60000  / Test size :  10000\n",
      "----------------------------------------\n",
      "Test set score: 0.9109 ± 0.00000\n",
      "KNN fitting Time: 0.1121 ± 0.00276 sec\n",
      "All Test dataset Prediction Time at once : 0.2962 ± 0.00623 sec\n",
      "Divide the Prediction Time by Test size : 0.00002962 ± 0.00000062 sec\n"
     ]
    },
    {
     "name": "stderr",
     "output_type": "stream",
     "text": [
      "\n"
     ]
    }
   ],
   "source": [
    "config.k = 3\n",
    "\n",
    "avg_test_acc, avg_knn_fit_time, avg_pred_time = knn_run(train_data_X = train_features,\n",
    "                                                        train_data_y = train_mnist_y,\n",
    "                                                        test_data_X = test_features,\n",
    "                                                        test_data_y = test_mnist_y,\n",
    "                                                        config = config,\n",
    "                                                        weights = 'distance')"
   ]
  },
  {
   "cell_type": "markdown",
   "metadata": {},
   "source": [
    "* 9 LDA features - 5-NN run"
   ]
  },
  {
   "cell_type": "code",
   "execution_count": 147,
   "metadata": {},
   "outputs": [
    {
     "name": "stdout",
     "output_type": "stream",
     "text": [
      "PC - Mnist(80%) - kNN - 10 iteration - LDA(feature 9)\n"
     ]
    },
    {
     "name": "stderr",
     "output_type": "stream",
     "text": [
      "100%|██████████| 10/10 [00:04<00:00,  2.22it/s]"
     ]
    },
    {
     "name": "stdout",
     "output_type": "stream",
     "text": [
      "Train size :  60000  / Test size :  10000\n",
      "----------------------------------------\n",
      "Test set score: 0.9148 ± 0.00000\n",
      "KNN fitting Time: 0.1117 ± 0.00125 sec\n",
      "All Test dataset Prediction Time at once : 0.3383 ± 0.00647 sec\n",
      "Divide the Prediction Time by Test size : 0.00003383 ± 0.00000065 sec\n"
     ]
    },
    {
     "name": "stderr",
     "output_type": "stream",
     "text": [
      "\n"
     ]
    }
   ],
   "source": [
    "config.k = 5\n",
    "\n",
    "avg_test_acc, avg_knn_fit_time, avg_pred_time = knn_run(train_data_X = train_features,\n",
    "                                                        train_data_y = train_mnist_y,\n",
    "                                                        test_data_X = test_features,\n",
    "                                                        test_data_y = test_mnist_y,\n",
    "                                                        config = config,\n",
    "                                                        weights = 'distance')"
   ]
  },
  {
   "cell_type": "code",
   "execution_count": null,
   "metadata": {},
   "outputs": [],
   "source": []
  }
 ],
 "metadata": {
  "interpreter": {
   "hash": "96617a4ccdf4ff8af9cb4fdc6a0e520bbd799675b4cf9420cbe414d64a946884"
  },
  "kernelspec": {
   "display_name": "Python 3.9.7 ('tf-venv')",
   "language": "python",
   "name": "python3"
  },
  "language_info": {
   "codemirror_mode": {
    "name": "ipython",
    "version": 3
   },
   "file_extension": ".py",
   "mimetype": "text/x-python",
   "name": "python",
   "nbconvert_exporter": "python",
   "pygments_lexer": "ipython3",
   "version": "3.9.7"
  },
  "orig_nbformat": 4
 },
 "nbformat": 4,
 "nbformat_minor": 2
}
