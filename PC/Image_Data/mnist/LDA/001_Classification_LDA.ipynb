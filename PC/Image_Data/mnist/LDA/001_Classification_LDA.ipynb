{
 "cells": [
  {
   "cell_type": "markdown",
   "metadata": {},
   "source": [
    "## MNIST Dataset Classification using LDA\n",
    "### Summary\n",
    "\n",
    "MNIST 데이터셋을 분류하기 위해 Linear Discriminant Analysis (LDA)를 사용.\n",
    "\n",
    "Mnist 데이터셋을 이용하여 0부터 9까지의 10가지 손글씨 클래스를 구분한다. \n",
    "\n",
    "Time 측정 방법은 Method 측면에서는 \n",
    "1. Model Fitting Time : KNN의 경우 데이터셋에 대한 Checking 및 데이터셋 메모리에 카피\n",
    "2. All Test Data Prediction Time\n",
    "3. One Instance Prediction Time 10번 평균\n",
    "\n",
    "PCA 측면에서는 \n",
    "1. Calculate Train Data SVD Matrix Time\n",
    "2. Transform Train X to N-PCA Time\n",
    "3. Transform Test X to N-PCA Time\n",
    "\n",
    "LDA 측면에서는 \n",
    "1. Calculate Train Data LDA Matrix Time\n",
    "2. Transform Train X to N-LDA Time\n",
    "3. Transform Test X to N-LDA Time"
   ]
  },
  {
   "cell_type": "markdown",
   "metadata": {},
   "source": [
    "### Table of Contents\n",
    "\n",
    "* [Load MNIST Dataset](#load-mnist-dataset)\n",
    "  * [Sample Images](#sample-images)\n",
    "  * [Train & Test Data Label Distribution](#train--test-data-label-distribution)\n",
    "  * [Preprocessing](#preprocessing)\n",
    "* [Linear Discriminant Analysis (LDA)](#linear-discriminant-analysis-lda)\n",
    "  * [LDA run function](#lda-run-function)\n",
    "  * [1 개의 Instance 예측하는데 걸리는 시간 측정](#1개의-instance를-예측하는데-걸리는-시간-측정---10번-반복)\n",
    "* [PCA run function](#pca-run-function)\n",
    "  * [PCA feature 2](#pca-feature-2)\n",
    "  * [PCA feature 3](#pca-feature-3)\n",
    "  * [PCA feature 5](#pca-feature-5)\n",
    "  * [PCA feature 26](#pca-feature-26)\n",
    "  * [PCA feature 43](#pca-feature-43)\n",
    "* [LDA Dimension Reduction run function](#lda-dimension-reduction-run-function)\n",
    "  * [LDA feature 2](#lda-feature-2)\n",
    "  * [LDA feature 3](#lda-feature-3)\n",
    "  * [LDA feature 5](#lda-feature-5)\n",
    "  * [LDA feature 9](#lda-feature-9)"
   ]
  },
  {
   "cell_type": "code",
   "execution_count": 1,
   "metadata": {},
   "outputs": [],
   "source": [
    "import time\n",
    "from tqdm import tqdm\n",
    "import numpy as np\n",
    "import pandas as pd\n",
    "\n",
    "import seaborn as sns\n",
    "import matplotlib.pyplot as plt\n",
    "from PIL import Image\n",
    "\n",
    "from sklearn.datasets import fetch_openml\n",
    "from sklearn.model_selection import train_test_split\n",
    "from sklearn.metrics import accuracy_score\n",
    "from sklearn import preprocessing\n",
    "from sklearn.decomposition import PCA\n",
    "from sklearn.discriminant_analysis import LinearDiscriminantAnalysis\n",
    "from sklearn.neighbors import NearestCentroid\n",
    "\n",
    "import torchvision\n",
    "from torchvision.datasets import MNIST\n",
    "from torchvision import transforms\n",
    "from torch.utils.data import DataLoader"
   ]
  },
  {
   "cell_type": "code",
   "execution_count": 12,
   "metadata": {},
   "outputs": [],
   "source": [
    "class BaseConfig:\n",
    "    def __init__(self):\n",
    "        pass\n",
    "\n",
    "    def info(self):\n",
    "        config_list = {\n",
    "            0 : ['Dataset', self.dataset, \n",
    "                 \"Train size: \" + str(int((1-self.test_size)*100))+\"%\",\n",
    "                 'Feature size: ' + str(self.feature_size), 1],\n",
    "            1 : ['Method', self.method, \n",
    "                 \"k = \" + str(self.k), self.distance, 2],\n",
    "            2 : ['Dimension reduction', \n",
    "                 'Method: ' + str(self.reduction_method[0]),\n",
    "                 'Component size: ' + str(self.reduction_method[1]),\n",
    "                 'Feature Reduction Ratio: ' + \\\n",
    "                    str(round(self.reduction_method[1]/self.feature_size, 3)*100 if self.reduction_method[1] is not None else None)+\"%\", 3],\n",
    "            3 : ['Iteration', str(self.iter), -1]\n",
    "        }\n",
    "\n",
    "        print(\"Device \" + \"─\" * 2 + \" \" + self.device)\n",
    "        print(\"│\")\n",
    "\n",
    "        parent = 1\n",
    "        for child in range(len(config_list)):\n",
    "            for idx, contents in enumerate(config_list[child][:-1]):\n",
    "                if idx == 0 and child == len(config_list)-1:\n",
    "                    print(\"└\" + \"─\" * 2 + contents)\n",
    "                elif idx == 0:\n",
    "                    print(\"├\" + \"─\" * 2 + contents)\n",
    "                elif child == len(config_list)-1:\n",
    "                    print(\" \" * 4 + \"└\" + \"─\" * 4 + contents)\n",
    "                else:\n",
    "                    print(\"│\" + \" \" * 4 + \"└\" + \"─\" * 4 + contents)\n",
    "            parent = config_list[child][-1]\n",
    "            if parent == -1: break\n",
    "            print(\"│\")\n",
    "\n",
    "    def print_rutin(self):\n",
    "        if self.reduction_method[0] is None:\n",
    "            rutin = str(self.device) + \" - \" + str(self.dataset) + \"(\" + str(int((1-self.test_size)*100)) + \"%) - \" + str(self.method) + \" - \" + str(self.iter) + \" iteration\"\n",
    "            print(rutin)\n",
    "        else:\n",
    "            rutin = str(self.device) + \" - \" + str(self.dataset) + \"(\" + str(int((1-self.test_size)*100)) + \"%) - \" + str(self.method) + \" - \" + str(self.iter) + \" iteration - \" + str(self.reduction_method[0]) + \"(feature \" + str(self.reduction_method[1]) + \")\"\n",
    "            print(rutin)\n",
    "\n",
    "class Config(BaseConfig):\n",
    "    def __init__(self):\n",
    "        super(BaseConfig, self).__init__()\n",
    "        self.device = 'PC'\n",
    "        self.dataset = 'Mnist'\n",
    "        self.test_size = 0.2\n",
    "        self.feature_size = 784\n",
    "        self.method = 'LDA'\n",
    "        self.k = None\n",
    "        self.distance = ''\n",
    "        self.reduction_method = [None, None] # method, n_components\n",
    "        self.iter = 10\n"
   ]
  },
  {
   "cell_type": "markdown",
   "metadata": {},
   "source": [
    "## Load Mnist Dataset"
   ]
  },
  {
   "cell_type": "markdown",
   "metadata": {},
   "source": [
    "<a title=\"By Josef Steppan [CC BY-SA 4.0 (https://creativecommons.org/licenses/by-sa/4.0)], from Wikimedia Commons\" href=\"https://commons.wikimedia.org/wiki/File:MnistExamples.png\"><img width=\"512\" alt=\"MnistExamples\" src=\"https://upload.wikimedia.org/wikipedia/commons/2/27/MnistExamples.png\"/></a>"
   ]
  },
  {
   "cell_type": "code",
   "execution_count": 4,
   "metadata": {},
   "outputs": [
    {
     "name": "stdout",
     "output_type": "stream",
     "text": [
      "torch.Size([60000, 28, 28])\n",
      "torch.Size([10000, 28, 28])\n"
     ]
    },
    {
     "name": "stderr",
     "output_type": "stream",
     "text": [
      "c:\\Users\\Cau_13\\Anaconda3\\envs\\tf-venv\\lib\\site-packages\\torchvision\\datasets\\mnist.py:498: UserWarning: The given NumPy array is not writeable, and PyTorch does not support non-writeable tensors. This means you can write to the underlying (supposedly non-writeable) NumPy array using the tensor. You may want to copy the array to protect its data or make it writeable before converting it to a tensor. This type of warning will be suppressed for the rest of this program. (Triggered internally at  ..\\torch\\csrc\\utils\\tensor_numpy.cpp:180.)\n",
      "  return torch.from_numpy(parsed.astype(m[2], copy=False)).view(*s)\n"
     ]
    }
   ],
   "source": [
    "transform = transforms.Compose([transforms.ToTensor(),\n",
    "                                transforms.Normalize((0.1307,), (0.3081,))\n",
    "                                ])\n",
    "\n",
    "batch_size = 512\n",
    "\n",
    "trainset = MNIST(root='../../datasets', train=True, download=False, transform=transform)\n",
    "train_loader = DataLoader(trainset, batch_size=batch_size, shuffle=True, num_workers=2)\n",
    "\n",
    "validationset = MNIST(root='../../datasets', train=False, download=False, transform=transform)\n",
    "val_loader = DataLoader(validationset, batch_size=batch_size, shuffle=False, num_workers=2)\n",
    "\n",
    "print(trainset.data.shape)\n",
    "print(validationset.data.shape)"
   ]
  },
  {
   "cell_type": "code",
   "execution_count": 5,
   "metadata": {},
   "outputs": [],
   "source": [
    "train_mnist = MNIST(root='../../datasets', train=True, download=False)\n",
    "test_mnist = MNIST(root='../../datasets', train=False, download=False)"
   ]
  },
  {
   "cell_type": "code",
   "execution_count": 6,
   "metadata": {},
   "outputs": [
    {
     "name": "stdout",
     "output_type": "stream",
     "text": [
      "Train data X shape : (60000, 28, 28), y shape : (60000,)\n",
      "Test data X shape : (10000, 28, 28), y shape : (10000,)\n"
     ]
    }
   ],
   "source": [
    "train_mnist_X, train_mnist_y = train_mnist.data.numpy(), train_mnist.targets.numpy()\n",
    "test_mnist_X, test_mnist_y = test_mnist.data.numpy(), test_mnist.targets.numpy()\n",
    "\n",
    "print(f'Train data X shape : {train_mnist_X.shape}, y shape : {train_mnist_y.shape}')\n",
    "print(f'Test data X shape : {test_mnist_X.shape}, y shape : {test_mnist_y.shape}')"
   ]
  },
  {
   "cell_type": "code",
   "execution_count": 7,
   "metadata": {},
   "outputs": [
    {
     "name": "stdout",
     "output_type": "stream",
     "text": [
      "Mnist Data range [0, 255] \n",
      "--> Mnist Data Normalized range [0.0, 1.0] \n"
     ]
    }
   ],
   "source": [
    "print(f'Mnist Data range [{train_mnist_X.min()}, {train_mnist_X.max()}] ')\n",
    "\n",
    "train_mnist_X, test_mnist_X = train_mnist_X / 255., test_mnist_X / 255.\n",
    "\n",
    "print(f'--> Mnist Data Normalized range [{train_mnist_X.min()}, {train_mnist_X.max()}] ')"
   ]
  },
  {
   "cell_type": "markdown",
   "metadata": {},
   "source": [
    "## Sample Images"
   ]
  },
  {
   "cell_type": "code",
   "execution_count": 8,
   "metadata": {},
   "outputs": [
    {
     "data": {
      "image/png": "[encoded data removed]",
      "text/plain": [
       "<Figure size 1080x360 with 10 Axes>"
      ]
     },
     "metadata": {
      "needs_background": "light"
     },
     "output_type": "display_data"
    }
   ],
   "source": [
    "plt.figure(figsize=(15, 5))\n",
    "\n",
    "for i in range(10):\n",
    "    sample_idx = np.where(train_mnist_y == i)[0][0]\n",
    "\n",
    "    sample_image = train_mnist_X[sample_idx]\n",
    "    sample_label = train_mnist_y[sample_idx]\n",
    "\n",
    "    plt.subplot(2, 5, i+1) # nrows, ncolumns, index\n",
    "    plt.title(sample_label)\n",
    "    plt.imshow(sample_image,'gray')\n",
    "plt.show()"
   ]
  },
  {
   "cell_type": "markdown",
   "metadata": {},
   "source": [
    "## Train & Test Data Label Distribution"
   ]
  },
  {
   "cell_type": "code",
   "execution_count": 9,
   "metadata": {},
   "outputs": [
    {
     "data": {
      "image/png": "[encoded data removed]",
      "text/plain": [
       "<Figure size 1080x360 with 2 Axes>"
      ]
     },
     "metadata": {
      "needs_background": "light"
     },
     "output_type": "display_data"
    }
   ],
   "source": [
    "plt.figure(figsize=(15, 5))\n",
    "\n",
    "plt.subplot(1, 2, 1)\n",
    "sns.histplot(train_mnist_y, palette=\"tab10\")\n",
    "plt.title(\"Class Distribution of Mnist Train Dataset\")\n",
    "\n",
    "plt.subplot(1, 2, 2)\n",
    "sns.histplot(test_mnist_y, palette=\"tab10\")\n",
    "plt.title(\"Class Distribution of Mnist Test Dataset\")\n",
    "plt.show()"
   ]
  },
  {
   "cell_type": "markdown",
   "metadata": {},
   "source": [
    "## Preprocessing\n",
    " * Flatten 28 x 28 images to 784 vectors"
   ]
  },
  {
   "cell_type": "code",
   "execution_count": 10,
   "metadata": {},
   "outputs": [
    {
     "name": "stdout",
     "output_type": "stream",
     "text": [
      "Mnist Data shape train : (60000, 28, 28), test : (10000, 28, 28)\n",
      "--> Mnist Data shape train : (60000, 784), test : (10000, 784)\n"
     ]
    }
   ],
   "source": [
    "print(f'Mnist Data shape train : {train_mnist_X.shape}, test : {test_mnist_X.shape}')\n",
    "\n",
    "train_mnist_X = train_mnist_X.reshape(-1, 784)\n",
    "test_mnist_X = test_mnist_X.reshape(-1, 784)\n",
    "\n",
    "print(f'--> Mnist Data shape train : {train_mnist_X.shape}, test : {test_mnist_X.shape}')"
   ]
  },
  {
   "cell_type": "markdown",
   "metadata": {},
   "source": [
    "## Linear Discriminant Analysis (LDA)"
   ]
  },
  {
   "cell_type": "code",
   "execution_count": 13,
   "metadata": {},
   "outputs": [
    {
     "name": "stdout",
     "output_type": "stream",
     "text": [
      "Device ── PC\n",
      "│\n",
      "├──Dataset\n",
      "│    └────Mnist\n",
      "│    └────Train size: 80%\n",
      "│    └────Feature size: 784\n",
      "│\n",
      "├──Method\n",
      "│    └────LDA\n",
      "│    └────k = None\n",
      "│    └────\n",
      "│\n",
      "├──Dimension reduction\n",
      "│    └────Method: None\n",
      "│    └────Component size: None\n",
      "│    └────Feature Reduction Ratio: None%\n",
      "│\n",
      "└──Iteration\n",
      "    └────10\n"
     ]
    }
   ],
   "source": [
    "config = Config()\n",
    "config.info()"
   ]
  },
  {
   "cell_type": "markdown",
   "metadata": {},
   "source": [
    "### LDA run function"
   ]
  },
  {
   "cell_type": "code",
   "execution_count": 44,
   "metadata": {},
   "outputs": [],
   "source": [
    "def lda_run(train_data_X = train_mnist_X,\n",
    "            train_data_y = train_mnist_y,\n",
    "            test_data_X = test_mnist_X,\n",
    "            test_data_y = test_mnist_y,\n",
    "            config = None):\n",
    "\n",
    "    assert config is not None\n",
    "    # config.info()\n",
    "    config.print_rutin()\n",
    "    max_seed = config.iter\n",
    "\n",
    "    avg_test_acc = []\n",
    "    avg_lda_fit_time = []\n",
    "    avg_pred_time = []\n",
    "    preds = []\n",
    "\n",
    "    for seed in tqdm(range(max_seed)):\n",
    "        x_train, x_test, y_train, y_test = train_data_X, test_data_X, train_data_y, test_data_y\n",
    "\n",
    "        lda = LinearDiscriminantAnalysis()\n",
    "\n",
    "        start_time = time.perf_counter()\n",
    "        lda.fit(x_train, y_train)\n",
    "        lda_fit_time = time.perf_counter() - start_time\n",
    "        avg_lda_fit_time.append(lda_fit_time)\n",
    "\n",
    "        start_time = time.perf_counter()\n",
    "        pred = lda.predict(x_test)\n",
    "        pred_time = time.perf_counter() - start_time\n",
    "        preds.append(pred)\n",
    "\n",
    "        test_score = accuracy_score(pred, y_test)\n",
    "        avg_test_acc.append(test_score)\n",
    "        avg_pred_time.append(pred_time)\n",
    "\n",
    "    print(\"Train size : \", len(x_train), \" / Test size : \", len(x_test))\n",
    "    print(\"-----\" * 8)\n",
    "    print(\"Test set score: %.4f ± %.5f\" % (np.array(avg_test_acc).mean(), np.array(avg_test_acc).std()))\n",
    "    print(\"LDA fitting Time: %.5f ± %.6f\" % (np.array(avg_lda_fit_time).mean(), np.array(avg_lda_fit_time).std()), \"sec\")\n",
    "    print(\"All Test dataset Prediction Time at once : %.7f ± %.8f\" % (np.array(avg_pred_time).mean(), np.array(avg_pred_time).std()), \"sec\")\n",
    "    print(\"Divide the Prediction Time by Test size : %.9f ± %.9f\" % (np.array(avg_pred_time).mean()/len(x_test), np.array(avg_pred_time).std()/len(x_test)), \"sec\")\n",
    "\n",
    "    return avg_test_acc, avg_lda_fit_time, avg_pred_time"
   ]
  },
  {
   "cell_type": "code",
   "execution_count": 18,
   "metadata": {},
   "outputs": [
    {
     "name": "stdout",
     "output_type": "stream",
     "text": [
      "PC - Mnist(80%) - LDA - 10 iteration\n"
     ]
    },
    {
     "name": "stderr",
     "output_type": "stream",
     "text": [
      "100%|██████████| 10/10 [00:40<00:00,  4.09s/it]"
     ]
    },
    {
     "name": "stdout",
     "output_type": "stream",
     "text": [
      "Train size :  60000  / Test size :  10000\n",
      "----------------------------------------\n",
      "Test set score: 0.8730 ± 0.00000\n",
      "LDA fitting Time: 4.06746 ± 0.053026 sec\n",
      "All Test dataset Prediction Time at once : 0.0191610 ± 0.00139812 sec\n",
      "Divide the Prediction Time by Test size : 0.000001916 ± 0.000000140 sec\n"
     ]
    },
    {
     "name": "stderr",
     "output_type": "stream",
     "text": [
      "\n"
     ]
    }
   ],
   "source": [
    "avg_test_acc, avg_knn_fit_time, avg_pred_time = lda_run(train_data_X = train_mnist_X,\n",
    "                                                        train_data_y = train_mnist_y,\n",
    "                                                        test_data_X = test_mnist_X,\n",
    "                                                        test_data_y = test_mnist_y,\n",
    "                                                        config = config)"
   ]
  },
  {
   "cell_type": "markdown",
   "metadata": {},
   "source": [
    "### 1개의 Instance를 예측하는데 걸리는 시간 측정 - 10번 반복"
   ]
  },
  {
   "cell_type": "code",
   "execution_count": 20,
   "metadata": {},
   "outputs": [],
   "source": [
    "def lda_run_one_instance(train_data_X = train_mnist_X,\n",
    "            train_data_y = train_mnist_y,\n",
    "            test_data_X = test_mnist_X,\n",
    "            test_data_y = test_mnist_y,\n",
    "            config = None):\n",
    "\n",
    "    assert config is not None\n",
    "    # config.info()\n",
    "    config.print_rutin()\n",
    "    max_seed = config.iter\n",
    "\n",
    "\n",
    "    x_train, x_test, y_train, y_test = train_data_X, test_data_X, train_data_y, test_data_y\n",
    "\n",
    "    lda = LinearDiscriminantAnalysis()\n",
    "\n",
    "    start_time = time.perf_counter()\n",
    "    lda.fit(x_train, y_train)\n",
    "    lda_fit_time = time.perf_counter() - start_time\n",
    "\n",
    "    avg_pred_time = []\n",
    "    preds = []\n",
    "    ys_test = []\n",
    "    count = 0\n",
    "\n",
    "    for x_one, y_one in tqdm(zip(x_test, y_test)):\n",
    "        x_one = x_one.reshape(1, -1)\n",
    "\n",
    "        start = time.perf_counter()\n",
    "        pred = lda.predict(x_one)\n",
    "        pred_time = time.perf_counter() - start\n",
    "        \n",
    "\n",
    "        avg_pred_time.append(pred_time)\n",
    "        preds.append(pred)\n",
    "        ys_test.append(y_one)\n",
    "\n",
    "        count += 1\n",
    "        if count == 10:\n",
    "            break\n",
    "\n",
    "    test_score = accuracy_score(preds, ys_test)\n",
    "    avg_test_acc.append(test_score)\n",
    "    avg_pred_time.append(pred_time)\n",
    "\n",
    "    print(\"Train size : \", len(x_train), \" / Test size : \", 10)\n",
    "    print(\"-----\" * 8)\n",
    "    print(\"Test set score: %f\" % np.array(avg_test_acc).mean())\n",
    "    print(\"LDA fitting Time: %.7f\" % (lda_fit_time), \"sec\")\n",
    "    print(\"One Instance Prediction Average Time : %.9f ± %.9f\" % (np.array(avg_pred_time).mean(), np.array(avg_pred_time).std()), \"sec\")\n",
    "\n",
    "    return avg_test_acc, lda_fit_time, avg_pred_time"
   ]
  },
  {
   "cell_type": "code",
   "execution_count": 21,
   "metadata": {},
   "outputs": [
    {
     "name": "stdout",
     "output_type": "stream",
     "text": [
      "PC - Mnist(80%) - LDA - 10 iteration\n"
     ]
    },
    {
     "name": "stderr",
     "output_type": "stream",
     "text": [
      "9it [00:00, 8987.79it/s]"
     ]
    },
    {
     "name": "stdout",
     "output_type": "stream",
     "text": [
      "Train size :  60000  / Test size :  10\n",
      "----------------------------------------\n",
      "Test set score: 0.884545\n",
      "LDA fitting Time: 4.0216707 sec\n",
      "One Instance Prediction Average Time : 0.000056973 ± 0.000029262 sec\n"
     ]
    },
    {
     "name": "stderr",
     "output_type": "stream",
     "text": [
      "\n"
     ]
    }
   ],
   "source": [
    "avg_test_acc, knn_fit_time, avg_pred_time = lda_run_one_instance(train_data_X = train_mnist_X,\n",
    "                                                        train_data_y = train_mnist_y,\n",
    "                                                        test_data_X = test_mnist_X,\n",
    "                                                        test_data_y = test_mnist_y,\n",
    "                                                        config = config)"
   ]
  },
  {
   "cell_type": "markdown",
   "metadata": {},
   "source": [
    "## PCA run function"
   ]
  },
  {
   "cell_type": "code",
   "execution_count": 22,
   "metadata": {},
   "outputs": [],
   "source": [
    "def pca_run(train_data_X = train_mnist_X,\n",
    "            test_data_X = test_mnist_X,\n",
    "            config=None):\n",
    "\n",
    "    assert config is not None\n",
    "    config.info()\n",
    "\n",
    "    n_components = config.reduction_method[1]\n",
    "\n",
    "    pca_dims = PCA(n_components)\n",
    "    print(f\"The number of components : {n_components}\")\n",
    "\n",
    "    start_time = time.perf_counter()\n",
    "    pca_dims.fit(train_data_X)\n",
    "    pca_fit_time = time.perf_counter () - start_time\n",
    "    print()\n",
    "    print(f\"Calculating SVD Matrix Time on Train Data-{train_data_X.shape} : {pca_fit_time:4f} sec\")\n",
    "    \n",
    "    start_time = time.perf_counter()\n",
    "    train_features = pca_dims.transform(train_data_X)\n",
    "    train_features_extract_time = time.perf_counter () - start_time\n",
    "    print(f\"Transform train X-{train_data_X.shape} to {n_components}-PCA Time: {train_features_extract_time:4f} sec\")\n",
    "\n",
    "    start_time = time.perf_counter()\n",
    "    test_features = pca_dims.transform(test_data_X)\n",
    "    test_features_extract_time = time.perf_counter () - start_time\n",
    "    print(f\"Transform test X-{train_data_X.shape} to {n_components}-PCA Time: {test_features_extract_time:4f} sec\")\n",
    "\n",
    "    return pca_dims, train_features, test_features, pca_fit_time, train_features_extract_time, test_features_extract_time\n",
    "    "
   ]
  },
  {
   "cell_type": "code",
   "execution_count": 23,
   "metadata": {},
   "outputs": [],
   "source": [
    "n_components_list = []\n",
    "pca_fit_time_list = []\n",
    "train_features_extract_time_list = []\n",
    "test_features_extract_time_list = []"
   ]
  },
  {
   "cell_type": "markdown",
   "metadata": {},
   "source": [
    "### PCA feature 2"
   ]
  },
  {
   "cell_type": "code",
   "execution_count": 24,
   "metadata": {},
   "outputs": [
    {
     "name": "stdout",
     "output_type": "stream",
     "text": [
      "Device ── PC\n",
      "│\n",
      "├──Dataset\n",
      "│    └────Mnist\n",
      "│    └────Train size: 80%\n",
      "│    └────Feature size: 784\n",
      "│\n",
      "├──Method\n",
      "│    └────LDA\n",
      "│    └────k = None\n",
      "│    └────\n",
      "│\n",
      "├──Dimension reduction\n",
      "│    └────Method: PCA\n",
      "│    └────Component size: 2\n",
      "│    └────Feature Reduction Ratio: 0.3%\n",
      "│\n",
      "└──Iteration\n",
      "    └────10\n",
      "The number of components : 2\n",
      "\n",
      "Calculating SVD Matrix Time on Train Data-(60000, 784) : 0.868509 sec\n",
      "Transform train X-(60000, 784) to 2-PCA Time: 0.135040 sec\n",
      "Transform test X-(60000, 784) to 2-PCA Time: 0.024103 sec\n"
     ]
    }
   ],
   "source": [
    "config.reduction_method = ['PCA', 2]\n",
    "\n",
    "pca_dims, train_features, test_features, pca_fit_time, train_features_extract_time, test_features_extract_time = \\\n",
    "    pca_run(train_data_X = train_mnist_X,\n",
    "            test_data_X = test_mnist_X,\n",
    "            config=config)\n",
    "\n",
    "n_components_list.append(config.reduction_method[1])\n",
    "pca_fit_time_list.append(pca_fit_time)\n",
    "train_features_extract_time_list.append(train_features_extract_time)\n",
    "test_features_extract_time_list.append(test_features_extract_time)"
   ]
  },
  {
   "cell_type": "markdown",
   "metadata": {},
   "source": [
    "* 2 PCA features - LDA run"
   ]
  },
  {
   "cell_type": "code",
   "execution_count": 25,
   "metadata": {},
   "outputs": [
    {
     "name": "stdout",
     "output_type": "stream",
     "text": [
      "PC - Mnist(80%) - LDA - 10 iteration - PCA(feature 2)\n"
     ]
    },
    {
     "name": "stderr",
     "output_type": "stream",
     "text": [
      "100%|██████████| 10/10 [00:00<00:00, 45.05it/s]"
     ]
    },
    {
     "name": "stdout",
     "output_type": "stream",
     "text": [
      "Train size :  60000  / Test size :  10000\n",
      "----------------------------------------\n",
      "Test set score: 0.4429 ± 0.00000\n",
      "LDA fitting Time: 0.01845 ± 0.003086 sec\n",
      "All Test dataset Prediction Time at once : 0.0031661 ± 0.00770763 sec\n",
      "Divide the Prediction Time by Test size : 0.000000317 ± 0.000000771 sec\n"
     ]
    },
    {
     "name": "stderr",
     "output_type": "stream",
     "text": [
      "\n"
     ]
    }
   ],
   "source": [
    "avg_test_acc, avg_knn_fit_time, avg_pred_time = lda_run(train_data_X = train_features,\n",
    "                                                        train_data_y = train_mnist_y,\n",
    "                                                        test_data_X = test_features,\n",
    "                                                        test_data_y = test_mnist_y,\n",
    "                                                        config = config)"
   ]
  },
  {
   "cell_type": "markdown",
   "metadata": {},
   "source": [
    "### PCA feature 3"
   ]
  },
  {
   "cell_type": "code",
   "execution_count": 26,
   "metadata": {},
   "outputs": [
    {
     "name": "stdout",
     "output_type": "stream",
     "text": [
      "Device ── PC\n",
      "│\n",
      "├──Dataset\n",
      "│    └────Mnist\n",
      "│    └────Train size: 80%\n",
      "│    └────Feature size: 784\n",
      "│\n",
      "├──Method\n",
      "│    └────LDA\n",
      "│    └────k = None\n",
      "│    └────\n",
      "│\n",
      "├──Dimension reduction\n",
      "│    └────Method: PCA\n",
      "│    └────Component size: 3\n",
      "│    └────Feature Reduction Ratio: 0.4%\n",
      "│\n",
      "└──Iteration\n",
      "    └────10\n",
      "The number of components : 3\n",
      "\n",
      "Calculating SVD Matrix Time on Train Data-(60000, 784) : 1.025415 sec\n",
      "Transform train X-(60000, 784) to 3-PCA Time: 0.130769 sec\n",
      "Transform test X-(60000, 784) to 3-PCA Time: 0.023874 sec\n"
     ]
    }
   ],
   "source": [
    "config.reduction_method = ['PCA', 3]\n",
    "\n",
    "pca_dims, train_features, test_features, pca_fit_time, train_features_extract_time, test_features_extract_time = \\\n",
    "    pca_run(train_data_X = train_mnist_X,\n",
    "            test_data_X = test_mnist_X,\n",
    "            config=config)\n",
    "\n",
    "n_components_list.append(config.reduction_method[1])\n",
    "pca_fit_time_list.append(pca_fit_time)\n",
    "train_features_extract_time_list.append(train_features_extract_time)\n",
    "test_features_extract_time_list.append(test_features_extract_time)"
   ]
  },
  {
   "cell_type": "markdown",
   "metadata": {},
   "source": [
    "* 3 PCA features - LDA run"
   ]
  },
  {
   "cell_type": "code",
   "execution_count": 27,
   "metadata": {},
   "outputs": [
    {
     "name": "stdout",
     "output_type": "stream",
     "text": [
      "PC - Mnist(80%) - LDA - 10 iteration - PCA(feature 3)\n"
     ]
    },
    {
     "name": "stderr",
     "output_type": "stream",
     "text": [
      "100%|██████████| 10/10 [00:00<00:00, 37.59it/s]"
     ]
    },
    {
     "name": "stdout",
     "output_type": "stream",
     "text": [
      "Train size :  60000  / Test size :  10000\n",
      "----------------------------------------\n",
      "Test set score: 0.4660 ± 0.00000\n",
      "LDA fitting Time: 0.02531 ± 0.003723 sec\n",
      "All Test dataset Prediction Time at once : 0.0007214 ± 0.00006184 sec\n",
      "Divide the Prediction Time by Test size : 0.000000072 ± 0.000000006 sec\n"
     ]
    },
    {
     "name": "stderr",
     "output_type": "stream",
     "text": [
      "\n"
     ]
    }
   ],
   "source": [
    "avg_test_acc, avg_knn_fit_time, avg_pred_time = lda_run(train_data_X = train_features,\n",
    "                                                        train_data_y = train_mnist_y,\n",
    "                                                        test_data_X = test_features,\n",
    "                                                        test_data_y = test_mnist_y,\n",
    "                                                        config = config)"
   ]
  },
  {
   "cell_type": "markdown",
   "metadata": {},
   "source": [
    "### PCA feature 5"
   ]
  },
  {
   "cell_type": "code",
   "execution_count": 28,
   "metadata": {},
   "outputs": [
    {
     "name": "stdout",
     "output_type": "stream",
     "text": [
      "Device ── PC\n",
      "│\n",
      "├──Dataset\n",
      "│    └────Mnist\n",
      "│    └────Train size: 80%\n",
      "│    └────Feature size: 784\n",
      "│\n",
      "├──Method\n",
      "│    └────LDA\n",
      "│    └────k = None\n",
      "│    └────\n",
      "│\n",
      "├──Dimension reduction\n",
      "│    └────Method: PCA\n",
      "│    └────Component size: 5\n",
      "│    └────Feature Reduction Ratio: 0.6%\n",
      "│\n",
      "└──Iteration\n",
      "    └────10\n",
      "The number of components : 5\n",
      "\n",
      "Calculating SVD Matrix Time on Train Data-(60000, 784) : 1.148378 sec\n",
      "Transform train X-(60000, 784) to 5-PCA Time: 0.136307 sec\n",
      "Transform test X-(60000, 784) to 5-PCA Time: 0.029474 sec\n"
     ]
    }
   ],
   "source": [
    "config.reduction_method = ['PCA', 5]\n",
    "\n",
    "pca_dims, train_features, test_features, pca_fit_time, train_features_extract_time, test_features_extract_time = \\\n",
    "    pca_run(train_data_X = train_mnist_X,\n",
    "            test_data_X = test_mnist_X,\n",
    "            config=config)\n",
    "\n",
    "n_components_list.append(config.reduction_method[1])\n",
    "pca_fit_time_list.append(pca_fit_time)\n",
    "train_features_extract_time_list.append(train_features_extract_time)\n",
    "test_features_extract_time_list.append(test_features_extract_time)"
   ]
  },
  {
   "cell_type": "markdown",
   "metadata": {},
   "source": [
    "* 5 PCA features - LDA run"
   ]
  },
  {
   "cell_type": "code",
   "execution_count": 29,
   "metadata": {},
   "outputs": [
    {
     "name": "stdout",
     "output_type": "stream",
     "text": [
      "PC - Mnist(80%) - LDA - 10 iteration - PCA(feature 5)\n"
     ]
    },
    {
     "name": "stderr",
     "output_type": "stream",
     "text": [
      "100%|██████████| 10/10 [00:00<00:00, 30.86it/s]"
     ]
    },
    {
     "name": "stdout",
     "output_type": "stream",
     "text": [
      "Train size :  60000  / Test size :  10000\n",
      "----------------------------------------\n",
      "Test set score: 0.6649 ± 0.00000\n",
      "LDA fitting Time: 0.03106 ± 0.004064 sec\n",
      "All Test dataset Prediction Time at once : 0.0006992 ± 0.00006726 sec\n",
      "Divide the Prediction Time by Test size : 0.000000070 ± 0.000000007 sec\n"
     ]
    },
    {
     "name": "stderr",
     "output_type": "stream",
     "text": [
      "\n"
     ]
    }
   ],
   "source": [
    "avg_test_acc, avg_knn_fit_time, avg_pred_time = lda_run(train_data_X = train_features,\n",
    "                                                        train_data_y = train_mnist_y,\n",
    "                                                        test_data_X = test_features,\n",
    "                                                        test_data_y = test_mnist_y,\n",
    "                                                        config = config)"
   ]
  },
  {
   "cell_type": "markdown",
   "metadata": {},
   "source": [
    "### PCA feature 26"
   ]
  },
  {
   "cell_type": "code",
   "execution_count": 30,
   "metadata": {},
   "outputs": [
    {
     "name": "stdout",
     "output_type": "stream",
     "text": [
      "Device ── PC\n",
      "│\n",
      "├──Dataset\n",
      "│    └────Mnist\n",
      "│    └────Train size: 80%\n",
      "│    └────Feature size: 784\n",
      "│\n",
      "├──Method\n",
      "│    └────LDA\n",
      "│    └────k = None\n",
      "│    └────\n",
      "│\n",
      "├──Dimension reduction\n",
      "│    └────Method: PCA\n",
      "│    └────Component size: 26\n",
      "│    └────Feature Reduction Ratio: 3.3000000000000003%\n",
      "│\n",
      "└──Iteration\n",
      "    └────10\n",
      "The number of components : 26\n",
      "\n",
      "Calculating SVD Matrix Time on Train Data-(60000, 784) : 1.060553 sec\n",
      "Transform train X-(60000, 784) to 26-PCA Time: 0.190896 sec\n",
      "Transform test X-(60000, 784) to 26-PCA Time: 0.034739 sec\n"
     ]
    }
   ],
   "source": [
    "config.reduction_method = ['PCA', 26]\n",
    "\n",
    "pca_dims, train_features, test_features, pca_fit_time, train_features_extract_time, test_features_extract_time = \\\n",
    "    pca_run(train_data_X = train_mnist_X,\n",
    "            test_data_X = test_mnist_X,\n",
    "            config=config)\n",
    "\n",
    "n_components_list.append(config.reduction_method[1])\n",
    "pca_fit_time_list.append(pca_fit_time)\n",
    "train_features_extract_time_list.append(train_features_extract_time)\n",
    "test_features_extract_time_list.append(test_features_extract_time)"
   ]
  },
  {
   "cell_type": "markdown",
   "metadata": {},
   "source": [
    "* 26 PCA features - LDA run"
   ]
  },
  {
   "cell_type": "code",
   "execution_count": 31,
   "metadata": {},
   "outputs": [
    {
     "name": "stdout",
     "output_type": "stream",
     "text": [
      "PC - Mnist(80%) - LDA - 10 iteration - PCA(feature 26)\n"
     ]
    },
    {
     "name": "stderr",
     "output_type": "stream",
     "text": [
      "100%|██████████| 10/10 [00:01<00:00,  7.89it/s]"
     ]
    },
    {
     "name": "stdout",
     "output_type": "stream",
     "text": [
      "Train size :  60000  / Test size :  10000\n",
      "----------------------------------------\n",
      "Test set score: 0.8573 ± 0.00000\n",
      "LDA fitting Time: 0.12441 ± 0.015050 sec\n",
      "All Test dataset Prediction Time at once : 0.0011601 ± 0.00012171 sec\n",
      "Divide the Prediction Time by Test size : 0.000000116 ± 0.000000012 sec\n"
     ]
    },
    {
     "name": "stderr",
     "output_type": "stream",
     "text": [
      "\n"
     ]
    }
   ],
   "source": [
    "avg_test_acc, avg_knn_fit_time, avg_pred_time = lda_run(train_data_X = train_features,\n",
    "                                                        train_data_y = train_mnist_y,\n",
    "                                                        test_data_X = test_features,\n",
    "                                                        test_data_y = test_mnist_y,\n",
    "                                                        config = config)"
   ]
  },
  {
   "cell_type": "markdown",
   "metadata": {},
   "source": [
    "### PCA feature 43"
   ]
  },
  {
   "cell_type": "code",
   "execution_count": 32,
   "metadata": {},
   "outputs": [
    {
     "name": "stdout",
     "output_type": "stream",
     "text": [
      "Device ── PC\n",
      "│\n",
      "├──Dataset\n",
      "│    └────Mnist\n",
      "│    └────Train size: 80%\n",
      "│    └────Feature size: 784\n",
      "│\n",
      "├──Method\n",
      "│    └────LDA\n",
      "│    └────k = None\n",
      "│    └────\n",
      "│\n",
      "├──Dimension reduction\n",
      "│    └────Method: PCA\n",
      "│    └────Component size: 43\n",
      "│    └────Feature Reduction Ratio: 5.5%\n",
      "│\n",
      "└──Iteration\n",
      "    └────10\n",
      "The number of components : 43\n",
      "\n",
      "Calculating SVD Matrix Time on Train Data-(60000, 784) : 1.499132 sec\n",
      "Transform train X-(60000, 784) to 43-PCA Time: 0.198164 sec\n",
      "Transform test X-(60000, 784) to 43-PCA Time: 0.035455 sec\n"
     ]
    }
   ],
   "source": [
    "config.reduction_method = ['PCA', 43]\n",
    "\n",
    "pca_dims, train_features, test_features, pca_fit_time, train_features_extract_time, test_features_extract_time = \\\n",
    "    pca_run(train_data_X = train_mnist_X,\n",
    "            test_data_X = test_mnist_X,\n",
    "            config=config)\n",
    "\n",
    "n_components_list.append(config.reduction_method[1])\n",
    "pca_fit_time_list.append(pca_fit_time)\n",
    "train_features_extract_time_list.append(train_features_extract_time)\n",
    "test_features_extract_time_list.append(test_features_extract_time)"
   ]
  },
  {
   "cell_type": "markdown",
   "metadata": {},
   "source": [
    "* 43 PCA features - LDA run"
   ]
  },
  {
   "cell_type": "code",
   "execution_count": 33,
   "metadata": {},
   "outputs": [
    {
     "name": "stdout",
     "output_type": "stream",
     "text": [
      "PC - Mnist(80%) - LDA - 10 iteration - PCA(feature 43)\n"
     ]
    },
    {
     "name": "stderr",
     "output_type": "stream",
     "text": [
      "100%|██████████| 10/10 [00:02<00:00,  4.91it/s]"
     ]
    },
    {
     "name": "stdout",
     "output_type": "stream",
     "text": [
      "Train size :  60000  / Test size :  10000\n",
      "----------------------------------------\n",
      "Test set score: 0.8720 ± 0.00000\n",
      "LDA fitting Time: 0.20086 ± 0.016909 sec\n",
      "All Test dataset Prediction Time at once : 0.0015270 ± 0.00022371 sec\n",
      "Divide the Prediction Time by Test size : 0.000000153 ± 0.000000022 sec\n"
     ]
    },
    {
     "name": "stderr",
     "output_type": "stream",
     "text": [
      "\n"
     ]
    }
   ],
   "source": [
    "avg_test_acc, avg_knn_fit_time, avg_pred_time = lda_run(train_data_X = train_features,\n",
    "                                                        train_data_y = train_mnist_y,\n",
    "                                                        test_data_X = test_features,\n",
    "                                                        test_data_y = test_mnist_y,\n",
    "                                                        config = config)"
   ]
  },
  {
   "cell_type": "markdown",
   "metadata": {},
   "source": [
    "## LDA Dimension Reduction run function"
   ]
  },
  {
   "cell_type": "code",
   "execution_count": 41,
   "metadata": {},
   "outputs": [],
   "source": [
    "def lda_dim_reduce_run(train_data_X = train_mnist_X,\n",
    "            train_data_y = train_mnist_y,\n",
    "            test_data_X = test_mnist_X,\n",
    "            config=None):\n",
    "\n",
    "    assert config is not None\n",
    "    config.info()\n",
    "\n",
    "    n_components = config.reduction_method[1]\n",
    "\n",
    "    lda_dims = LinearDiscriminantAnalysis(n_components=n_components)\n",
    "    print(f\"The number of components : {n_components}\")\n",
    "\n",
    "    start_time = time.perf_counter()\n",
    "    lda_dims.fit(train_data_X, train_data_y)\n",
    "    lda_fit_time = time.perf_counter () - start_time\n",
    "    print()\n",
    "    print(f\"Calculating LDA Matrix Time on Train Data-{train_data_X.shape} : {lda_fit_time:4f} sec\")\n",
    "    \n",
    "    start_time = time.perf_counter()\n",
    "    train_features = lda_dims.transform(train_data_X)\n",
    "    train_features_extract_time = time.perf_counter () - start_time\n",
    "    print(f\"Transform train X-{train_data_X.shape} to {n_components}-LDA Time: {train_features_extract_time:4f} sec\")\n",
    "\n",
    "    start_time = time.perf_counter()\n",
    "    test_features = lda_dims.transform(test_data_X)\n",
    "    test_features_extract_time = time.perf_counter () - start_time\n",
    "    print(f\"Transform test X-{train_data_X.shape} to {n_components}-LDA Time: {test_features_extract_time:4f} sec\")\n",
    "\n",
    "    return lda_dims, train_features, test_features, lda_fit_time, train_features_extract_time, test_features_extract_time"
   ]
  },
  {
   "cell_type": "code",
   "execution_count": 42,
   "metadata": {},
   "outputs": [],
   "source": [
    "n_components_list = []\n",
    "lda_fit_time_list = []\n",
    "train_features_extract_time_list = []\n",
    "test_features_extract_time_list = []"
   ]
  },
  {
   "cell_type": "markdown",
   "metadata": {},
   "source": [
    "### LDA feature 2"
   ]
  },
  {
   "cell_type": "code",
   "execution_count": 43,
   "metadata": {},
   "outputs": [
    {
     "name": "stdout",
     "output_type": "stream",
     "text": [
      "Device ── PC\n",
      "│\n",
      "├──Dataset\n",
      "│    └────Mnist\n",
      "│    └────Train size: 80%\n",
      "│    └────Feature size: 784\n",
      "│\n",
      "├──Method\n",
      "│    └────LDA\n",
      "│    └────k = None\n",
      "│    └────\n",
      "│\n",
      "├──Dimension reduction\n",
      "│    └────Method: LDA\n",
      "│    └────Component size: 2\n",
      "│    └────Feature Reduction Ratio: 0.3%\n",
      "│\n",
      "└──Iteration\n",
      "    └────10\n",
      "The number of components : 2\n",
      "\n",
      "Calculating LDA Matrix Time on Train Data-(60000, 784) : 4.043318 sec\n",
      "Transform train X-(60000, 784) to 2-LDA Time: 0.163304 sec\n",
      "Transform test X-(60000, 784) to 2-LDA Time: 0.025337 sec\n"
     ]
    }
   ],
   "source": [
    "config.reduction_method = ['LDA', 2]\n",
    "\n",
    "lda_dims, train_features, test_features, lda_fit_time, train_features_extract_time, test_features_extract_time = \\\n",
    "    lda_dim_reduce_run(train_data_X = train_mnist_X,\n",
    "            test_data_X = test_mnist_X,\n",
    "            config=config)\n",
    "\n",
    "n_components_list.append(config.reduction_method[1])\n",
    "lda_fit_time_list.append(lda_fit_time)\n",
    "train_features_extract_time_list.append(train_features_extract_time)\n",
    "test_features_extract_time_list.append(test_features_extract_time)"
   ]
  },
  {
   "cell_type": "markdown",
   "metadata": {},
   "source": [
    "* 2 LDA features - LDA run"
   ]
  },
  {
   "cell_type": "code",
   "execution_count": 45,
   "metadata": {},
   "outputs": [
    {
     "name": "stdout",
     "output_type": "stream",
     "text": [
      "PC - Mnist(80%) - LDA - 10 iteration - LDA(feature 2)\n"
     ]
    },
    {
     "name": "stderr",
     "output_type": "stream",
     "text": [
      "100%|██████████| 10/10 [00:00<00:00, 50.00it/s]"
     ]
    },
    {
     "name": "stdout",
     "output_type": "stream",
     "text": [
      "Train size :  60000  / Test size :  10000\n",
      "----------------------------------------\n",
      "Test set score: 0.5413 ± 0.00000\n",
      "LDA fitting Time: 0.01888 ± 0.003517 sec\n",
      "All Test dataset Prediction Time at once : 0.0005982 ± 0.00005116 sec\n",
      "Divide the Prediction Time by Test size : 0.000000060 ± 0.000000005 sec\n"
     ]
    },
    {
     "name": "stderr",
     "output_type": "stream",
     "text": [
      "\n"
     ]
    }
   ],
   "source": [
    "avg_test_acc, avg_knn_fit_time, avg_pred_time = lda_run(train_data_X = train_features,\n",
    "                                                        train_data_y = train_mnist_y,\n",
    "                                                        test_data_X = test_features,\n",
    "                                                        test_data_y = test_mnist_y,\n",
    "                                                        config = config)"
   ]
  },
  {
   "cell_type": "markdown",
   "metadata": {},
   "source": [
    "### LDA feature 3"
   ]
  },
  {
   "cell_type": "code",
   "execution_count": 46,
   "metadata": {},
   "outputs": [
    {
     "name": "stdout",
     "output_type": "stream",
     "text": [
      "Device ── PC\n",
      "│\n",
      "├──Dataset\n",
      "│    └────Mnist\n",
      "│    └────Train size: 80%\n",
      "│    └────Feature size: 784\n",
      "│\n",
      "├──Method\n",
      "│    └────LDA\n",
      "│    └────k = None\n",
      "│    └────\n",
      "│\n",
      "├──Dimension reduction\n",
      "│    └────Method: LDA\n",
      "│    └────Component size: 3\n",
      "│    └────Feature Reduction Ratio: 0.4%\n",
      "│\n",
      "└──Iteration\n",
      "    └────10\n",
      "The number of components : 3\n",
      "\n",
      "Calculating LDA Matrix Time on Train Data-(60000, 784) : 3.969281 sec\n",
      "Transform train X-(60000, 784) to 3-LDA Time: 0.138923 sec\n",
      "Transform test X-(60000, 784) to 3-LDA Time: 0.026120 sec\n"
     ]
    }
   ],
   "source": [
    "config.reduction_method = ['LDA', 3]\n",
    "\n",
    "lda_dims, train_features, test_features, lda_fit_time, train_features_extract_time, test_features_extract_time = \\\n",
    "    lda_dim_reduce_run(train_data_X = train_mnist_X,\n",
    "            test_data_X = test_mnist_X,\n",
    "            config=config)\n",
    "\n",
    "n_components_list.append(config.reduction_method[1])\n",
    "lda_fit_time_list.append(lda_fit_time)\n",
    "train_features_extract_time_list.append(train_features_extract_time)\n",
    "test_features_extract_time_list.append(test_features_extract_time)"
   ]
  },
  {
   "cell_type": "markdown",
   "metadata": {},
   "source": [
    "* 3 LDA features - LDA run"
   ]
  },
  {
   "cell_type": "code",
   "execution_count": 47,
   "metadata": {},
   "outputs": [
    {
     "name": "stdout",
     "output_type": "stream",
     "text": [
      "PC - Mnist(80%) - LDA - 10 iteration - LDA(feature 3)\n"
     ]
    },
    {
     "name": "stderr",
     "output_type": "stream",
     "text": [
      "100%|██████████| 10/10 [00:00<00:00, 41.67it/s]"
     ]
    },
    {
     "name": "stdout",
     "output_type": "stream",
     "text": [
      "Train size :  60000  / Test size :  10000\n",
      "----------------------------------------\n",
      "Test set score: 0.7273 ± 0.00000\n",
      "LDA fitting Time: 0.02269 ± 0.003671 sec\n",
      "All Test dataset Prediction Time at once : 0.0007002 ± 0.00010844 sec\n",
      "Divide the Prediction Time by Test size : 0.000000070 ± 0.000000011 sec\n"
     ]
    },
    {
     "name": "stderr",
     "output_type": "stream",
     "text": [
      "\n"
     ]
    }
   ],
   "source": [
    "avg_test_acc, avg_knn_fit_time, avg_pred_time = lda_run(train_data_X = train_features,\n",
    "                                                        train_data_y = train_mnist_y,\n",
    "                                                        test_data_X = test_features,\n",
    "                                                        test_data_y = test_mnist_y,\n",
    "                                                        config = config)"
   ]
  },
  {
   "cell_type": "markdown",
   "metadata": {},
   "source": [
    "### LDA feature 5"
   ]
  },
  {
   "cell_type": "code",
   "execution_count": 48,
   "metadata": {},
   "outputs": [
    {
     "name": "stdout",
     "output_type": "stream",
     "text": [
      "Device ── PC\n",
      "│\n",
      "├──Dataset\n",
      "│    └────Mnist\n",
      "│    └────Train size: 80%\n",
      "│    └────Feature size: 784\n",
      "│\n",
      "├──Method\n",
      "│    └────LDA\n",
      "│    └────k = None\n",
      "│    └────\n",
      "│\n",
      "├──Dimension reduction\n",
      "│    └────Method: LDA\n",
      "│    └────Component size: 5\n",
      "│    └────Feature Reduction Ratio: 0.6%\n",
      "│\n",
      "└──Iteration\n",
      "    └────10\n",
      "The number of components : 5\n",
      "\n",
      "Calculating LDA Matrix Time on Train Data-(60000, 784) : 4.011894 sec\n",
      "Transform train X-(60000, 784) to 5-LDA Time: 0.156159 sec\n",
      "Transform test X-(60000, 784) to 5-LDA Time: 0.027104 sec\n"
     ]
    }
   ],
   "source": [
    "config.reduction_method = ['LDA', 5]\n",
    "\n",
    "lda_dims, train_features, test_features, lda_fit_time, train_features_extract_time, test_features_extract_time = \\\n",
    "    lda_dim_reduce_run(train_data_X = train_mnist_X,\n",
    "            test_data_X = test_mnist_X,\n",
    "            config=config)\n",
    "\n",
    "n_components_list.append(config.reduction_method[1])\n",
    "lda_fit_time_list.append(lda_fit_time)\n",
    "train_features_extract_time_list.append(train_features_extract_time)\n",
    "test_features_extract_time_list.append(test_features_extract_time)"
   ]
  },
  {
   "cell_type": "markdown",
   "metadata": {},
   "source": [
    "* 5 LDA features - LDA run"
   ]
  },
  {
   "cell_type": "code",
   "execution_count": 49,
   "metadata": {},
   "outputs": [
    {
     "name": "stdout",
     "output_type": "stream",
     "text": [
      "PC - Mnist(80%) - LDA - 10 iteration - LDA(feature 5)\n"
     ]
    },
    {
     "name": "stderr",
     "output_type": "stream",
     "text": [
      "100%|██████████| 10/10 [00:00<00:00, 29.85it/s]"
     ]
    },
    {
     "name": "stdout",
     "output_type": "stream",
     "text": [
      "Train size :  60000  / Test size :  10000\n",
      "----------------------------------------\n",
      "Test set score: 0.8135 ± 0.00000\n",
      "LDA fitting Time: 0.03203 ± 0.005032 sec\n",
      "All Test dataset Prediction Time at once : 0.0007808 ± 0.00005942 sec\n",
      "Divide the Prediction Time by Test size : 0.000000078 ± 0.000000006 sec\n"
     ]
    },
    {
     "name": "stderr",
     "output_type": "stream",
     "text": [
      "\n"
     ]
    }
   ],
   "source": [
    "avg_test_acc, avg_knn_fit_time, avg_pred_time = lda_run(train_data_X = train_features,\n",
    "                                                        train_data_y = train_mnist_y,\n",
    "                                                        test_data_X = test_features,\n",
    "                                                        test_data_y = test_mnist_y,\n",
    "                                                        config = config)"
   ]
  },
  {
   "cell_type": "markdown",
   "metadata": {},
   "source": [
    "### LDA feature 9"
   ]
  },
  {
   "cell_type": "code",
   "execution_count": 50,
   "metadata": {},
   "outputs": [
    {
     "name": "stdout",
     "output_type": "stream",
     "text": [
      "Device ── PC\n",
      "│\n",
      "├──Dataset\n",
      "│    └────Mnist\n",
      "│    └────Train size: 80%\n",
      "│    └────Feature size: 784\n",
      "│\n",
      "├──Method\n",
      "│    └────LDA\n",
      "│    └────k = None\n",
      "│    └────\n",
      "│\n",
      "├──Dimension reduction\n",
      "│    └────Method: LDA\n",
      "│    └────Component size: 9\n",
      "│    └────Feature Reduction Ratio: 1.0999999999999999%\n",
      "│\n",
      "└──Iteration\n",
      "    └────10\n",
      "The number of components : 9\n",
      "\n",
      "Calculating LDA Matrix Time on Train Data-(60000, 784) : 4.083448 sec\n",
      "Transform train X-(60000, 784) to 9-LDA Time: 0.151158 sec\n",
      "Transform test X-(60000, 784) to 9-LDA Time: 0.025879 sec\n"
     ]
    }
   ],
   "source": [
    "config.reduction_method = ['LDA', 9]\n",
    "\n",
    "lda_dims, train_features, test_features, lda_fit_time, train_features_extract_time, test_features_extract_time = \\\n",
    "    lda_dim_reduce_run(train_data_X = train_mnist_X,\n",
    "            test_data_X = test_mnist_X,\n",
    "            config=config)\n",
    "\n",
    "n_components_list.append(config.reduction_method[1])\n",
    "lda_fit_time_list.append(lda_fit_time)\n",
    "train_features_extract_time_list.append(train_features_extract_time)\n",
    "test_features_extract_time_list.append(test_features_extract_time)"
   ]
  },
  {
   "cell_type": "markdown",
   "metadata": {},
   "source": [
    "* 9 LDA features - LDA run"
   ]
  },
  {
   "cell_type": "code",
   "execution_count": 51,
   "metadata": {},
   "outputs": [
    {
     "name": "stdout",
     "output_type": "stream",
     "text": [
      "PC - Mnist(80%) - LDA - 10 iteration - LDA(feature 9)\n"
     ]
    },
    {
     "name": "stderr",
     "output_type": "stream",
     "text": [
      "100%|██████████| 10/10 [00:00<00:00, 19.92it/s]"
     ]
    },
    {
     "name": "stdout",
     "output_type": "stream",
     "text": [
      "Train size :  60000  / Test size :  10000\n",
      "----------------------------------------\n",
      "Test set score: 0.8730 ± 0.00000\n",
      "LDA fitting Time: 0.04863 ± 0.006027 sec\n",
      "All Test dataset Prediction Time at once : 0.0008727 ± 0.00007757 sec\n",
      "Divide the Prediction Time by Test size : 0.000000087 ± 0.000000008 sec\n"
     ]
    },
    {
     "name": "stderr",
     "output_type": "stream",
     "text": [
      "\n"
     ]
    }
   ],
   "source": [
    "avg_test_acc, avg_knn_fit_time, avg_pred_time = lda_run(train_data_X = train_features,\n",
    "                                                        train_data_y = train_mnist_y,\n",
    "                                                        test_data_X = test_features,\n",
    "                                                        test_data_y = test_mnist_y,\n",
    "                                                        config = config)"
   ]
  },
  {
   "cell_type": "code",
   "execution_count": null,
   "metadata": {},
   "outputs": [],
   "source": []
  }
 ],
 "metadata": {
  "interpreter": {
   "hash": "96617a4ccdf4ff8af9cb4fdc6a0e520bbd799675b4cf9420cbe414d64a946884"
  },
  "kernelspec": {
   "display_name": "Python 3.9.7 ('tf-venv')",
   "language": "python",
   "name": "python3"
  },
  "language_info": {
   "codemirror_mode": {
    "name": "ipython",
    "version": 3
   },
   "file_extension": ".py",
   "mimetype": "text/x-python",
   "name": "python",
   "nbconvert_exporter": "python",
   "pygments_lexer": "ipython3",
   "version": "3.9.7"
  },
  "orig_nbformat": 4
 },
 "nbformat": 4,
 "nbformat_minor": 2
}
