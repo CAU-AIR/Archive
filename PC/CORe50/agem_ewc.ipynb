{
 "cells": [
  {
   "cell_type": "code",
   "execution_count": 17,
   "metadata": {},
   "outputs": [],
   "source": [
    "import torch\n",
    "from torch.nn import CrossEntropyLoss\n",
    "from torch.optim import SGD\n",
    "\n",
    "from avalanche.benchmarks.classic import CORe50\n",
    "from avalanche.models import SimpleCNN\n",
    "\n",
    "from avalanche.training.plugins import AGEMPlugin, EWCPlugin\n",
    "#from avalanche.training.strategies import BaseStrategy  # 'training.strategies' was deleted\n",
    "from avalanche.training.templates.supervised import SupervisedTemplate  #??\n",
    "\n",
    "from avalanche.logging import InteractiveLogger\n",
    "from avalanche.logging.text_logging import TextLogger\n",
    "from avalanche.training.plugins import EvaluationPlugin\n",
    "from avalanche.evaluation.metrics import (\n",
    "    accuracy_metrics,\n",
    "    forgetting_metrics,\n",
    "    cpu_usage_metrics,\n",
    "    gpu_usage_metrics,\n",
    "    ram_usage_metrics,\n",
    "    timing_metrics,\n",
    ")"
   ]
  },
  {
   "cell_type": "code",
   "execution_count": 9,
   "metadata": {},
   "outputs": [
    {
     "name": "stderr",
     "output_type": "stream",
     "text": [
      "E:\\python\\CL\\avalanche_root\\avalanche\\training\\plugins\\evaluation.py:81: UserWarning: No benchmark provided to the evaluation plugin. Metrics may be computed on inconsistent portion of streams, use at your own risk.\n",
      "  warnings.warn(\n"
     ]
    },
    {
     "name": "stdout",
     "output_type": "stream",
     "text": [
      "Loading labels...\n",
      "Loading LUP...\n",
      "Loading labels names...\n",
      "Files already downloaded and verified\n"
     ]
    }
   ],
   "source": [
    "# Config\n",
    "device = torch.device(\"cuda:0\" if torch.cuda.is_available() else \"cpu\")\n",
    "\n",
    "# Eval_metics\n",
    "eval_plugin = EvaluationPlugin(\n",
    "    accuracy_metrics(minibatch=True, epoch=True, experience=True, stream=True),\n",
    "    forgetting_metrics(experience=True, stream=True),\n",
    "    cpu_usage_metrics(experience=True),\n",
    "    gpu_usage_metrics(gpu_id=0,experience=True),\n",
    "    ram_usage_metrics(experience=True),\n",
    "    timing_metrics(experience=True),\n",
    "    loggers=[InteractiveLogger(),\n",
    "                TextLogger(open('agem_ewc_results.txt', 'w'))]\n",
    ")\n",
    "\n",
    "# model\n",
    "model = SimpleCNN(num_classes=50)\n",
    "\n",
    "# Prepare for training & testing\n",
    "optimizer = SGD(model.parameters(), lr=0.001, momentum=0.9)\n",
    "criterion = CrossEntropyLoss()\n",
    "\n",
    "# CL Benchmark Creation\n",
    "core50 = CORe50(scenario=\"nc\", mini=True) # original 128x128, mini 32x32\n",
    "# scenario : nbatches\n",
    "# \"ni\": 8, \"nc\": 9, \"nic\": 79, \"nicv2_79\": 79, \"nicv2_196\": 196, \"nicv2_391\": 391\n",
    "train_stream = core50.train_stream\n",
    "test_stream = core50.test_stream"
   ]
  },
  {
   "cell_type": "code",
   "execution_count": 18,
   "metadata": {},
   "outputs": [
    {
     "ename": "TypeError",
     "evalue": "before_training() missing 1 required positional argument: 'strategy'",
     "output_type": "error",
     "traceback": [
      "\u001b[1;31m---------------------------------------------------------------------------\u001b[0m",
      "\u001b[1;31mTypeError\u001b[0m                                 Traceback (most recent call last)",
      "\u001b[1;32me:\\python\\CL\\CORe50\\agem_ewc.ipynb Cell 3'\u001b[0m in \u001b[0;36m<cell line: 17>\u001b[1;34m()\u001b[0m\n\u001b[0;32m     <a href='vscode-notebook-cell:/e%3A/python/CL/CORe50/agem_ewc.ipynb#ch0000002?line=15'>16</a>\u001b[0m results \u001b[39m=\u001b[39m []\n\u001b[0;32m     <a href='vscode-notebook-cell:/e%3A/python/CL/CORe50/agem_ewc.ipynb#ch0000002?line=16'>17</a>\u001b[0m \u001b[39mfor\u001b[39;00m train_exp \u001b[39min\u001b[39;00m train_stream:\n\u001b[1;32m---> <a href='vscode-notebook-cell:/e%3A/python/CL/CORe50/agem_ewc.ipynb#ch0000002?line=17'>18</a>\u001b[0m     cl_strategy\u001b[39m.\u001b[39;49mtrain(train_exp)\n\u001b[0;32m     <a href='vscode-notebook-cell:/e%3A/python/CL/CORe50/agem_ewc.ipynb#ch0000002?line=18'>19</a>\u001b[0m     results\u001b[39m.\u001b[39mappend(cl_strategy\u001b[39m.\u001b[39meval(test_stream))\n",
      "File \u001b[1;32mE:\\python\\CL\\avalanche_root\\avalanche\\training\\templates\\base_sgd.py:130\u001b[0m, in \u001b[0;36mBaseSGDTemplate.train\u001b[1;34m(self, experiences, eval_streams, **kwargs)\u001b[0m\n\u001b[0;32m    <a href='file:///e%3A/python/CL/avalanche_root/avalanche/training/templates/base_sgd.py?line=123'>124</a>\u001b[0m \u001b[39mdef\u001b[39;00m \u001b[39mtrain\u001b[39m(\u001b[39mself\u001b[39m,\n\u001b[0;32m    <a href='file:///e%3A/python/CL/avalanche_root/avalanche/training/templates/base_sgd.py?line=124'>125</a>\u001b[0m           experiences: Union[CLExperience,\n\u001b[0;32m    <a href='file:///e%3A/python/CL/avalanche_root/avalanche/training/templates/base_sgd.py?line=125'>126</a>\u001b[0m                              ExpSequence],\n\u001b[0;32m    <a href='file:///e%3A/python/CL/avalanche_root/avalanche/training/templates/base_sgd.py?line=126'>127</a>\u001b[0m           eval_streams: Optional[Sequence[Union[CLExperience,\n\u001b[0;32m    <a href='file:///e%3A/python/CL/avalanche_root/avalanche/training/templates/base_sgd.py?line=127'>128</a>\u001b[0m                                                 ExpSequence]]] \u001b[39m=\u001b[39m \u001b[39mNone\u001b[39;00m,\n\u001b[0;32m    <a href='file:///e%3A/python/CL/avalanche_root/avalanche/training/templates/base_sgd.py?line=128'>129</a>\u001b[0m           \u001b[39m*\u001b[39m\u001b[39m*\u001b[39mkwargs):\n\u001b[1;32m--> <a href='file:///e%3A/python/CL/avalanche_root/avalanche/training/templates/base_sgd.py?line=129'>130</a>\u001b[0m     \u001b[39msuper\u001b[39;49m()\u001b[39m.\u001b[39;49mtrain(experiences, eval_streams, \u001b[39m*\u001b[39;49m\u001b[39m*\u001b[39;49mkwargs)\n\u001b[0;32m    <a href='file:///e%3A/python/CL/avalanche_root/avalanche/training/templates/base_sgd.py?line=130'>131</a>\u001b[0m     \u001b[39mreturn\u001b[39;00m \u001b[39mself\u001b[39m\u001b[39m.\u001b[39mevaluator\u001b[39m.\u001b[39mget_last_metrics()\n",
      "File \u001b[1;32mE:\\python\\CL\\avalanche_root\\avalanche\\training\\templates\\base.py:103\u001b[0m, in \u001b[0;36mBaseTemplate.train\u001b[1;34m(self, experiences, eval_streams, **kwargs)\u001b[0m\n\u001b[0;32m    <a href='file:///e%3A/python/CL/avalanche_root/avalanche/training/templates/base.py?line=99'>100</a>\u001b[0m     eval_streams \u001b[39m=\u001b[39m [experiences]\n\u001b[0;32m    <a href='file:///e%3A/python/CL/avalanche_root/avalanche/training/templates/base.py?line=100'>101</a>\u001b[0m \u001b[39mself\u001b[39m\u001b[39m.\u001b[39m_eval_streams \u001b[39m=\u001b[39m eval_streams\n\u001b[1;32m--> <a href='file:///e%3A/python/CL/avalanche_root/avalanche/training/templates/base.py?line=102'>103</a>\u001b[0m \u001b[39mself\u001b[39;49m\u001b[39m.\u001b[39;49m_before_training(\u001b[39m*\u001b[39;49m\u001b[39m*\u001b[39;49mkwargs)\n\u001b[0;32m    <a href='file:///e%3A/python/CL/avalanche_root/avalanche/training/templates/base.py?line=104'>105</a>\u001b[0m \u001b[39mfor\u001b[39;00m \u001b[39mself\u001b[39m\u001b[39m.\u001b[39mexperience \u001b[39min\u001b[39;00m experiences:\n\u001b[0;32m    <a href='file:///e%3A/python/CL/avalanche_root/avalanche/training/templates/base.py?line=105'>106</a>\u001b[0m     \u001b[39mself\u001b[39m\u001b[39m.\u001b[39m_before_training_exp(\u001b[39m*\u001b[39m\u001b[39m*\u001b[39mkwargs)\n",
      "File \u001b[1;32mE:\\python\\CL\\avalanche_root\\avalanche\\training\\templates\\base.py:229\u001b[0m, in \u001b[0;36mBaseTemplate._before_training\u001b[1;34m(self, **kwargs)\u001b[0m\n\u001b[0;32m    <a href='file:///e%3A/python/CL/avalanche_root/avalanche/training/templates/base.py?line=227'>228</a>\u001b[0m \u001b[39mdef\u001b[39;00m \u001b[39m_before_training\u001b[39m(\u001b[39mself\u001b[39m, \u001b[39m*\u001b[39m\u001b[39m*\u001b[39mkwargs):\n\u001b[1;32m--> <a href='file:///e%3A/python/CL/avalanche_root/avalanche/training/templates/base.py?line=228'>229</a>\u001b[0m     trigger_plugins(\u001b[39mself\u001b[39;49m, \u001b[39m\"\u001b[39;49m\u001b[39mbefore_training\u001b[39;49m\u001b[39m\"\u001b[39;49m, \u001b[39m*\u001b[39;49m\u001b[39m*\u001b[39;49mkwargs)\n",
      "File \u001b[1;32mE:\\python\\CL\\avalanche_root\\avalanche\\training\\utils.py:35\u001b[0m, in \u001b[0;36mtrigger_plugins\u001b[1;34m(strategy, event, **kwargs)\u001b[0m\n\u001b[0;32m     <a href='file:///e%3A/python/CL/avalanche_root/avalanche/training/utils.py?line=32'>33</a>\u001b[0m \u001b[39mfor\u001b[39;00m p \u001b[39min\u001b[39;00m strategy\u001b[39m.\u001b[39mplugins:\n\u001b[0;32m     <a href='file:///e%3A/python/CL/avalanche_root/avalanche/training/utils.py?line=33'>34</a>\u001b[0m     \u001b[39mif\u001b[39;00m \u001b[39mhasattr\u001b[39m(p, event):\n\u001b[1;32m---> <a href='file:///e%3A/python/CL/avalanche_root/avalanche/training/utils.py?line=34'>35</a>\u001b[0m         \u001b[39mgetattr\u001b[39;49m(p, event)(strategy, \u001b[39m*\u001b[39;49m\u001b[39m*\u001b[39;49mkwargs)\n",
      "\u001b[1;31mTypeError\u001b[0m: before_training() missing 1 required positional argument: 'strategy'"
     ]
    }
   ],
   "source": [
    "# Continual learning strategy\n",
    "agem = AGEMPlugin(patterns_per_experience=100, sample_size=128)\n",
    "ewc = EWCPlugin(ewc_lambda=20e-6)\n",
    "\n",
    "cl_strategy = SupervisedTemplate(\n",
    "    model,\n",
    "    optimizer,\n",
    "    criterion,\n",
    "    train_mb_size=128, train_epochs=10,\n",
    "    eval_mb_size=128, device=device,\n",
    "    evaluator=eval_plugin,\n",
    "    plugins=[AGEMPlugin,EWCPlugin]\n",
    ")\n",
    "\n",
    "# train and test loop over the stream of experiences\n",
    "results = []\n",
    "for train_exp in train_stream:\n",
    "    cl_strategy.train(train_exp)\n",
    "    results.append(cl_strategy.eval(test_stream))"
   ]
  }
 ],
 "metadata": {
  "interpreter": {
   "hash": "3b9ad07d7d65fddcf37adcbcdd85e08fcd77b40a3772f66e7d365878dfaade00"
  },
  "kernelspec": {
   "display_name": "Python 3.8.13 ('avalanche-env')",
   "language": "python",
   "name": "python3"
  },
  "language_info": {
   "codemirror_mode": {
    "name": "ipython",
    "version": 3
   },
   "file_extension": ".py",
   "mimetype": "text/x-python",
   "name": "python",
   "nbconvert_exporter": "python",
   "pygments_lexer": "ipython3",
   "version": "3.8.13"
  },
  "orig_nbformat": 4
 },
 "nbformat": 4,
 "nbformat_minor": 2
}
