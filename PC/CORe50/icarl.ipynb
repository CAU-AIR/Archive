{
 "cells": [
  {
   "cell_type": "code",
   "execution_count": 6,
   "metadata": {},
   "outputs": [],
   "source": [
    "import torch\n",
    "from torch.optim import SGD\n",
    "\n",
    "from avalanche.benchmarks.datasets import CORe50Dataset\n",
    "from avalanche.benchmarks.utils import AvalancheDataset\n",
    "from avalanche.benchmarks.generators import nc_scenario\n",
    "from torchvision.transforms import (\n",
    "    ToTensor,\n",
    "    Normalize,\n",
    "    Compose,\n",
    "    RandomHorizontalFlip,\n",
    ")\n",
    "\n",
    "from avalanche.models import IcarlNet, make_icarl_net, initialize_icarl_net\n",
    "from avalanche.training import ICaRL\n",
    "from avalanche.logging import InteractiveLogger\n",
    "from avalanche.logging.text_logging import TextLogger\n",
    "from avalanche.training.plugins import EvaluationPlugin\n",
    "from avalanche.evaluation.metrics import (\n",
    "    accuracy_metrics,\n",
    "    forgetting_metrics,\n",
    "    cpu_usage_metrics,\n",
    "    gpu_usage_metrics,\n",
    "    ram_usage_metrics,\n",
    "    timing_metrics,\n",
    ")"
   ]
  },
  {
   "cell_type": "code",
   "execution_count": 8,
   "metadata": {},
   "outputs": [
    {
     "name": "stderr",
     "output_type": "stream",
     "text": [
      "E:\\python\\CL\\avalanche_root\\avalanche\\training\\plugins\\evaluation.py:81: UserWarning: No benchmark provided to the evaluation plugin. Metrics may be computed on inconsistent portion of streams, use at your own risk.\n",
      "  warnings.warn(\n"
     ]
    },
    {
     "name": "stdout",
     "output_type": "stream",
     "text": [
      "Loading labels...\n",
      "Loading LUP...\n",
      "Loading labels names...\n",
      "Files already downloaded and verified\n",
      "Loading labels...\n",
      "Loading LUP...\n",
      "Loading labels names...\n",
      "Files already downloaded and verified\n"
     ]
    }
   ],
   "source": [
    "# Config\n",
    "device = torch.device(\"cuda:0\" if torch.cuda.is_available() else \"cpu\")\n",
    "\n",
    "# Eval_metics\n",
    "eval_plugin = EvaluationPlugin(\n",
    "    accuracy_metrics(minibatch=True, epoch=True, experience=True, stream=True),\n",
    "    forgetting_metrics(experience=True, stream=True),\n",
    "    cpu_usage_metrics(experience=True),\n",
    "    gpu_usage_metrics(gpu_id=0,experience=True),\n",
    "    ram_usage_metrics(experience=True),\n",
    "    timing_metrics(experience=True),\n",
    "    loggers=[InteractiveLogger(),\n",
    "                TextLogger(open('icarl_results.txt', 'w'))]\n",
    ")\n",
    "\n",
    "# model\n",
    "#model = SimpleCNN(num_classes=50)\n",
    "model: IcarlNet = make_icarl_net(num_classes=50)\n",
    "model.apply(initialize_icarl_net)\n",
    "\n",
    "# Prepare for training & testing\n",
    "optimizer = SGD(model.parameters(), lr=0.001, momentum=0.9)\n",
    "#criterion = CrossEntropyLoss()\n",
    "\n",
    "# CL Benchmark Creation\n",
    "train_set = CORe50Dataset(train=True, mini=True)\n",
    "test_set = CORe50Dataset(train=False, mini=True)\n",
    "\n",
    "normalize = Normalize(mean=[0.485, 0.456, 0.406], std=[0.229, 0.224, 0.225])\n",
    "\n",
    "transforms_group = dict(\n",
    "    eval=(\n",
    "        Compose(\n",
    "            [\n",
    "                ToTensor(), \n",
    "                Normalize(mean=[0.485, 0.456, 0.406], std=[0.229, 0.224, 0.225]),\n",
    "            ]\n",
    "        ),\n",
    "        None,\n",
    "    ),\n",
    "    train=(\n",
    "        Compose(\n",
    "            [\n",
    "                ToTensor(), \n",
    "                RandomHorizontalFlip(), \n",
    "                Normalize(mean=[0.485, 0.456, 0.406], std=[0.229, 0.224, 0.225]),\n",
    "            ]\n",
    "        ),\n",
    "        None,\n",
    "    ),\n",
    ")\n",
    "\n",
    "train_set = AvalancheDataset(\n",
    "    train_set,\n",
    "    transform_groups=transforms_group,\n",
    "    initial_transform_group=\"train\",\n",
    ")\n",
    "test_set = AvalancheDataset(\n",
    "    test_set,\n",
    "    transform_groups=transforms_group,\n",
    "    initial_transform_group=\"eval\",\n",
    ")\n",
    "\n",
    "scenario = nc_scenario(\n",
    "    train_dataset=train_set,\n",
    "    test_dataset=test_set,\n",
    "    n_experiences=10, # For each experience, the number of new classes is fiexed.\n",
    "    task_labels=False\n",
    ")"
   ]
  },
  {
   "cell_type": "code",
   "execution_count": 9,
   "metadata": {},
   "outputs": [
    {
     "name": "stdout",
     "output_type": "stream",
     "text": [
      "-- >> Start of training phase << --\n",
      " 13%|█▎        | 12/94 [00:03<00:13,  5.99it/s]"
     ]
    }
   ],
   "source": [
    "# Continual learning strategy\n",
    "cl_strategy = ICaRL(\n",
    "    model.feature_extractor,\n",
    "    model.classifier, \n",
    "    optimizer, \n",
    "    memory_size=250,\n",
    "    buffer_transform=False,\n",
    "    fixed_memory=True,\n",
    "    train_mb_size=128, train_epochs=5,\n",
    "    eval_mb_size=128, device=device,\n",
    "    evaluator=eval_plugin)\n",
    "\n",
    "# train and test loop over the stream of experiences\n",
    "results = []\n",
    "for train_exp in scenario.train_stream:\n",
    "    cl_strategy.train(train_exp)\n",
    "    results.append(cl_strategy.eval(scenario.test_stream))\n",
    "    break"
   ]
  }
 ],
 "metadata": {
  "interpreter": {
   "hash": "3b9ad07d7d65fddcf37adcbcdd85e08fcd77b40a3772f66e7d365878dfaade00"
  },
  "kernelspec": {
   "display_name": "Python 3.8.13 ('avalanche-env')",
   "language": "python",
   "name": "python3"
  },
  "language_info": {
   "codemirror_mode": {
    "name": "ipython",
    "version": 3
   },
   "file_extension": ".py",
   "mimetype": "text/x-python",
   "name": "python",
   "nbconvert_exporter": "python",
   "pygments_lexer": "ipython3",
   "version": "3.8.13"
  },
  "orig_nbformat": 4
 },
 "nbformat": 4,
 "nbformat_minor": 2
}
