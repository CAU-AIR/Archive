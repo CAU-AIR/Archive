{
 "cells": [
  {
   "cell_type": "code",
   "execution_count": 1,
   "metadata": {},
   "outputs": [
    {
     "name": "stderr",
     "output_type": "stream",
     "text": [
      "c:\\Users\\USER\\anaconda3\\envs\\avalanche-env\\lib\\site-packages\\tqdm\\auto.py:22: TqdmWarning: IProgress not found. Please update jupyter and ipywidgets. See https://ipywidgets.readthedocs.io/en/stable/user_install.html\n",
      "  from .autonotebook import tqdm as notebook_tqdm\n"
     ]
    }
   ],
   "source": [
    "import torch\n",
    "from torch.nn import CrossEntropyLoss\n",
    "from torch.optim import SGD\n",
    "\n",
    "from avalanche.benchmarks.classic import CORe50\n",
    "from avalanche.models import SLDAResNetModel\n",
    "from avalanche.training import StreamingLDA\n",
    "from avalanche.logging import InteractiveLogger\n",
    "from avalanche.logging.text_logging import TextLogger\n",
    "from avalanche.training.plugins import EvaluationPlugin\n",
    "from avalanche.evaluation.metrics import (\n",
    "    accuracy_metrics,\n",
    "    forgetting_metrics,\n",
    "    cpu_usage_metrics,\n",
    "    gpu_usage_metrics,\n",
    "    ram_usage_metrics,\n",
    "    timing_metrics,\n",
    ")"
   ]
  },
  {
   "cell_type": "code",
   "execution_count": 2,
   "metadata": {},
   "outputs": [
    {
     "name": "stderr",
     "output_type": "stream",
     "text": [
      "E:\\python\\CL\\avalanche_root\\avalanche\\training\\plugins\\evaluation.py:81: UserWarning: No benchmark provided to the evaluation plugin. Metrics may be computed on inconsistent portion of streams, use at your own risk.\n",
      "  warnings.warn(\n",
      "Downloading: \"https://download.pytorch.org/models/resnet18-f37072fd.pth\" to C:\\Users\\USER/.cache\\torch\\hub\\checkpoints\\resnet18-f37072fd.pth\n",
      "100%|██████████| 44.7M/44.7M [00:04<00:00, 11.5MB/s]\n"
     ]
    },
    {
     "name": "stdout",
     "output_type": "stream",
     "text": [
      "Loading labels...\n",
      "Loading LUP...\n",
      "Loading labels names...\n",
      "Files already downloaded and verified\n"
     ]
    }
   ],
   "source": [
    "# Config\n",
    "device = torch.device(\"cuda:0\" if torch.cuda.is_available() else \"cpu\")\n",
    "\n",
    "# Eval_metics\n",
    "eval_plugin = EvaluationPlugin(\n",
    "    accuracy_metrics(minibatch=True, epoch=True, experience=True, stream=True),\n",
    "    forgetting_metrics(experience=True, stream=True),\n",
    "    cpu_usage_metrics(experience=True),\n",
    "    gpu_usage_metrics(gpu_id=0,experience=True),\n",
    "    ram_usage_metrics(experience=True),\n",
    "    timing_metrics(experience=True),\n",
    "    loggers=[InteractiveLogger(),\n",
    "                TextLogger(open('slda_results.txt', 'w'))]\n",
    ")\n",
    "\n",
    "# model\n",
    "model = SLDAResNetModel()\n",
    "\n",
    "# Prepare for training & testing\n",
    "optimizer = SGD(model.parameters(), lr=0.001, momentum=0.9)\n",
    "criterion = CrossEntropyLoss()\n",
    "\n",
    "# CL Benchmark Creation\n",
    "core50 = CORe50(scenario=\"nc\", mini=True) # original 128x128, mini 32x32\n",
    "# scenario : nbatches\n",
    "# \"ni\": 8, \"nc\": 9, \"nic\": 79, \"nicv2_79\": 79, \"nicv2_196\": 196, \"nicv2_391\": 391\n",
    "train_stream = core50.train_stream\n",
    "test_stream = core50.test_stream"
   ]
  },
  {
   "cell_type": "code",
   "execution_count": 4,
   "metadata": {},
   "outputs": [
    {
     "name": "stdout",
     "output_type": "stream",
     "text": [
      "-- >> Start of training phase << --\n",
      "100%|██████████| 188/188 [00:41<00:00,  4.58it/s]\n",
      "Epoch 0 ended.\n",
      "\tTop1_Acc_Epoch/train_phase/train_stream/Task000 = 0.8509\n",
      "\tTop1_Acc_MB/train_phase/train_stream/Task000 = 0.8182\n",
      "100%|██████████| 188/188 [00:26<00:00,  7.08it/s]\n",
      "Epoch 1 ended.\n",
      "\tTop1_Acc_Epoch/train_phase/train_stream/Task000 = 0.8894\n",
      "\tTop1_Acc_MB/train_phase/train_stream/Task000 = 0.8636\n",
      "100%|██████████| 188/188 [00:26<00:00,  7.23it/s]\n",
      "Epoch 2 ended.\n",
      "\tTop1_Acc_Epoch/train_phase/train_stream/Task000 = 0.8899\n",
      "\tTop1_Acc_MB/train_phase/train_stream/Task000 = 0.8636\n",
      "100%|██████████| 188/188 [00:26<00:00,  7.22it/s]\n",
      "Epoch 3 ended.\n",
      "\tTop1_Acc_Epoch/train_phase/train_stream/Task000 = 0.8930\n",
      "\tTop1_Acc_MB/train_phase/train_stream/Task000 = 0.9773\n",
      "100%|██████████| 188/188 [00:25<00:00,  7.24it/s]\n",
      "Epoch 4 ended.\n",
      "\tTop1_Acc_Epoch/train_phase/train_stream/Task000 = 0.8894\n",
      "\tTop1_Acc_MB/train_phase/train_stream/Task000 = 0.8636\n",
      "100%|██████████| 188/188 [00:25<00:00,  7.24it/s]\n",
      "Epoch 5 ended.\n",
      "\tTop1_Acc_Epoch/train_phase/train_stream/Task000 = 0.8909\n",
      "\tTop1_Acc_MB/train_phase/train_stream/Task000 = 0.9318\n",
      "100%|██████████| 188/188 [00:25<00:00,  7.23it/s]\n",
      "Epoch 6 ended.\n",
      "\tTop1_Acc_Epoch/train_phase/train_stream/Task000 = 0.8930\n",
      "\tTop1_Acc_MB/train_phase/train_stream/Task000 = 0.9091\n",
      "100%|██████████| 188/188 [00:25<00:00,  7.23it/s]\n",
      "Epoch 7 ended.\n",
      "\tTop1_Acc_Epoch/train_phase/train_stream/Task000 = 0.8886\n",
      "\tTop1_Acc_MB/train_phase/train_stream/Task000 = 0.7727\n",
      "100%|██████████| 188/188 [00:25<00:00,  7.24it/s]\n",
      "Epoch 8 ended.\n",
      "\tTop1_Acc_Epoch/train_phase/train_stream/Task000 = 0.8938\n",
      "\tTop1_Acc_MB/train_phase/train_stream/Task000 = 0.8636\n",
      "100%|██████████| 188/188 [00:26<00:00,  7.22it/s]\n",
      "Epoch 9 ended.\n",
      "\tTop1_Acc_Epoch/train_phase/train_stream/Task000 = 0.8930\n",
      "\tTop1_Acc_MB/train_phase/train_stream/Task000 = 0.9545\n",
      "-- >> End of training phase << --\n",
      "-- >> Start of eval phase << --\n",
      "-- Starting eval on experience 0 (Task 0) from test stream --\n",
      "100%|██████████| 352/352 [00:26<00:00, 13.16it/s]\n",
      "> Eval on experience 0 (Task 0) from test stream ended.\n",
      "\tCPUUsage_Exp/eval_phase/test_stream/Task000/Exp000 = 798.5554\n",
      "\tMaxGPU0Usage_Experience/eval_phase/test_stream/Task000/Exp000 = 30.0000\n",
      "\tMaxRAMUsage_Experience/eval_phase/test_stream/Task000/Exp000 = 4025.4023\n",
      "\tTime_Exp/eval_phase/test_stream/Task000/Exp000 = 26.7576\n",
      "\tTop1_Acc_Exp/eval_phase/test_stream/Task000/Exp000 = 0.0990\n",
      "-- >> End of eval phase << --\n",
      "\tStreamForgetting/eval_phase/test_stream = 0.0000\n",
      "\tTop1_Acc_Stream/eval_phase/test_stream/Task000 = 0.0990\n"
     ]
    }
   ],
   "source": [
    "# Continual learning strategy\n",
    "cl_strategy = StreamingLDA(\n",
    "    model,\n",
    "    criterion,\n",
    "    input_size=512,\n",
    "    num_classes=50,\n",
    "    train_mb_size=128, train_epochs=10,\n",
    "    eval_mb_size=128, device=device,\n",
    "    evaluator=eval_plugin\n",
    ")\n",
    "\n",
    "# train and test loop over the stream of experiences\n",
    "results = []\n",
    "for train_exp in train_stream:\n",
    "    cl_strategy.train(train_exp)\n",
    "    results.append(cl_strategy.eval(test_stream))\n",
    "    break"
   ]
  }
 ],
 "metadata": {
  "interpreter": {
   "hash": "3b9ad07d7d65fddcf37adcbcdd85e08fcd77b40a3772f66e7d365878dfaade00"
  },
  "kernelspec": {
   "display_name": "Python 3.8.13 ('avalanche-env')",
   "language": "python",
   "name": "python3"
  },
  "language_info": {
   "codemirror_mode": {
    "name": "ipython",
    "version": 3
   },
   "file_extension": ".py",
   "mimetype": "text/x-python",
   "name": "python",
   "nbconvert_exporter": "python",
   "pygments_lexer": "ipython3",
   "version": "3.8.13"
  },
  "orig_nbformat": 4
 },
 "nbformat": 4,
 "nbformat_minor": 2
}
