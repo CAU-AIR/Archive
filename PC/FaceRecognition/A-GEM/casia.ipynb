{
 "cells": [
  {
   "cell_type": "code",
   "execution_count": 1,
   "metadata": {},
   "outputs": [],
   "source": [
    "import torch\n",
    "import random\n",
    "import torchvision\n",
    "import numpy as np\n",
    "import torch.nn as nn\n",
    "import torch.optim as optim\n",
    "import torch.backends.cudnn as cudnn\n",
    "from torchvision import transforms\n",
    "from torch.utils.data import DataLoader\n",
    "from torch.optim.lr_scheduler import MultiStepLR\n",
    "from sklearn.model_selection import train_test_split\n",
    "\n",
    "from utils.util import get_image_list, dataset_list, PathDataset, PathDataset_v2, make_task\n",
    "from avalanche.benchmarks.datasets import CelebA\n",
    "\n",
    "from avalanche.benchmarks.utils import AvalancheTensorDataset\n",
    "from avalanche.training.supervised import AGEM\n",
    "from avalanche.logging import InteractiveLogger, WandBLogger\n",
    "from avalanche.benchmarks.generators import nc_benchmark, paths_benchmark\n",
    "from avalanche.benchmarks.utils import AvalancheDataset, AvalancheDatasetType\n",
    "from avalanche.benchmarks.utils.dataset_definitions import IDatasetWithTargets\n",
    "from avalanche.training.plugins import EvaluationPlugin\n",
    "from avalanche.training.plugins.lr_scheduling import LRSchedulerPlugin\n",
    "from avalanche.evaluation.metrics import ExperienceAccuracy, ExperienceLoss, ExperienceForgetting, ExperienceCPUUsage, ExperienceMaxGPU, ExperienceMaxRAM, ExperienceTime, EpochAccuracy\n",
    "from avalanche.benchmarks.generators import (\n",
    "    filelist_scenario, dataset_scenario, tensor_scenario, paths_scenario\n",
    ")"
   ]
  },
  {
   "cell_type": "code",
   "execution_count": 2,
   "metadata": {},
   "outputs": [],
   "source": [
    "seed = 0\n",
    "random.seed(seed)\n",
    "np.random.seed(seed)\n",
    "torch.manual_seed(seed)\n",
    "# torch.cuda.manual_seed_all(seed) # if use multi-GPU\n",
    "cudnn.deterministic = True  # 연산 처리 속도 감소 -> 모델과 코드를 배포해야 하는 연구 후반 단계에 사용\n",
    "cudnn.benchmark = False\n",
    "# torch.set_printoptions(sci_mode=False)"
   ]
  },
  {
   "cell_type": "code",
   "execution_count": 3,
   "metadata": {},
   "outputs": [],
   "source": [
    "transform = transforms.Compose([\n",
    "    # transforms.Resize(224),\n",
    "    transforms.ToTensor()\n",
    "    ])"
   ]
  },
  {
   "cell_type": "code",
   "execution_count": 4,
   "metadata": {},
   "outputs": [
    {
     "name": "stdout",
     "output_type": "stream",
     "text": [
      "train :  395531\n",
      "test :  98883\n"
     ]
    }
   ],
   "source": [
    "data_path = \"../Data/CASIA-WebFace/\" \n",
    "\n",
    "dataset = get_image_list(data_path)\n",
    "x_train, x_test, y_train, y_test = train_test_split(dataset[0], dataset[1], test_size=0.2, shuffle=True, random_state=seed, stratify=dataset[1])\n",
    "\n",
    "train_set = dataset_list(x_train, y_train)\n",
    "test_set = dataset_list(x_test, y_test)\n",
    "\n",
    "print(\"train : \", len(y_train))\n",
    "print(\"test : \", len(y_test))"
   ]
  },
  {
   "cell_type": "code",
   "execution_count": 5,
   "metadata": {},
   "outputs": [],
   "source": [
    "transforms_group = dict(\n",
    "       train=(\n",
    "       transforms.Compose(\n",
    "              [\n",
    "              transforms.ToTensor(),\n",
    "              ]\n",
    "       ),\n",
    "       None,\n",
    "       ),\n",
    "       eval=(\n",
    "       transforms.Compose(\n",
    "              [\n",
    "              transforms.ToTensor(),\n",
    "              ]\n",
    "       ),\n",
    "       None,\n",
    "       )\n",
    ")\n",
    "\n",
    "# train_set = AvalancheDataset(trian_loader)\n",
    "# test_set = AvalancheDataset(test_loader)"
   ]
  },
  {
   "cell_type": "code",
   "execution_count": 6,
   "metadata": {},
   "outputs": [],
   "source": [
    "device = torch.device('cuda:0' if torch.cuda.is_available() else 'cpu')\n",
    "\n",
    "num_class = 10575\n",
    "incremental = 5\n",
    "# train_task = make_task(incremental, y_train)\n",
    "# test_task = make_task(incremental, y_test)\n",
    "\n",
    "# train_set = PathDataset(train_set, transforms_group, \"train\", train_task)\n",
    "# test_set = PathDataset(test_set, transforms_group, \"eval\", test_task)\n",
    "train_set = PathDataset_v2(train_set, transforms_group, \"train\")\n",
    "test_set = PathDataset_v2(test_set, transforms_group, \"eval\")\n",
    "\n",
    "scenario = nc_benchmark(train_dataset=train_set,\n",
    "                        test_dataset=test_set,\n",
    "                        n_experiences=incremental,\n",
    "                        task_labels=True,\n",
    "                        seed=seed,\n",
    "                        shuffle=False\n",
    "                        )\n",
    "\n",
    "model = torchvision.models.resnet18(pretrained=False, num_classes=num_class)\n",
    "model.to(device)\n",
    "\n",
    "optimizer = optim.SGD(model.parameters(), lr=1e-1)\n",
    "criterion = torch.nn.CrossEntropyLoss()"
   ]
  },
  {
   "cell_type": "code",
   "execution_count": 7,
   "metadata": {},
   "outputs": [
    {
     "name": "stderr",
     "output_type": "stream",
     "text": [
      "Failed to detect the name of this notebook, you can set it manually with the WANDB_NOTEBOOK_NAME environment variable to enable code saving.\n",
      "\u001b[34m\u001b[1mwandb\u001b[0m: Currently logged in as: \u001b[33mhopo55\u001b[0m. Use \u001b[1m`wandb login --relogin`\u001b[0m to force relogin\n"
     ]
    },
    {
     "data": {
      "text/html": [
       "Tracking run with wandb version 0.12.21"
      ],
      "text/plain": [
       "<IPython.core.display.HTML object>"
      ]
     },
     "metadata": {},
     "output_type": "display_data"
    },
    {
     "data": {
      "text/html": [
       "Run data is saved locally in <code>/home/cal-06/Desktop/Heonsung/Archive/PC/FaceRecognition/A-GEM/wandb/run-20220802_134640-oyseo40z</code>"
      ],
      "text/plain": [
       "<IPython.core.display.HTML object>"
      ]
     },
     "metadata": {},
     "output_type": "display_data"
    },
    {
     "data": {
      "text/html": [
       "Syncing run <strong><a href=\"https://wandb.ai/hopo55/Face%20Recognition/runs/oyseo40z\" target=\"_blank\">AGEM-CASIA-M10-E10</a></strong> to <a href=\"https://wandb.ai/hopo55/Face%20Recognition\" target=\"_blank\">Weights & Biases</a> (<a href=\"https://wandb.me/run\" target=\"_blank\">docs</a>)<br/>"
      ],
      "text/plain": [
       "<IPython.core.display.HTML object>"
      ]
     },
     "metadata": {},
     "output_type": "display_data"
    },
    {
     "name": "stderr",
     "output_type": "stream",
     "text": [
      "/home/cal-06/anaconda3/envs/hspark/lib/python3.8/site-packages/avalanche/training/plugins/evaluation.py:81: UserWarning: No benchmark provided to the evaluation plugin. Metrics may be computed on inconsistent portion of streams, use at your own risk.\n",
      "  warnings.warn(\n"
     ]
    }
   ],
   "source": [
    "interactive_logger = InteractiveLogger()\n",
    "wandb_logger = WandBLogger(project_name=\"Face Recognition\", run_name=\"AGEM-CASIA-M10-E10\")\n",
    "eval_plugin = EvaluationPlugin(\n",
    "    EpochAccuracy(),\n",
    "    ExperienceAccuracy(),\n",
    "    ExperienceLoss(),\n",
    "    ExperienceForgetting(),\n",
    "    ExperienceCPUUsage(),\n",
    "    ExperienceMaxGPU(gpu_id=0),\n",
    "    ExperienceMaxRAM(),\n",
    "    ExperienceTime(),\n",
    "    loggers=[interactive_logger, wandb_logger])"
   ]
  },
  {
   "cell_type": "markdown",
   "metadata": {},
   "source": [
    "## A-GEM"
   ]
  },
  {
   "cell_type": "code",
   "execution_count": 8,
   "metadata": {},
   "outputs": [],
   "source": [
    "train_batch = 10\n",
    "eval_batch = 1\n",
    "epoch = 10\n",
    "memory_size = 10\n",
    "\n",
    "strategies = AGEM(model, optimizer, criterion, patterns_per_exp=memory_size, sample_size=memory_size, train_epochs=epoch, device=device, train_mb_size=train_batch, eval_mb_size=eval_batch, evaluator=eval_plugin)"
   ]
  },
  {
   "cell_type": "code",
   "execution_count": 9,
   "metadata": {},
   "outputs": [
    {
     "name": "stdout",
     "output_type": "stream",
     "text": [
      "Starting experiment...\n",
      "Start training on experience  0\n",
      "-- >> Start of training phase << --\n",
      "100%|██████████| 11693/11693 [09:45<00:00, 19.97it/s]\n",
      "Epoch 0 ended.\n",
      "\tTop1_Acc_Epoch/train_phase/train_stream/Task000 = 0.0285\n",
      "100%|██████████| 11693/11693 [09:50<00:00, 19.79it/s]\n",
      "Epoch 1 ended.\n",
      "\tTop1_Acc_Epoch/train_phase/train_stream/Task000 = 0.1618\n",
      "100%|██████████| 11693/11693 [09:50<00:00, 19.79it/s]\n",
      "Epoch 2 ended.\n",
      "\tTop1_Acc_Epoch/train_phase/train_stream/Task000 = 0.3411\n",
      "100%|██████████| 11693/11693 [09:50<00:00, 19.82it/s]\n",
      "Epoch 3 ended.\n",
      "\tTop1_Acc_Epoch/train_phase/train_stream/Task000 = 0.4915\n",
      "100%|██████████| 11693/11693 [09:50<00:00, 19.80it/s]\n",
      "Epoch 4 ended.\n",
      "\tTop1_Acc_Epoch/train_phase/train_stream/Task000 = 0.6019\n",
      "100%|██████████| 11693/11693 [09:50<00:00, 19.81it/s]\n",
      "Epoch 5 ended.\n",
      "\tTop1_Acc_Epoch/train_phase/train_stream/Task000 = 0.6824\n",
      "100%|██████████| 11693/11693 [09:49<00:00, 19.82it/s]\n",
      "Epoch 6 ended.\n",
      "\tTop1_Acc_Epoch/train_phase/train_stream/Task000 = 0.7470\n",
      "100%|██████████| 11693/11693 [09:49<00:00, 19.85it/s]\n",
      "Epoch 7 ended.\n",
      "\tTop1_Acc_Epoch/train_phase/train_stream/Task000 = 0.8030\n",
      "100%|██████████| 11693/11693 [09:49<00:00, 19.84it/s]\n",
      "Epoch 8 ended.\n",
      "\tTop1_Acc_Epoch/train_phase/train_stream/Task000 = 0.8460\n",
      "100%|██████████| 11693/11693 [09:49<00:00, 19.83it/s]\n",
      "Epoch 9 ended.\n",
      "\tTop1_Acc_Epoch/train_phase/train_stream/Task000 = 0.8864\n",
      "-- >> End of training phase << --\n",
      "End training on experience  0\n",
      "Computing accuracy on the test set\n",
      "-- >> Start of eval phase << --\n",
      "-- Starting eval on experience 0 (Task 0) from test stream --\n",
      "100%|██████████| 29221/29221 [06:26<00:00, 75.59it/s]\n",
      "> Eval on experience 0 (Task 0) from test stream ended.\n",
      "\tCPUUsage_Exp/eval_phase/test_stream/Task000/Exp000 = 499.8743\n",
      "\tLoss_Exp/eval_phase/test_stream/Task000/Exp000 = 2.3006\n",
      "\tMaxGPU0Usage_Experience/eval_phase/test_stream/Task000/Exp000 = 40.0000\n",
      "\tMaxRAMUsage_Experience/eval_phase/test_stream/Task000/Exp000 = 4510.5859\n",
      "\tTime_Exp/eval_phase/test_stream/Task000/Exp000 = 386.5794\n",
      "\tTop1_Acc_Exp/eval_phase/test_stream/Task000/Exp000 = 0.6429\n",
      "-- Starting eval on experience 1 (Task 1) from test stream --\n",
      "100%|██████████| 20168/20168 [04:28<00:00, 75.10it/s]\n",
      "> Eval on experience 1 (Task 1) from test stream ended.\n",
      "\tCPUUsage_Exp/eval_phase/test_stream/Task001/Exp001 = 498.7092\n",
      "\tLoss_Exp/eval_phase/test_stream/Task001/Exp001 = 27.3598\n",
      "\tMaxGPU0Usage_Experience/eval_phase/test_stream/Task001/Exp001 = 40.0000\n",
      "\tMaxRAMUsage_Experience/eval_phase/test_stream/Task001/Exp001 = 4510.6367\n",
      "\tTime_Exp/eval_phase/test_stream/Task001/Exp001 = 268.5454\n",
      "\tTop1_Acc_Exp/eval_phase/test_stream/Task001/Exp001 = 0.0000\n",
      "-- Starting eval on experience 2 (Task 2) from test stream --\n",
      "100%|██████████| 19523/19523 [04:18<00:00, 75.64it/s]\n",
      "> Eval on experience 2 (Task 2) from test stream ended.\n",
      "\tCPUUsage_Exp/eval_phase/test_stream/Task002/Exp002 = 499.9182\n",
      "\tLoss_Exp/eval_phase/test_stream/Task002/Exp002 = 27.3672\n",
      "\tMaxGPU0Usage_Experience/eval_phase/test_stream/Task002/Exp002 = 39.0000\n",
      "\tMaxRAMUsage_Experience/eval_phase/test_stream/Task002/Exp002 = 4510.6641\n",
      "\tTime_Exp/eval_phase/test_stream/Task002/Exp002 = 258.1183\n",
      "\tTop1_Acc_Exp/eval_phase/test_stream/Task002/Exp002 = 0.0000\n",
      "-- Starting eval on experience 3 (Task 3) from test stream --\n",
      "100%|██████████| 16313/16313 [03:34<00:00, 76.10it/s]\n",
      "> Eval on experience 3 (Task 3) from test stream ended.\n",
      "\tCPUUsage_Exp/eval_phase/test_stream/Task003/Exp003 = 501.0396\n",
      "\tLoss_Exp/eval_phase/test_stream/Task003/Exp003 = 27.3277\n",
      "\tMaxGPU0Usage_Experience/eval_phase/test_stream/Task003/Exp003 = 39.0000\n",
      "\tMaxRAMUsage_Experience/eval_phase/test_stream/Task003/Exp003 = 4510.6836\n",
      "\tTime_Exp/eval_phase/test_stream/Task003/Exp003 = 214.3605\n",
      "\tTop1_Acc_Exp/eval_phase/test_stream/Task003/Exp003 = 0.0000\n",
      "-- Starting eval on experience 4 (Task 4) from test stream --\n",
      "100%|██████████| 13658/13658 [02:59<00:00, 76.10it/s]\n",
      "> Eval on experience 4 (Task 4) from test stream ended.\n",
      "\tCPUUsage_Exp/eval_phase/test_stream/Task004/Exp004 = 500.3949\n",
      "\tLoss_Exp/eval_phase/test_stream/Task004/Exp004 = 27.0399\n",
      "\tMaxGPU0Usage_Experience/eval_phase/test_stream/Task004/Exp004 = 40.0000\n",
      "\tMaxRAMUsage_Experience/eval_phase/test_stream/Task004/Exp004 = 4510.7031\n",
      "\tTime_Exp/eval_phase/test_stream/Task004/Exp004 = 179.4702\n",
      "\tTop1_Acc_Exp/eval_phase/test_stream/Task004/Exp004 = 0.0000\n",
      "-- >> End of eval phase << --\n",
      "Start training on experience  1\n",
      "-- >> Start of training phase << --\n",
      "100%|██████████| 8065/8065 [13:45<00:00,  9.77it/s]\n",
      "Epoch 0 ended.\n",
      "\tTop1_Acc_Epoch/train_phase/train_stream/Task001 = 0.1768\n",
      "100%|██████████| 8065/8065 [13:42<00:00,  9.81it/s]\n",
      "Epoch 1 ended.\n",
      "\tTop1_Acc_Epoch/train_phase/train_stream/Task001 = 0.5018\n",
      "100%|██████████| 8065/8065 [13:46<00:00,  9.76it/s]\n",
      "Epoch 2 ended.\n",
      "\tTop1_Acc_Epoch/train_phase/train_stream/Task001 = 0.6683\n",
      "100%|██████████| 8065/8065 [13:44<00:00,  9.78it/s]\n",
      "Epoch 3 ended.\n",
      "\tTop1_Acc_Epoch/train_phase/train_stream/Task001 = 0.7678\n",
      "100%|██████████| 8065/8065 [13:44<00:00,  9.79it/s]\n",
      "Epoch 4 ended.\n",
      "\tTop1_Acc_Epoch/train_phase/train_stream/Task001 = 0.8382\n",
      "100%|██████████| 8065/8065 [13:43<00:00,  9.80it/s]\n",
      "Epoch 5 ended.\n",
      "\tTop1_Acc_Epoch/train_phase/train_stream/Task001 = 0.8877\n",
      "100%|██████████| 8065/8065 [13:43<00:00,  9.80it/s]\n",
      "Epoch 6 ended.\n",
      "\tTop1_Acc_Epoch/train_phase/train_stream/Task001 = 0.9302\n",
      "100%|██████████| 8065/8065 [13:44<00:00,  9.78it/s]\n",
      "Epoch 7 ended.\n",
      "\tTop1_Acc_Epoch/train_phase/train_stream/Task001 = 0.9566\n",
      "100%|██████████| 8065/8065 [13:45<00:00,  9.76it/s]\n",
      "Epoch 8 ended.\n",
      "\tTop1_Acc_Epoch/train_phase/train_stream/Task001 = 0.9757\n",
      "100%|██████████| 8065/8065 [13:45<00:00,  9.77it/s]\n",
      "Epoch 9 ended.\n",
      "\tTop1_Acc_Epoch/train_phase/train_stream/Task001 = 0.9877\n",
      "-- >> End of training phase << --\n",
      "End training on experience  1\n",
      "Computing accuracy on the test set\n",
      "-- >> Start of eval phase << --\n",
      "-- Starting eval on experience 0 (Task 0) from test stream --\n",
      "100%|██████████| 29221/29221 [07:01<00:00, 69.38it/s]\n",
      "> Eval on experience 0 (Task 0) from test stream ended.\n",
      "\tCPUUsage_Exp/eval_phase/test_stream/Task000/Exp000 = 450.2181\n",
      "\tExperienceForgetting/eval_phase/test_stream/Task000/Exp000 = 0.5759\n",
      "\tLoss_Exp/eval_phase/test_stream/Task000/Exp000 = 9.8539\n",
      "\tMaxGPU0Usage_Experience/eval_phase/test_stream/Task000/Exp000 = 38.0000\n",
      "\tMaxRAMUsage_Experience/eval_phase/test_stream/Task000/Exp000 = 4534.2227\n",
      "\tTime_Exp/eval_phase/test_stream/Task000/Exp000 = 421.1471\n",
      "\tTop1_Acc_Exp/eval_phase/test_stream/Task000/Exp000 = 0.0670\n",
      "-- Starting eval on experience 1 (Task 1) from test stream --\n",
      "100%|██████████| 20168/20168 [04:50<00:00, 69.32it/s]\n",
      "> Eval on experience 1 (Task 1) from test stream ended.\n",
      "\tCPUUsage_Exp/eval_phase/test_stream/Task001/Exp001 = 448.4855\n",
      "\tLoss_Exp/eval_phase/test_stream/Task001/Exp001 = 2.5247\n",
      "\tMaxGPU0Usage_Experience/eval_phase/test_stream/Task001/Exp001 = 39.0000\n",
      "\tMaxRAMUsage_Experience/eval_phase/test_stream/Task001/Exp001 = 4534.2266\n",
      "\tTime_Exp/eval_phase/test_stream/Task001/Exp001 = 290.9595\n",
      "\tTop1_Acc_Exp/eval_phase/test_stream/Task001/Exp001 = 0.6789\n",
      "-- Starting eval on experience 2 (Task 2) from test stream --\n",
      "100%|██████████| 19523/19523 [04:41<00:00, 69.29it/s]\n",
      "> Eval on experience 2 (Task 2) from test stream ended.\n",
      "\tCPUUsage_Exp/eval_phase/test_stream/Task002/Exp002 = 449.1441\n",
      "\tLoss_Exp/eval_phase/test_stream/Task002/Exp002 = 29.8591\n",
      "\tMaxGPU0Usage_Experience/eval_phase/test_stream/Task002/Exp002 = 39.0000\n",
      "\tMaxRAMUsage_Experience/eval_phase/test_stream/Task002/Exp002 = 4534.2266\n",
      "\tTime_Exp/eval_phase/test_stream/Task002/Exp002 = 281.7651\n",
      "\tTop1_Acc_Exp/eval_phase/test_stream/Task002/Exp002 = 0.0000\n",
      "-- Starting eval on experience 3 (Task 3) from test stream --\n",
      "100%|██████████| 16313/16313 [03:54<00:00, 69.42it/s]\n",
      "> Eval on experience 3 (Task 3) from test stream ended.\n",
      "\tCPUUsage_Exp/eval_phase/test_stream/Task003/Exp003 = 447.9931\n",
      "\tLoss_Exp/eval_phase/test_stream/Task003/Exp003 = 29.8696\n",
      "\tMaxGPU0Usage_Experience/eval_phase/test_stream/Task003/Exp003 = 39.0000\n",
      "\tMaxRAMUsage_Experience/eval_phase/test_stream/Task003/Exp003 = 4534.2266\n",
      "\tTime_Exp/eval_phase/test_stream/Task003/Exp003 = 234.9815\n",
      "\tTop1_Acc_Exp/eval_phase/test_stream/Task003/Exp003 = 0.0000\n",
      "-- Starting eval on experience 4 (Task 4) from test stream --\n",
      "100%|██████████| 13658/13658 [03:17<00:00, 69.24it/s]\n",
      "> Eval on experience 4 (Task 4) from test stream ended.\n",
      "\tCPUUsage_Exp/eval_phase/test_stream/Task004/Exp004 = 447.3132\n",
      "\tLoss_Exp/eval_phase/test_stream/Task004/Exp004 = 30.0356\n",
      "\tMaxGPU0Usage_Experience/eval_phase/test_stream/Task004/Exp004 = 39.0000\n",
      "\tMaxRAMUsage_Experience/eval_phase/test_stream/Task004/Exp004 = 4534.2266\n",
      "\tTime_Exp/eval_phase/test_stream/Task004/Exp004 = 197.2489\n",
      "\tTop1_Acc_Exp/eval_phase/test_stream/Task004/Exp004 = 0.0000\n",
      "-- >> End of eval phase << --\n",
      "Start training on experience  2\n",
      "-- >> Start of training phase << --\n",
      "100%|██████████| 7814/7814 [13:18<00:00,  9.79it/s]\n",
      "Epoch 0 ended.\n",
      "\tTop1_Acc_Epoch/train_phase/train_stream/Task002 = 0.2472\n",
      "100%|██████████| 7814/7814 [13:20<00:00,  9.76it/s]\n",
      "Epoch 1 ended.\n",
      "\tTop1_Acc_Epoch/train_phase/train_stream/Task002 = 0.5916\n",
      "100%|██████████| 7814/7814 [13:21<00:00,  9.75it/s]\n",
      "Epoch 2 ended.\n",
      "\tTop1_Acc_Epoch/train_phase/train_stream/Task002 = 0.7395\n",
      "100%|██████████| 7814/7814 [13:19<00:00,  9.77it/s]\n",
      "Epoch 3 ended.\n",
      "\tTop1_Acc_Epoch/train_phase/train_stream/Task002 = 0.8291\n",
      "100%|██████████| 7814/7814 [13:19<00:00,  9.78it/s]\n",
      "Epoch 4 ended.\n",
      "\tTop1_Acc_Epoch/train_phase/train_stream/Task002 = 0.8902\n",
      "100%|██████████| 7814/7814 [13:21<00:00,  9.75it/s]\n",
      "Epoch 5 ended.\n",
      "\tTop1_Acc_Epoch/train_phase/train_stream/Task002 = 0.9343\n",
      " 78%|███████▊  | 6124/7814 [10:27<03:02,  9.26it/s]"
     ]
    }
   ],
   "source": [
    "print(\"Starting experiment...\")\n",
    "results = []\n",
    "for experience in scenario.train_stream:\n",
    "    print(\"Start training on experience \", experience.current_experience)\n",
    "    strategies.train(experience)\n",
    "    print(\"End training on experience \", experience.current_experience)\n",
    "    print(\"Computing accuracy on the test set\")\n",
    "    results.append(strategies.eval(scenario.test_stream[:]))"
   ]
  }
 ],
 "metadata": {
  "kernelspec": {
   "display_name": "Python 3.8.5 ('hspark')",
   "language": "python",
   "name": "python3"
  },
  "language_info": {
   "codemirror_mode": {
    "name": "ipython",
    "version": 3
   },
   "file_extension": ".py",
   "mimetype": "text/x-python",
   "name": "python",
   "nbconvert_exporter": "python",
   "pygments_lexer": "ipython3",
   "version": "3.8.5"
  },
  "orig_nbformat": 4,
  "vscode": {
   "interpreter": {
    "hash": "1e0e0fe8dfb44fa8d3fe7f303575fde8765aa929a451d0d62238a6e6b4fbd106"
   }
  }
 },
 "nbformat": 4,
 "nbformat_minor": 2
}
