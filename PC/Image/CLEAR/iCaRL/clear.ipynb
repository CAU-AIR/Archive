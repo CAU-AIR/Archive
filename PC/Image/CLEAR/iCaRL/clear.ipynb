{
 "cells": [
  {
   "cell_type": "code",
   "execution_count": 2,
   "metadata": {},
   "outputs": [],
   "source": [
    "import torch\n",
    "import random\n",
    "import numpy as np\n",
    "import torch.nn as nn\n",
    "import torch.optim as optim\n",
    "from pathlib import Path\n",
    "import torch.backends.cudnn as cudnn\n",
    "from torchvision import transforms\n",
    "from torch.optim.lr_scheduler import MultiStepLR\n",
    "from utils.util import icarl_clear100_augment_data, get_dataset_per_pixel_mean\n",
    "\n",
    "from avalanche.models import IcarlNet\n",
    "from avalanche.training.supervised import ICaRL\n",
    "from avalanche.logging import InteractiveLogger, WandBLogger\n",
    "from avalanche.benchmarks.classic import SplitCIFAR10\n",
    "from avalanche.benchmarks.datasets.clear import _CLEARImage\n",
    "from avalanche.benchmarks.generators import nc_benchmark\n",
    "from avalanche.benchmarks.utils import AvalancheDataset\n",
    "from avalanche.training.plugins import EvaluationPlugin\n",
    "from avalanche.training.plugins.lr_scheduling import LRSchedulerPlugin\n",
    "from avalanche.evaluation.metrics import ExperienceAccuracy, ExperienceLoss, ExperienceForgetting, ExperienceCPUUsage, ExperienceMaxGPU, ExperienceMaxRAM, ExperienceTime, EpochAccuracy"
   ]
  },
  {
   "cell_type": "code",
   "execution_count": 2,
   "metadata": {},
   "outputs": [],
   "source": [
    "seed = 0\n",
    "random.seed(seed)\n",
    "np.random.seed(seed)\n",
    "torch.manual_seed(seed)\n",
    "# torch.cuda.manual_seed_all(seed) # if use multi-GPU\n",
    "cudnn.deterministic = True  # 연산 처리 속도 감소 -> 모델과 코드를 배포해야 하는 연구 후반 단계에 사용\n",
    "cudnn.benchmark = False"
   ]
  },
  {
   "cell_type": "code",
   "execution_count": 4,
   "metadata": {},
   "outputs": [
    {
     "name": "stdout",
     "output_type": "stream",
     "text": [
      "../data/clear100_cvpr2022/training_folder does not exist. \n",
      "CLEAR has not yet been downloaded\n",
      "Downloading clear100-workshop-avalanche.zip...\n"
     ]
    },
    {
     "name": "stderr",
     "output_type": "stream",
     "text": [
      "--2022-06-12 18:24:07--  https://clear-challenge.s3.us-east-2.amazonaws.com/clear100-workshop-avalanche.zip\n",
      "Resolving clear-challenge.s3.us-east-2.amazonaws.com (clear-challenge.s3.us-east-2.amazonaws.com)... 52.219.88.224\n",
      "Connecting to clear-challenge.s3.us-east-2.amazonaws.com (clear-challenge.s3.us-east-2.amazonaws.com)|52.219.88.224|:443... connected.\n",
      "HTTP request sent, awaiting response... 200 OK\n",
      "Length: 4732258858 (4.4G) [application/zip]\n",
      "Saving to: ‘../data/clear100_cvpr2022/clear100-workshop-avalanche.zip.6’\n",
      "\n",
      "     0K .......... .......... .......... .......... ..........  0%  145K 8h51m\n",
      "    50K .......... .......... .......... .......... ..........  0% 15.1M 4h28m\n",
      "   100K .......... .......... .......... .......... ..........  0%  292K 4h26m\n",
      "   150K .......... .......... .......... .......... ..........  0% 11.1M 3h21m\n",
      "   200K .......... .......... .......... .......... ..........  0%  238K 3h46m\n",
      "   250K .......... .......... .......... .......... ..........  0%  126M 3h8m\n",
      "   300K .......... .......... .......... .......... ..........  0%  142M 2h41m\n",
      "   350K .......... .......... .......... .......... ..........  0%  364K 2h47m\n",
      "   400K .......... .......... .......... .......... ..........  0% 14.8M 2h29m\n",
      "   450K .......... .......... .......... .......... ..........  0% 1.63M 2h19m\n",
      "   500K .......... .......... .......... .......... ..........  0% 26.9M 2h7m\n",
      "   550K .......... .......... .......... .......... ..........  0%  367K 2h13m\n",
      "   600K .......... .......... .......... .......... ..........  0% 9.81M 2h4m\n",
      "   650K .......... .......... .......... .......... ..........  0% 11.1M 1h55m\n",
      "   700K .......... .......... .......... .......... ..........  0%  319K 2h4m\n",
      "   750K .......... .......... .......... .......... ..........  0% 3.88M 1h57m\n",
      "   800K .......... .......... .......... .......... ..........  0%  321K 2h4m\n",
      "   850K .......... .......... .......... .......... ..........  0% 3.52M 1h59m\n",
      "   900K .......... .......... .......... .......... ..........  0% 12.3M 1h53m\n",
      "   950K .......... .......... .......... .......... ..........  0%  320K 1h59m\n",
      "  1000K .......... .......... .......... .......... ..........  0% 3.72M 1h54m\n",
      "  1050K .......... .......... .......... .......... ..........  0% 1.25M 1h52m\n",
      "  1100K .......... .......... .......... .......... ..........  0%  384K 1h56m\n",
      "  1150K .......... .......... .......... .......... ..........  0%  279K 2h2m\n",
      "  1200K .......... .......... .......... .......... ..........  0%  139M 1h57m\n",
      "  1250K .......... .......... .......... .......... ..........  0%  147M 1h53m\n",
      "  1300K .......... .......... .......... .......... ..........  0%  323K 1h58m\n",
      "  1350K .......... .......... .......... .......... ..........  0% 3.37M 1h54m\n",
      "  1400K .......... .......... .......... .......... ..........  0%  232K 2h2m\n",
      "  1450K .......... .......... .......... .......... ..........  0%  115M 1h58m\n",
      "  1500K .......... .......... .......... .......... ..........  0%  401K 2h0m\n",
      "  1550K .......... .......... .......... .......... ..........  0%  309K 2h4m\n",
      "  1600K .......... .......... .......... .......... ..........  0%  917K 2h3m\n",
      "  1650K .......... .......... .......... .......... ..........  0%  382K 2h5m\n",
      "  1700K .......... .......... .......... .......... ..........  0%  298K 2h9m\n",
      "  1750K .......... .......... .......... .......... ..........  0% 7.47M 2h6m\n",
      "  1800K .......... .......... .......... .......... ..........  0%  297K 2h9m\n",
      "  1850K .......... .......... .......... .......... ..........  0%  382K 2h11m\n",
      "  1900K .......... .......... .......... .......... ..........  0% 1.08M 2h9m\n",
      "  1950K .......... .......... .......... .......... ..........  0%  296K 2h13m\n",
      "  2000K .......... .......... .......... .......... ..........  0%  568K 2h13m\n",
      "  2050K .......... .......... .......... .......... ..........  0%  575K 2h13m\n",
      "  2100K .......... .......... .......... .......... ..........  0%  309K 2h15m\n",
      "  2150K .......... .......... .......... .......... ..........  0%  909K 2h14m\n",
      "  2200K .......... .......... .......... .......... ..........  0%  395K 2h16m\n",
      "  2250K .......... .......... .......... .......... ..........  0%  305K 2h18m\n",
      "  2300K .......... .......... .......... .......... ..........  0% 4.47M 2h16m\n",
      "  2350K .......... .......... .......... .......... ..........  0%  296K 2h18m\n",
      "  2400K .......... .......... .......... .......... ..........  0%  567K 2h18m\n",
      "  2450K .......... .......... .......... .......... ..........  0%  577K 2h18m\n",
      "  2500K .......... .......... .......... .......... ..........  0%  308K 2h20m\n",
      "  2550K .......... .......... .......... .......... ..........  0%  924K 2h19m\n",
      "  2600K .......... .......... .......... .......... ..........  0%  419K 2h20m\n",
      "  2650K .......... .......... .......... .......... ..........  0%  945K 2h19m\n",
      "  2700K .......... .......... .......... .......... ..........  0%  390K 2h20m\n",
      "  2750K .......... .......... .......... .......... ..........  0%  305K 2h22m\n",
      "  2800K .......... .......... .......... .......... ..........  0% 4.58M 2h20m\n",
      "  2850K .......... .......... .......... .......... ..........  0%  293K 2h22m\n",
      "  2900K .......... .......... .......... .......... ..........  0%  586K 2h22m\n",
      "  2950K .......... .......... .......... .......... ..........  0%  561K 2h21m\n",
      "  3000K .......... .......... .......... .......... ..........  0%  304K 2h23m\n",
      "  3050K .......... .......... .......... .......... ..........  0% 1.02M 2h22m\n",
      "  3100K .......... .......... .......... .......... ..........  0%  379K 2h23m\n",
      "  3150K .......... .......... .......... .......... ..........  0%  555K 2h23m\n",
      "  3200K .......... .......... .......... .......... ..........  0%  589K 2h23m\n",
      "  3250K .......... .......... .......... .......... ..........  0%  305K 2h24m\n",
      "  3300K .......... .......... .......... .......... ..........  0%  558K 2h24m\n",
      "  3350K .......... .......... .......... .......... ..........  0%  567K 2h24m\n",
      "  3400K .......... .......... .......... .......... ..........  0%  388K 2h25m\n",
      "  3450K .......... .......... .......... .......... ..........  0%  239K 2h28m\n",
      "  3500K .......... .......... .......... .......... ..........  0%  129M 2h25m\n",
      "  3550K .......... .......... .......... .......... ..........  0%  530K 2h25m\n",
      "  3600K .......... .......... .......... .......... ..........  0%  387K 2h26m\n",
      "  3650K .......... .......... .......... .......... ..........  0%  386K 2h27m\n",
      "  3700K .......... .......... .......... .......... ..........  0%  293K 2h28m\n",
      "  3750K .......... .......... .......... .......... ..........  0%  293K 2h30m\n",
      "  3800K .......... .......... .......... .......... ..........  0%  535K 2h30m\n",
      "  3850K .......... .......... .......... .......... ..........  0%  586K 2h30m\n",
      "  3900K .......... .......... .......... .......... ..........  0%  292K 2h31m\n",
      "  3950K .......... .......... .......... .......... ..........  0%  561K 2h31m\n",
      "  4000K .......... .......... .......... .......... ..........  0%  574K 2h31m\n",
      "  4050K .......... .......... .......... .......... ..........  0%  292K 2h32m\n",
      "  4100K .......... .......... .......... .......... ..........  0%  574K 2h32m\n",
      "  4150K .......... .......... .......... .......... ..........  0%  568K 2h32m\n",
      "  4200K .......... .......... .......... .......... ..........  0%  295K 2h33m\n",
      "  4250K .......... .......... .......... .......... ..........  0%  576K 2h33m\n",
      "  4300K .......... .......... .......... .......... ..........  0%  583K 2h32m\n",
      "  4350K .......... .......... .......... .......... ..........  0%  580K 2h32m\n",
      "  4400K .......... .......... .......... .......... ..........  0%  572K 2h32m\n",
      "  4450K .......... .......... .......... .......... ..........  0%  294K 2h33m\n",
      "  4500K .......... .......... .......... .......... ..........  0%  688K 2h33m\n",
      "  4550K .......... .......... .......... .......... ..........  0%  491K 2h33m\n",
      "  4600K .......... .......... .......... .......... ..........  0%  366K 2h33m\n",
      "  4650K .......... .......... .......... .......... ..........  0% 1.30M 2h32m\n",
      "  4700K .......... .......... .......... .......... ..........  0%  292K 2h33m\n",
      "  4750K .......... .......... .......... .......... ..........  0%  589K 2h33m\n",
      "  4800K .......... .......... .......... .......... ..........  0%  556K 2h33m\n",
      "  4850K .......... .......... .......... .......... ..........  0%  284K 2h34m\n",
      "  4900K .......... .......... .......... .......... ..........  0%  114M 2h33m\n",
      "  4950K .......... .......... .......... .......... ..........  0%  294K 2h34m\n",
      "  5000K .......... .......... .......... .......... ..........  0%  295K 2h35m\n",
      "  5050K .......... .......... .......... .......... ..........  0%  293K 2h36m\n",
      "  5100K .......... .......... .......... .......... ..........  0%  572K 2h36m\n",
      "  5150K .......... .......... .......... .......... ..........  0%  574K 2h35m\n",
      "  5200K .......... .......... .......... .......... ..........  0%  295K 2h36m\n",
      "  5250K .......... .......... .......... .......... ..........  0%  573K 2h36m\n",
      "  5300K .......... .......... .......... .......... ..........  0%  563K 2h36m\n",
      "  5350K .......... .......... .......... .......... ..........  0%  294K 2h37m\n",
      "  5400K .......... .......... .......... .......... ..........  0%  578K 2h37m\n",
      "  5450K .......... .......... .......... .......... ..........  0%  566K 2h37m\n",
      "  5500K .......... .......... .......... .......... ..........  0%  293K 2h38m\n",
      "  5550K .......... .......... .......... .......... ..........  0%  259K 2h39m\n",
      "  5600K .......... .......... .......... .......... ..........  0%  188M 2h37m\n",
      "  5650K .......... .......... .......... .......... ..........  0%  327K 2h38m\n",
      "  5700K .......... .......... .......... .......... ..........  0%  290K 2h39m\n",
      "  5750K .......... .......... .......... .......... ..........  0%  293K 2h40m\n",
      "  5800K .......... .......... .......... .......... ..........  0%  354K 2h40m\n",
      "  5850K .......... .......... .......... .......... ..........  0%  414K 2h41m\n",
      "  5900K .......... .......... .......... .......... ..........  0%  557K 2h40m\n",
      "  5950K .......... .......... .......... .......... ..........  0%  145K 2h43m\n",
      "  6000K .......... .......... .......... .......... ..........  0%  840K 2h43m\n",
      "  6050K .......... .......... .......... .......... ..........  0%  447K 2h43m\n",
      "  6100K .......... .......... .......... .......... ..........  0%  288K 2h44m\n",
      "  6150K .......... .......... .......... .......... ..........  0%  250K 2h45m\n",
      "  6200K .......... .......... .......... ......."
     ]
    }
   ],
   "source": [
    "DATASET_NAME = \"clear100_cvpr2022\"\n",
    "ROOT = Path(\"../data\")\n",
    "DATA_ROOT = ROOT / DATASET_NAME\n",
    "\n",
    "pixel_transforms = transforms.Compose(\n",
    "              [\n",
    "              transforms.Resize([224, 244]),\n",
    "              transforms.ToTensor()\n",
    "              ]\n",
    "       )\n",
    "per_pixel_mean = get_dataset_per_pixel_mean(_CLEARImage(DATA_ROOT, data_name=\"clear100_cvpr2022\", download=True, split=\"train\", seed=seed, transform=pixel_transforms))\n",
    "\n",
    "transforms_group = dict(\n",
    "       train=(\n",
    "       transforms.Compose(\n",
    "              [\n",
    "              transforms.Resize([224, 244]),\n",
    "              \n",
    "              transforms.ToTensor(),\n",
    "              lambda img_pattern: img_pattern - per_pixel_mean,\n",
    "              transforms.RandomCrop([224, 224])\n",
    "              # icarl_clear100_augment_data,\n",
    "              ]\n",
    "       ),\n",
    "       None,\n",
    "       ),\n",
    "       eval=(\n",
    "       transforms.Compose(\n",
    "              [\n",
    "              transforms.Resize([224, 244]),\n",
    "              transforms.ToTensor(),\n",
    "              lambda img_pattern: img_pattern - per_pixel_mean,\n",
    "              ]\n",
    "       ),\n",
    "       None,\n",
    "       )\n",
    ")\n",
    "\n",
    "train_set = _CLEARImage(DATA_ROOT, data_name=\"clear100_cvpr2022\", download=True, split=\"train\", seed=seed)\n",
    "test_set = _CLEARImage(DATA_ROOT, data_name=\"clear100_cvpr2022\", download=True, split=\"test\", seed=seed)\n",
    "\n",
    "train_set = AvalancheDataset(train_set, transform_groups=transforms_group, initial_transform_group=\"train\")\n",
    "test_set = AvalancheDataset(test_set, transform_groups=transforms_group, initial_transform_group=\"eval\")"
   ]
  },
  {
   "cell_type": "code",
   "execution_count": null,
   "metadata": {},
   "outputs": [
    {
     "data": {
      "text/html": [
       "Finishing last run (ID:2g5vm0oj) before initializing another..."
      ],
      "text/plain": [
       "<IPython.core.display.HTML object>"
      ]
     },
     "metadata": {},
     "output_type": "display_data"
    },
    {
     "data": {
      "text/html": [
       "Waiting for W&B process to finish... <strong style=\"color:green\">(success).</strong>"
      ],
      "text/plain": [
       "<IPython.core.display.HTML object>"
      ]
     },
     "metadata": {},
     "output_type": "display_data"
    },
    {
     "data": {
      "text/html": [
       "Synced <strong style=\"color:#cdcd00\">iCaRL-CLEAR100</strong>: <a href=\"https://wandb.ai/hopo55/Avalanche/runs/2g5vm0oj\" target=\"_blank\">https://wandb.ai/hopo55/Avalanche/runs/2g5vm0oj</a><br/>Synced 7 W&B file(s), 0 media file(s), 0 artifact file(s) and 0 other file(s)"
      ],
      "text/plain": [
       "<IPython.core.display.HTML object>"
      ]
     },
     "metadata": {},
     "output_type": "display_data"
    },
    {
     "data": {
      "text/html": [
       "Find logs at: <code>./wandb/run-20220612_085823-2g5vm0oj/logs</code>"
      ],
      "text/plain": [
       "<IPython.core.display.HTML object>"
      ]
     },
     "metadata": {},
     "output_type": "display_data"
    },
    {
     "data": {
      "text/html": [
       "Successfully finished last run (ID:2g5vm0oj). Initializing new run:<br/>"
      ],
      "text/plain": [
       "<IPython.core.display.HTML object>"
      ]
     },
     "metadata": {},
     "output_type": "display_data"
    },
    {
     "data": {
      "text/html": [
       "Tracking run with wandb version 0.12.18"
      ],
      "text/plain": [
       "<IPython.core.display.HTML object>"
      ]
     },
     "metadata": {},
     "output_type": "display_data"
    },
    {
     "data": {
      "text/html": [
       "Run data is saved locally in <code>/home/Archive/PC/Image/CLEAR/iCaRL/wandb/run-20220612_090442-co0ywzjv</code>"
      ],
      "text/plain": [
       "<IPython.core.display.HTML object>"
      ]
     },
     "metadata": {},
     "output_type": "display_data"
    },
    {
     "data": {
      "text/html": [
       "Syncing run <strong><a href=\"https://wandb.ai/hopo55/Avalanche/runs/co0ywzjv\" target=\"_blank\">iCaRL-CLEAR100</a></strong> to <a href=\"https://wandb.ai/hopo55/Avalanche\" target=\"_blank\">Weights & Biases</a> (<a href=\"https://wandb.me/run\" target=\"_blank\">docs</a>)<br/>"
      ],
      "text/plain": [
       "<IPython.core.display.HTML object>"
      ]
     },
     "metadata": {},
     "output_type": "display_data"
    },
    {
     "name": "stderr",
     "output_type": "stream",
     "text": [
      "/opt/conda/lib/python3.8/site-packages/avalanche/training/plugins/evaluation.py:81: UserWarning: No benchmark provided to the evaluation plugin. Metrics may be computed on inconsistent portion of streams, use at your own risk.\n",
      "  warnings.warn(\n"
     ]
    }
   ],
   "source": [
    "interactive_logger = InteractiveLogger()\n",
    "wandb_logger = WandBLogger(run_name=\"iCaRL-CLEAR100\")\n",
    "eval_plugin = EvaluationPlugin(\n",
    "    EpochAccuracy(),\n",
    "    ExperienceAccuracy(),\n",
    "    ExperienceLoss(),\n",
    "    ExperienceForgetting(),\n",
    "    ExperienceCPUUsage(),\n",
    "    ExperienceMaxGPU(gpu_id=0),\n",
    "    ExperienceMaxRAM(),\n",
    "    ExperienceTime(),\n",
    "    loggers=[interactive_logger, wandb_logger])"
   ]
  },
  {
   "cell_type": "code",
   "execution_count": null,
   "metadata": {},
   "outputs": [],
   "source": [
    "device = torch.device('cuda:0' if torch.cuda.is_available() else 'cpu')\n",
    "\n",
    "num_class = 100\n",
    "incremental = 5\n",
    "lr_milestones = [49, 63]\n",
    "lr_factor = 5.0\n",
    "# fixed_class_order = [4, 1, 7, 5, 3, 9, 0, 8, 6, 2]\n",
    "\n",
    "scenario = nc_benchmark(train_dataset=train_set,\n",
    "                        test_dataset=test_set,\n",
    "                        n_experiences=incremental,\n",
    "                        task_labels=True,\n",
    "                        seed=seed,\n",
    "                        shuffle=False,\n",
    "                        )\n",
    "\n",
    "model = IcarlNet(num_classes=num_class)    # n = ResidualBlock, c = input_dim\n",
    "model.to(device)\n",
    "\n",
    "optimizer = optim.SGD(model.parameters(), lr=2.0, momentum=0.9, weight_decay=1e-5)\n",
    "sched = LRSchedulerPlugin(\n",
    "        MultiStepLR(optimizer, lr_milestones, gamma=1.0 / lr_factor)\n",
    "    )"
   ]
  },
  {
   "cell_type": "code",
   "execution_count": null,
   "metadata": {},
   "outputs": [],
   "source": [
    "memory_size = 2000\n",
    "train_batch = 128\n",
    "eval_batch = 64\n",
    "epoch = 70\n",
    "\n",
    "# buffer_transform = transforms.Compose([icarl_clear100_augment_data])\n",
    "buffer_transform = transforms.Compose([transforms.RandomCrop([224, 224])])\n",
    "\n",
    "strategies = ICaRL(model.feature_extractor, model.classifier, optimizer, memory_size, buffer_transform=buffer_transform, fixed_memory=True, train_mb_size=train_batch, train_epochs=epoch, eval_mb_size=eval_batch, device=device, plugins=[sched], evaluator=eval_plugin)  # criterion = ICaRLLossPlugin()"
   ]
  },
  {
   "cell_type": "code",
   "execution_count": null,
   "metadata": {},
   "outputs": [
    {
     "name": "stdout",
     "output_type": "stream",
     "text": [
      "-- >> Start of training phase << --\n",
      "100%|██████████| 963/963 [10:49<00:00,  1.48it/s]   \n",
      "Epoch 0 ended.\n",
      "\tTop1_Acc_Epoch/train_phase/train_stream/Task000 = 0.1693\n",
      "100%|██████████| 963/963 [03:09<00:00,  5.09it/s]\n",
      "Epoch 1 ended.\n",
      "\tTop1_Acc_Epoch/train_phase/train_stream/Task000 = 0.2219\n",
      " 79%|███████▊  | 758/963 [03:04<00:55,  3.67it/s]"
     ]
    },
    {
     "ename": "RuntimeError",
     "evalue": "CUDA error: the launch timed out and was terminated\nCUDA kernel errors might be asynchronously reported at some other API call,so the stacktrace below might be incorrect.\nFor debugging consider passing CUDA_LAUNCH_BLOCKING=1.",
     "output_type": "error",
     "traceback": [
      "\u001b[0;31m---------------------------------------------------------------------------\u001b[0m",
      "\u001b[0;31mRuntimeError\u001b[0m                              Traceback (most recent call last)",
      "\u001b[0;32m/tmp/ipykernel_32453/2656878264.py\u001b[0m in \u001b[0;36m<module>\u001b[0;34m\u001b[0m\n\u001b[1;32m      1\u001b[0m \u001b[0;32mfor\u001b[0m \u001b[0mi\u001b[0m\u001b[0;34m,\u001b[0m \u001b[0mexp\u001b[0m \u001b[0;32min\u001b[0m \u001b[0menumerate\u001b[0m\u001b[0;34m(\u001b[0m\u001b[0mscenario\u001b[0m\u001b[0;34m.\u001b[0m\u001b[0mtrain_stream\u001b[0m\u001b[0;34m)\u001b[0m\u001b[0;34m:\u001b[0m\u001b[0;34m\u001b[0m\u001b[0;34m\u001b[0m\u001b[0m\n\u001b[1;32m      2\u001b[0m     \u001b[0meval_exps\u001b[0m \u001b[0;34m=\u001b[0m \u001b[0;34m[\u001b[0m\u001b[0me\u001b[0m \u001b[0;32mfor\u001b[0m \u001b[0me\u001b[0m \u001b[0;32min\u001b[0m \u001b[0mscenario\u001b[0m\u001b[0;34m.\u001b[0m\u001b[0mtest_stream\u001b[0m\u001b[0;34m]\u001b[0m\u001b[0;34m[\u001b[0m\u001b[0;34m:\u001b[0m \u001b[0mi\u001b[0m \u001b[0;34m+\u001b[0m \u001b[0;36m1\u001b[0m\u001b[0;34m]\u001b[0m\u001b[0;34m\u001b[0m\u001b[0;34m\u001b[0m\u001b[0m\n\u001b[0;32m----> 3\u001b[0;31m     \u001b[0mstrategies\u001b[0m\u001b[0;34m.\u001b[0m\u001b[0mtrain\u001b[0m\u001b[0;34m(\u001b[0m\u001b[0mexp\u001b[0m\u001b[0;34m)\u001b[0m\u001b[0;34m\u001b[0m\u001b[0;34m\u001b[0m\u001b[0m\n\u001b[0m\u001b[1;32m      4\u001b[0m     \u001b[0mstrategies\u001b[0m\u001b[0;34m.\u001b[0m\u001b[0meval\u001b[0m\u001b[0;34m(\u001b[0m\u001b[0meval_exps\u001b[0m\u001b[0;34m)\u001b[0m\u001b[0;34m\u001b[0m\u001b[0;34m\u001b[0m\u001b[0m\n",
      "\u001b[0;32m/opt/conda/lib/python3.8/site-packages/avalanche/training/templates/base_sgd.py\u001b[0m in \u001b[0;36mtrain\u001b[0;34m(self, experiences, eval_streams, **kwargs)\u001b[0m\n\u001b[1;32m    128\u001b[0m                                                     ExpSequence]]] = None,\n\u001b[1;32m    129\u001b[0m               **kwargs):\n\u001b[0;32m--> 130\u001b[0;31m         \u001b[0msuper\u001b[0m\u001b[0;34m(\u001b[0m\u001b[0;34m)\u001b[0m\u001b[0;34m.\u001b[0m\u001b[0mtrain\u001b[0m\u001b[0;34m(\u001b[0m\u001b[0mexperiences\u001b[0m\u001b[0;34m,\u001b[0m \u001b[0meval_streams\u001b[0m\u001b[0;34m,\u001b[0m \u001b[0;34m**\u001b[0m\u001b[0mkwargs\u001b[0m\u001b[0;34m)\u001b[0m\u001b[0;34m\u001b[0m\u001b[0;34m\u001b[0m\u001b[0m\n\u001b[0m\u001b[1;32m    131\u001b[0m         \u001b[0;32mreturn\u001b[0m \u001b[0mself\u001b[0m\u001b[0;34m.\u001b[0m\u001b[0mevaluator\u001b[0m\u001b[0;34m.\u001b[0m\u001b[0mget_last_metrics\u001b[0m\u001b[0;34m(\u001b[0m\u001b[0;34m)\u001b[0m\u001b[0;34m\u001b[0m\u001b[0;34m\u001b[0m\u001b[0m\n\u001b[1;32m    132\u001b[0m \u001b[0;34m\u001b[0m\u001b[0m\n",
      "\u001b[0;32m/opt/conda/lib/python3.8/site-packages/avalanche/training/templates/base.py\u001b[0m in \u001b[0;36mtrain\u001b[0;34m(self, experiences, eval_streams, **kwargs)\u001b[0m\n\u001b[1;32m    105\u001b[0m         \u001b[0;32mfor\u001b[0m \u001b[0mself\u001b[0m\u001b[0;34m.\u001b[0m\u001b[0mexperience\u001b[0m \u001b[0;32min\u001b[0m \u001b[0mexperiences\u001b[0m\u001b[0;34m:\u001b[0m\u001b[0;34m\u001b[0m\u001b[0;34m\u001b[0m\u001b[0m\n\u001b[1;32m    106\u001b[0m             \u001b[0mself\u001b[0m\u001b[0;34m.\u001b[0m\u001b[0m_before_training_exp\u001b[0m\u001b[0;34m(\u001b[0m\u001b[0;34m**\u001b[0m\u001b[0mkwargs\u001b[0m\u001b[0;34m)\u001b[0m\u001b[0;34m\u001b[0m\u001b[0;34m\u001b[0m\u001b[0m\n\u001b[0;32m--> 107\u001b[0;31m             \u001b[0mself\u001b[0m\u001b[0;34m.\u001b[0m\u001b[0m_train_exp\u001b[0m\u001b[0;34m(\u001b[0m\u001b[0mself\u001b[0m\u001b[0;34m.\u001b[0m\u001b[0mexperience\u001b[0m\u001b[0;34m,\u001b[0m \u001b[0meval_streams\u001b[0m\u001b[0;34m,\u001b[0m \u001b[0;34m**\u001b[0m\u001b[0mkwargs\u001b[0m\u001b[0;34m)\u001b[0m\u001b[0;34m\u001b[0m\u001b[0;34m\u001b[0m\u001b[0m\n\u001b[0m\u001b[1;32m    108\u001b[0m             \u001b[0mself\u001b[0m\u001b[0;34m.\u001b[0m\u001b[0m_after_training_exp\u001b[0m\u001b[0;34m(\u001b[0m\u001b[0;34m**\u001b[0m\u001b[0mkwargs\u001b[0m\u001b[0;34m)\u001b[0m\u001b[0;34m\u001b[0m\u001b[0;34m\u001b[0m\u001b[0m\n\u001b[1;32m    109\u001b[0m         \u001b[0mself\u001b[0m\u001b[0;34m.\u001b[0m\u001b[0m_after_training\u001b[0m\u001b[0;34m(\u001b[0m\u001b[0;34m**\u001b[0m\u001b[0mkwargs\u001b[0m\u001b[0;34m)\u001b[0m\u001b[0;34m\u001b[0m\u001b[0;34m\u001b[0m\u001b[0m\n",
      "\u001b[0;32m/opt/conda/lib/python3.8/site-packages/avalanche/training/templates/base_sgd.py\u001b[0m in \u001b[0;36m_train_exp\u001b[0;34m(self, experience, eval_streams, **kwargs)\u001b[0m\n\u001b[1;32m    176\u001b[0m                 \u001b[0;32mbreak\u001b[0m\u001b[0;34m\u001b[0m\u001b[0;34m\u001b[0m\u001b[0m\n\u001b[1;32m    177\u001b[0m \u001b[0;34m\u001b[0m\u001b[0m\n\u001b[0;32m--> 178\u001b[0;31m             \u001b[0mself\u001b[0m\u001b[0;34m.\u001b[0m\u001b[0mtraining_epoch\u001b[0m\u001b[0;34m(\u001b[0m\u001b[0;34m**\u001b[0m\u001b[0mkwargs\u001b[0m\u001b[0;34m)\u001b[0m\u001b[0;34m\u001b[0m\u001b[0;34m\u001b[0m\u001b[0m\n\u001b[0m\u001b[1;32m    179\u001b[0m             \u001b[0mself\u001b[0m\u001b[0;34m.\u001b[0m\u001b[0m_after_training_epoch\u001b[0m\u001b[0;34m(\u001b[0m\u001b[0;34m**\u001b[0m\u001b[0mkwargs\u001b[0m\u001b[0;34m)\u001b[0m\u001b[0;34m\u001b[0m\u001b[0;34m\u001b[0m\u001b[0m\n\u001b[1;32m    180\u001b[0m \u001b[0;34m\u001b[0m\u001b[0m\n",
      "\u001b[0;32m/opt/conda/lib/python3.8/site-packages/avalanche/training/templates/base_sgd.py\u001b[0m in \u001b[0;36mtraining_epoch\u001b[0;34m(self, **kwargs)\u001b[0m\n\u001b[1;32m    238\u001b[0m \u001b[0;34m\u001b[0m\u001b[0m\n\u001b[1;32m    239\u001b[0m             \u001b[0;31m# Loss & Backward\u001b[0m\u001b[0;34m\u001b[0m\u001b[0;34m\u001b[0m\u001b[0;34m\u001b[0m\u001b[0m\n\u001b[0;32m--> 240\u001b[0;31m             \u001b[0mself\u001b[0m\u001b[0;34m.\u001b[0m\u001b[0mloss\u001b[0m \u001b[0;34m+=\u001b[0m \u001b[0mself\u001b[0m\u001b[0;34m.\u001b[0m\u001b[0mcriterion\u001b[0m\u001b[0;34m(\u001b[0m\u001b[0;34m)\u001b[0m\u001b[0;34m\u001b[0m\u001b[0;34m\u001b[0m\u001b[0m\n\u001b[0m\u001b[1;32m    241\u001b[0m \u001b[0;34m\u001b[0m\u001b[0m\n\u001b[1;32m    242\u001b[0m             \u001b[0mself\u001b[0m\u001b[0;34m.\u001b[0m\u001b[0m_before_backward\u001b[0m\u001b[0;34m(\u001b[0m\u001b[0;34m**\u001b[0m\u001b[0mkwargs\u001b[0m\u001b[0;34m)\u001b[0m\u001b[0;34m\u001b[0m\u001b[0;34m\u001b[0m\u001b[0m\n",
      "\u001b[0;32m/opt/conda/lib/python3.8/site-packages/avalanche/training/templates/supervised.py\u001b[0m in \u001b[0;36mcriterion\u001b[0;34m(self)\u001b[0m\n\u001b[1;32m    148\u001b[0m     \u001b[0;32mdef\u001b[0m \u001b[0mcriterion\u001b[0m\u001b[0;34m(\u001b[0m\u001b[0mself\u001b[0m\u001b[0;34m)\u001b[0m\u001b[0;34m:\u001b[0m\u001b[0;34m\u001b[0m\u001b[0;34m\u001b[0m\u001b[0m\n\u001b[1;32m    149\u001b[0m         \u001b[0;34m\"\"\"Loss function.\"\"\"\u001b[0m\u001b[0;34m\u001b[0m\u001b[0;34m\u001b[0m\u001b[0m\n\u001b[0;32m--> 150\u001b[0;31m         \u001b[0;32mreturn\u001b[0m \u001b[0mself\u001b[0m\u001b[0;34m.\u001b[0m\u001b[0m_criterion\u001b[0m\u001b[0;34m(\u001b[0m\u001b[0mself\u001b[0m\u001b[0;34m.\u001b[0m\u001b[0mmb_output\u001b[0m\u001b[0;34m,\u001b[0m \u001b[0mself\u001b[0m\u001b[0;34m.\u001b[0m\u001b[0mmb_y\u001b[0m\u001b[0;34m)\u001b[0m\u001b[0;34m\u001b[0m\u001b[0;34m\u001b[0m\u001b[0m\n\u001b[0m\u001b[1;32m    151\u001b[0m \u001b[0;34m\u001b[0m\u001b[0m\n\u001b[1;32m    152\u001b[0m     \u001b[0;32mdef\u001b[0m \u001b[0m_before_training_exp\u001b[0m\u001b[0;34m(\u001b[0m\u001b[0mself\u001b[0m\u001b[0;34m,\u001b[0m \u001b[0;34m**\u001b[0m\u001b[0mkwargs\u001b[0m\u001b[0;34m)\u001b[0m\u001b[0;34m:\u001b[0m\u001b[0;34m\u001b[0m\u001b[0;34m\u001b[0m\u001b[0m\n",
      "\u001b[0;32m/opt/conda/lib/python3.8/site-packages/avalanche/training/losses.py\u001b[0m in \u001b[0;36m__call__\u001b[0;34m(self, logits, targets)\u001b[0m\n\u001b[1;32m     40\u001b[0m             \u001b[0mdevice\u001b[0m\u001b[0;34m=\u001b[0m\u001b[0mlogits\u001b[0m\u001b[0;34m.\u001b[0m\u001b[0mdevice\u001b[0m\u001b[0;34m,\u001b[0m\u001b[0;34m\u001b[0m\u001b[0;34m\u001b[0m\u001b[0m\n\u001b[1;32m     41\u001b[0m         )\n\u001b[0;32m---> 42\u001b[0;31m         \u001b[0mone_hot\u001b[0m\u001b[0;34m[\u001b[0m\u001b[0mrange\u001b[0m\u001b[0;34m(\u001b[0m\u001b[0mlen\u001b[0m\u001b[0;34m(\u001b[0m\u001b[0mtargets\u001b[0m\u001b[0;34m)\u001b[0m\u001b[0;34m)\u001b[0m\u001b[0;34m,\u001b[0m \u001b[0mtargets\u001b[0m\u001b[0;34m.\u001b[0m\u001b[0mlong\u001b[0m\u001b[0;34m(\u001b[0m\u001b[0;34m)\u001b[0m\u001b[0;34m]\u001b[0m \u001b[0;34m=\u001b[0m \u001b[0;36m1\u001b[0m\u001b[0;34m\u001b[0m\u001b[0;34m\u001b[0m\u001b[0m\n\u001b[0m\u001b[1;32m     43\u001b[0m \u001b[0;34m\u001b[0m\u001b[0m\n\u001b[1;32m     44\u001b[0m         \u001b[0;32mif\u001b[0m \u001b[0mself\u001b[0m\u001b[0;34m.\u001b[0m\u001b[0mold_logits\u001b[0m \u001b[0;32mis\u001b[0m \u001b[0;32mnot\u001b[0m \u001b[0;32mNone\u001b[0m\u001b[0;34m:\u001b[0m\u001b[0;34m\u001b[0m\u001b[0;34m\u001b[0m\u001b[0m\n",
      "\u001b[0;31mRuntimeError\u001b[0m: CUDA error: the launch timed out and was terminated\nCUDA kernel errors might be asynchronously reported at some other API call,so the stacktrace below might be incorrect.\nFor debugging consider passing CUDA_LAUNCH_BLOCKING=1."
     ]
    }
   ],
   "source": [
    "\n",
    "for i, exp in enumerate(scenario.train_stream):\n",
    "    eval_exps = [e for e in scenario.test_stream][: i + 1]\n",
    "    strategies.train(exp)\n",
    "    strategies.eval(eval_exps)"
   ]
  }
 ],
 "metadata": {
  "kernelspec": {
   "display_name": "Python 3.8.5 ('hspark')",
   "language": "python",
   "name": "python3"
  },
  "language_info": {
   "codemirror_mode": {
    "name": "ipython",
    "version": 3
   },
   "file_extension": ".py",
   "mimetype": "text/x-python",
   "name": "python",
   "nbconvert_exporter": "python",
   "pygments_lexer": "ipython3",
   "version": "3.8.5"
  },
  "orig_nbformat": 4,
  "vscode": {
   "interpreter": {
    "hash": "7200c97f9580f269913cae0521a31c8c9bc2a022b66e7eee6f7caa3cb908faad"
   }
  }
 },
 "nbformat": 4,
 "nbformat_minor": 2
}
