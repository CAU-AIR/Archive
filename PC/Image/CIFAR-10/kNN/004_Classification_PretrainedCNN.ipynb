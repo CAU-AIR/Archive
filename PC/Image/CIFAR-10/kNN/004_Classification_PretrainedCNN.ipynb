{
 "cells": [
  {
   "cell_type": "markdown",
   "metadata": {},
   "source": [
    "## Using CNN and NCM for CIFAR-10 feature extraction and classification\n",
    "\n",
    "### Summary\n",
    "CIFAR-10 데이터셋을 분류하기 위해 CNN을 이용하여 데이터셋에 대한 특징을 추출 후 NCM을 이용하여 각 class에 대한 평균 값을 이용하여 분류\n",
    "\n",
    "<span style=\"color: #2D3748; background-color:#fff5b1;\">Test size를 0.2로 10번 반복 실험한 결과 평균적으로 0.34의 정확도를 보여주고 있고, test 데이터 1개를 분류하는데 0.0011초의 시간이 걸린다.</span>"
   ]
  },
  {
   "cell_type": "code",
   "execution_count": 2,
   "metadata": {},
   "outputs": [
    {
     "name": "stderr",
     "output_type": "stream",
     "text": [
      "c:\\Users\\LAB\\Anaconda3\\envs\\lab\\lib\\site-packages\\numpy\\_distributor_init.py:30: UserWarning: loaded more than 1 DLL from .libs:\n",
      "c:\\Users\\LAB\\Anaconda3\\envs\\lab\\lib\\site-packages\\numpy\\.libs\\libopenblas.EL2C6PLE4ZYW3ECEVIV3OXXGRN2NRFM2.gfortran-win_amd64.dll\n",
      "c:\\Users\\LAB\\Anaconda3\\envs\\lab\\lib\\site-packages\\numpy\\.libs\\libopenblas.WCDJNK7YVMPZQ2ME2ZZHJJRJ3JIKNDB7.gfortran-win_amd64.dll\n",
      "c:\\Users\\LAB\\Anaconda3\\envs\\lab\\lib\\site-packages\\numpy\\.libs\\libopenblas.XWYDX2IKJW2NMTWSFYNGFUWKQU3LYTCZ.gfortran-win_amd64.dll\n",
      "  warnings.warn(\"loaded more than 1 DLL from .libs:\"\n",
      "<frozen importlib._bootstrap>:219: RuntimeWarning: scipy._lib.messagestream.MessageStream size changed, may indicate binary incompatibility. Expected 56 from C header, got 64 from PyObject\n"
     ]
    }
   ],
   "source": [
    "import time\n",
    "import random\n",
    "import numpy as np\n",
    "import torch\n",
    "import torch.nn as nn\n",
    "import torch.optim as optim\n",
    "import torch.backends.cudnn as cudnn\n",
    "from utils.util import Info\n",
    "import torchvision\n",
    "from torchvision import transforms\n",
    "from torch.utils.data import DataLoader\n",
    "from torchvision.models import resnet18\n",
    "from sklearn.neighbors import KNeighborsClassifier\n",
    "from utils.Data_Classifier import train, validate, save_checkpoint"
   ]
  },
  {
   "cell_type": "code",
   "execution_count": 3,
   "metadata": {},
   "outputs": [],
   "source": [
    "class Config(Info):\n",
    "    def __init__(self):\n",
    "        super(Info, self).__init__()\n",
    "        self.device = 'PC'\n",
    "        self.dataset = 'CIFAR_10'\n",
    "        self.test_size = 0.2\n",
    "        self.feature_size = 3072\n",
    "        self.method = 'kNN'\n",
    "        self.k = 1\n",
    "        self.distance = 'Euclidean'\n",
    "        self.reduction_method = [None, None] # method, n_components\n",
    "        self.iter = 10\n",
    "    "
   ]
  },
  {
   "cell_type": "code",
   "execution_count": 4,
   "metadata": {},
   "outputs": [
    {
     "name": "stdout",
     "output_type": "stream",
     "text": [
      "Device ── PC\n",
      "│\n",
      "├──Dataset\n",
      "│    └────CIFAR_10\n",
      "│    └────Train size 80%\n",
      "│    └────Feature size: 3072\n",
      "│\n",
      "├──Method\n",
      "│    └────kNN\n",
      "│    └────k = 1\n",
      "│    └────Euclidean\n",
      "│\n",
      "├──Dimension reduction\n",
      "│    └────Method: None\n",
      "│    └────Component size: None\n",
      "│    └────Feature Reduction Ratio: None%\n",
      "│\n",
      "└──Iteration\n",
      "    └────10\n",
      "PC - CIFAR_10(80%) - kNN - 10 iteration\n"
     ]
    }
   ],
   "source": [
    "cig = Config()\n",
    "cig.info()\n",
    "cig.print_rutin()"
   ]
  },
  {
   "cell_type": "code",
   "execution_count": 5,
   "metadata": {},
   "outputs": [],
   "source": [
    "seed = 0\n",
    "random.seed(seed)\n",
    "np.random.seed(seed)\n",
    "torch.manual_seed(seed)\n",
    "# torch.cuda.manual_seed_all(seed) # if use multi-GPU\n",
    "cudnn.deterministic = True  # 연산 처리 속도 감소 -> 모델과 코드를 배포해야 하는 연구 후반 단계에 사용\n",
    "cudnn.benchmark = False"
   ]
  },
  {
   "cell_type": "markdown",
   "metadata": {},
   "source": [
    "## Load CIFAR-10 Dataset"
   ]
  },
  {
   "cell_type": "code",
   "execution_count": 6,
   "metadata": {},
   "outputs": [
    {
     "name": "stdout",
     "output_type": "stream",
     "text": [
      "Files already downloaded and verified\n",
      "Files already downloaded and verified\n",
      "(50000, 32, 32, 3)\n",
      "(10000, 32, 32, 3)\n"
     ]
    }
   ],
   "source": [
    "transform_train = transforms.Compose([transforms.Resize(224),\n",
    "                                      transforms.RandomHorizontalFlip(),\n",
    "                                      transforms.ToTensor(),\n",
    "                                      transforms.Normalize((0.4914, 0.4822, 0.4465), (0.2023, 0.1994, 0.2010))\n",
    "                                      ])\n",
    "\n",
    "transform_test = transforms.Compose([transforms.Resize(224),\n",
    "                                     transforms.ToTensor(),                                     \n",
    "                                     transforms.Normalize((0.4914, 0.4822, 0.4465), (0.2023, 0.1994, 0.2010))\n",
    "                                     ])\n",
    "\n",
    "batch_size = 512\n",
    "\n",
    "trainset = torchvision.datasets.CIFAR10(root='../data', train=True, download=True, transform=transform_train)\n",
    "train_loader = DataLoader(trainset, batch_size=batch_size, shuffle=True, num_workers=2)\n",
    "\n",
    "validationset = torchvision.datasets.CIFAR10(root='../data', train=False, download=True, transform=transform_test)\n",
    "val_loader = DataLoader(validationset, batch_size=batch_size, shuffle=False, num_workers=2)\n",
    "\n",
    "print(trainset.data.shape)\n",
    "print(validationset.data.shape)"
   ]
  },
  {
   "cell_type": "code",
   "execution_count": 7,
   "metadata": {},
   "outputs": [],
   "source": [
    "from utils.NCM_Classifier import train, validate, save_checkpoint\n",
    "from sklearn.decomposition import PCA"
   ]
  },
  {
   "cell_type": "code",
   "execution_count": null,
   "metadata": {},
   "outputs": [],
   "source": [
    "device = torch.device('cuda:0' if torch.cuda.is_available() else 'cpu')\n",
    "\n",
    "num_class = 10\n",
    "\n",
    "model = resnet18(pretrained=True)\n",
    "for param in model.parameters():\n",
    "    param.requires_grad = False\n",
    "\n",
    "model.to(device)"
   ]
  },
  {
   "cell_type": "markdown",
   "metadata": {},
   "source": [
    "## Fine-tuning kNN(Euclidean) instead of Fully Connected Layer"
   ]
  },
  {
   "cell_type": "code",
   "execution_count": 8,
   "metadata": {},
   "outputs": [
    {
     "name": "stdout",
     "output_type": "stream",
     "text": [
      "\n",
      "Finished Training\n",
      "\n",
      "Total Training Time : 55.88 sec\n",
      "Total Validation Time : 23.83 sec\n",
      "\n",
      "Total Best Validation Accuracy : 80.29 %\n"
     ]
    }
   ],
   "source": [
    "best_acc = 0.\n",
    "\n",
    "# train for one epoch\n",
    "end = time.time()\n",
    "x_train, y_train = train(train_loader, model, device)\n",
    "\n",
    "knn = KNeighborsClassifier(cig.k, weights='distance', n_jobs=-1)\n",
    "knn.fit(x_train, y_train)\n",
    "train_time = time.time() - end\n",
    "\n",
    "# evaluate on validation set\n",
    "end = time.time()\n",
    "x_test, y_test = validate(val_loader, model, device)\n",
    "\n",
    "test_score = knn.score(x_test, y_test)\n",
    "val_time = time.time() - end\n",
    "\n",
    "print('\\nFinished Training\\n')\n",
    "print(\"Total Training Time : %.2f\" % train_time, \"sec\")\n",
    "print(\"Total Validation Time : %.2f\" % val_time, \"sec\")\n",
    "print(\"\\nTotal Best Validation Accuracy : %.2f\" % (test_score*100), \"%\")"
   ]
  },
  {
   "cell_type": "code",
   "execution_count": 9,
   "metadata": {},
   "outputs": [
    {
     "name": "stdout",
     "output_type": "stream",
     "text": [
      "\n",
      "Finished Training\n",
      "\n",
      "Total Training Time : 52.90 sec\n",
      "Total Validation Time : 12.55 sec\n",
      "\n",
      "Total Best Validation Accuracy : 63.18 %\n"
     ]
    }
   ],
   "source": [
    "best_acc = 0.\n",
    "\n",
    "# train for one epoch\n",
    "end = time.time()\n",
    "x_train, y_train = train(train_loader, model, device)\n",
    "\n",
    "pca = PCA(n_components=9, random_state=0)\n",
    "x_train = pca.fit_transform(x_train)\n",
    "\n",
    "knn = KNeighborsClassifier(cig.k, weights='distance', n_jobs=-1)\n",
    "knn.fit(x_train, y_train)\n",
    "train_time = time.time() - end\n",
    "\n",
    "# evaluate on validation set\n",
    "end = time.time()\n",
    "x_test, y_test = validate(val_loader, model, device)\n",
    "\n",
    "x_test = pca.transform(x_test)\n",
    "\n",
    "test_score = knn.score(x_test, y_test)\n",
    "val_time = time.time() - end\n",
    "\n",
    "print('\\nFinished Training\\n')\n",
    "print(\"Total Training Time : %.2f\" % train_time, \"sec\")\n",
    "print(\"Total Validation Time : %.2f\" % val_time, \"sec\")\n",
    "print(\"\\nTotal Best Validation Accuracy : %.2f\" % (test_score*100), \"%\")"
   ]
  },
  {
   "cell_type": "markdown",
   "metadata": {},
   "source": [
    "## Fine-tuning kNN(Mahalanobis) instead of Fully Connected Layer"
   ]
  },
  {
   "cell_type": "code",
   "execution_count": 10,
   "metadata": {},
   "outputs": [],
   "source": [
    "best_acc = 0.\n",
    "\n",
    "# train for one epoch\n",
    "end = time.time()\n",
    "x_train, y_train = train(train_loader, model, device)\n",
    "\n",
    "knn = KNeighborsClassifier(cig.k, weights='distance', metric='mahalanobis', metric_params={'VI': np.cov(x_train, rowvar=False)}, n_jobs=-1)\n",
    "knn.fit(x_train, y_train)\n",
    "train_time = time.time() - end\n",
    "\n",
    "# evaluate on validation set\n",
    "end = time.time()\n",
    "x_test, y_test = validate(val_loader, model, device)\n",
    "\n",
    "test_score = knn.score(x_test, y_test)\n",
    "val_time = time.time() - end\n",
    "\n",
    "print('\\nFinished Training\\n')\n",
    "print(\"Total Training Time : %.2f\" % train_time, \"sec\")\n",
    "print(\"Total Validation Time : %.2f\" % val_time, \"sec\")\n",
    "print(\"\\nTotal Best Validation Accuracy : %.2f\" % (test_score*100), \"%\")"
   ]
  },
  {
   "cell_type": "code",
   "execution_count": 9,
   "metadata": {},
   "outputs": [
    {
     "name": "stdout",
     "output_type": "stream",
     "text": [
      "\n",
      "Finished Training\n",
      "\n",
      "Total Training Time : 56.58 sec\n",
      "Total Validation Time : 11.97 sec\n",
      "\n",
      "Total Best Validation Accuracy : 10.26 %\n"
     ]
    },
    {
     "name": "stderr",
     "output_type": "stream",
     "text": [
      "c:\\Users\\LAB\\Anaconda3\\envs\\lab\\lib\\site-packages\\sklearn\\neighbors\\_base.py:600: RuntimeWarning: invalid value encountered in sqrt\n",
      "  return tree.query(*args, **kwargs)\n"
     ]
    }
   ],
   "source": [
    "best_acc = 0.\n",
    "\n",
    "# train for one epoch\n",
    "end = time.time()\n",
    "x_train, y_train = train(train_loader, model, device)\n",
    "\n",
    "pca = PCA(n_components=9, random_state=0)\n",
    "x_train = pca.fit_transform(x_train)\n",
    "\n",
    "knn = KNeighborsClassifier(cig.k, weights='distance', metric='mahalanobis', metric_params={'VI': np.cov(x_train, rowvar=False)}, n_jobs=-1)\n",
    "knn.fit(x_train, y_train)\n",
    "train_time = time.time() - end\n",
    "\n",
    "# evaluate on validation set\n",
    "end = time.time()\n",
    "x_test, y_test = validate(val_loader, model, device)\n",
    "\n",
    "x_test = pca.transform(x_test)\n",
    "\n",
    "test_score = knn.score(x_test, y_test)\n",
    "val_time = time.time() - end\n",
    "\n",
    "print('\\nFinished Training\\n')\n",
    "print(\"Total Training Time : %.2f\" % train_time, \"sec\")\n",
    "print(\"Total Validation Time : %.2f\" % val_time, \"sec\")\n",
    "print(\"\\nTotal Best Validation Accuracy : %.2f\" % (test_score*100), \"%\")"
   ]
  },
  {
   "cell_type": "markdown",
   "metadata": {},
   "source": [
    "## Fine-tuning kNN(Cosine) instead of Fully Connected Layer"
   ]
  },
  {
   "cell_type": "code",
   "execution_count": 10,
   "metadata": {},
   "outputs": [
    {
     "name": "stdout",
     "output_type": "stream",
     "text": [
      "\n",
      "Finished Training\n",
      "\n",
      "Total Training Time : 52.11 sec\n",
      "Total Validation Time : 22.72 sec\n",
      "\n",
      "Total Best Validation Accuracy : 81.89 %\n"
     ]
    }
   ],
   "source": [
    "best_acc = 0.\n",
    "\n",
    "# train for one epoch\n",
    "end = time.time()\n",
    "x_train, y_train = train(train_loader, model, device)\n",
    "\n",
    "knn = KNeighborsClassifier(cig.k, weights='distance', metric='cosine', n_jobs=-1)\n",
    "knn.fit(x_train, y_train)\n",
    "train_time = time.time() - end\n",
    "\n",
    "# evaluate on validation set\n",
    "end = time.time()\n",
    "x_test, y_test = validate(val_loader, model, device)\n",
    "\n",
    "test_score = knn.score(x_test, y_test)\n",
    "val_time = time.time() - end\n",
    "\n",
    "print('\\nFinished Training\\n')\n",
    "print(\"Total Training Time : %.2f\" % train_time, \"sec\")\n",
    "print(\"Total Validation Time : %.2f\" % val_time, \"sec\")\n",
    "print(\"\\nTotal Best Validation Accuracy : %.2f\" % (test_score*100), \"%\")"
   ]
  },
  {
   "cell_type": "code",
   "execution_count": 11,
   "metadata": {},
   "outputs": [
    {
     "name": "stdout",
     "output_type": "stream",
     "text": [
      "\n",
      "Finished Training\n",
      "\n",
      "Total Training Time : 46.06 sec\n",
      "Total Validation Time : 17.38 sec\n",
      "\n",
      "Total Best Validation Accuracy : 63.89 %\n"
     ]
    }
   ],
   "source": [
    "best_acc = 0.\n",
    "\n",
    "# train for one epoch\n",
    "end = time.time()\n",
    "x_train, y_train = train(train_loader, model, device)\n",
    "\n",
    "pca = PCA(n_components=9, random_state=0)\n",
    "x_train = pca.fit_transform(x_train)\n",
    "\n",
    "knn = KNeighborsClassifier(cig.k, weights='distance', metric='cosine', n_jobs=-1)\n",
    "knn.fit(x_train, y_train)\n",
    "train_time = time.time() - end\n",
    "\n",
    "# evaluate on validation set\n",
    "end = time.time()\n",
    "x_test, y_test = validate(val_loader, model, device)\n",
    "\n",
    "x_test = pca.transform(x_test)\n",
    "\n",
    "test_score = knn.score(x_test, y_test)\n",
    "val_time = time.time() - end\n",
    "\n",
    "print('\\nFinished Training\\n')\n",
    "print(\"Total Training Time : %.2f\" % train_time, \"sec\")\n",
    "print(\"Total Validation Time : %.2f\" % val_time, \"sec\")\n",
    "print(\"\\nTotal Best Validation Accuracy : %.2f\" % (test_score*100), \"%\")"
   ]
  }
 ],
 "metadata": {
  "interpreter": {
   "hash": "7a4110d7404e15bb29e9af898bb3709c8ad5c91368ac9d283907772f906a4946"
  },
  "kernelspec": {
   "display_name": "Python 3.8.5 ('lab')",
   "language": "python",
   "name": "python3"
  },
  "language_info": {
   "codemirror_mode": {
    "name": "ipython",
    "version": 3
   },
   "file_extension": ".py",
   "mimetype": "text/x-python",
   "name": "python",
   "nbconvert_exporter": "python",
   "pygments_lexer": "ipython3",
   "version": "3.8.5"
  },
  "orig_nbformat": 4
 },
 "nbformat": 4,
 "nbformat_minor": 2
}
