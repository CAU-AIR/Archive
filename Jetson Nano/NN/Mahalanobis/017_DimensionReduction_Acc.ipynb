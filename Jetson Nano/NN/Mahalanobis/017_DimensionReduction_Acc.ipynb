{
 "cells": [
  {
   "cell_type": "markdown",
   "metadata": {},
   "source": [
    "## Acceleromter Dataset Classification using K-Nearest Neighbors with Dimension Reduction"
   ]
  },
  {
   "cell_type": "code",
   "execution_count": 1,
   "metadata": {},
   "outputs": [
    {
     "name": "stderr",
     "output_type": "stream",
     "text": [
      "C:\\Users\\LAB\\Anaconda3\\envs\\lab\\lib\\site-packages\\numpy\\_distributor_init.py:30: UserWarning: loaded more than 1 DLL from .libs:\n",
      "C:\\Users\\LAB\\Anaconda3\\envs\\lab\\lib\\site-packages\\numpy\\.libs\\libopenblas.EL2C6PLE4ZYW3ECEVIV3OXXGRN2NRFM2.gfortran-win_amd64.dll\n",
      "C:\\Users\\LAB\\Anaconda3\\envs\\lab\\lib\\site-packages\\numpy\\.libs\\libopenblas.WCDJNK7YVMPZQ2ME2ZZHJJRJ3JIKNDB7.gfortran-win_amd64.dll\n",
      "  warnings.warn(\"loaded more than 1 DLL from .libs:\"\n",
      "<frozen importlib._bootstrap>:219: RuntimeWarning: scipy._lib.messagestream.MessageStream size changed, may indicate binary incompatibility. Expected 56 from C header, got 64 from PyObject\n"
     ]
    }
   ],
   "source": [
    "import time\n",
    "import numpy as np\n",
    "import pandas as pd\n",
    "import matplotlib.pyplot as plt\n",
    "from sklearn.decomposition import PCA\n",
    "from sklearn.model_selection import train_test_split\n",
    "from sklearn.metrics import ConfusionMatrixDisplay\n",
    "from sklearn.neighbors import KNeighborsClassifier\n",
    "from sklearn.neighbors import NearestCentroid"
   ]
  },
  {
   "cell_type": "markdown",
   "metadata": {},
   "source": [
    "## 3D K-Nearest Neighbor"
   ]
  },
  {
   "cell_type": "code",
   "execution_count": 2,
   "metadata": {},
   "outputs": [
    {
     "name": "stdout",
     "output_type": "stream",
     "text": [
      "(153000, 3)\n"
     ]
    }
   ],
   "source": [
    "df = pd.read_csv(\"../accelerometer.csv\")\n",
    "\n",
    "features = df[[\"pctid\", \"x\", \"y\", \"z\"]].values\n",
    "target = df[\"wconfid\"].values\n",
    "\n",
    "feature_names = [\"pctid\", \"x\", \"y\", \"z\"]\n",
    "target_names = [\"normal\", \"perpendicular\", \"opposite\"]\n",
    "\n",
    "pca = PCA(n_components=3)\n",
    "features = pca.fit(features).transform(features)\n",
    "\n",
    "feature_names = feature_names\n",
    "target = target\n",
    "target_names = target_names\n",
    "\n",
    "print(features.shape)"
   ]
  },
  {
   "cell_type": "code",
   "execution_count": 3,
   "metadata": {},
   "outputs": [
    {
     "name": "stdout",
     "output_type": "stream",
     "text": [
      "train size :  122400  / test size :  30600\n",
      "\n"
     ]
    },
    {
     "name": "stderr",
     "output_type": "stream",
     "text": [
      "C:\\Users\\LAB\\Anaconda3\\envs\\lab\\lib\\site-packages\\sklearn\\neighbors\\_base.py:600: RuntimeWarning: invalid value encountered in sqrt\n",
      "  return tree.query(*args, **kwargs)\n",
      "C:\\Users\\LAB\\Anaconda3\\envs\\lab\\lib\\site-packages\\sklearn\\neighbors\\_base.py:600: RuntimeWarning: invalid value encountered in sqrt\n",
      "  return tree.query(*args, **kwargs)\n"
     ]
    },
    {
     "name": "stdout",
     "output_type": "stream",
     "text": [
      "Training set score: 0.339624\n",
      "Test set score: 0.334641\n",
      "Training Time : 4.6555 sec\n"
     ]
    },
    {
     "name": "stderr",
     "output_type": "stream",
     "text": [
      "C:\\Users\\LAB\\Anaconda3\\envs\\lab\\lib\\site-packages\\sklearn\\neighbors\\_base.py:600: RuntimeWarning: invalid value encountered in sqrt\n",
      "  return tree.query(*args, **kwargs)\n"
     ]
    },
    {
     "data": {
      "image/png": "[encoded data removed]",
      "text/plain": [
       "<Figure size 432x288 with 2 Axes>"
      ]
     },
     "metadata": {
      "needs_background": "light"
     },
     "output_type": "display_data"
    }
   ],
   "source": [
    "seed = 0\n",
    "\n",
    "x_train, x_test, y_train, y_test = train_test_split(features, target, test_size=0.2, random_state=seed, shuffle=True)\n",
    "\n",
    "print(\"train size : \", len(x_train), \" / test size : \", len(x_test))\n",
    "print()\n",
    "\n",
    "k = 1\n",
    "\n",
    "start = time.perf_counter()\n",
    "\n",
    "knn = KNeighborsClassifier(k, weights='distance', metric='mahalanobis', metric_params={'V': np.cov(x_train, rowvar=False)}, n_jobs=-1)\n",
    "knn.fit(x_train, y_train)\n",
    "\n",
    "train_score = knn.score(x_train, y_train)\n",
    "test_score = knn.score(x_test, y_test)\n",
    "\n",
    "print(\"Training set score: %f\" % train_score)\n",
    "print(\"Test set score: %f\" % test_score)\n",
    "print(\"Training Time : %.4f\" % (time.perf_counter() - start), \"sec\")\n",
    "\n",
    "disp = ConfusionMatrixDisplay.from_estimator(knn, x_test, y_test, display_labels=target_names, cmap=plt.cm.Blues, normalize=\"true\")\n",
    "disp.ax_.set_title(\"Normalized confusion matrix\")\n",
    "plt.show()"
   ]
  },
  {
   "cell_type": "markdown",
   "metadata": {},
   "source": [
    "## 2D K-Nearest Neighbor"
   ]
  },
  {
   "cell_type": "code",
   "execution_count": 4,
   "metadata": {},
   "outputs": [
    {
     "name": "stdout",
     "output_type": "stream",
     "text": [
      "(153000, 2)\n"
     ]
    }
   ],
   "source": [
    "pca = PCA(n_components=2)\n",
    "features = pca.fit(features).transform(features)\n",
    "\n",
    "feature_names = feature_names\n",
    "target = target\n",
    "target_names = target_names\n",
    "\n",
    "print(features.shape)"
   ]
  },
  {
   "cell_type": "code",
   "execution_count": 5,
   "metadata": {},
   "outputs": [
    {
     "name": "stdout",
     "output_type": "stream",
     "text": [
      "train size :  122400  / test size :  30600\n",
      "\n"
     ]
    },
    {
     "name": "stderr",
     "output_type": "stream",
     "text": [
      "C:\\Users\\LAB\\Anaconda3\\envs\\lab\\lib\\site-packages\\sklearn\\neighbors\\_base.py:600: RuntimeWarning: invalid value encountered in sqrt\n",
      "  return tree.query(*args, **kwargs)\n",
      "C:\\Users\\LAB\\Anaconda3\\envs\\lab\\lib\\site-packages\\sklearn\\neighbors\\_base.py:600: RuntimeWarning: invalid value encountered in sqrt\n",
      "  return tree.query(*args, **kwargs)\n"
     ]
    },
    {
     "name": "stdout",
     "output_type": "stream",
     "text": [
      "Training set score: 0.652435\n",
      "Test set score: 0.399869\n",
      "Training Time : 8.5401 sec\n"
     ]
    },
    {
     "name": "stderr",
     "output_type": "stream",
     "text": [
      "C:\\Users\\LAB\\Anaconda3\\envs\\lab\\lib\\site-packages\\sklearn\\neighbors\\_base.py:600: RuntimeWarning: invalid value encountered in sqrt\n",
      "  return tree.query(*args, **kwargs)\n"
     ]
    },
    {
     "data": {
      "image/png": "[encoded data removed]",
      "text/plain": [
       "<Figure size 432x288 with 2 Axes>"
      ]
     },
     "metadata": {
      "needs_background": "light"
     },
     "output_type": "display_data"
    }
   ],
   "source": [
    "seed = 0\n",
    "\n",
    "x_train, x_test, y_train, y_test = train_test_split(features, target, test_size=0.2, random_state=seed, shuffle=True)\n",
    "\n",
    "print(\"train size : \", len(x_train), \" / test size : \", len(x_test))\n",
    "print()\n",
    "\n",
    "k = 1\n",
    "\n",
    "start = time.perf_counter()\n",
    "\n",
    "knn = KNeighborsClassifier(k, weights='distance', metric='mahalanobis', metric_params={'V': np.cov(x_train, rowvar=False)}, n_jobs=-1)\n",
    "knn.fit(x_train, y_train)\n",
    "\n",
    "train_score = knn.score(x_train, y_train)\n",
    "test_score = knn.score(x_test, y_test)\n",
    "\n",
    "print(\"Training set score: %f\" % train_score)\n",
    "print(\"Test set score: %f\" % test_score)\n",
    "print(\"Training Time : %.4f\" % (time.perf_counter() - start), \"sec\")\n",
    "\n",
    "disp = ConfusionMatrixDisplay.from_estimator(knn, x_test, y_test, display_labels=target_names, cmap=plt.cm.Blues, normalize=\"true\")\n",
    "disp.ax_.set_title(\"Normalized confusion matrix\")\n",
    "plt.show()"
   ]
  },
  {
   "cell_type": "markdown",
   "metadata": {},
   "source": [
    "## Nearest Centroid Classifier"
   ]
  },
  {
   "cell_type": "code",
   "execution_count": 6,
   "metadata": {},
   "outputs": [
    {
     "name": "stdout",
     "output_type": "stream",
     "text": [
      "train size :  122400  / test size :  30600\n",
      "\n",
      "Training set score: 0.338047\n",
      "Test set score: 0.335588\n",
      "Training Time : 0.0025 sec\n"
     ]
    },
    {
     "data": {
      "image/png": "[encoded data removed]",
      "text/plain": [
       "<Figure size 432x288 with 2 Axes>"
      ]
     },
     "metadata": {
      "needs_background": "light"
     },
     "output_type": "display_data"
    }
   ],
   "source": [
    "features = df[[\"pctid\", \"x\", \"y\", \"z\"]].values\n",
    "target = df[\"wconfid\"].values\n",
    "\n",
    "feature_names = [\"pctid\", \"x\", \"y\", \"z\"]\n",
    "target_names = [\"normal\", \"perpendicular\", \"opposite\"]\n",
    "\n",
    "seed = 0\n",
    "\n",
    "x_train, x_test, y_train, y_test = train_test_split(features, target, test_size=0.2, random_state=seed, shuffle=True)\n",
    "\n",
    "print(\"train size : \", len(x_train), \" / test size : \", len(x_test))\n",
    "print()\n",
    "\n",
    "k = 1\n",
    "\n",
    "nc = NearestCentroid()\n",
    "nc.fit(x_train, y_train)\n",
    "\n",
    "train_score = nc.score(x_train, y_train)\n",
    "\n",
    "start = time.perf_counter()\n",
    "test_score = nc.score(x_test, y_test)\n",
    "end = time.perf_counter() - start\n",
    "\n",
    "print(\"Training set score: %f\" % train_score)\n",
    "print(\"Test set score: %f\" % test_score)\n",
    "print(\"Training Time : %.4f\" % (time.perf_counter() - start), \"sec\")\n",
    "\n",
    "disp = ConfusionMatrixDisplay.from_estimator(nc, x_test, y_test, display_labels=target_names, cmap=plt.cm.Blues, normalize=\"true\")\n",
    "disp.ax_.set_title(\"Normalized confusion matrix\")\n",
    "plt.show()"
   ]
  }
 ],
 "metadata": {
  "interpreter": {
   "hash": "29414a2290beb65c31b67b1d96c06414c96949cde43a8cd89a1c21fe9ae0305b"
  },
  "kernelspec": {
   "display_name": "lab",
   "language": "python",
   "name": "lab"
  },
  "language_info": {
   "codemirror_mode": {
    "name": "ipython",
    "version": 3
   },
   "file_extension": ".py",
   "mimetype": "text/x-python",
   "name": "python",
   "nbconvert_exporter": "python",
   "pygments_lexer": "ipython3",
   "version": "3.8.5"
  },
  "orig_nbformat": 4
 },
 "nbformat": 4,
 "nbformat_minor": 2
}
