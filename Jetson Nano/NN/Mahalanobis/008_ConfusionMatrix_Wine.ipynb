{
 "cells": [
  {
   "cell_type": "markdown",
   "metadata": {},
   "source": [
    "## Confusion Matrix of Wine Dataset using k-NN\n",
    "\n",
    "분류 모델의 성능을 측정하기 위한 confusion matrix\n",
    "\n",
    "실제 타겟의 값을 분류 모델을 통해 예측한 값과 비교\n",
    "\n",
    "Confusion matrix를 통해 분류 모델의 성능을 확인할 수 있으며, 어떤 종류의 오류가 발생하는지 확인 가능\n",
    "\n",
    "<span style=\"color: #2D3748; background-color:#fff5b1;\">Test size 0.2로 10번 반복 실험한 결과 setosa에 대한 분류는 잘 하지만 versicolor와 virginica를 잘못 분류하는 경우가 발생하였다.</span>\n",
    "\n",
    "<span style=\"color: #2D3748; background-color:#fff5b1;\">반복 실험 동안 계속 잘 못 분류되는 데이터를 분석한 결과 virginica label을 가진 데이터가 versicolor 데이터 특징과 거의 동일하기 때문에 분류하지 못하였다.</span>"
   ]
  },
  {
   "cell_type": "code",
   "execution_count": 1,
   "metadata": {},
   "outputs": [],
   "source": [
    "import numpy as np\n",
    "import matplotlib.pyplot as plt\n",
    "from sklearn.datasets import load_wine\n",
    "from sklearn.neighbors import KNeighborsClassifier\n",
    "from sklearn.model_selection import train_test_split\n",
    "from sklearn.metrics import confusion_matrix, ConfusionMatrixDisplay"
   ]
  },
  {
   "cell_type": "code",
   "execution_count": 2,
   "metadata": {},
   "outputs": [],
   "source": [
    "wine = load_wine()\n",
    "\n",
    "features = wine.data\n",
    "target =  wine.target\n",
    "target_names =  wine.target_names"
   ]
  },
  {
   "cell_type": "code",
   "execution_count": 3,
   "metadata": {},
   "outputs": [
    {
     "name": "stdout",
     "output_type": "stream",
     "text": [
      "[0]  /  1\n"
     ]
    },
    {
     "data": {
      "text/plain": [
       "<sklearn.metrics._plot.confusion_matrix.ConfusionMatrixDisplay at 0x7f7fa15e48>"
      ]
     },
     "execution_count": 3,
     "metadata": {},
     "output_type": "execute_result"
    },
    {
     "data": {
      "image/png": "[encoded data removed]",
      "text/plain": [
       "<Figure size 432x288 with 2 Axes>"
      ]
     },
     "metadata": {
      "needs_background": "light"
     },
     "output_type": "display_data"
    },
    {
     "data": {
      "image/png": "[encoded data removed]",
      "text/plain": [
       "<Figure size 432x288 with 2 Axes>"
      ]
     },
     "metadata": {
      "needs_background": "light"
     },
     "output_type": "display_data"
    }
   ],
   "source": [
    "from collections import Counter\n",
    "\n",
    "max_seed = 10\n",
    "\n",
    "predict_list = []\n",
    "label_list = []\n",
    "error_value = []\n",
    "error_seed = []\n",
    "error = []\n",
    "error_list = []\n",
    "\n",
    "for seed in range(max_seed):\n",
    "    x_train, x_test, y_train, y_test = train_test_split(features, target, test_size=0.2, random_state=seed, shuffle=True)\n",
    "\n",
    "    k = 1\n",
    "\n",
    "    knn = KNeighborsClassifier(k, weights='distance', metric='mahalanobis', metric_params={'V': np.cov(x_train.T)}, n_jobs=-1)\n",
    "    knn.fit(x_train, y_train)\n",
    "    predict = knn.predict(x_test)\n",
    "\n",
    "    predict_list.extend(predict)\n",
    "    label_list.extend(y_test)\n",
    "\n",
    "    equal = np.equal(predict, y_test)\n",
    "    idx = np.where(equal == False)\n",
    "    if len(idx[0]) != 0:\n",
    "        for i in idx[0]:\n",
    "            values = x_test[i]\n",
    "            values_seed = np.append(values, seed)\n",
    "            values = np.append(values, y_test[i])\n",
    "            error_value.append(values)\n",
    "            error_seed.append(values_seed)\n",
    "    if seed == 3:\n",
    "        predict = knn.predict(np.array(x_test[30]).reshape(1, -1))\n",
    "        print(predict, \" / \", y_test[30])\n",
    "\n",
    "error_value = np.array(error_value)\n",
    "counter = Counter(map(tuple, error_value.tolist()))\n",
    "\n",
    "max_list = list(counter.values())\n",
    "max_count = np.max(max_list)\n",
    "\n",
    "for key, value in counter.items():\n",
    "    if value == max_count:\n",
    "        error.append(key)\n",
    "\n",
    "error_seed = np.array(error_seed)\n",
    "error = np.array(error)\n",
    "\n",
    "for idx, e_list in enumerate(error):\n",
    "    for s_idx, seed_list in enumerate(error_seed):\n",
    "        error_equal = np.array_equal(seed_list[:4], e_list[:4])\n",
    "        if error_equal:\n",
    "            add_seed = np.append(error[idx], seed_list[-1])\n",
    "            error_list.append(add_seed)\n",
    "\n",
    "cm = confusion_matrix(label_list, predict_list, labels=knn.classes_, normalize=\"true\")\n",
    "disp = ConfusionMatrixDisplay(confusion_matrix=cm, display_labels=target_names)\n",
    "disp.plot(cmap=plt.cm.Blues)\n",
    "\n",
    "cm = confusion_matrix(label_list, predict_list, labels=knn.classes_)\n",
    "disp = ConfusionMatrixDisplay(confusion_matrix=cm, display_labels=target_names)\n",
    "disp.plot(cmap=plt.cm.Blues)"
   ]
  },
  {
   "cell_type": "code",
   "execution_count": 4,
   "metadata": {},
   "outputs": [
    {
     "name": "stdout",
     "output_type": "stream",
     "text": [
      "Seed :  2\n",
      "Error data value :  [ 11.76   2.68   2.92  20.   103.     1.75   2.03   0.6    1.05   3.8\n",
      "   1.23   2.5  607.  ]  / label :  1\n",
      "1 th close distance value :  [ 13.28   1.64   2.84  15.5  110.     2.6    2.68   0.34   1.36   4.6\n",
      "   1.09   2.78 880.  ]  / label :  0  / distance :  3.962999179483382\n",
      "2 th close distance value :  [ 11.84   2.89   2.23  18.   112.     1.72   1.32   0.43   0.95   2.65\n",
      "   0.96   2.52 500.  ]  / label :  1  / distance :  4.110589914801391\n",
      "3 th close distance value :  [ 12.08   1.83   2.32  18.5   81.     1.6    1.5    0.52   1.64   2.4\n",
      "   1.08   2.27 480.  ]  / label :  1  / distance :  4.229801443539897\n",
      "-------------------------------------------------------\n",
      "Seed :  3\n",
      "Error data value :  [ 11.76   2.68   2.92  20.   103.     1.75   2.03   0.6    1.05   3.8\n",
      "   1.23   2.5  607.  ]  / label :  1\n",
      "1 th close distance value :  [ 13.28   1.64   2.84  15.5  110.     2.6    2.68   0.34   1.36   4.6\n",
      "   1.09   2.78 880.  ]  / label :  0  / distance :  4.165088533973879\n",
      "2 th close distance value :  [ 11.84   2.89   2.23  18.   112.     1.72   1.32   0.43   0.95   2.65\n",
      "   0.96   2.52 500.  ]  / label :  1  / distance :  4.224494153208141\n",
      "3 th close distance value :  [ 12.37   1.21   2.56  18.1   98.     2.42   2.65   0.37   2.08   4.6\n",
      "   1.19   2.3  678.  ]  / label :  1  / distance :  4.26209261120469\n",
      "-------------------------------------------------------\n",
      "Seed :  4\n",
      "Error data value :  [ 11.84   2.89   2.23  18.   112.     1.72   1.32   0.43   0.95   2.65\n",
      "   0.96   2.52 500.  ]  / label :  1\n",
      "1 th close distance value :  [ 12.85   3.27   2.58  22.   106.     1.65   0.6    0.6    0.96   5.58\n",
      "   0.87   2.11 570.  ]  / label :  2  / distance :  2.834541971508545\n",
      "2 th close distance value :  [ 13.24   3.98   2.29  17.5  103.     2.64   2.63   0.32   1.66   4.36\n",
      "   0.82   3.   680.  ]  / label :  0  / distance :  3.2005433853852003\n",
      "3 th close distance value :  [ 11.66   1.88   1.92  16.    97.     1.61   1.57   0.34   1.15   3.8\n",
      "   1.23   2.14 428.  ]  / label :  1  / distance :  3.3654602783564522\n",
      "-------------------------------------------------------\n",
      "Seed :  9\n",
      "Error data value :  [ 11.84   2.89   2.23  18.   112.     1.72   1.32   0.43   0.95   2.65\n",
      "   0.96   2.52 500.  ]  / label :  1\n",
      "1 th close distance value :  [ 12.96   3.45   2.35  18.5  106.     1.39   0.7    0.4    0.94   5.28\n",
      "   0.68   1.75 675.  ]  / label :  2  / distance :  2.5847131723953454\n",
      "2 th close distance value :  [ 12.2    3.03   2.32  19.    96.     1.25   0.49   0.4    0.73   5.5\n",
      "   0.66   1.83 510.  ]  / label :  2  / distance :  2.660593645425381\n",
      "3 th close distance value :  [ 12.85   3.27   2.58  22.   106.     1.65   0.6    0.6    0.96   5.58\n",
      "   0.87   2.11 570.  ]  / label :  2  / distance :  2.9689255316957577\n",
      "-------------------------------------------------------\n",
      "Seed :  6\n",
      "Error data value :  [ 11.81   2.12   2.74  21.5  134.     1.6    0.99   0.14   1.56   2.5\n",
      "   0.95   2.26 625.  ]  / label :  1\n",
      "1 th close distance value :  [ 12.86   1.35   2.32  18.   122.     1.51   1.25   0.21   0.94   4.1\n",
      "   0.76   1.29 630.  ]  / label :  2  / distance :  4.567027992495579\n",
      "2 th close distance value :  [ 12.96   3.45   2.35  18.5  106.     1.39   0.7    0.4    0.94   5.28\n",
      "   0.68   1.75 675.  ]  / label :  2  / distance :  4.703530179599567\n",
      "3 th close distance value :  [ 11.84   0.89   2.58  18.    94.     2.2    2.21   0.22   2.35   3.05\n",
      "   0.79   3.08 520.  ]  / label :  1  / distance :  4.7652766214249995\n",
      "-------------------------------------------------------\n",
      "Seed :  7\n",
      "Error data value :  [ 11.81   2.12   2.74  21.5  134.     1.6    0.99   0.14   1.56   2.5\n",
      "   0.95   2.26 625.  ]  / label :  1\n",
      "1 th close distance value :  [ 12.86   1.35   2.32  18.   122.     1.51   1.25   0.21   0.94   4.1\n",
      "   0.76   1.29 630.  ]  / label :  2  / distance :  4.648175891561422\n",
      "2 th close distance value :  [  13.51    1.8     2.65   19.    110.      2.35    2.53    0.29    1.54\n",
      "    4.2     1.1     2.87 1095.  ]  / label :  0  / distance :  4.754408645455458\n",
      "3 th close distance value :  [ 12.96   3.45   2.35  18.5  106.     1.39   0.7    0.4    0.94   5.28\n",
      "   0.68   1.75 675.  ]  / label :  2  / distance :  4.758518799787353\n",
      "-------------------------------------------------------\n"
     ]
    }
   ],
   "source": [
    "from scipy.spatial.distance import mahalanobis\n",
    "np.set_printoptions(precision=6, suppress=True)\n",
    "\n",
    "k = 3\n",
    "\n",
    "for e in error_list:\n",
    "    print(\"Seed : \", int(e[-1]))\n",
    "    print(\"Error data value : \", e[:13], \" / label : \", int(e[-2]))\n",
    "\n",
    "    x_train, x_test, y_train, y_test = train_test_split(features, target, test_size=0.2, random_state=int(e[-1]), shuffle=True)\n",
    "    knn = KNeighborsClassifier(k, weights='distance', metric='mahalanobis', metric_params={'V': np.cov(x_train.T)}, n_jobs=-1)\n",
    "    knn.fit(x_train, y_train)\n",
    "\n",
    "    dist_list, index_list = knn.kneighbors(np.array(e[:13]).reshape(1, -1), k)\n",
    "\n",
    "    for s, index in enumerate(index_list[0]):\n",
    "        print(s+1, \"th close distance value : \", x_train[index], \" / label : \", y_train[index], \" / distance : \", dist_list[0][s])\n",
    "    print(\"-----\" * 11)"
   ]
  }
 ],
 "metadata": {
  "interpreter": {
   "hash": "31f2aee4e71d21fbe5cf8b01ff0e069b9275f58929596ceb00d14d90e3e16cd6"
  },
  "kernelspec": {
   "display_name": "lab",
   "language": "python",
   "name": "python3"
  },
  "language_info": {
   "codemirror_mode": {
    "name": "ipython",
    "version": 3
   },
   "file_extension": ".py",
   "mimetype": "text/x-python",
   "name": "python",
   "nbconvert_exporter": "python",
   "pygments_lexer": "ipython3",
   "version": "3.6.9"
  },
  "orig_nbformat": 4
 },
 "nbformat": 4,
 "nbformat_minor": 2
}
