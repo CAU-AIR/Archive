{
 "cells": [
  {
   "cell_type": "markdown",
   "metadata": {},
   "source": [
    "## Confusion Matrix of Iris Dataset using k-NN\n",
    "\n",
    "분류 모델의 성능을 측정하기 위한 confusion matrix\n",
    "\n",
    "실제 타겟의 값을 분류 모델을 통해 예측한 값과 비교\n",
    "\n",
    "Confusion matrix를 통해 분류 모델의 성능을 확인할 수 있으며, 어떤 종류의 오류가 발생하는지 확인 가능\n",
    "\n",
    "<span style=\"color: #2D3748; background-color:#fff5b1;\">Test size 0.2로 10번 반복 실험한 결과 setosa에 대한 분류는 잘 하지만 versicolor와 virginica를 잘못 분류하는 경우가 발생하였다.</span>\n",
    "\n",
    "<span style=\"color: #2D3748; background-color:#fff5b1;\">반복 실험 동안 계속 잘 못 분류되는 데이터를 분석한 결과 virginica label을 가진 데이터가 versicolor 데이터 특징과 거의 동일하기 때문에 분류하지 못하였다.</span>"
   ]
  },
  {
   "cell_type": "code",
   "execution_count": 1,
   "metadata": {},
   "outputs": [],
   "source": [
    "import numpy as np\n",
    "import matplotlib.pyplot as plt\n",
    "from sklearn.datasets import load_iris\n",
    "from sklearn.neighbors import KNeighborsClassifier\n",
    "from sklearn.model_selection import train_test_split\n",
    "from sklearn.metrics import confusion_matrix, ConfusionMatrixDisplay"
   ]
  },
  {
   "cell_type": "code",
   "execution_count": 2,
   "metadata": {},
   "outputs": [],
   "source": [
    "iris = load_iris()\n",
    "\n",
    "features = iris.data\n",
    "target = iris.target\n",
    "target_names = iris.target_names"
   ]
  },
  {
   "cell_type": "code",
   "execution_count": 3,
   "metadata": {},
   "outputs": [
    {
     "data": {
      "text/plain": [
       "<sklearn.metrics._plot.confusion_matrix.ConfusionMatrixDisplay at 0x7f745827f0>"
      ]
     },
     "execution_count": 3,
     "metadata": {},
     "output_type": "execute_result"
    },
    {
     "data": {
      "image/png": "[encoded data removed]",
      "text/plain": [
       "<Figure size 432x288 with 2 Axes>"
      ]
     },
     "metadata": {
      "needs_background": "light"
     },
     "output_type": "display_data"
    },
    {
     "data": {
      "image/png": "[encoded data removed]",
      "text/plain": [
       "<Figure size 432x288 with 2 Axes>"
      ]
     },
     "metadata": {
      "needs_background": "light"
     },
     "output_type": "display_data"
    }
   ],
   "source": [
    "from collections import Counter\n",
    "\n",
    "max_seed = 10\n",
    "\n",
    "predict_list = []\n",
    "label_list = []\n",
    "error_value = []\n",
    "error_seed = []\n",
    "error = []\n",
    "error_list = []\n",
    "\n",
    "for seed in range(max_seed):\n",
    "    x_train, x_test, y_train, y_test = train_test_split(features, target, test_size=0.2, random_state=seed, shuffle=True)\n",
    "\n",
    "    k = 1\n",
    "\n",
    "    knn = KNeighborsClassifier(k, weights='distance', n_jobs=-1)\n",
    "    knn.fit(x_train, y_train)\n",
    "    predict = knn.predict(x_test)\n",
    "\n",
    "    predict_list.extend(predict)\n",
    "    label_list.extend(y_test)\n",
    "\n",
    "    equal = np.equal(predict, y_test)\n",
    "    idx = np.where(equal == False)\n",
    "    if len(idx[0]) != 0:\n",
    "        for idx in idx[0]:\n",
    "            values = x_test[idx]\n",
    "            values_seed = np.append(values, seed)\n",
    "            values = np.append(values, y_test[idx])\n",
    "            error_value.append(values)\n",
    "            error_seed.append(values_seed)\n",
    "\n",
    "error_value = np.array(error_value)\n",
    "counter = Counter(map(tuple, error_value.tolist()))\n",
    "\n",
    "max_list = list(counter.values())\n",
    "max_count = np.max(max_list)\n",
    "\n",
    "for key, value in counter.items():\n",
    "    if value == max_count or value > 5:\n",
    "        error.append(key)\n",
    "\n",
    "error_seed = np.array(error_seed)\n",
    "error = np.array(error)\n",
    "\n",
    "for idx, e_list in enumerate(error):\n",
    "    for s_idx, seed_list in enumerate(error_seed):\n",
    "        error_equal = np.array_equal(seed_list[:4], e_list[:4])\n",
    "        if error_equal:\n",
    "            add_seed = np.append(error[idx], seed_list[-1])\n",
    "            error_list.append(add_seed)\n",
    "\n",
    "cm = confusion_matrix(label_list, predict_list, labels=knn.classes_, normalize=\"true\")\n",
    "disp = ConfusionMatrixDisplay(confusion_matrix=cm, display_labels=target_names)\n",
    "disp.plot(cmap=plt.cm.Blues)\n",
    "\n",
    "cm = confusion_matrix(label_list, predict_list, labels=knn.classes_)\n",
    "disp = ConfusionMatrixDisplay(confusion_matrix=cm, display_labels=target_names)\n",
    "disp.plot(cmap=plt.cm.Blues)"
   ]
  },
  {
   "cell_type": "markdown",
   "metadata": {},
   "source": [
    "## Analysis Dataset"
   ]
  },
  {
   "cell_type": "code",
   "execution_count": 4,
   "metadata": {},
   "outputs": [
    {
     "name": "stdout",
     "output_type": "stream",
     "text": [
      "Seed :  3\n",
      "Error data value :  [6.3 2.5 4.9 1.5]  / label :  1\n",
      "1 th close distance value :  [6.3 2.8 5.1 1.5]  / label :  2  / distance :  0.3605551275463984\n",
      "2 th close distance value :  [6.3 2.7 4.9 1.8]  / label :  2  / distance :  0.36055512754639907\n",
      "3 th close distance value :  [6.3 2.5 5.  1.9]  / label :  2  / distance :  0.41231056256176585\n",
      "-------------------------------------------------------\n",
      "Seed :  5\n",
      "Error data value :  [6.3 2.5 4.9 1.5]  / label :  1\n",
      "1 th close distance value :  [6.3 2.5 5.  1.9]  / label :  2  / distance :  0.41231056256176585\n",
      "2 th close distance value :  [6.  2.7 5.1 1.6]  / label :  1  / distance :  0.4242640687119282\n",
      "3 th close distance value :  [6.  2.2 5.  1.5]  / label :  2  / distance :  0.43588989435406705\n",
      "-------------------------------------------------------\n",
      "Seed :  6\n",
      "Error data value :  [6.3 2.5 4.9 1.5]  / label :  1\n",
      "1 th close distance value :  [6.3 2.8 5.1 1.5]  / label :  2  / distance :  0.3605551275463984\n",
      "2 th close distance value :  [6.3 2.5 5.  1.9]  / label :  2  / distance :  0.41231056256176585\n",
      "3 th close distance value :  [6.  2.7 5.1 1.6]  / label :  1  / distance :  0.4242640687119282\n",
      "-------------------------------------------------------\n",
      "Seed :  5\n",
      "Error data value :  [5.9 3.2 4.8 1.8]  / label :  1\n",
      "1 th close distance value :  [6.  3.  4.8 1.8]  / label :  2  / distance :  0.22360679774997896\n",
      "2 th close distance value :  [6.1 3.  4.9 1.8]  / label :  2  / distance :  0.2999999999999998\n",
      "3 th close distance value :  [5.9 3.  5.1 1.8]  / label :  2  / distance :  0.3605551275463989\n",
      "-------------------------------------------------------\n",
      "Seed :  7\n",
      "Error data value :  [5.9 3.2 4.8 1.8]  / label :  1\n",
      "1 th close distance value :  [6.1 3.  4.9 1.8]  / label :  2  / distance :  0.2999999999999998\n",
      "2 th close distance value :  [6.3 3.3 4.7 1.6]  / label :  1  / distance :  0.46904157598234236\n",
      "3 th close distance value :  [6.2 2.8 4.8 1.8]  / label :  2  / distance :  0.5000000000000001\n",
      "-------------------------------------------------------\n",
      "Seed :  8\n",
      "Error data value :  [5.9 3.2 4.8 1.8]  / label :  1\n",
      "1 th close distance value :  [6.  3.  4.8 1.8]  / label :  2  / distance :  0.22360679774997896\n",
      "2 th close distance value :  [5.9 3.  5.1 1.8]  / label :  2  / distance :  0.3605551275463989\n",
      "3 th close distance value :  [6.  3.4 4.5 1.6]  / label :  1  / distance :  0.4242640687119282\n",
      "-------------------------------------------------------\n",
      "Seed :  6\n",
      "Error data value :  [6.  2.2 5.  1.5]  / label :  2\n",
      "1 th close distance value :  [6.  2.7 5.1 1.6]  / label :  1  / distance :  0.5196152422706631\n",
      "2 th close distance value :  [6.2 2.2 4.5 1.5]  / label :  1  / distance :  0.5385164807134505\n",
      "3 th close distance value :  [6.3 2.5 5.  1.9]  / label :  2  / distance :  0.5830951894845299\n",
      "-------------------------------------------------------\n",
      "Seed :  7\n",
      "Error data value :  [6.  2.2 5.  1.5]  / label :  2\n",
      "1 th close distance value :  [6.3 2.5 4.9 1.5]  / label :  1  / distance :  0.43588989435406705\n",
      "2 th close distance value :  [6.  2.7 5.1 1.6]  / label :  1  / distance :  0.5196152422706631\n",
      "3 th close distance value :  [6.2 2.2 4.5 1.5]  / label :  1  / distance :  0.5385164807134505\n",
      "-------------------------------------------------------\n",
      "Seed :  8\n",
      "Error data value :  [6.  2.2 5.  1.5]  / label :  2\n",
      "1 th close distance value :  [6.3 2.5 4.9 1.5]  / label :  1  / distance :  0.43588989435406705\n",
      "2 th close distance value :  [6.  2.7 5.1 1.6]  / label :  1  / distance :  0.5196152422706631\n",
      "3 th close distance value :  [6.2 2.2 4.5 1.5]  / label :  1  / distance :  0.5385164807134505\n",
      "-------------------------------------------------------\n"
     ]
    }
   ],
   "source": [
    "k = 3\n",
    "\n",
    "for e in error_list:\n",
    "    print(\"Seed : \", int(e[-1]))\n",
    "    print(\"Error data value : \", e[:4], \" / label : \", int(e[-2]))\n",
    "\n",
    "    x_train, x_test, y_train, y_test = train_test_split(features, target, test_size=0.2, random_state=int(e[-1]), shuffle=True)\n",
    "    knn = KNeighborsClassifier(k, weights='distance', n_jobs=-1)\n",
    "    knn.fit(x_train, y_train)\n",
    "    \n",
    "    dist_list, index_list = knn.kneighbors(np.array(e[:4]).reshape(1, -1), k)\n",
    "\n",
    "    for s, index in enumerate(index_list[0]):\n",
    "        print(s+1, \"th close distance value : \", x_train[index], \" / label : \", y_train[index], \" / distance : \", dist_list[0][s])\n",
    "    print(\"-----\" * 11)"
   ]
  }
 ],
 "metadata": {
  "interpreter": {
   "hash": "31f2aee4e71d21fbe5cf8b01ff0e069b9275f58929596ceb00d14d90e3e16cd6"
  },
  "kernelspec": {
   "display_name": "lab",
   "language": "python",
   "name": "python3"
  },
  "language_info": {
   "codemirror_mode": {
    "name": "ipython",
    "version": 3
   },
   "file_extension": ".py",
   "mimetype": "text/x-python",
   "name": "python",
   "nbconvert_exporter": "python",
   "pygments_lexer": "ipython3",
   "version": "3.6.9"
  },
  "orig_nbformat": 4
 },
 "nbformat": 4,
 "nbformat_minor": 2
}
