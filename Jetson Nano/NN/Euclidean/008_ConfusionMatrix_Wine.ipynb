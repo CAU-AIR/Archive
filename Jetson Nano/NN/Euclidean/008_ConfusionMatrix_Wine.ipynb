{
 "cells": [
  {
   "cell_type": "markdown",
   "metadata": {},
   "source": [
    "## Confusion Matrix of Wine Dataset using k-NN\n",
    "\n",
    "분류 모델의 성능을 측정하기 위한 confusion matrix\n",
    "\n",
    "실제 타겟의 값을 분류 모델을 통해 예측한 값과 비교\n",
    "\n",
    "Confusion matrix를 통해 분류 모델의 성능을 확인할 수 있으며, 어떤 종류의 오류가 발생하는지 확인 가능\n",
    "\n",
    "<span style=\"color: #2D3748; background-color:#fff5b1;\">Test size 0.2로 10번 반복 실험한 결과 setosa에 대한 분류는 잘 하지만 versicolor와 virginica를 잘못 분류하는 경우가 발생하였다.</span>\n",
    "\n",
    "<span style=\"color: #2D3748; background-color:#fff5b1;\">반복 실험 동안 계속 잘 못 분류되는 데이터를 분석한 결과 virginica label을 가진 데이터가 versicolor 데이터 특징과 거의 동일하기 때문에 분류하지 못하였다.</span>"
   ]
  },
  {
   "cell_type": "code",
   "execution_count": 1,
   "metadata": {},
   "outputs": [],
   "source": [
    "import numpy as np\n",
    "import matplotlib.pyplot as plt\n",
    "from sklearn.datasets import load_wine\n",
    "from sklearn.neighbors import KNeighborsClassifier\n",
    "from sklearn.model_selection import train_test_split\n",
    "from sklearn.metrics import confusion_matrix, ConfusionMatrixDisplay"
   ]
  },
  {
   "cell_type": "code",
   "execution_count": 2,
   "metadata": {},
   "outputs": [],
   "source": [
    "wine = load_wine()\n",
    "\n",
    "features = wine.data\n",
    "target = wine.target\n",
    "target_names = wine.target_names"
   ]
  },
  {
   "cell_type": "code",
   "execution_count": 3,
   "metadata": {},
   "outputs": [
    {
     "data": {
      "text/plain": [
       "<sklearn.metrics._plot.confusion_matrix.ConfusionMatrixDisplay at 0x7f60303908>"
      ]
     },
     "execution_count": 3,
     "metadata": {},
     "output_type": "execute_result"
    },
    {
     "data": {
      "image/png": "[encoded data removed]",
      "text/plain": [
       "<Figure size 432x288 with 2 Axes>"
      ]
     },
     "metadata": {
      "needs_background": "light"
     },
     "output_type": "display_data"
    },
    {
     "data": {
      "image/png": "[encoded data removed]",
      "text/plain": [
       "<Figure size 432x288 with 2 Axes>"
      ]
     },
     "metadata": {
      "needs_background": "light"
     },
     "output_type": "display_data"
    }
   ],
   "source": [
    "from collections import Counter\n",
    "\n",
    "max_seed = 10\n",
    "\n",
    "predict_list = []\n",
    "label_list = []\n",
    "error_value = []\n",
    "error_seed = []\n",
    "error = []\n",
    "error_list = []\n",
    "\n",
    "for seed in range(max_seed):\n",
    "    x_train, x_test, y_train, y_test = train_test_split(features, target, test_size=0.2, random_state=seed, shuffle=True)\n",
    "\n",
    "    k = 1\n",
    "\n",
    "    knn = KNeighborsClassifier(k, weights='distance', n_jobs=-1)\n",
    "    knn.fit(x_train, y_train)\n",
    "    predict = knn.predict(x_test)\n",
    "\n",
    "    predict_list.extend(predict)\n",
    "    label_list.extend(y_test)\n",
    "\n",
    "    equal = np.equal(predict, y_test)\n",
    "    idx = np.where(equal == False)\n",
    "    if len(idx[0]) != 0:\n",
    "        for idx in idx[0]:\n",
    "            values = x_test[idx]\n",
    "            values_seed = np.append(values, seed)\n",
    "            values = np.append(values, y_test[idx])\n",
    "            error_value.append(values)\n",
    "            error_seed.append(values_seed)\n",
    "\n",
    "error_value = np.array(error_value)\n",
    "counter = Counter(map(tuple, error_value.tolist()))\n",
    "\n",
    "max_list = list(counter.values())\n",
    "max_count = np.max(max_list)\n",
    "\n",
    "for key, value in counter.items():\n",
    "    if value == max_count or value > 5:\n",
    "        error.append(key)\n",
    "\n",
    "error_seed = np.array(error_seed)\n",
    "error = np.array(error)\n",
    "\n",
    "for idx, e_list in enumerate(error):\n",
    "    for s_idx, seed_list in enumerate(error_seed):\n",
    "        error_equal = np.array_equal(seed_list[:13], e_list[:13])\n",
    "        if error_equal:\n",
    "            add_seed = np.append(error[idx], seed_list[-1])\n",
    "            error_list.append(add_seed)\n",
    "\n",
    "cm = confusion_matrix(label_list, predict_list, labels=knn.classes_, normalize=\"true\")\n",
    "disp = ConfusionMatrixDisplay(confusion_matrix=cm, display_labels=target_names)\n",
    "disp.plot(cmap=plt.cm.Blues)\n",
    "\n",
    "cm = confusion_matrix(label_list, predict_list, labels=knn.classes_)\n",
    "disp = ConfusionMatrixDisplay(confusion_matrix=cm, display_labels=target_names)\n",
    "disp.plot(cmap=plt.cm.Blues)"
   ]
  },
  {
   "cell_type": "markdown",
   "metadata": {},
   "source": [
    "## Analysis Dataset"
   ]
  },
  {
   "cell_type": "code",
   "execution_count": 4,
   "metadata": {},
   "outputs": [
    {
     "name": "stdout",
     "output_type": "stream",
     "text": [
      "Seed :  0\n",
      "Error data value :  [1.279e+01 2.670e+00 2.480e+00 2.200e+01 1.120e+02 1.480e+00 1.360e+00\n",
      " 2.400e-01 1.260e+00 1.080e+01 4.800e-01 1.470e+00 4.800e+02]  / label :  2\n",
      "1 th close distance value :  [1.184e+01 2.890e+00 2.230e+00 1.800e+01 1.120e+02 1.720e+00 1.320e+00\n",
      " 4.300e-01 9.500e-01 2.650e+00 9.600e-01 2.520e+00 5.000e+02]  / label :  1  / distance :  22.02181191455417\n",
      "2 th close distance value :  [1.27e+01 3.87e+00 2.40e+00 2.30e+01 1.01e+02 2.83e+00 2.55e+00 4.30e-01\n",
      " 1.95e+00 2.57e+00 1.19e+00 3.13e+00 4.63e+02]  / label :  1  / distance :  22.072559887788277\n",
      "3 th close distance value :  [1.35e+01 3.12e+00 2.62e+00 2.40e+01 1.23e+02 1.40e+00 1.57e+00 2.20e-01\n",
      " 1.25e+00 8.60e+00 5.90e-01 1.30e+00 5.00e+02]  / label :  2  / distance :  23.036019621453704\n",
      "-------------------------------------------------------\n",
      "Seed :  1\n",
      "Error data value :  [1.279e+01 2.670e+00 2.480e+00 2.200e+01 1.120e+02 1.480e+00 1.360e+00\n",
      " 2.400e-01 1.260e+00 1.080e+01 4.800e-01 1.470e+00 4.800e+02]  / label :  2\n",
      "1 th close distance value :  [ 11.56   2.05   3.23  28.5  119.     3.18   5.08   0.47   1.87   6.\n",
      "   0.93   3.69 465.  ]  / label :  1  / distance :  19.07967767023332\n",
      "2 th close distance value :  [1.184e+01 2.890e+00 2.230e+00 1.800e+01 1.120e+02 1.720e+00 1.320e+00\n",
      " 4.300e-01 9.500e-01 2.650e+00 9.600e-01 2.520e+00 5.000e+02]  / label :  1  / distance :  22.02181191455417\n",
      "3 th close distance value :  [1.27e+01 3.87e+00 2.40e+00 2.30e+01 1.01e+02 2.83e+00 2.55e+00 4.30e-01\n",
      " 1.95e+00 2.57e+00 1.19e+00 3.13e+00 4.63e+02]  / label :  1  / distance :  22.072559887788277\n",
      "-------------------------------------------------------\n",
      "Seed :  2\n",
      "Error data value :  [1.279e+01 2.670e+00 2.480e+00 2.200e+01 1.120e+02 1.480e+00 1.360e+00\n",
      " 2.400e-01 1.260e+00 1.080e+01 4.800e-01 1.470e+00 4.800e+02]  / label :  2\n",
      "1 th close distance value :  [ 11.56   2.05   3.23  28.5  119.     3.18   5.08   0.47   1.87   6.\n",
      "   0.93   3.69 465.  ]  / label :  1  / distance :  19.07967767023332\n",
      "2 th close distance value :  [1.184e+01 2.890e+00 2.230e+00 1.800e+01 1.120e+02 1.720e+00 1.320e+00\n",
      " 4.300e-01 9.500e-01 2.650e+00 9.600e-01 2.520e+00 5.000e+02]  / label :  1  / distance :  22.02181191455417\n",
      "3 th close distance value :  [1.27e+01 3.87e+00 2.40e+00 2.30e+01 1.01e+02 2.83e+00 2.55e+00 4.30e-01\n",
      " 1.95e+00 2.57e+00 1.19e+00 3.13e+00 4.63e+02]  / label :  1  / distance :  22.072559887788277\n",
      "-------------------------------------------------------\n",
      "Seed :  6\n",
      "Error data value :  [1.279e+01 2.670e+00 2.480e+00 2.200e+01 1.120e+02 1.480e+00 1.360e+00\n",
      " 2.400e-01 1.260e+00 1.080e+01 4.800e-01 1.470e+00 4.800e+02]  / label :  2\n",
      "1 th close distance value :  [ 11.56   2.05   3.23  28.5  119.     3.18   5.08   0.47   1.87   6.\n",
      "   0.93   3.69 465.  ]  / label :  1  / distance :  19.07967767023332\n",
      "2 th close distance value :  [1.184e+01 2.890e+00 2.230e+00 1.800e+01 1.120e+02 1.720e+00 1.320e+00\n",
      " 4.300e-01 9.500e-01 2.650e+00 9.600e-01 2.520e+00 5.000e+02]  / label :  1  / distance :  22.02181191455417\n",
      "3 th close distance value :  [1.27e+01 3.87e+00 2.40e+00 2.30e+01 1.01e+02 2.83e+00 2.55e+00 4.30e-01\n",
      " 1.95e+00 2.57e+00 1.19e+00 3.13e+00 4.63e+02]  / label :  1  / distance :  22.072559887788277\n",
      "-------------------------------------------------------\n",
      "Seed :  8\n",
      "Error data value :  [1.279e+01 2.670e+00 2.480e+00 2.200e+01 1.120e+02 1.480e+00 1.360e+00\n",
      " 2.400e-01 1.260e+00 1.080e+01 4.800e-01 1.470e+00 4.800e+02]  / label :  2\n",
      "1 th close distance value :  [ 11.56   2.05   3.23  28.5  119.     3.18   5.08   0.47   1.87   6.\n",
      "   0.93   3.69 465.  ]  / label :  1  / distance :  19.07967767023332\n",
      "2 th close distance value :  [1.184e+01 2.890e+00 2.230e+00 1.800e+01 1.120e+02 1.720e+00 1.320e+00\n",
      " 4.300e-01 9.500e-01 2.650e+00 9.600e-01 2.520e+00 5.000e+02]  / label :  1  / distance :  22.02181191455417\n",
      "3 th close distance value :  [1.27e+01 3.87e+00 2.40e+00 2.30e+01 1.01e+02 2.83e+00 2.55e+00 4.30e-01\n",
      " 1.95e+00 2.57e+00 1.19e+00 3.13e+00 4.63e+02]  / label :  1  / distance :  22.072559887788277\n",
      "-------------------------------------------------------\n",
      "Seed :  0\n",
      "Error data value :  [1.324e+01 2.590e+00 2.870e+00 2.100e+01 1.180e+02 2.800e+00 2.690e+00\n",
      " 3.900e-01 1.820e+00 4.320e+00 1.040e+00 2.930e+00 7.350e+02]  / label :  0\n",
      "1 th close distance value :  [1.334e+01 9.400e-01 2.360e+00 1.700e+01 1.100e+02 2.530e+00 1.300e+00\n",
      " 5.500e-01 4.200e-01 3.170e+00 1.020e+00 1.930e+00 7.500e+02]  / label :  1  / distance :  17.728680153920088\n",
      "2 th close distance value :  [1.34e+01 3.91e+00 2.48e+00 2.30e+01 1.02e+02 1.80e+00 7.50e-01 4.30e-01\n",
      " 1.41e+00 7.30e+00 7.00e-01 1.56e+00 7.50e+02]  / label :  2  / distance :  22.421558821812543\n",
      "3 th close distance value :  [1.371e+01 5.650e+00 2.450e+00 2.050e+01 9.500e+01 1.680e+00 6.100e-01\n",
      " 5.200e-01 1.060e+00 7.700e+00 6.400e-01 1.740e+00 7.400e+02]  / label :  2  / distance :  24.149258787797194\n",
      "-------------------------------------------------------\n",
      "Seed :  1\n",
      "Error data value :  [1.324e+01 2.590e+00 2.870e+00 2.100e+01 1.180e+02 2.800e+00 2.690e+00\n",
      " 3.900e-01 1.820e+00 4.320e+00 1.040e+00 2.930e+00 7.350e+02]  / label :  0\n",
      "1 th close distance value :  [1.334e+01 9.400e-01 2.360e+00 1.700e+01 1.100e+02 2.530e+00 1.300e+00\n",
      " 5.500e-01 4.200e-01 3.170e+00 1.020e+00 1.930e+00 7.500e+02]  / label :  1  / distance :  17.728680153920088\n",
      "2 th close distance value :  [1.358e+01 2.580e+00 2.690e+00 2.450e+01 1.050e+02 1.550e+00 8.400e-01\n",
      " 3.900e-01 1.540e+00 8.660e+00 7.400e-01 1.800e+00 7.500e+02]  / label :  2  / distance :  20.776525214770636\n",
      "3 th close distance value :  [1.34e+01 3.91e+00 2.48e+00 2.30e+01 1.02e+02 1.80e+00 7.50e-01 4.30e-01\n",
      " 1.41e+00 7.30e+00 7.00e-01 1.56e+00 7.50e+02]  / label :  2  / distance :  22.421558821812543\n",
      "-------------------------------------------------------\n",
      "Seed :  3\n",
      "Error data value :  [1.324e+01 2.590e+00 2.870e+00 2.100e+01 1.180e+02 2.800e+00 2.690e+00\n",
      " 3.900e-01 1.820e+00 4.320e+00 1.040e+00 2.930e+00 7.350e+02]  / label :  0\n",
      "1 th close distance value :  [1.334e+01 9.400e-01 2.360e+00 1.700e+01 1.100e+02 2.530e+00 1.300e+00\n",
      " 5.500e-01 4.200e-01 3.170e+00 1.020e+00 1.930e+00 7.500e+02]  / label :  1  / distance :  17.728680153920088\n",
      "2 th close distance value :  [1.358e+01 2.580e+00 2.690e+00 2.450e+01 1.050e+02 1.550e+00 8.400e-01\n",
      " 3.900e-01 1.540e+00 8.660e+00 7.400e-01 1.800e+00 7.500e+02]  / label :  2  / distance :  20.776525214770636\n",
      "3 th close distance value :  [1.34e+01 3.91e+00 2.48e+00 2.30e+01 1.02e+02 1.80e+00 7.50e-01 4.30e-01\n",
      " 1.41e+00 7.30e+00 7.00e-01 1.56e+00 7.50e+02]  / label :  2  / distance :  22.421558821812543\n",
      "-------------------------------------------------------\n",
      "Seed :  6\n",
      "Error data value :  [1.324e+01 2.590e+00 2.870e+00 2.100e+01 1.180e+02 2.800e+00 2.690e+00\n",
      " 3.900e-01 1.820e+00 4.320e+00 1.040e+00 2.930e+00 7.350e+02]  / label :  0\n",
      "1 th close distance value :  [1.334e+01 9.400e-01 2.360e+00 1.700e+01 1.100e+02 2.530e+00 1.300e+00\n",
      " 5.500e-01 4.200e-01 3.170e+00 1.020e+00 1.930e+00 7.500e+02]  / label :  1  / distance :  17.728680153920088\n",
      "2 th close distance value :  [1.358e+01 2.580e+00 2.690e+00 2.450e+01 1.050e+02 1.550e+00 8.400e-01\n",
      " 3.900e-01 1.540e+00 8.660e+00 7.400e-01 1.800e+00 7.500e+02]  / label :  2  / distance :  20.776525214770636\n",
      "3 th close distance value :  [1.34e+01 3.91e+00 2.48e+00 2.30e+01 1.02e+02 1.80e+00 7.50e-01 4.30e-01\n",
      " 1.41e+00 7.30e+00 7.00e-01 1.56e+00 7.50e+02]  / label :  2  / distance :  22.421558821812543\n",
      "-------------------------------------------------------\n",
      "Seed :  8\n",
      "Error data value :  [1.324e+01 2.590e+00 2.870e+00 2.100e+01 1.180e+02 2.800e+00 2.690e+00\n",
      " 3.900e-01 1.820e+00 4.320e+00 1.040e+00 2.930e+00 7.350e+02]  / label :  0\n",
      "1 th close distance value :  [1.334e+01 9.400e-01 2.360e+00 1.700e+01 1.100e+02 2.530e+00 1.300e+00\n",
      " 5.500e-01 4.200e-01 3.170e+00 1.020e+00 1.930e+00 7.500e+02]  / label :  1  / distance :  17.728680153920088\n",
      "2 th close distance value :  [1.358e+01 2.580e+00 2.690e+00 2.450e+01 1.050e+02 1.550e+00 8.400e-01\n",
      " 3.900e-01 1.540e+00 8.660e+00 7.400e-01 1.800e+00 7.500e+02]  / label :  2  / distance :  20.776525214770636\n",
      "3 th close distance value :  [1.34e+01 3.91e+00 2.48e+00 2.30e+01 1.02e+02 1.80e+00 7.50e-01 4.30e-01\n",
      " 1.41e+00 7.30e+00 7.00e-01 1.56e+00 7.50e+02]  / label :  2  / distance :  22.421558821812543\n",
      "-------------------------------------------------------\n"
     ]
    }
   ],
   "source": [
    "k = 3\n",
    "\n",
    "for e in error_list:\n",
    "    print(\"Seed : \", int(e[-1]))\n",
    "    print(\"Error data value : \", e[:13], \" / label : \", int(e[-2]))\n",
    "\n",
    "    x_train, x_test, y_train, y_test = train_test_split(features, target, test_size=0.2, random_state=int(e[-1]), shuffle=True)\n",
    "    knn = KNeighborsClassifier(k, weights='distance', n_jobs=-1)\n",
    "    knn.fit(x_train, y_train)\n",
    "    \n",
    "    dist_list, index_list = knn.kneighbors(np.array(e[:13]).reshape(1, -1), k)\n",
    "\n",
    "    for s, index in enumerate(index_list[0]):\n",
    "        print(s+1, \"th close distance value : \", x_train[index], \" / label : \", y_train[index], \" / distance : \", dist_list[0][s])\n",
    "    print(\"-----\" * 11)"
   ]
  }
 ],
 "metadata": {
  "interpreter": {
   "hash": "31f2aee4e71d21fbe5cf8b01ff0e069b9275f58929596ceb00d14d90e3e16cd6"
  },
  "kernelspec": {
   "display_name": "lab",
   "language": "python",
   "name": "python3"
  },
  "language_info": {
   "codemirror_mode": {
    "name": "ipython",
    "version": 3
   },
   "file_extension": ".py",
   "mimetype": "text/x-python",
   "name": "python",
   "nbconvert_exporter": "python",
   "pygments_lexer": "ipython3",
   "version": "3.6.9"
  },
  "orig_nbformat": 4
 },
 "nbformat": 4,
 "nbformat_minor": 2
}
