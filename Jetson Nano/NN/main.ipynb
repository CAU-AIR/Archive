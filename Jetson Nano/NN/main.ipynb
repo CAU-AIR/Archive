{
 "cells": [
  {
   "cell_type": "code",
   "execution_count": 3,
   "metadata": {},
   "outputs": [
    {
     "name": "stderr",
     "output_type": "stream",
     "text": [
      "<frozen importlib._bootstrap>:219: RuntimeWarning: numpy.ufunc size changed, may indicate binary incompatibility. Expected 216 from C header, got 232 from PyObject\n"
     ]
    }
   ],
   "source": [
    "from sklearn.neighbors import KNeighborsClassifier\n",
    "from sklearn.preprocessing import MinMaxScaler\n",
    "import numpy as np\n",
    "from tensorflow.keras.datasets import cifar10"
   ]
  },
  {
   "cell_type": "markdown",
   "metadata": {},
   "source": [
    "Normalized 0 to 1"
   ]
  },
  {
   "cell_type": "code",
   "execution_count": 4,
   "metadata": {},
   "outputs": [
    {
     "name": "stdout",
     "output_type": "stream",
     "text": [
      "x_train shape :  (50000, 3072)\n",
      "x_test shape :  (10000, 3072)\n"
     ]
    }
   ],
   "source": [
    "(x_train, y_train), (x_test, y_test) = cifar10.load_data()\n",
    "\n",
    "x_train = x_train / 255.\n",
    "x_test = x_test / 255.\n",
    "\n",
    "x_train = x_train.reshape(-1, 3072)\n",
    "x_test = x_test.reshape(-1, 3072)\n",
    "\n",
    "print(\"x_train shape : \", x_train.shape)\n",
    "print(\"x_test shape : \", x_test.shape)"
   ]
  },
  {
   "cell_type": "markdown",
   "metadata": {},
   "source": [
    "Euclidean 기반 최적의 k"
   ]
  },
  {
   "cell_type": "code",
   "execution_count": 31,
   "metadata": {},
   "outputs": [
    {
     "name": "stdout",
     "output_type": "stream",
     "text": [
      "K :  1 / Training set score: 1.000000\n",
      "K :  1 / Test set score: 0.353900\n",
      "K :  2 / Training set score: 1.000000\n",
      "K :  2 / Test set score: 0.353900\n",
      "K :  3 / Training set score: 1.000000\n",
      "K :  3 / Test set score: 0.356900\n",
      "K :  4 / Training set score: 1.000000\n",
      "K :  4 / Test set score: 0.354200\n",
      "K :  5 / Training set score: 1.000000\n",
      "K :  5 / Test set score: 0.356700\n",
      "K :  6 / Training set score: 1.000000\n",
      "K :  6 / Test set score: 0.356900\n",
      "K :  7 / Training set score: 1.000000\n",
      "K :  7 / Test set score: 0.350500\n",
      "K :  8 / Training set score: 1.000000\n",
      "K :  8 / Test set score: 0.354400\n",
      "K :  9 / Training set score: 1.000000\n",
      "K :  9 / Test set score: 0.353100\n",
      "K :  10 / Training set score: 1.000000\n",
      "K :  10 / Test set score: 0.351300\n"
     ]
    }
   ],
   "source": [
    "max_k = 10\n",
    "\n",
    "for k in range(max_k):\n",
    "    knn = KNeighborsClassifier(n_neighbors=k+1, weights=\"distance\", n_jobs=-1)  # metric : minkowski -> p가 2인경우 euclidean과 동일\n",
    "    knn.fit(x_train, np.ravel(y_train, order='C'))\n",
    "\n",
    "    print(\"K : \", k+1 , \"/ Training set score: %f\" % knn.score(x_train, y_train))\n",
    "    print(\"K : \", k+1 , \"/ Test set score: %f\" % knn.score(x_test, y_test))"
   ]
  },
  {
   "cell_type": "markdown",
   "metadata": {},
   "source": [
    "Uniform 기반 최적의 k"
   ]
  },
  {
   "cell_type": "code",
   "execution_count": null,
   "metadata": {},
   "outputs": [
    {
     "name": "stdout",
     "output_type": "stream",
     "text": [
      "K :  1 / Training set score: 1.000000\n",
      "K :  1 / Test set score: 0.353900\n",
      "K :  2 / Training set score: 0.634120\n",
      "K :  2 / Test set score: 0.311600\n",
      "K :  3 / Training set score: 0.579040\n",
      "K :  3 / Test set score: 0.330300\n",
      "K :  4 / Training set score: 0.541620\n",
      "K :  4 / Test set score: 0.339800\n",
      "K :  5 / Training set score: 0.505340\n",
      "K :  5 / Test set score: 0.339800\n",
      "K :  6 / Training set score: 0.480320\n",
      "K :  6 / Test set score: 0.340000\n",
      "K :  7 / Training set score: 0.464220\n",
      "K :  7 / Test set score: 0.335800\n",
      "K :  8 / Training set score: 0.452800\n",
      "K :  8 / Test set score: 0.341500\n",
      "K :  9 / Training set score: 0.442520\n",
      "K :  9 / Test set score: 0.339800\n",
      "K :  10 / Training set score: 0.432360\n",
      "K :  10 / Test set score: 0.338600\n"
     ]
    }
   ],
   "source": [
    "max_k = 10\n",
    "\n",
    "for k in range(max_k):\n",
    "    knn = KNeighborsClassifier(n_neighbors=k+1, n_jobs=-1)\n",
    "    knn.fit(x_train, np.ravel(y_train, order='C'))\n",
    "\n",
    "    print(\"K : \", k+1 , \"/ Training set score: %f\" % knn.score(x_train, y_train))\n",
    "    print(\"K : \", k+1 , \"/ Test set score: %f\" % knn.score(x_test, y_test))"
   ]
  },
  {
   "cell_type": "markdown",
   "metadata": {},
   "source": [
    "Normalized MinMaxScale"
   ]
  },
  {
   "cell_type": "code",
   "execution_count": 29,
   "metadata": {},
   "outputs": [
    {
     "name": "stdout",
     "output_type": "stream",
     "text": [
      "x_train shape :  (50000, 3072)\n",
      "x_test shape :  (10000, 3072)\n"
     ]
    }
   ],
   "source": [
    "(x_train, y_train), (x_test, y_test) = cifar10.load_data()\n",
    "\n",
    "x_train = x_train.reshape(-1, 3072)\n",
    "x_test = x_test.reshape(-1, 3072)\n",
    "\n",
    "min_max_scaler = MinMaxScaler()\n",
    "\n",
    "x_train_fit = min_max_scaler.fit(x_train)\n",
    "x_train = min_max_scaler.transform(x_train)\n",
    "\n",
    "x_test_fit = min_max_scaler.fit(x_test)\n",
    "x_test = min_max_scaler.transform(x_test)\n",
    "\n",
    "print(\"x_train shape : \", x_train.shape)\n",
    "print(\"x_test shape : \", x_test.shape)"
   ]
  },
  {
   "cell_type": "code",
   "execution_count": 30,
   "metadata": {},
   "outputs": [
    {
     "name": "stdout",
     "output_type": "stream",
     "text": [
      "K :  11 / Training set score: 0.432360\n",
      "K :  11 / Test set score: 0.338600\n"
     ]
    }
   ],
   "source": [
    "k = 10\n",
    "\n",
    "knn = KNeighborsClassifier(n_neighbors=k, n_jobs=-1)\n",
    "knn.fit(x_train, np.ravel(y_train, order='C'))\n",
    "\n",
    "print(\"Training set score: %f\" % knn.score(x_train, y_train))\n",
    "print(\"Test set score: %f\" % knn.score(x_test, y_test))"
   ]
  },
  {
   "cell_type": "markdown",
   "metadata": {},
   "source": [
    "***"
   ]
  },
  {
   "cell_type": "markdown",
   "metadata": {},
   "source": [
    "Large Margin Nearest Neighbor"
   ]
  },
  {
   "cell_type": "code",
   "execution_count": 5,
   "metadata": {},
   "outputs": [
    {
     "ename": "MemoryError",
     "evalue": "Unable to allocate 288. GiB for an array with shape (2, 6293505, 3072) and data type float64",
     "output_type": "error",
     "traceback": [
      "\u001b[1;31m---------------------------------------------------------------------------\u001b[0m",
      "\u001b[1;31mMemoryError\u001b[0m                               Traceback (most recent call last)",
      "\u001b[1;32m<ipython-input-5-d3a71008025b>\u001b[0m in \u001b[0;36m<module>\u001b[1;34m\u001b[0m\n\u001b[0;32m      5\u001b[0m \u001b[1;33m\u001b[0m\u001b[0m\n\u001b[0;32m      6\u001b[0m \u001b[0mlmnn\u001b[0m \u001b[1;33m=\u001b[0m \u001b[0mLMNN\u001b[0m\u001b[1;33m(\u001b[0m\u001b[0mk\u001b[0m\u001b[1;33m=\u001b[0m\u001b[0mk\u001b[0m\u001b[1;33m,\u001b[0m \u001b[0mmax_iter\u001b[0m\u001b[1;33m=\u001b[0m\u001b[1;36m100\u001b[0m\u001b[1;33m,\u001b[0m \u001b[0mrandom_state\u001b[0m\u001b[1;33m=\u001b[0m\u001b[0mseed\u001b[0m\u001b[1;33m)\u001b[0m\u001b[1;33m\u001b[0m\u001b[1;33m\u001b[0m\u001b[0m\n\u001b[1;32m----> 7\u001b[1;33m \u001b[0mlmnn\u001b[0m\u001b[1;33m.\u001b[0m\u001b[0mfit\u001b[0m\u001b[1;33m(\u001b[0m\u001b[0mx_train\u001b[0m\u001b[1;33m,\u001b[0m \u001b[0mnp\u001b[0m\u001b[1;33m.\u001b[0m\u001b[0mravel\u001b[0m\u001b[1;33m(\u001b[0m\u001b[0my_train\u001b[0m\u001b[1;33m,\u001b[0m \u001b[0morder\u001b[0m\u001b[1;33m=\u001b[0m\u001b[1;34m'C'\u001b[0m\u001b[1;33m)\u001b[0m\u001b[1;33m)\u001b[0m\u001b[1;33m\u001b[0m\u001b[1;33m\u001b[0m\u001b[0m\n\u001b[0m\u001b[0;32m      8\u001b[0m \u001b[1;33m\u001b[0m\u001b[0m\n\u001b[0;32m      9\u001b[0m \u001b[0mprint\u001b[0m\u001b[1;33m(\u001b[0m\u001b[1;34m\"Training set score: %f\"\u001b[0m \u001b[1;33m%\u001b[0m \u001b[0mlmnn\u001b[0m\u001b[1;33m.\u001b[0m\u001b[0mscore\u001b[0m\u001b[1;33m(\u001b[0m\u001b[0mx_train\u001b[0m\u001b[1;33m,\u001b[0m \u001b[0my_train\u001b[0m\u001b[1;33m)\u001b[0m\u001b[1;33m)\u001b[0m\u001b[1;33m\u001b[0m\u001b[1;33m\u001b[0m\u001b[0m\n",
      "\u001b[1;32m~\\Anaconda3\\envs\\lab\\lib\\site-packages\\metric_learn\\lmnn.py\u001b[0m in \u001b[0;36mfit\u001b[1;34m(self, X, y)\u001b[0m\n\u001b[0;32m    178\u001b[0m     \u001b[1;31m# first iteration: we compute variables (including objective and gradient)\u001b[0m\u001b[1;33m\u001b[0m\u001b[1;33m\u001b[0m\u001b[1;33m\u001b[0m\u001b[0m\n\u001b[0;32m    179\u001b[0m     \u001b[1;31m#  at initialization point\u001b[0m\u001b[1;33m\u001b[0m\u001b[1;33m\u001b[0m\u001b[1;33m\u001b[0m\u001b[0m\n\u001b[1;32m--> 180\u001b[1;33m     G, objective, total_active = self._loss_grad(X, L, dfG, k,\n\u001b[0m\u001b[0;32m    181\u001b[0m                                                  \u001b[0mreg\u001b[0m\u001b[1;33m,\u001b[0m \u001b[0mtarget_neighbors\u001b[0m\u001b[1;33m,\u001b[0m\u001b[1;33m\u001b[0m\u001b[1;33m\u001b[0m\u001b[0m\n\u001b[0;32m    182\u001b[0m                                                  label_inds)\n",
      "\u001b[1;32m~\\Anaconda3\\envs\\lab\\lib\\site-packages\\metric_learn\\lmnn.py\u001b[0m in \u001b[0;36m_loss_grad\u001b[1;34m(self, X, L, dfG, k, reg, target_neighbors, label_inds)\u001b[0m\n\u001b[0;32m    246\u001b[0m                                      label_inds, L)\n\u001b[0;32m    247\u001b[0m \u001b[1;33m\u001b[0m\u001b[0m\n\u001b[1;32m--> 248\u001b[1;33m     \u001b[0mg0\u001b[0m \u001b[1;33m=\u001b[0m \u001b[0m_inplace_paired_L2\u001b[0m\u001b[1;33m(\u001b[0m\u001b[1;33m*\u001b[0m\u001b[0mLx\u001b[0m\u001b[1;33m[\u001b[0m\u001b[0mimpostors\u001b[0m\u001b[1;33m]\u001b[0m\u001b[1;33m)\u001b[0m\u001b[1;33m\u001b[0m\u001b[1;33m\u001b[0m\u001b[0m\n\u001b[0m\u001b[0;32m    249\u001b[0m \u001b[1;33m\u001b[0m\u001b[0m\n\u001b[0;32m    250\u001b[0m     \u001b[1;31m# we reorder the target neighbors\u001b[0m\u001b[1;33m\u001b[0m\u001b[1;33m\u001b[0m\u001b[1;33m\u001b[0m\u001b[0m\n",
      "\u001b[1;31mMemoryError\u001b[0m: Unable to allocate 288. GiB for an array with shape (2, 6293505, 3072) and data type float64"
     ]
    }
   ],
   "source": [
    "from metric_learn import LMNN\n",
    "\n",
    "k = 10\n",
    "seed = 0\n",
    "\n",
    "lmnn = LMNN(k=k, max_iter=100, random_state=seed)\n",
    "lmnn.fit(x_train, np.ravel(y_train, order='C'))\n",
    "\n",
    "print(\"Training set score: %f\" % lmnn.score(x_train, y_train))\n",
    "print(\"Test set score: %f\" % lmnn.score(x_test, y_test))"
   ]
  }
 ],
 "metadata": {
  "interpreter": {
   "hash": "29414a2290beb65c31b67b1d96c06414c96949cde43a8cd89a1c21fe9ae0305b"
  },
  "kernelspec": {
   "display_name": "lab",
   "language": "python",
   "name": "lab"
  },
  "language_info": {
   "codemirror_mode": {
    "name": "ipython",
    "version": 3
   },
   "file_extension": ".py",
   "mimetype": "text/x-python",
   "name": "python",
   "nbconvert_exporter": "python",
   "pygments_lexer": "ipython3",
   "version": "3.8.5"
  },
  "orig_nbformat": 4
 },
 "nbformat": 4,
 "nbformat_minor": 2
}
