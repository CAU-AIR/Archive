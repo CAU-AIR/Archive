{
 "cells": [
  {
   "cell_type": "markdown",
   "metadata": {},
   "source": [
    "## Confusion Matrix of Iris Dataset using NCM\n",
    "\n",
    "분류 모델의 성능을 측정하기 위한 confusion matrix\n",
    "\n",
    "실제 타겟의 값을 분류 모델을 통해 예측한 값과 비교\n",
    "\n",
    "Confusion matrix를 통해 분류 모델의 성능을 확인할 수 있으며, 어떤 종류의 오류가 발생하는지 확인 가능\n",
    "\n",
    "<span style=\"color: #2D3748; background-color:#fff5b1;\">Test size 0.2로 10번 반복 실험한 결과 setosa에 대한 분류는 잘 하지만 versicolor와 virginica를 잘못 분류하는 경우가 발생하였다.</span>\n",
    "\n",
    "<span style=\"color: #2D3748; background-color:#fff5b1;\">반복 실험 동안 계속 잘 못 분류되는 데이터를 분석한 결과 virginica label을 가진 데이터가 versicolor 데이터 특징과 거의 동일하기 때문에 분류하지 못하였다.</span>"
   ]
  },
  {
   "cell_type": "code",
   "execution_count": 4,
   "metadata": {},
   "outputs": [],
   "source": [
    "import numpy as np\n",
    "import matplotlib.pyplot as plt\n",
    "from sklearn.datasets import load_iris\n",
    "from sklearn.neighbors import NearestCentroid\n",
    "from sklearn.model_selection import train_test_split\n",
    "from sklearn.metrics import confusion_matrix, ConfusionMatrixDisplay"
   ]
  },
  {
   "cell_type": "code",
   "execution_count": 5,
   "metadata": {},
   "outputs": [],
   "source": [
    "iris = load_iris()\n",
    "\n",
    "features = iris.data\n",
    "target = iris.target\n",
    "target_names = iris.target_names"
   ]
  },
  {
   "cell_type": "code",
   "execution_count": 9,
   "metadata": {},
   "outputs": [
    {
     "data": {
      "text/plain": [
       "<sklearn.metrics._plot.confusion_matrix.ConfusionMatrixDisplay at 0x7f64568f28>"
      ]
     },
     "execution_count": 9,
     "metadata": {},
     "output_type": "execute_result"
    },
    {
     "data": {
      "image/png": "[encoded data removed]",
      "text/plain": [
       "<Figure size 432x288 with 2 Axes>"
      ]
     },
     "metadata": {
      "needs_background": "light"
     },
     "output_type": "display_data"
    },
    {
     "data": {
      "image/png": "[encoded data removed]",
      "text/plain": [
       "<Figure size 432x288 with 2 Axes>"
      ]
     },
     "metadata": {
      "needs_background": "light"
     },
     "output_type": "display_data"
    }
   ],
   "source": [
    "from collections import Counter\n",
    "\n",
    "max_seed = 10\n",
    "\n",
    "predict_list = []\n",
    "label_list = []\n",
    "error_value = []\n",
    "error_seed = []\n",
    "error = []\n",
    "error_list = []\n",
    "\n",
    "for seed in range(max_seed):\n",
    "    x_train, x_test, y_train, y_test = train_test_split(features, target, test_size=0.2, random_state=seed, shuffle=True)\n",
    "\n",
    "    nc = NearestCentroid()\n",
    "    nc.fit(x_train, y_train)\n",
    "    predict = nc.predict(x_test)\n",
    "\n",
    "    predict_list.extend(predict)\n",
    "    label_list.extend(y_test)\n",
    "\n",
    "    equal = np.equal(predict, y_test)\n",
    "    idx = np.where(equal == False)\n",
    "    if len(idx[0]) != 0:\n",
    "        for idx in idx[0]:\n",
    "            values = x_test[idx]\n",
    "            values_seed = np.append(values, seed)\n",
    "            values = np.append(values, y_test[idx])\n",
    "            error_value.append(values)\n",
    "            error_seed.append(values_seed)\n",
    "\n",
    "error_value = np.array(error_value)\n",
    "counter = Counter(map(tuple, error_value.tolist()))\n",
    "\n",
    "max_list = list(counter.values())\n",
    "max_count = np.max(max_list)\n",
    "\n",
    "for key, value in counter.items():\n",
    "    if value == max_count:\n",
    "        error.append(key)\n",
    "\n",
    "error_seed = np.array(error_seed)\n",
    "error = np.array(error)\n",
    "\n",
    "for idx, e_list in enumerate(error):\n",
    "    for s_idx, seed_list in enumerate(error_seed):\n",
    "        error_equal = np.array_equal(seed_list[:4], e_list[:4])\n",
    "        if error_equal:\n",
    "            add_seed = np.append(error[idx], seed_list[-1])\n",
    "            error_list.append(add_seed)\n",
    "\n",
    "cm = confusion_matrix(label_list, predict_list, labels=nc.classes_, normalize=\"true\")\n",
    "disp = ConfusionMatrixDisplay(confusion_matrix=cm, display_labels=target_names)\n",
    "disp.plot(cmap=plt.cm.Blues)\n",
    "\n",
    "cm = confusion_matrix(label_list, predict_list, labels=nc.classes_)\n",
    "disp = ConfusionMatrixDisplay(confusion_matrix=cm, display_labels=target_names)\n",
    "disp.plot(cmap=plt.cm.Blues)"
   ]
  },
  {
   "cell_type": "code",
   "execution_count": 10,
   "metadata": {},
   "outputs": [
    {
     "name": "stdout",
     "output_type": "stream",
     "text": [
      "Seed :  1\n",
      "Error data value :  [6.7 3.  5.  1.7]  / label :  1\n",
      "1 th close mean value :  [6.525      2.95227273 5.53409091 2.02045455]  / label :  2  / distance :  0.6487272982062768\n",
      "2 th close mean value :  [5.94594595 2.73243243 4.22972973 1.30540541]  / label :  1  / distance :  1.178647997917482\n",
      "3 th close mean value :  [4.96153846 3.36666667 1.46666667 0.23333333]  / label :  0  / distance :  4.218085883515182\n",
      "-------------------------------------------------------\n",
      "Seed :  2\n",
      "Error data value :  [6.7 3.  5.  1.7]  / label :  1\n",
      "1 th close mean value :  [6.5952381  2.98095238 5.55952381 2.03333333]  / label :  2  / distance :  0.6599362643588177\n",
      "2 th close mean value :  [5.90714286 2.76190476 4.23333333 1.30952381]  / label :  1  / distance :  1.193968686561669\n",
      "3 th close mean value :  [5.07222222 3.5        1.44722222 0.24722222]  / label :  0  / distance :  4.199101535293438\n",
      "-------------------------------------------------------\n",
      "Seed :  7\n",
      "Error data value :  [6.7 3.  5.  1.7]  / label :  1\n",
      "1 th close mean value :  [6.65897436 2.99487179 5.60512821 2.05641026]  / label :  2  / distance :  0.7035039567944931\n",
      "2 th close mean value :  [5.91315789 2.71052632 4.19473684 1.28684211]  / label :  1  / distance :  1.233719462402761\n",
      "3 th close mean value :  [5.01395349 3.4255814  1.46511628 0.25348837]  / label :  0  / distance :  4.19662616557722\n",
      "-------------------------------------------------------\n",
      "Seed :  2\n",
      "Error data value :  [5.7 2.5 5.  2. ]  / label :  2\n",
      "1 th close mean value :  [5.90714286 2.76190476 4.23333333 1.30952381]  / label :  1  / distance :  1.0844525876985065\n",
      "2 th close mean value :  [6.5952381  2.98095238 5.55952381 2.03333333]  / label :  2  / distance :  1.1605793572369112\n",
      "3 th close mean value :  [5.07222222 3.5        1.44722222 0.24722222]  / label :  0  / distance :  4.133831735184056\n",
      "-------------------------------------------------------\n",
      "Seed :  3\n",
      "Error data value :  [5.7 2.5 5.  2. ]  / label :  2\n",
      "1 th close mean value :  [5.93   2.7875 4.2675 1.335 ]  / label :  1  / distance :  1.055621854643034\n",
      "2 th close mean value :  [6.5525 2.9875 5.5325 2.01  ]  / label :  2  / distance :  1.1171699736387473\n",
      "3 th close mean value :  [5.03   3.4325 1.465  0.2375]  / label :  0  / distance :  4.113524948265174\n",
      "-------------------------------------------------------\n",
      "Seed :  4\n",
      "Error data value :  [5.7 2.5 5.  2. ]  / label :  2\n",
      "1 th close mean value :  [5.94444444 2.79555556 4.23777778 1.31777778]  / label :  1  / distance :  1.0924816013932304\n",
      "2 th close mean value :  [6.58292683 3.00487805 5.54146341 2.05121951]  / label :  2  / distance :  1.153372315342677\n",
      "3 th close mean value :  [4.97941176 3.45294118 1.44117647 0.24411765]  / label :  0  / distance :  4.144356649894227\n",
      "-------------------------------------------------------\n",
      "Seed :  6\n",
      "Error data value :  [6.  2.2 5.  1.5]  / label :  2\n",
      "1 th close mean value :  [5.955  2.8075 4.28   1.34  ]  / label :  1  / distance :  0.9565987925980252\n",
      "2 th close mean value :  [6.57179487 2.99230769 5.55384615 2.05384615]  / label :  2  / distance :  1.2522747218407007\n",
      "3 th close mean value :  [5.00731707 3.4097561  1.44878049 0.24878049]  / label :  0  / distance :  4.077455027378897\n",
      "-------------------------------------------------------\n",
      "Seed :  7\n",
      "Error data value :  [6.  2.2 5.  1.5]  / label :  2\n",
      "1 th close mean value :  [5.91315789 2.71052632 4.19473684 1.28684211]  / label :  1  / distance :  0.9808484653152886\n",
      "2 th close mean value :  [6.65897436 2.99487179 5.60512821 2.05641026]  / label :  2  / distance :  1.319788200488467\n",
      "3 th close mean value :  [5.01395349 3.4255814  1.46511628 0.25348837]  / label :  0  / distance :  4.064914714815507\n",
      "-------------------------------------------------------\n",
      "Seed :  8\n",
      "Error data value :  [6.  2.2 5.  1.5]  / label :  2\n",
      "1 th close mean value :  [5.85609756 2.72195122 4.21463415 1.3097561 ]  / label :  1  / distance :  0.9726938130858377\n",
      "2 th close mean value :  [6.61282051 2.98717949 5.60512821 2.04358974]  / label :  2  / distance :  1.2871948104103752\n",
      "3 th close mean value :  [5.0225 3.4625 1.4525 0.2475]  / label :  0  / distance :  4.086921212844701\n",
      "-------------------------------------------------------\n"
     ]
    }
   ],
   "source": [
    "from scipy.spatial.distance import euclidean\n",
    "\n",
    "for e in error_list:\n",
    "    dist_arr = []\n",
    "    print(\"Seed : \", int(e[-1]))\n",
    "    print(\"Error data value : \", e[:4], \" / label : \", int(e[-2]))\n",
    "\n",
    "    x_train, x_test, y_train, y_test = train_test_split(features, target, test_size=0.2, random_state=int(e[-1]), shuffle=True)\n",
    "    nc = NearestCentroid()\n",
    "    nc.fit(x_train, y_train)\n",
    "\n",
    "    mean_list = nc.centroids_\n",
    "    mean_list.reshape(3, -1)\n",
    "    label = [\"0\", \"1\", \"2\"]\n",
    "    \n",
    "    for s, mean_value in enumerate(mean_list):\n",
    "        dist = euclidean(e[:4], mean_value)\n",
    "        dist_arr.append(dist)\n",
    "\n",
    "    dist = np.argsort(dist_arr)\n",
    "\n",
    "    for s, d in enumerate(dist):\n",
    "        print(s+1, \"th close mean value : \", mean_list[d], \" / label : \", label[d], \" / distance : \", dist_arr[d])\n",
    "    print(\"-----\" * 11)"
   ]
  }
 ],
 "metadata": {
  "interpreter": {
   "hash": "31f2aee4e71d21fbe5cf8b01ff0e069b9275f58929596ceb00d14d90e3e16cd6"
  },
  "kernelspec": {
   "display_name": "lab",
   "language": "python",
   "name": "python3"
  },
  "language_info": {
   "codemirror_mode": {
    "name": "ipython",
    "version": 3
   },
   "file_extension": ".py",
   "mimetype": "text/x-python",
   "name": "python",
   "nbconvert_exporter": "python",
   "pygments_lexer": "ipython3",
   "version": "3.6.9"
  },
  "orig_nbformat": 4
 },
 "nbformat": 4,
 "nbformat_minor": 2
}
