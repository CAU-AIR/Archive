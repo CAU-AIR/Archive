{
 "cells": [
  {
   "cell_type": "markdown",
   "metadata": {},
   "source": [
    "## Confusion Matrix of Make Dataset using k-NN\n",
    "\n",
    "분류 모델의 성능을 측정하기 위한 confusion matrix\n",
    "\n",
    "실제 타겟의 값을 분류 모델을 통해 예측한 값과 비교\n",
    "\n",
    "Confusion matrix를 통해 분류 모델의 성능을 확인할 수 있으며, 어떤 종류의 오류가 발생하는지 확인 가능"
   ]
  },
  {
   "cell_type": "code",
   "execution_count": 1,
   "metadata": {},
   "outputs": [
    {
     "name": "stderr",
     "output_type": "stream",
     "text": [
      "C:\\Users\\LAB\\Anaconda3\\envs\\lab\\lib\\site-packages\\numpy\\_distributor_init.py:30: UserWarning: loaded more than 1 DLL from .libs:\n",
      "C:\\Users\\LAB\\Anaconda3\\envs\\lab\\lib\\site-packages\\numpy\\.libs\\libopenblas.EL2C6PLE4ZYW3ECEVIV3OXXGRN2NRFM2.gfortran-win_amd64.dll\n",
      "C:\\Users\\LAB\\Anaconda3\\envs\\lab\\lib\\site-packages\\numpy\\.libs\\libopenblas.WCDJNK7YVMPZQ2ME2ZZHJJRJ3JIKNDB7.gfortran-win_amd64.dll\n",
      "  warnings.warn(\"loaded more than 1 DLL from .libs:\"\n",
      "<frozen importlib._bootstrap>:219: RuntimeWarning: scipy._lib.messagestream.MessageStream size changed, may indicate binary incompatibility. Expected 56 from C header, got 64 from PyObject\n"
     ]
    }
   ],
   "source": [
    "import numpy as np\n",
    "import matplotlib.pyplot as plt\n",
    "from sklearn.datasets import make_classification\n",
    "from sklearn.neighbors import KNeighborsClassifier\n",
    "from sklearn.model_selection import train_test_split\n",
    "from sklearn.metrics import confusion_matrix, ConfusionMatrixDisplay"
   ]
  },
  {
   "cell_type": "code",
   "execution_count": 2,
   "metadata": {},
   "outputs": [],
   "source": [
    "features, target = make_classification(n_samples=15000, n_features=4, n_informative=4, n_redundant=0, n_classes=3, n_clusters_per_class=1, random_state=0)\n",
    "target_names = [\"0\", \"1\", \"2\"]"
   ]
  },
  {
   "cell_type": "code",
   "execution_count": 3,
   "metadata": {},
   "outputs": [
    {
     "name": "stdout",
     "output_type": "stream",
     "text": [
      "[[-1.08371712 -0.57664458 -1.25943764  2.0153572   1.        ]\n",
      " [ 0.11527784 -1.67689707 -1.61673093 -1.42410517  0.        ]]\n"
     ]
    },
    {
     "data": {
      "text/plain": [
       "<sklearn.metrics._plot.confusion_matrix.ConfusionMatrixDisplay at 0x214f06bc160>"
      ]
     },
     "execution_count": 3,
     "metadata": {},
     "output_type": "execute_result"
    },
    {
     "data": {
      "image/png": "[encoded data removed]",
      "text/plain": [
       "<Figure size 432x288 with 2 Axes>"
      ]
     },
     "metadata": {
      "needs_background": "light"
     },
     "output_type": "display_data"
    },
    {
     "data": {
      "image/png": "[encoded data removed]",
      "text/plain": [
       "<Figure size 432x288 with 2 Axes>"
      ]
     },
     "metadata": {
      "needs_background": "light"
     },
     "output_type": "display_data"
    }
   ],
   "source": [
    "from collections import Counter\n",
    "\n",
    "max_seed = 10\n",
    "\n",
    "predict_list = []\n",
    "label_list = []\n",
    "error_value = []\n",
    "error_seed = []\n",
    "error = []\n",
    "error_list = []\n",
    "\n",
    "for seed in range(max_seed):\n",
    "    x_train, x_test, y_train, y_test = train_test_split(features, target, test_size=0.2, random_state=seed, shuffle=True)\n",
    "\n",
    "    k = 1\n",
    "\n",
    "    knn = KNeighborsClassifier(k, weights='distance', algorithm='brute', metric='mahalanobis', metric_params={'VI': np.cov(x_train)}, n_jobs=-1)\n",
    "    knn.fit(x_train, y_train)\n",
    "    predict = knn.predict(x_test)\n",
    "\n",
    "    predict_list.extend(predict)\n",
    "    label_list.extend(y_test)\n",
    "\n",
    "    equal = np.equal(predict, y_test)\n",
    "    idx = np.where(equal == False)\n",
    "    if len(idx[0]) != 0:\n",
    "        for idx in idx[0]:\n",
    "            values = x_test[idx]\n",
    "            values_seed = np.append(values, seed)\n",
    "            values = np.append(values, y_test[idx])\n",
    "            error_value.append(values)\n",
    "            error_seed.append(values_seed)\n",
    "\n",
    "error_value = np.array(error_value)\n",
    "counter = Counter(map(tuple, error_value.tolist()))\n",
    "\n",
    "max_list = list(counter.values())\n",
    "max_count = np.max(max_list)\n",
    "\n",
    "for key, value in counter.items():\n",
    "    if value == max_count:\n",
    "        error.append(key)\n",
    "\n",
    "error_seed = np.array(error_seed)\n",
    "error = np.array(error)\n",
    "print(error)\n",
    "\n",
    "for idx, e_list in enumerate(error):\n",
    "    for s_idx, seed_list in enumerate(error_seed):\n",
    "        error_equal = np.array_equal(seed_list[:4], e_list[:4])\n",
    "        if error_equal:\n",
    "            add_seed = np.append(error[idx], seed_list[-1])\n",
    "            error_list.append(add_seed)\n",
    "\n",
    "cm = confusion_matrix(label_list, predict_list, labels=knn.classes_, normalize=\"true\")\n",
    "disp = ConfusionMatrixDisplay(confusion_matrix=cm, display_labels=target_names)\n",
    "disp.plot(cmap=plt.cm.Blues)\n",
    "\n",
    "cm = confusion_matrix(label_list, predict_list, labels=knn.classes_)\n",
    "disp = ConfusionMatrixDisplay(confusion_matrix=cm, display_labels=target_names)\n",
    "disp.plot(cmap=plt.cm.Blues)"
   ]
  },
  {
   "cell_type": "code",
   "execution_count": 4,
   "metadata": {},
   "outputs": [
    {
     "name": "stdout",
     "output_type": "stream",
     "text": [
      "Seed :  1\n",
      "Error data value :  [-1.08371712 -0.57664458 -1.25943764  2.0153572 ]  / label :  1\n",
      "1 th close distance value :  [-1.78630092  1.99204997 -1.41382351 -0.96107476]  / label :  0  / distance :  0.003974123095991144\n",
      "2 th close distance value :  [-1.30679477  2.30328006 -1.19223812 -0.31069186]  / label :  0  / distance :  0.06763265888627532\n",
      "3 th close distance value :  [ 0.04318005 -2.12752036  1.12442024  0.16544483]  / label :  1  / distance :  0.11098748910021732\n",
      "-------------------------------------------------------\n",
      "Seed :  2\n",
      "Error data value :  [-1.08371712 -0.57664458 -1.25943764  2.0153572 ]  / label :  1\n",
      "1 th close distance value :  [-1.62876387  1.40506794 -0.37168018 -0.78905683]  / label :  0  / distance :  0.10494272510922809\n",
      "2 th close distance value :  [-1.53301596  2.17730009 -1.44523162 -0.41210583]  / label :  0  / distance :  0.10635225946538933\n",
      "3 th close distance value :  [-0.73038566  1.77131241 -0.62883563 -0.17316319]  / label :  0  / distance :  0.1425548137360399\n",
      "-------------------------------------------------------\n",
      "Seed :  3\n",
      "Error data value :  [-1.08371712 -0.57664458 -1.25943764  2.0153572 ]  / label :  1\n",
      "1 th close distance value :  [ 1.55054546 -0.41941878  0.1585274  -2.14944203]  / label :  2  / distance :  0.018249663618221067\n",
      "2 th close distance value :  [ 0.45862685 -0.59813192 -0.71341594  2.16179934]  / label :  1  / distance :  0.07586145158387317\n",
      "3 th close distance value :  [-1.80674174  0.77695916 -0.18704169  2.65555095]  / label :  1  / distance :  0.07589961328718256\n",
      "-------------------------------------------------------\n",
      "Seed :  5\n",
      "Error data value :  [-1.08371712 -0.57664458 -1.25943764  2.0153572 ]  / label :  1\n",
      "1 th close distance value :  [ 1.9193636  -0.10099207 -0.55129874 -1.66482601]  / label :  2  / distance :  0.07617591434615009\n",
      "2 th close distance value :  [ 1.00918863  0.88025133 -2.98461592 -0.14620288]  / label :  2  / distance :  0.08118256547195278\n",
      "3 th close distance value :  [-0.75578634 -0.27248947 -0.34313826  2.08769245]  / label :  1  / distance :  0.13388807482718007\n",
      "-------------------------------------------------------\n",
      "Seed :  7\n",
      "Error data value :  [-1.08371712 -0.57664458 -1.25943764  2.0153572 ]  / label :  1\n",
      "1 th close distance value :  [-0.55894257  1.83481619 -2.22966698  0.13398731]  / label :  0  / distance :  0.10665912552902844\n",
      "2 th close distance value :  [-0.99347787  3.57536402 -2.31152234  1.2982772 ]  / label :  0  / distance :  0.13778031839209315\n",
      "3 th close distance value :  [-0.78907297  1.6779378  -2.38514303  0.17583621]  / label :  0  / distance :  0.17082615097317713\n",
      "-------------------------------------------------------\n",
      "Seed :  9\n",
      "Error data value :  [-1.08371712 -0.57664458 -1.25943764  2.0153572 ]  / label :  1\n",
      "1 th close distance value :  [ 1.04028157 -2.23158319 -0.92510258 -0.80848244]  / label :  2  / distance :  0.06491791549608775\n",
      "2 th close distance value :  [ 0.72629619 -2.1933582  -0.85536274 -1.00934982]  / label :  2  / distance :  0.08584150289041645\n",
      "3 th close distance value :  [-2.52797305  0.36893365 -0.36937469  2.21617279]  / label :  1  / distance :  0.09493423929339546\n",
      "-------------------------------------------------------\n",
      "Seed :  1\n",
      "Error data value :  [ 0.11527784 -1.67689707 -1.61673093 -1.42410517]  / label :  0\n",
      "1 th close distance value :  [ 0.79931051 -0.25004042 -0.37732077 -1.37840238]  / label :  2  / distance :  0.054648045244273684\n",
      "2 th close distance value :  [ 0.29212923 -1.16226854 -1.35605607 -1.52822383]  / label :  0  / distance :  0.06380763603320054\n",
      "3 th close distance value :  [ 2.31439283  0.11248757 -1.25095149 -1.50728153]  / label :  2  / distance :  0.07390779283308263\n",
      "-------------------------------------------------------\n",
      "Seed :  2\n",
      "Error data value :  [ 0.11527784 -1.67689707 -1.61673093 -1.42410517]  / label :  0\n",
      "1 th close distance value :  [ 1.18791531 -2.73214402 -1.13118521 -0.81618885]  / label :  2  / distance :  0.012046738614473099\n",
      "2 th close distance value :  [ 1.12280819 -3.44814059 -1.68688808  0.68511049]  / label :  2  / distance :  0.03740429019841304\n",
      "3 th close distance value :  [-0.48402422  1.33855893 -2.22903287 -0.57796913]  / label :  0  / distance :  0.07092767755773641\n",
      "-------------------------------------------------------\n",
      "Seed :  3\n",
      "Error data value :  [ 0.11527784 -1.67689707 -1.61673093 -1.42410517]  / label :  0\n",
      "1 th close distance value :  [ 0.17253772 -1.92905568 -2.12159856 -1.85328803]  / label :  2  / distance :  0.020966028629858764\n",
      "2 th close distance value :  [-0.9625852   0.25594218  1.09694456  1.99930804]  / label :  1  / distance :  0.04633891464792076\n",
      "3 th close distance value :  [ 1.8850816   0.96092684 -1.21485869 -2.04806377]  / label :  2  / distance :  0.046883788134823315\n",
      "-------------------------------------------------------\n",
      "Seed :  6\n",
      "Error data value :  [ 0.11527784 -1.67689707 -1.61673093 -1.42410517]  / label :  0\n",
      "1 th close distance value :  [ 0.32953065  0.08292799 -0.67644807 -1.58142854]  / label :  2  / distance :  0.028991067673928447\n",
      "2 th close distance value :  [-0.08208533 -2.54960436 -1.54210237 -0.65429979]  / label :  2  / distance :  0.06260904060692865\n",
      "3 th close distance value :  [ 0.53855301 -1.36134176 -1.36008626 -1.38823149]  / label :  0  / distance :  0.06772914634156435\n",
      "-------------------------------------------------------\n",
      "Seed :  7\n",
      "Error data value :  [ 0.11527784 -1.67689707 -1.61673093 -1.42410517]  / label :  0\n",
      "1 th close distance value :  [ 1.13794593  0.03653094 -0.22196963 -0.60526668]  / label :  2  / distance :  0.048237140162344275\n",
      "2 th close distance value :  [ 1.07768636 -0.66806246 -1.70458639 -1.4366472 ]  / label :  2  / distance :  0.05590170235768469\n",
      "3 th close distance value :  [ 0.34167206 -1.48539947 -0.58726585 -0.43951869]  / label :  2  / distance :  0.07505132251289424\n",
      "-------------------------------------------------------\n",
      "Seed :  8\n",
      "Error data value :  [ 0.11527784 -1.67689707 -1.61673093 -1.42410517]  / label :  0\n",
      "1 th close distance value :  [-0.92268175 -0.67324247  1.37065743  1.05836425]  / label :  1  / distance :  0.023722332848933\n",
      "2 th close distance value :  [ 1.51649952 -0.35272439 -1.36623028 -0.24560196]  / label :  2  / distance :  0.028609932472431446\n",
      "3 th close distance value :  [-2.11340254e-05 -1.85559560e+00 -2.53639008e+00 -9.24925073e-01]  / label :  2  / distance :  0.053639221100913244\n",
      "-------------------------------------------------------\n"
     ]
    }
   ],
   "source": [
    "k = 3\n",
    "\n",
    "for e in error_list:\n",
    "    dist_arr = []\n",
    "    print(\"Seed : \", int(e[-1]))\n",
    "    print(\"Error data value : \", e[:4], \" / label : \", int(e[-2]))\n",
    "\n",
    "    x_train, x_test, y_train, y_test = train_test_split(features, target, test_size=0.2, random_state=int(e[-1]), shuffle=True)\n",
    "    knn = KNeighborsClassifier(k, weights='distance', algorithm='brute', metric='mahalanobis', metric_params={'VI': np.cov(x_train)}, n_jobs=-1)\n",
    "    knn.fit(x_train, y_train)\n",
    "    \n",
    "    dist_list, index_list = knn.kneighbors(np.array(e[:4]).reshape(1, -1), k)\n",
    "\n",
    "    for s, index in enumerate(index_list[0]):\n",
    "        print(s+1, \"th close distance value : \", x_train[index], \" / label : \", y_train[index], \" / distance : \", dist_list[0][s])\n",
    "    print(\"-----\" * 11)"
   ]
  }
 ],
 "metadata": {
  "interpreter": {
   "hash": "29414a2290beb65c31b67b1d96c06414c96949cde43a8cd89a1c21fe9ae0305b"
  },
  "kernelspec": {
   "display_name": "lab",
   "language": "python",
   "name": "lab"
  },
  "language_info": {
   "codemirror_mode": {
    "name": "ipython",
    "version": 3
   },
   "file_extension": ".py",
   "mimetype": "text/x-python",
   "name": "python",
   "nbconvert_exporter": "python",
   "pygments_lexer": "ipython3",
   "version": "3.8.5"
  },
  "orig_nbformat": 4
 },
 "nbformat": 4,
 "nbformat_minor": 2
}
