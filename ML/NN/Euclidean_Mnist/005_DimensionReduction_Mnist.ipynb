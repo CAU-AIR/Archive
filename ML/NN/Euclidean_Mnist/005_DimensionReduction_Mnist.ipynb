{
 "cells": [
  {
   "cell_type": "markdown",
   "metadata": {},
   "source": [
    "## Iris Dataset Classification using K-Nearest Neighbors with Dimension Reduction\n",
    "\n",
    "kNN을 이용하여 PCA가 적용된 Mnist 데이터셋 분류\n",
    "\n",
    "<span style=\"color: #2D3748; background-color:#fff5b1;\">PCA를 적용하여 feature의 수를 2개와 3개로 구성한 후 kNN을 이용하여 실험한 결과 정확도 측면에서는 PCA를 적용하지 않은 방법과 비슷하지만 분류 시간의 경우 PCA를 적용하지 않은 경우 시간이 증가하였다.</span>"
   ]
  },
  {
   "cell_type": "code",
   "execution_count": 1,
   "metadata": {},
   "outputs": [],
   "source": [
    "import time\n",
    "import numpy as np\n",
    "import matplotlib.pyplot as plt\n",
    "from sklearn.decomposition import PCA\n",
    "from sklearn.datasets import fetch_openml\n",
    "from sklearn.model_selection import train_test_split\n",
    "from sklearn.neighbors import KNeighborsClassifier"
   ]
  },
  {
   "cell_type": "code",
   "execution_count": 2,
   "metadata": {},
   "outputs": [],
   "source": [
    "comparison_test = []\n",
    "comparison_time = []"
   ]
  },
  {
   "cell_type": "markdown",
   "metadata": {},
   "source": [
    "## kNN with PCA feature 3"
   ]
  },
  {
   "cell_type": "code",
   "execution_count": 3,
   "metadata": {},
   "outputs": [
    {
     "name": "stdout",
     "output_type": "stream",
     "text": [
      "Mnist Data shape X: (70000, 784), y: (70000,)\n"
     ]
    }
   ],
   "source": [
    "mnist = fetch_openml('mnist_784', version=1)\n",
    "\n",
    "X, y = mnist[\"data\"], mnist[\"target\"]\n",
    "y = y.astype(np.int64)\n",
    "print(f'Mnist Data shape X: {X.shape}, y: {y.shape}')"
   ]
  },
  {
   "cell_type": "code",
   "execution_count": 4,
   "metadata": {},
   "outputs": [
    {
     "name": "stdout",
     "output_type": "stream",
     "text": [
      "(70000, 3)\n"
     ]
    }
   ],
   "source": [
    "pca = PCA(n_components=3)\n",
    "features = pca.fit(X).transform(X)\n",
    "target = y\n",
    "print(features.shape)"
   ]
  },
  {
   "cell_type": "code",
   "execution_count": 5,
   "metadata": {},
   "outputs": [
    {
     "name": "stdout",
     "output_type": "stream",
     "text": [
      "train size :  56000  / test size :  14000\n",
      "----------------------------------------\n",
      "Test set score: 0.435307\n",
      "Training Time : 0.1124 sec\n"
     ]
    }
   ],
   "source": [
    "avg_test_acc = []\n",
    "avg_time = []\n",
    "\n",
    "max_seed = 10\n",
    "\n",
    "for seed in range(max_seed):\n",
    "    x_train, x_test, y_train, y_test = train_test_split(features, target, test_size=0.2, random_state=seed, shuffle=True)\n",
    "\n",
    "    k = 1\n",
    "\n",
    "    knn = KNeighborsClassifier(k, weights='distance', n_jobs=-1)\n",
    "    knn.fit(x_train, y_train)\n",
    "\n",
    "    start = time.perf_counter()\n",
    "    test_score = knn.score(x_test, y_test)\n",
    "    end = time.perf_counter() - start\n",
    "\n",
    "    avg_test_acc.append(test_score)\n",
    "    avg_time.append(end)\n",
    "\n",
    "print(\"train size : \", len(x_train), \" / test size : \", len(x_test))\n",
    "print(\"-----\" * 8)\n",
    "print(\"Test set score: %f\" % np.array(avg_test_acc).mean())\n",
    "print(\"Training Time : %.4f\" % np.array(avg_time).mean(), \"sec\")\n",
    "\n",
    "comparison_test.append(np.array(avg_test_acc).mean())\n",
    "comparison_time.append(np.array(avg_time).mean())"
   ]
  },
  {
   "cell_type": "markdown",
   "metadata": {},
   "source": [
    "## kNN with PCA feature 2"
   ]
  },
  {
   "cell_type": "code",
   "execution_count": 6,
   "metadata": {},
   "outputs": [
    {
     "name": "stdout",
     "output_type": "stream",
     "text": [
      "(70000, 2)\n"
     ]
    }
   ],
   "source": [
    "pca = PCA(n_components=2)\n",
    "features = pca.fit(X).transform(X)\n",
    "target = y\n",
    "\n",
    "print(features.shape)"
   ]
  },
  {
   "cell_type": "code",
   "execution_count": 7,
   "metadata": {},
   "outputs": [
    {
     "name": "stdout",
     "output_type": "stream",
     "text": [
      "train size :  56000  / test size :  14000\n",
      "----------------------------------------\n",
      "Test set score: 0.380093\n",
      "Training Time : 0.1110 sec\n"
     ]
    }
   ],
   "source": [
    "avg_test_acc = []\n",
    "avg_time = []\n",
    "\n",
    "max_seed = 10\n",
    "\n",
    "for seed in range(max_seed):\n",
    "    x_train, x_test, y_train, y_test = train_test_split(features, target, test_size=0.2, random_state=seed, shuffle=True)\n",
    "\n",
    "    k = 1\n",
    "\n",
    "    knn = KNeighborsClassifier(k, weights='distance', n_jobs=-1)\n",
    "    knn.fit(x_train, y_train)\n",
    "\n",
    "    start = time.perf_counter()\n",
    "    test_score = knn.score(x_test, y_test)\n",
    "    end = time.perf_counter() - start\n",
    "\n",
    "    avg_test_acc.append(test_score)\n",
    "    avg_time.append(end)\n",
    "\n",
    "print(\"train size : \", len(x_train), \" / test size : \", len(x_test))\n",
    "print(\"-----\" * 8)\n",
    "print(\"Test set score: %f\" % np.array(avg_test_acc).mean())\n",
    "print(\"Training Time : %.4f\" % np.array(avg_time).mean(), \"sec\")\n",
    "\n",
    "comparison_test.append(np.array(avg_test_acc).mean())\n",
    "comparison_time.append(np.array(avg_time).mean())"
   ]
  },
  {
   "cell_type": "markdown",
   "metadata": {},
   "source": [
    "## kNN with PCA feature with 0.9 proportion of variance"
   ]
  },
  {
   "cell_type": "code",
   "execution_count": 10,
   "metadata": {},
   "outputs": [
    {
     "name": "stdout",
     "output_type": "stream",
     "text": [
      "(70000, 87)\n"
     ]
    }
   ],
   "source": [
    "pca = PCA(n_components=0.9)\n",
    "features = pca.fit(X).transform(X)\n",
    "target = y\n",
    "\n",
    "print(features.shape)"
   ]
  },
  {
   "cell_type": "code",
   "execution_count": 12,
   "metadata": {},
   "outputs": [
    {
     "name": "stdout",
     "output_type": "stream",
     "text": [
      "train size :  56000  / test size :  14000\n",
      "----------------------------------------\n",
      "Test set score: 0.975821\n",
      "Training Time : 7.6118 sec\n"
     ]
    }
   ],
   "source": [
    "avg_test_acc = []\n",
    "avg_time = []\n",
    "\n",
    "max_seed = 10\n",
    "\n",
    "for seed in range(max_seed):\n",
    "    x_train, x_test, y_train, y_test = train_test_split(features, target, test_size=0.2, random_state=seed, shuffle=True)\n",
    "\n",
    "    k = 1\n",
    "\n",
    "    knn = KNeighborsClassifier(k, weights='distance', n_jobs=-1)\n",
    "    knn.fit(x_train, y_train)\n",
    "\n",
    "    start = time.perf_counter()\n",
    "    test_score = knn.score(x_test, y_test)\n",
    "    end = time.perf_counter() - start\n",
    "\n",
    "    avg_test_acc.append(test_score)\n",
    "    avg_time.append(end)\n",
    "\n",
    "print(\"train size : \", len(x_train), \" / test size : \", len(x_test))\n",
    "print(\"-----\" * 8)\n",
    "print(\"Test set score: %f\" % np.array(avg_test_acc).mean())\n",
    "print(\"Training Time : %.4f\" % np.array(avg_time).mean(), \"sec\")\n",
    "\n",
    "comparison_test.append(np.array(avg_test_acc).mean())\n",
    "comparison_time.append(np.array(avg_time).mean())"
   ]
  },
  {
   "cell_type": "markdown",
   "metadata": {},
   "source": [
    "## K-Nearest Neighbor"
   ]
  },
  {
   "cell_type": "code",
   "execution_count": 8,
   "metadata": {},
   "outputs": [
    {
     "name": "stdout",
     "output_type": "stream",
     "text": [
      "train size :  56000  / test size :  14000\n",
      "----------------------------------------\n",
      "Test set score: 0.972400\n",
      "Training Time : 11.0861 sec\n"
     ]
    }
   ],
   "source": [
    "avg_test_acc = []\n",
    "avg_time = []\n",
    "\n",
    "max_seed = 10\n",
    "\n",
    "for seed in range(max_seed):\n",
    "    x_train, x_test, y_train, y_test = train_test_split(X, y, test_size=0.2, random_state=seed, shuffle=True)\n",
    "\n",
    "    k = 1\n",
    "\n",
    "    knn = KNeighborsClassifier(k, weights='distance', n_jobs=-1)\n",
    "    knn.fit(x_train, y_train)\n",
    "\n",
    "    start = time.perf_counter()\n",
    "    test_score = knn.score(x_test, y_test)\n",
    "    end = time.perf_counter() - start\n",
    "\n",
    "    avg_test_acc.append(test_score)\n",
    "    avg_time.append(end)\n",
    "\n",
    "print(\"train size : \", len(x_train), \" / test size : \", len(x_test))\n",
    "print(\"-----\" * 8)\n",
    "print(\"Test set score: %f\" % np.array(avg_test_acc).mean())\n",
    "print(\"Training Time : %.4f\" % np.array(avg_time).mean(), \"sec\")\n",
    "\n",
    "comparison_test.append(np.array(avg_test_acc).mean())\n",
    "comparison_time.append(np.array(avg_time).mean())"
   ]
  },
  {
   "cell_type": "markdown",
   "metadata": {},
   "source": [
    "### Method Comparison"
   ]
  },
  {
   "cell_type": "code",
   "execution_count": 9,
   "metadata": {},
   "outputs": [
    {
     "data": {
      "image/png": "[encoded data removed]",
      "text/plain": [
       "<Figure size 432x288 with 2 Axes>"
      ]
     },
     "metadata": {},
     "output_type": "display_data"
    }
   ],
   "source": [
    "import seaborn as sns\n",
    "\n",
    "sns.set(style=\"white\", rc={\"lines.linewidth\": 3})\n",
    "\n",
    "fig, ax1 = plt.subplots()\n",
    "ax2 = ax1.twinx()\n",
    "\n",
    "sns.barplot(x=[\"PCA Feature 2\", \"PCA Feature 3\", \"Normal\"],\n",
    "            y=[comparison_test[1], comparison_test[0], comparison_test[2]], \n",
    "            color='#004488',\n",
    "            ax=ax1)\n",
    "\n",
    "sns.lineplot(x=[\"PCA Feature 2\", \"PCA Feature 3\", \"Normal\"], \n",
    "             y=[comparison_time[1], comparison_time[0], comparison_time[2]],\n",
    "             color='r',\n",
    "             marker=\"o\",\n",
    "             ax=ax2)\n",
    "\n",
    "ax1.set_ylabel(\"Accuracy\")\n",
    "ax2.set_ylabel(\"Seconds\")\n",
    "\n",
    "ax1.legend([\"Accuracy\"], loc=1)\n",
    "ax2.legend([\"Time\"], loc=4)\n",
    "\n",
    "plt.show()\n",
    "sns.set()"
   ]
  },
  {
   "cell_type": "code",
   "execution_count": null,
   "metadata": {},
   "outputs": [],
   "source": []
  }
 ],
 "metadata": {
  "interpreter": {
   "hash": "b0c26a7210f9eeb7af94b2211f2c1134ba3dda07980383ea6b2b27a603c32e05"
  },
  "kernelspec": {
   "display_name": "lab",
   "language": "python",
   "name": "python3"
  },
  "language_info": {
   "codemirror_mode": {
    "name": "ipython",
    "version": 3
   },
   "file_extension": ".py",
   "mimetype": "text/x-python",
   "name": "python",
   "nbconvert_exporter": "python",
   "pygments_lexer": "ipython3",
   "version": "3.7.12"
  },
  "orig_nbformat": 4
 },
 "nbformat": 4,
 "nbformat_minor": 2
}
