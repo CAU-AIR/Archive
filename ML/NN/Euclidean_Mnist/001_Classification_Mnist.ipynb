{
 "cells": [
  {
   "cell_type": "markdown",
   "metadata": {},
   "source": [
    "## Mnist Dataset Classification using K-Nearest Neighbors (Euclidean)\n",
    "\n",
    "### Summary\n",
    "<img align=\"right\" src=\"../image/NearestNeighbor.png\" width=150 height=150>\n",
    "KNN은 새로운 데이터가 주어졌을 때 기존 데이터 가운데 가장 가까운 k개 이웃의 정보로 새로운 데이터를 예측하는 알고리즘\n",
    "\n",
    "새로운 데이터가 주어진 경우 기존 모든 데이터와의 거리를 계산한다. 계산된 거리 값이 작은 k개의 데이터를 선정한다. 새로운 데이터의 클래스는 선정된 데이터들의 클래스 중 가장 많이 선택된 클래스로 분류한다.\n",
    "\n",
    "거리 계산 방법에는 Euclidean, Mahalanobis 등 있다.\n",
    "\n",
    "Mnist 데이터셋을 이용하여 0부터 9까지의 10가지 손글씨 클래스를 구분한다. 거리 계산 방법은 Euclidean을 사용한다.\n",
    "\n",
    "Time 측정 방법은 Method 측면에서는 \n",
    "1. Model Fitting Time : KNN의 경우 데이터셋에 대한 Checking 및 데이터셋 메모리에 카피\n",
    "2. All Test Data Prediction Time\n",
    "3. One Instance Prediction Time 10번 평균\n",
    "\n",
    "PCA 측면에서는 \n",
    "1. Calculate Train Data SVD Matrix Time\n",
    "2. Transform Train X to N-PCA Time\n",
    "3. Transform Test X to N-PCA Time"
   ]
  },
  {
   "cell_type": "code",
   "execution_count": 2,
   "metadata": {},
   "outputs": [],
   "source": [
    "import time\n",
    "from tqdm import tqdm\n",
    "import numpy as np\n",
    "import pandas as pd\n",
    "\n",
    "import seaborn as sns\n",
    "import matplotlib.pyplot as plt\n",
    "from PIL import Image\n",
    "\n",
    "from sklearn.datasets import fetch_openml\n",
    "from sklearn.model_selection import train_test_split\n",
    "from sklearn.metrics import accuracy_score\n",
    "from sklearn.neighbors import KNeighborsClassifier\n",
    "from sklearn.decomposition import PCA\n",
    "from torchvision.datasets import MNIST"
   ]
  },
  {
   "cell_type": "code",
   "execution_count": 3,
   "metadata": {},
   "outputs": [],
   "source": [
    "class BaseConfig:\n",
    "    def __init__(self):\n",
    "        pass\n",
    "\n",
    "    def info(self):\n",
    "        config_list = {\n",
    "            0 : ['Dataset', self.dataset, \n",
    "                 \"Train size: \" + str(int((1-self.test_size)*100))+\"%\",\n",
    "                 'Feature size: ' + str(self.feature_size), 1],\n",
    "            1 : ['Method', self.method, \n",
    "                 \"k = \" + str(self.k), self.distance, 2],\n",
    "            2 : ['Dimension reduction', \n",
    "                 'Method: ' + str(self.reduction_method[0]),\n",
    "                 'Component size: ' + str(self.reduction_method[1]),\n",
    "                 'Feature Reduction Ratio: ' + \\\n",
    "                    str(round(self.reduction_method[1]/self.feature_size, 3)*100 if self.reduction_method[1] is not None else None)+\"%\", 3],\n",
    "            3 : ['Iteration', str(self.iter), -1]\n",
    "        }\n",
    "\n",
    "        print(\"Device \" + \"─\" * 2 + \" \" + self.device)\n",
    "        print(\"│\")\n",
    "\n",
    "        parent = 1\n",
    "        for child in range(len(config_list)):\n",
    "            for idx, contents in enumerate(config_list[child][:-1]):\n",
    "                if idx == 0 and child == len(config_list)-1:\n",
    "                    print(\"└\" + \"─\" * 2 + contents)\n",
    "                elif idx == 0:\n",
    "                    print(\"├\" + \"─\" * 2 + contents)\n",
    "                elif child == len(config_list)-1:\n",
    "                    print(\" \" * 4 + \"└\" + \"─\" * 4 + contents)\n",
    "                else:\n",
    "                    print(\"│\" + \" \" * 4 + \"└\" + \"─\" * 4 + contents)\n",
    "            parent = config_list[child][-1]\n",
    "            if parent == -1: break\n",
    "            print(\"│\")\n",
    "\n",
    "class Config(BaseConfig):\n",
    "    def __init__(self):\n",
    "        super(BaseConfig, self).__init__()\n",
    "        self.device = 'PC'\n",
    "        self.dataset = 'Mnist'\n",
    "        self.test_size = 0.2\n",
    "        self.feature_size = 784\n",
    "        self.method = 'kNN'\n",
    "        self.k = 1\n",
    "        self.distance = 'Euclidean'\n",
    "        self.reduction_method = [None, None] # method, n_components\n",
    "        self.iter = 10\n"
   ]
  },
  {
   "cell_type": "markdown",
   "metadata": {},
   "source": [
    "# Load Mnist Dataset"
   ]
  },
  {
   "cell_type": "markdown",
   "metadata": {},
   "source": [
    "<a title=\"By Josef Steppan [CC BY-SA 4.0 (https://creativecommons.org/licenses/by-sa/4.0)], from Wikimedia Commons\" href=\"https://commons.wikimedia.org/wiki/File:MnistExamples.png\"><img width=\"512\" alt=\"MnistExamples\" src=\"https://upload.wikimedia.org/wikipedia/commons/2/27/MnistExamples.png\"/></a>"
   ]
  },
  {
   "cell_type": "code",
   "execution_count": 105,
   "metadata": {},
   "outputs": [],
   "source": [
    "train_mnist = MNIST(root='../../datasets', train=True, download=False)\n",
    "test_mnist = MNIST(root='../../datasets', train=False, download=False)"
   ]
  },
  {
   "cell_type": "code",
   "execution_count": 106,
   "metadata": {},
   "outputs": [
    {
     "name": "stdout",
     "output_type": "stream",
     "text": [
      "Train data X shape : (60000, 28, 28), y shape : (60000,)\n",
      "Test data X shape : (10000, 28, 28), y shape : (10000,)\n"
     ]
    }
   ],
   "source": [
    "train_mnist_X, train_mnist_y = train_mnist.data.numpy(), train_mnist.targets.numpy()\n",
    "test_mnist_X, test_mnist_y = test_mnist.data.numpy(), test_mnist.targets.numpy()\n",
    "\n",
    "print(f'Train data X shape : {train_mnist_X.shape}, y shape : {train_mnist_y.shape}')\n",
    "print(f'Test data X shape : {test_mnist_X.shape}, y shape : {test_mnist_y.shape}')"
   ]
  },
  {
   "cell_type": "code",
   "execution_count": 107,
   "metadata": {},
   "outputs": [
    {
     "name": "stdout",
     "output_type": "stream",
     "text": [
      "Mnist Data range [0, 255] \n",
      "--> Mnist Data Normalized range [0.0, 1.0] \n"
     ]
    }
   ],
   "source": [
    "print(f'Mnist Data range [{train_mnist_X.min()}, {train_mnist_X.max()}] ')\n",
    "\n",
    "train_mnist_X, test_mnist_X = train_mnist_X / 255., test_mnist_X / 255.\n",
    "\n",
    "print(f'--> Mnist Data Normalized range [{train_mnist_X.min()}, {train_mnist_X.max()}] ')"
   ]
  },
  {
   "cell_type": "markdown",
   "metadata": {},
   "source": [
    "## Sample Images"
   ]
  },
  {
   "cell_type": "code",
   "execution_count": 108,
   "metadata": {},
   "outputs": [
    {
     "data": {
      "image/png": "[encoded data removed]",
      "text/plain": [
       "<Figure size 1080x360 with 10 Axes>"
      ]
     },
     "metadata": {
      "needs_background": "light"
     },
     "output_type": "display_data"
    }
   ],
   "source": [
    "plt.figure(figsize=(15, 5))\n",
    "\n",
    "for i in range(10):\n",
    "    sample_idx = np.where(train_mnist_y == i)[0][0]\n",
    "\n",
    "    sample_image = train_mnist_X[sample_idx]\n",
    "    sample_label = train_mnist_y[sample_idx]\n",
    "\n",
    "    plt.subplot(2, 5, i+1) # nrows, ncolumns, index\n",
    "    plt.title(sample_label)\n",
    "    plt.imshow(sample_image,'gray')\n",
    "plt.show()"
   ]
  },
  {
   "cell_type": "markdown",
   "metadata": {},
   "source": [
    "## Train & Test Data Label Distribution"
   ]
  },
  {
   "cell_type": "code",
   "execution_count": 109,
   "metadata": {},
   "outputs": [
    {
     "data": {
      "image/png": "[encoded data removed]",
      "text/plain": [
       "<Figure size 1080x360 with 2 Axes>"
      ]
     },
     "metadata": {
      "needs_background": "light"
     },
     "output_type": "display_data"
    }
   ],
   "source": [
    "plt.figure(figsize=(15, 5))\n",
    "\n",
    "plt.subplot(1, 2, 1)\n",
    "sns.histplot(train_mnist_y, palette=\"tab10\")\n",
    "plt.title(\"Class Distribution of Mnist Train Dataset\")\n",
    "\n",
    "plt.subplot(1, 2, 2)\n",
    "sns.histplot(test_mnist_y, palette=\"tab10\")\n",
    "plt.title(\"Class Distribution of Mnist Test Dataset\")\n",
    "plt.show()"
   ]
  },
  {
   "cell_type": "markdown",
   "metadata": {},
   "source": [
    "## Preprocessing\n",
    " * Flatten 28 x 28 images to 784 vectors"
   ]
  },
  {
   "cell_type": "code",
   "execution_count": 110,
   "metadata": {},
   "outputs": [
    {
     "name": "stdout",
     "output_type": "stream",
     "text": [
      "Mnist Data shape train : (60000, 28, 28), test : (10000, 28, 28)\n",
      "--> Mnist Data shape train : (60000, 784), test : (10000, 784)\n"
     ]
    }
   ],
   "source": [
    "print(f'Mnist Data shape train : {train_mnist_X.shape}, test : {test_mnist_X.shape}')\n",
    "\n",
    "train_mnist_X = train_mnist_X.reshape(-1, 784)\n",
    "test_mnist_X = test_mnist_X.reshape(-1, 784)\n",
    "\n",
    "print(f'--> Mnist Data shape train : {train_mnist_X.shape}, test : {test_mnist_X.shape}')"
   ]
  },
  {
   "cell_type": "markdown",
   "metadata": {},
   "source": [
    "## K-Nearest Neighbor"
   ]
  },
  {
   "cell_type": "code",
   "execution_count": 90,
   "metadata": {},
   "outputs": [
    {
     "name": "stdout",
     "output_type": "stream",
     "text": [
      "Device ── PC\n",
      "│\n",
      "├──Dataset\n",
      "│    └────Mnist\n",
      "│    └────Train size: 80%\n",
      "│    └────Feature size: 784\n",
      "│\n",
      "├──Method\n",
      "│    └────kNN\n",
      "│    └────k = 1\n",
      "│    └────Euclidean\n",
      "│\n",
      "├──Dimension reduction\n",
      "│    └────Method: None\n",
      "│    └────Component size: None\n",
      "│    └────Feature Reduction Ratio: None%\n",
      "│\n",
      "└──Iteration\n",
      "    └────10\n"
     ]
    }
   ],
   "source": [
    "config = Config()\n",
    "config.info()"
   ]
  },
  {
   "cell_type": "code",
   "execution_count": 123,
   "metadata": {},
   "outputs": [],
   "source": [
    "def knn_run(train_data_X = train_mnist_X,\n",
    "            train_data_y = train_mnist_y,\n",
    "            test_data_X = test_mnist_X,\n",
    "            test_data_y = test_mnist_y,\n",
    "            config = None,\n",
    "            weights = 'distance'):\n",
    "\n",
    "    assert config is not None\n",
    "    config.info()\n",
    "    k = config.k\n",
    "    max_seed = config.iter\n",
    "\n",
    "    avg_test_acc = []\n",
    "    avg_knn_fit_time = []\n",
    "    avg_pred_time = []\n",
    "    preds = []\n",
    "\n",
    "    for seed in tqdm(range(max_seed)):\n",
    "        x_train, x_test, y_train, y_test = train_data_X, test_data_X, train_data_y, test_data_y\n",
    "\n",
    "        knn = KNeighborsClassifier(n_neighbors=k, weights=weights, n_jobs=-1)\n",
    "\n",
    "        start_time = time.perf_counter()\n",
    "        knn.fit(x_train, y_train)\n",
    "        knn_fit_time = time.perf_counter() - start_time\n",
    "        avg_knn_fit_time.append(knn_fit_time)\n",
    "\n",
    "        start_time = time.perf_counter()\n",
    "        pred = knn.predict(x_test)\n",
    "        pred_time = time.perf_counter() - start_time\n",
    "        preds.append(pred)\n",
    "\n",
    "        test_score = accuracy_score(pred, y_test)\n",
    "        avg_test_acc.append(test_score)\n",
    "        avg_pred_time.append(pred_time)\n",
    "\n",
    "    print(\"Train size : \", len(x_train), \" / Test size : \", len(x_test))\n",
    "    print(\"-----\" * 8)\n",
    "    print(\"Test set score: %f\" % np.array(avg_test_acc).mean())\n",
    "    print(\"KNN fitting Time: %.4f ± %.5f\" % (np.array(avg_knn_fit_time).mean(), np.array(avg_knn_fit_time).std()), \"sec\")\n",
    "    print(\"All Test dataset Prediction Time at once : %.4f ± %.5f\" % (np.array(avg_pred_time).mean(), np.array(avg_pred_time).std()), \"sec\")\n",
    "    print(\"Divide the Prediction Time by Test size : %.8f ± %.8f\" % (np.array(avg_pred_time).mean()/len(x_test)*1e6, np.array(avg_pred_time).std()/len(x_test)*1e6), \"microsec\")\n",
    "\n",
    "    return avg_test_acc, avg_knn_fit_time, avg_pred_time"
   ]
  },
  {
   "cell_type": "code",
   "execution_count": 127,
   "metadata": {},
   "outputs": [
    {
     "name": "stdout",
     "output_type": "stream",
     "text": [
      "Device ── PC\n",
      "│\n",
      "├──Dataset\n",
      "│    └────Mnist\n",
      "│    └────Train size: 80%\n",
      "│    └────Feature size: 784\n",
      "│\n",
      "├──Method\n",
      "│    └────kNN\n",
      "│    └────k = 1\n",
      "│    └────Euclidean\n",
      "│\n",
      "├──Dimension reduction\n",
      "│    └────Method: None\n",
      "│    └────Component size: None\n",
      "│    └────Feature Reduction Ratio: None%\n",
      "│\n",
      "└──Iteration\n",
      "    └────10\n"
     ]
    },
    {
     "name": "stderr",
     "output_type": "stream",
     "text": [
      "100%|██████████| 10/10 [01:28<00:00,  8.81s/it]"
     ]
    },
    {
     "name": "stdout",
     "output_type": "stream",
     "text": [
      "Train size :  60000  / Test size :  10000\n",
      "----------------------------------------\n",
      "Test set score: 0.969100\n",
      "KNN fitting Time: 0.0522 ± 0.00184 sec\n",
      "All Test dataset Prediction Time at once : 8.7566 ± 0.10173 sec\n",
      "Divide the Prediction Time by Test size : 875.66143200 ± 10.17253561 microsec\n"
     ]
    },
    {
     "name": "stderr",
     "output_type": "stream",
     "text": [
      "\n"
     ]
    }
   ],
   "source": [
    "config.k = 1\n",
    "\n",
    "avg_test_acc, avg_knn_fit_time, avg_pred_time = knn_run(train_data_X = train_mnist_X,\n",
    "                                                        train_data_y = train_mnist_y,\n",
    "                                                        test_data_X = test_mnist_X,\n",
    "                                                        test_data_y = test_mnist_y,\n",
    "                                                        config = config,\n",
    "                                                        weights = 'distance')"
   ]
  },
  {
   "cell_type": "code",
   "execution_count": 128,
   "metadata": {},
   "outputs": [
    {
     "name": "stdout",
     "output_type": "stream",
     "text": [
      "Device ── PC\n",
      "│\n",
      "├──Dataset\n",
      "│    └────Mnist\n",
      "│    └────Train size: 80%\n",
      "│    └────Feature size: 784\n",
      "│\n",
      "├──Method\n",
      "│    └────kNN\n",
      "│    └────k = 2\n",
      "│    └────Euclidean\n",
      "│\n",
      "├──Dimension reduction\n",
      "│    └────Method: None\n",
      "│    └────Component size: None\n",
      "│    └────Feature Reduction Ratio: None%\n",
      "│\n",
      "└──Iteration\n",
      "    └────10\n"
     ]
    },
    {
     "name": "stderr",
     "output_type": "stream",
     "text": [
      "100%|██████████| 10/10 [01:32<00:00,  9.23s/it]"
     ]
    },
    {
     "name": "stdout",
     "output_type": "stream",
     "text": [
      "Train size :  60000  / Test size :  10000\n",
      "----------------------------------------\n",
      "Test set score: 0.969100\n",
      "KNN fitting Time: 0.0536 ± 0.00562 sec\n",
      "All Test dataset Prediction Time at once : 9.1738 ± 0.10404 sec\n",
      "Divide the Prediction Time by Test size : 917.38246400 ± 10.40376709 microsec\n"
     ]
    },
    {
     "name": "stderr",
     "output_type": "stream",
     "text": [
      "\n"
     ]
    }
   ],
   "source": [
    "config.k = 2\n",
    "\n",
    "avg_test_acc, avg_knn_fit_time, avg_pred_time = knn_run(train_data_X = train_mnist_X,\n",
    "                                                        train_data_y = train_mnist_y,\n",
    "                                                        test_data_X = test_mnist_X,\n",
    "                                                        test_data_y = test_mnist_y,\n",
    "                                                        config = config,\n",
    "                                                        weights = 'distance')"
   ]
  },
  {
   "cell_type": "code",
   "execution_count": 129,
   "metadata": {},
   "outputs": [
    {
     "name": "stdout",
     "output_type": "stream",
     "text": [
      "Device ── PC\n",
      "│\n",
      "├──Dataset\n",
      "│    └────Mnist\n",
      "│    └────Train size: 80%\n",
      "│    └────Feature size: 784\n",
      "│\n",
      "├──Method\n",
      "│    └────kNN\n",
      "│    └────k = 3\n",
      "│    └────Euclidean\n",
      "│\n",
      "├──Dimension reduction\n",
      "│    └────Method: None\n",
      "│    └────Component size: None\n",
      "│    └────Feature Reduction Ratio: None%\n",
      "│\n",
      "└──Iteration\n",
      "    └────10\n"
     ]
    },
    {
     "name": "stderr",
     "output_type": "stream",
     "text": [
      "100%|██████████| 10/10 [01:37<00:00,  9.73s/it]"
     ]
    },
    {
     "name": "stdout",
     "output_type": "stream",
     "text": [
      "Train size :  60000  / Test size :  10000\n",
      "----------------------------------------\n",
      "Test set score: 0.971700\n",
      "KNN fitting Time: 0.0536 ± 0.00362 sec\n",
      "All Test dataset Prediction Time at once : 9.6748 ± 0.08815 sec\n",
      "Divide the Prediction Time by Test size : 967.48117100 ± 8.81450653 microsec\n"
     ]
    },
    {
     "name": "stderr",
     "output_type": "stream",
     "text": [
      "\n"
     ]
    }
   ],
   "source": [
    "config.k = 3\n",
    "\n",
    "avg_test_acc, avg_knn_fit_time, avg_pred_time = knn_run(train_data_X = train_mnist_X,\n",
    "                                                        train_data_y = train_mnist_y,\n",
    "                                                        test_data_X = test_mnist_X,\n",
    "                                                        test_data_y = test_mnist_y,\n",
    "                                                        config = config,\n",
    "                                                        weights = 'distance')"
   ]
  },
  {
   "cell_type": "markdown",
   "metadata": {},
   "source": [
    "### 1개의 Instance를 예측하는데 걸리는 시간 측정 - 10번 반복"
   ]
  },
  {
   "cell_type": "code",
   "execution_count": 143,
   "metadata": {},
   "outputs": [],
   "source": [
    "def knn_run_one_instance(train_data_X = train_mnist_X,\n",
    "            train_data_y = train_mnist_y,\n",
    "            test_data_X = test_mnist_X,\n",
    "            test_data_y = test_mnist_y,\n",
    "            config = None,\n",
    "            weights = 'distance'):\n",
    "\n",
    "    assert config is not None\n",
    "    config.info()\n",
    "    k = config.k\n",
    "    max_seed = config.iter\n",
    "\n",
    "\n",
    "    x_train, x_test, y_train, y_test = train_data_X, test_data_X, train_data_y, test_data_y\n",
    "\n",
    "    knn = KNeighborsClassifier(n_neighbors=k, weights='distance', n_jobs=-1)\n",
    "\n",
    "    start_time = time.perf_counter()\n",
    "    knn.fit(x_train, y_train)\n",
    "    knn_fit_time = time.perf_counter() - start_time\n",
    "\n",
    "\n",
    "    avg_pred_time = []\n",
    "    preds = []\n",
    "    ys_test = []\n",
    "    count = 0\n",
    "\n",
    "    for x_one, y_one in tqdm(zip(x_test, y_test)):\n",
    "        x_one = x_one.reshape(1, -1)\n",
    "\n",
    "        start = time.perf_counter()\n",
    "        pred = knn.predict(x_one)\n",
    "        pred_time = time.perf_counter() - start\n",
    "        \n",
    "\n",
    "        avg_pred_time.append(pred_time)\n",
    "        preds.append(pred)\n",
    "        ys_test.append(y_one)\n",
    "\n",
    "        count += 1\n",
    "        if count == 10:\n",
    "            break\n",
    "\n",
    "    test_score = accuracy_score(preds, ys_test)\n",
    "    avg_test_acc.append(test_score)\n",
    "    avg_pred_time.append(pred_time)\n",
    "\n",
    "    print(\"Train size : \", len(x_train), \" / Test size : \", 10)\n",
    "    print(\"-----\" * 8)\n",
    "    print(\"Test set score: %f\" % np.array(avg_test_acc).mean())\n",
    "    print(\"KNN fitting Time: %.4f\" % (knn_fit_time), \"sec\")\n",
    "    print(\"One Instance Prediction Average Time : %.8f ± %.8f\" % (np.array(avg_pred_time).mean(), np.array(avg_pred_time).std()), \"microsec\")\n",
    "\n",
    "    return avg_test_acc, knn_fit_time, avg_pred_time"
   ]
  },
  {
   "cell_type": "code",
   "execution_count": 144,
   "metadata": {},
   "outputs": [
    {
     "name": "stdout",
     "output_type": "stream",
     "text": [
      "Device ── PC\n",
      "│\n",
      "├──Dataset\n",
      "│    └────Mnist\n",
      "│    └────Train size: 80%\n",
      "│    └────Feature size: 784\n",
      "│\n",
      "├──Method\n",
      "│    └────kNN\n",
      "│    └────k = 1\n",
      "│    └────Euclidean\n",
      "│\n",
      "├──Dimension reduction\n",
      "│    └────Method: None\n",
      "│    └────Component size: None\n",
      "│    └────Feature Reduction Ratio: None%\n",
      "│\n",
      "└──Iteration\n",
      "    └────10\n"
     ]
    },
    {
     "name": "stderr",
     "output_type": "stream",
     "text": [
      "9it [00:01,  8.09it/s]"
     ]
    },
    {
     "name": "stdout",
     "output_type": "stream",
     "text": [
      "Train size :  60000  / Test size :  10\n",
      "----------------------------------------\n",
      "Test set score: 0.976417\n",
      "KNN fitting Time: 0.0541 sec\n",
      "One Instance Prediction Average Time : 0.11068453 ± 0.00213057 microsec\n"
     ]
    },
    {
     "name": "stderr",
     "output_type": "stream",
     "text": [
      "\n"
     ]
    }
   ],
   "source": [
    "config.k = 1\n",
    "\n",
    "avg_test_acc, knn_fit_time, avg_pred_time = knn_run_one_instance(train_data_X = train_mnist_X,\n",
    "                                                        train_data_y = train_mnist_y,\n",
    "                                                        test_data_X = test_mnist_X,\n",
    "                                                        test_data_y = test_mnist_y,\n",
    "                                                        config = config,\n",
    "                                                        weights = 'distance')"
   ]
  },
  {
   "cell_type": "code",
   "execution_count": 145,
   "metadata": {},
   "outputs": [
    {
     "name": "stdout",
     "output_type": "stream",
     "text": [
      "Device ── PC\n",
      "│\n",
      "├──Dataset\n",
      "│    └────Mnist\n",
      "│    └────Train size: 80%\n",
      "│    └────Feature size: 784\n",
      "│\n",
      "├──Method\n",
      "│    └────kNN\n",
      "│    └────k = 2\n",
      "│    └────Euclidean\n",
      "│\n",
      "├──Dimension reduction\n",
      "│    └────Method: None\n",
      "│    └────Component size: None\n",
      "│    └────Feature Reduction Ratio: None%\n",
      "│\n",
      "└──Iteration\n",
      "    └────10\n"
     ]
    },
    {
     "name": "stderr",
     "output_type": "stream",
     "text": [
      "9it [00:01,  8.15it/s]"
     ]
    },
    {
     "name": "stdout",
     "output_type": "stream",
     "text": [
      "Train size :  60000  / Test size :  10\n",
      "----------------------------------------\n",
      "Test set score: 0.978231\n",
      "KNN fitting Time: 0.0592 sec\n",
      "One Instance Prediction Average Time : 0.11001748 ± 0.00104367 microsec\n"
     ]
    },
    {
     "name": "stderr",
     "output_type": "stream",
     "text": [
      "\n"
     ]
    }
   ],
   "source": [
    "config.k = 2\n",
    "\n",
    "avg_test_acc, knn_fit_time, avg_pred_time = knn_run_one_instance(train_data_X = train_mnist_X,\n",
    "                                                        train_data_y = train_mnist_y,\n",
    "                                                        test_data_X = test_mnist_X,\n",
    "                                                        test_data_y = test_mnist_y,\n",
    "                                                        config = config,\n",
    "                                                        weights = 'distance')"
   ]
  },
  {
   "cell_type": "code",
   "execution_count": 146,
   "metadata": {},
   "outputs": [
    {
     "name": "stdout",
     "output_type": "stream",
     "text": [
      "Device ── PC\n",
      "│\n",
      "├──Dataset\n",
      "│    └────Mnist\n",
      "│    └────Train size: 80%\n",
      "│    └────Feature size: 784\n",
      "│\n",
      "├──Method\n",
      "│    └────kNN\n",
      "│    └────k = 3\n",
      "│    └────Euclidean\n",
      "│\n",
      "├──Dimension reduction\n",
      "│    └────Method: None\n",
      "│    └────Component size: None\n",
      "│    └────Feature Reduction Ratio: None%\n",
      "│\n",
      "└──Iteration\n",
      "    └────10\n"
     ]
    },
    {
     "name": "stderr",
     "output_type": "stream",
     "text": [
      "9it [00:01,  8.06it/s]"
     ]
    },
    {
     "name": "stdout",
     "output_type": "stream",
     "text": [
      "Train size :  60000  / Test size :  10\n",
      "----------------------------------------\n",
      "Test set score: 0.979786\n",
      "KNN fitting Time: 0.0549 sec\n",
      "One Instance Prediction Average Time : 0.11105071 ± 0.00236016 microsec\n"
     ]
    },
    {
     "name": "stderr",
     "output_type": "stream",
     "text": [
      "\n"
     ]
    }
   ],
   "source": [
    "config.k = 3\n",
    "\n",
    "avg_test_acc, knn_fit_time, avg_pred_time = knn_run_one_instance(train_data_X = train_mnist_X,\n",
    "                                                        train_data_y = train_mnist_y,\n",
    "                                                        test_data_X = test_mnist_X,\n",
    "                                                        test_data_y = test_mnist_y,\n",
    "                                                        config = config,\n",
    "                                                        weights = 'distance')"
   ]
  },
  {
   "cell_type": "code",
   "execution_count": 173,
   "metadata": {},
   "outputs": [],
   "source": [
    "n_components_list = []\n",
    "pca_fit_time_list = []\n",
    "train_features_extract_time_list = []\n",
    "test_features_extract_time_list = []"
   ]
  },
  {
   "cell_type": "markdown",
   "metadata": {},
   "source": [
    "### kNN with PCA feature 2"
   ]
  },
  {
   "cell_type": "markdown",
   "metadata": {},
   "source": [
    "### Time of calculating PCA"
   ]
  },
  {
   "cell_type": "code",
   "execution_count": 174,
   "metadata": {},
   "outputs": [],
   "source": [
    "def pca_run(train_data_X = train_mnist_X,\n",
    "            test_data_X = test_mnist_X,\n",
    "            config=None):\n",
    "\n",
    "    assert config is not None\n",
    "    config.info()\n",
    "\n",
    "    n_components = config.reduction_method[1]\n",
    "\n",
    "    pca_dims = PCA(n_components)\n",
    "    print(f\"The number of components : {n_components}\")\n",
    "\n",
    "    start_time = time.perf_counter()\n",
    "    pca_dims.fit(train_data_X)\n",
    "    pca_fit_time = time.perf_counter () - start_time\n",
    "    print()\n",
    "    print(f\"Calculating SVD Matrix Time on Train Data-{train_data_X.shape} : {pca_fit_time:4f} sec\")\n",
    "    \n",
    "    start_time = time.perf_counter()\n",
    "    train_features = pca_dims.transform(train_data_X)\n",
    "    train_features_extract_time = time.perf_counter () - start_time\n",
    "    print(f\"Transform train X-{train_data_X.shape} to {n_components}-PCA Time: {train_features_extract_time:4f} sec\")\n",
    "\n",
    "    start_time = time.perf_counter()\n",
    "    test_features = pca_dims.transform(test_data_X)\n",
    "    test_features_extract_time = time.perf_counter () - start_time\n",
    "    print(f\"Transform test X-{train_data_X.shape} to {n_components}-PCA Time: {test_features_extract_time:4f} sec\")\n",
    "\n",
    "    return pca_dims, train_features, test_features, pca_fit_time, train_features_extract_time, test_features_extract_time\n",
    "    "
   ]
  },
  {
   "cell_type": "code",
   "execution_count": 216,
   "metadata": {},
   "outputs": [
    {
     "name": "stdout",
     "output_type": "stream",
     "text": [
      "Device ── PC\n",
      "│\n",
      "├──Dataset\n",
      "│    └────Mnist\n",
      "│    └────Train size: 80%\n",
      "│    └────Feature size: 784\n",
      "│\n",
      "├──Method\n",
      "│    └────kNN\n",
      "│    └────k = 43\n",
      "│    └────Euclidean\n",
      "│\n",
      "├──Dimension reduction\n",
      "│    └────Method: PCA\n",
      "│    └────Component size: 2\n",
      "│    └────Feature Reduction Ratio: 0.3%\n",
      "│\n",
      "└──Iteration\n",
      "    └────10\n",
      "The number of components : 2\n",
      "\n",
      "Calculating Train Data SVD Matrix Time: 1.156580 sec\n",
      "Transform train X to 2-PCA Time: 0.197202 sec\n",
      "Transform test X to 2-PCA Time: 0.033457 sec\n"
     ]
    }
   ],
   "source": [
    "config.reduction_method = ['PCA', 2]\n",
    "\n",
    "pca_dims, train_features, test_features, pca_fit_time, train_features_extract_time, test_features_extract_time = \\\n",
    "    pca_run(train_data_X = train_mnist_X,\n",
    "            test_data_X = test_mnist_X,\n",
    "            config=config)\n",
    "\n",
    "n_components_list.append(config.reduction_method[1])\n",
    "pca_fit_time_list.append(pca_fit_time)\n",
    "train_features_extract_time_list.append(train_features_extract_time)\n",
    "test_features_extract_time_list.append(test_features_extract_time)"
   ]
  },
  {
   "cell_type": "code",
   "execution_count": 177,
   "metadata": {},
   "outputs": [
    {
     "name": "stdout",
     "output_type": "stream",
     "text": [
      "Device ── PC\n",
      "│\n",
      "├──Dataset\n",
      "│    └────Mnist\n",
      "│    └────Train size: 80%\n",
      "│    └────Feature size: 784\n",
      "│\n",
      "├──Method\n",
      "│    └────kNN\n",
      "│    └────k = 2\n",
      "│    └────Euclidean\n",
      "│\n",
      "├──Dimension reduction\n",
      "│    └────Method: PCA\n",
      "│    └────Component size: 2\n",
      "│    └────Feature Reduction Ratio: 0.3%\n",
      "│\n",
      "└──Iteration\n",
      "    └────10\n"
     ]
    },
    {
     "name": "stderr",
     "output_type": "stream",
     "text": [
      "100%|██████████| 10/10 [00:01<00:00,  6.72it/s]"
     ]
    },
    {
     "name": "stdout",
     "output_type": "stream",
     "text": [
      "Train size :  60000  / Test size :  10000\n",
      "----------------------------------------\n",
      "Test set score: 0.389700\n",
      "KNN fitting Time: 0.0341 ± 0.00222 sec\n",
      "All Test dataset Prediction Time at once : 0.1136 ± 0.00576 sec\n",
      "Divide the Prediction Time by Test size : 11.35826000 ± 0.57626983 microsec\n"
     ]
    },
    {
     "name": "stderr",
     "output_type": "stream",
     "text": [
      "\n"
     ]
    }
   ],
   "source": [
    "config.k = 2\n",
    "\n",
    "avg_test_acc, avg_knn_fit_time, avg_pred_time = knn_run(train_data_X = train_features,\n",
    "                                                        train_data_y = train_mnist_y,\n",
    "                                                        test_data_X = test_features,\n",
    "                                                        test_data_y = test_mnist_y,\n",
    "                                                        config = config,\n",
    "                                                        weights = 'distance')"
   ]
  },
  {
   "cell_type": "markdown",
   "metadata": {},
   "source": [
    "### kNN with PCA feature 3"
   ]
  },
  {
   "cell_type": "code",
   "execution_count": 217,
   "metadata": {},
   "outputs": [
    {
     "name": "stdout",
     "output_type": "stream",
     "text": [
      "Device ── PC\n",
      "│\n",
      "├──Dataset\n",
      "│    └────Mnist\n",
      "│    └────Train size: 80%\n",
      "│    └────Feature size: 784\n",
      "│\n",
      "├──Method\n",
      "│    └────kNN\n",
      "│    └────k = 43\n",
      "│    └────Euclidean\n",
      "│\n",
      "├──Dimension reduction\n",
      "│    └────Method: PCA\n",
      "│    └────Component size: 3\n",
      "│    └────Feature Reduction Ratio: 0.4%\n",
      "│\n",
      "└──Iteration\n",
      "    └────10\n",
      "The number of components : 3\n",
      "\n",
      "Calculating Train Data SVD Matrix Time: 1.197905 sec\n",
      "Transform train X to 3-PCA Time: 0.181247 sec\n",
      "Transform test X to 3-PCA Time: 0.036096 sec\n"
     ]
    }
   ],
   "source": [
    "config.reduction_method = ['PCA', 3]\n",
    "\n",
    "pca_dims, train_features, test_features, pca_fit_time, train_features_extract_time, test_features_extract_time = \\\n",
    "    pca_run(train_data_X = train_mnist_X,\n",
    "            test_data_X = test_mnist_X,\n",
    "            config=config)\n",
    "\n",
    "n_components_list.append(config.reduction_method[1])\n",
    "pca_fit_time_list.append(pca_fit_time)\n",
    "train_features_extract_time_list.append(train_features_extract_time)\n",
    "test_features_extract_time_list.append(test_features_extract_time)"
   ]
  },
  {
   "cell_type": "code",
   "execution_count": 179,
   "metadata": {},
   "outputs": [
    {
     "name": "stdout",
     "output_type": "stream",
     "text": [
      "Device ── PC\n",
      "│\n",
      "├──Dataset\n",
      "│    └────Mnist\n",
      "│    └────Train size: 80%\n",
      "│    └────Feature size: 784\n",
      "│\n",
      "├──Method\n",
      "│    └────kNN\n",
      "│    └────k = 3\n",
      "│    └────Euclidean\n",
      "│\n",
      "├──Dimension reduction\n",
      "│    └────Method: PCA\n",
      "│    └────Component size: 3\n",
      "│    └────Feature Reduction Ratio: 0.4%\n",
      "│\n",
      "└──Iteration\n",
      "    └────10\n"
     ]
    },
    {
     "name": "stderr",
     "output_type": "stream",
     "text": [
      "100%|██████████| 10/10 [00:01<00:00,  6.27it/s]"
     ]
    },
    {
     "name": "stdout",
     "output_type": "stream",
     "text": [
      "Train size :  60000  / Test size :  10000\n",
      "----------------------------------------\n",
      "Test set score: 0.460000\n",
      "KNN fitting Time: 0.0451 ± 0.00117 sec\n",
      "All Test dataset Prediction Time at once : 0.1134 ± 0.00359 sec\n",
      "Divide the Prediction Time by Test size : 11.34198800 ± 0.35865382 microsec\n"
     ]
    },
    {
     "name": "stderr",
     "output_type": "stream",
     "text": [
      "\n"
     ]
    }
   ],
   "source": [
    "config.k = 3\n",
    "\n",
    "avg_test_acc, avg_knn_fit_time, avg_pred_time = knn_run(train_data_X = train_features,\n",
    "                                                        train_data_y = train_mnist_y,\n",
    "                                                        test_data_X = test_features,\n",
    "                                                        test_data_y = test_mnist_y,\n",
    "                                                        config = config,\n",
    "                                                        weights = 'distance')"
   ]
  },
  {
   "cell_type": "markdown",
   "metadata": {},
   "source": [
    "### kNN with PCA feature 4"
   ]
  },
  {
   "cell_type": "code",
   "execution_count": 218,
   "metadata": {},
   "outputs": [
    {
     "name": "stdout",
     "output_type": "stream",
     "text": [
      "Device ── PC\n",
      "│\n",
      "├──Dataset\n",
      "│    └────Mnist\n",
      "│    └────Train size: 80%\n",
      "│    └────Feature size: 784\n",
      "│\n",
      "├──Method\n",
      "│    └────kNN\n",
      "│    └────k = 43\n",
      "│    └────Euclidean\n",
      "│\n",
      "├──Dimension reduction\n",
      "│    └────Method: PCA\n",
      "│    └────Component size: 4\n",
      "│    └────Feature Reduction Ratio: 0.5%\n",
      "│\n",
      "└──Iteration\n",
      "    └────10\n",
      "The number of components : 4\n",
      "\n",
      "Calculating Train Data SVD Matrix Time: 1.122042 sec\n",
      "Transform train X to 4-PCA Time: 0.189472 sec\n",
      "Transform test X to 4-PCA Time: 0.027155 sec\n"
     ]
    }
   ],
   "source": [
    "config.reduction_method = ['PCA', 4]\n",
    "\n",
    "pca_dims, train_features, test_features, pca_fit_time, train_features_extract_time, test_features_extract_time = \\\n",
    "    pca_run(train_data_X = train_mnist_X,\n",
    "            test_data_X = test_mnist_X,\n",
    "            config=config)\n",
    "\n",
    "n_components_list.append(config.reduction_method[1])\n",
    "pca_fit_time_list.append(pca_fit_time)\n",
    "train_features_extract_time_list.append(train_features_extract_time)\n",
    "test_features_extract_time_list.append(test_features_extract_time)"
   ]
  },
  {
   "cell_type": "code",
   "execution_count": 181,
   "metadata": {},
   "outputs": [
    {
     "name": "stdout",
     "output_type": "stream",
     "text": [
      "Device ── PC\n",
      "│\n",
      "├──Dataset\n",
      "│    └────Mnist\n",
      "│    └────Train size: 80%\n",
      "│    └────Feature size: 784\n",
      "│\n",
      "├──Method\n",
      "│    └────kNN\n",
      "│    └────k = 4\n",
      "│    └────Euclidean\n",
      "│\n",
      "├──Dimension reduction\n",
      "│    └────Method: PCA\n",
      "│    └────Component size: 4\n",
      "│    └────Feature Reduction Ratio: 0.5%\n",
      "│\n",
      "└──Iteration\n",
      "    └────10\n"
     ]
    },
    {
     "name": "stderr",
     "output_type": "stream",
     "text": [
      "100%|██████████| 10/10 [00:01<00:00,  5.73it/s]"
     ]
    },
    {
     "name": "stdout",
     "output_type": "stream",
     "text": [
      "Train size :  60000  / Test size :  10000\n",
      "----------------------------------------\n",
      "Test set score: 0.620300\n",
      "KNN fitting Time: 0.0568 ± 0.00262 sec\n",
      "All Test dataset Prediction Time at once : 0.1167 ± 0.00290 sec\n",
      "Divide the Prediction Time by Test size : 11.67230100 ± 0.28976851 microsec\n"
     ]
    },
    {
     "name": "stderr",
     "output_type": "stream",
     "text": [
      "\n"
     ]
    }
   ],
   "source": [
    "config.k = 4\n",
    "\n",
    "avg_test_acc, avg_knn_fit_time, avg_pred_time = knn_run(train_data_X = train_features,\n",
    "                                                        train_data_y = train_mnist_y,\n",
    "                                                        test_data_X = test_features,\n",
    "                                                        test_data_y = test_mnist_y,\n",
    "                                                        config = config,\n",
    "                                                        weights = 'distance')"
   ]
  },
  {
   "cell_type": "markdown",
   "metadata": {},
   "source": [
    "### kNN with PCA feature 5"
   ]
  },
  {
   "cell_type": "code",
   "execution_count": 219,
   "metadata": {},
   "outputs": [
    {
     "name": "stdout",
     "output_type": "stream",
     "text": [
      "Device ── PC\n",
      "│\n",
      "├──Dataset\n",
      "│    └────Mnist\n",
      "│    └────Train size: 80%\n",
      "│    └────Feature size: 784\n",
      "│\n",
      "├──Method\n",
      "│    └────kNN\n",
      "│    └────k = 43\n",
      "│    └────Euclidean\n",
      "│\n",
      "├──Dimension reduction\n",
      "│    └────Method: PCA\n",
      "│    └────Component size: 5\n",
      "│    └────Feature Reduction Ratio: 0.6%\n",
      "│\n",
      "└──Iteration\n",
      "    └────10\n",
      "The number of components : 5\n",
      "\n",
      "Calculating Train Data SVD Matrix Time: 1.183685 sec\n",
      "Transform train X to 5-PCA Time: 0.195734 sec\n",
      "Transform test X to 5-PCA Time: 0.027315 sec\n"
     ]
    }
   ],
   "source": [
    "config.reduction_method = ['PCA', 5]\n",
    "\n",
    "pca_dims, train_features, test_features, pca_fit_time, train_features_extract_time, test_features_extract_time = \\\n",
    "    pca_run(train_data_X = train_mnist_X,\n",
    "            test_data_X = test_mnist_X,\n",
    "            config=config)\n",
    "\n",
    "n_components_list.append(config.reduction_method[1])\n",
    "pca_fit_time_list.append(pca_fit_time)\n",
    "train_features_extract_time_list.append(train_features_extract_time)\n",
    "test_features_extract_time_list.append(test_features_extract_time)"
   ]
  },
  {
   "cell_type": "code",
   "execution_count": 183,
   "metadata": {},
   "outputs": [
    {
     "name": "stdout",
     "output_type": "stream",
     "text": [
      "Device ── PC\n",
      "│\n",
      "├──Dataset\n",
      "│    └────Mnist\n",
      "│    └────Train size: 80%\n",
      "│    └────Feature size: 784\n",
      "│\n",
      "├──Method\n",
      "│    └────kNN\n",
      "│    └────k = 5\n",
      "│    └────Euclidean\n",
      "│\n",
      "├──Dimension reduction\n",
      "│    └────Method: PCA\n",
      "│    └────Component size: 5\n",
      "│    └────Feature Reduction Ratio: 0.6%\n",
      "│\n",
      "└──Iteration\n",
      "    └────10\n"
     ]
    },
    {
     "name": "stderr",
     "output_type": "stream",
     "text": [
      "100%|██████████| 10/10 [00:01<00:00,  5.34it/s]"
     ]
    },
    {
     "name": "stdout",
     "output_type": "stream",
     "text": [
      "Train size :  60000  / Test size :  10000\n",
      "----------------------------------------\n",
      "Test set score: 0.745000\n",
      "KNN fitting Time: 0.0673 ± 0.00092 sec\n",
      "All Test dataset Prediction Time at once : 0.1191 ± 0.00376 sec\n",
      "Divide the Prediction Time by Test size : 11.90542200 ± 0.37563551 microsec\n"
     ]
    },
    {
     "name": "stderr",
     "output_type": "stream",
     "text": [
      "\n"
     ]
    }
   ],
   "source": [
    "config.k = 5\n",
    "\n",
    "avg_test_acc, avg_knn_fit_time, avg_pred_time = knn_run(train_data_X = train_features,\n",
    "                                                        train_data_y = train_mnist_y,\n",
    "                                                        test_data_X = test_features,\n",
    "                                                        test_data_y = test_mnist_y,\n",
    "                                                        config = config,\n",
    "                                                        weights = 'distance')"
   ]
  },
  {
   "cell_type": "markdown",
   "metadata": {},
   "source": [
    "### kNN with PCA feature 26"
   ]
  },
  {
   "cell_type": "code",
   "execution_count": 220,
   "metadata": {},
   "outputs": [
    {
     "name": "stdout",
     "output_type": "stream",
     "text": [
      "Device ── PC\n",
      "│\n",
      "├──Dataset\n",
      "│    └────Mnist\n",
      "│    └────Train size: 80%\n",
      "│    └────Feature size: 784\n",
      "│\n",
      "├──Method\n",
      "│    └────kNN\n",
      "│    └────k = 43\n",
      "│    └────Euclidean\n",
      "│\n",
      "├──Dimension reduction\n",
      "│    └────Method: PCA\n",
      "│    └────Component size: 26\n",
      "│    └────Feature Reduction Ratio: 3.3000000000000003%\n",
      "│\n",
      "└──Iteration\n",
      "    └────10\n",
      "The number of components : 26\n",
      "\n",
      "Calculating Train Data SVD Matrix Time: 1.889840 sec\n",
      "Transform train X to 26-PCA Time: 0.241826 sec\n",
      "Transform test X to 26-PCA Time: 0.032664 sec\n"
     ]
    }
   ],
   "source": [
    "config.reduction_method = ['PCA', 26]\n",
    "\n",
    "pca_dims, train_features, test_features, pca_fit_time, train_features_extract_time, test_features_extract_time = \\\n",
    "    pca_run(train_data_X = train_mnist_X,\n",
    "            test_data_X = test_mnist_X,\n",
    "            config=config)\n",
    "\n",
    "n_components_list.append(config.reduction_method[1])\n",
    "pca_fit_time_list.append(pca_fit_time)\n",
    "train_features_extract_time_list.append(train_features_extract_time)\n",
    "test_features_extract_time_list.append(test_features_extract_time)"
   ]
  },
  {
   "cell_type": "code",
   "execution_count": 210,
   "metadata": {},
   "outputs": [
    {
     "name": "stdout",
     "output_type": "stream",
     "text": [
      "Device ── PC\n",
      "│\n",
      "├──Dataset\n",
      "│    └────Mnist\n",
      "│    └────Train size: 80%\n",
      "│    └────Feature size: 784\n",
      "│\n",
      "├──Method\n",
      "│    └────kNN\n",
      "│    └────k = 26\n",
      "│    └────Euclidean\n",
      "│\n",
      "├──Dimension reduction\n",
      "│    └────Method: PCA\n",
      "│    └────Component size: 26\n",
      "│    └────Feature Reduction Ratio: 3.3000000000000003%\n",
      "│\n",
      "└──Iteration\n",
      "    └────10\n"
     ]
    },
    {
     "name": "stderr",
     "output_type": "stream",
     "text": [
      "100%|██████████| 10/10 [01:37<00:00,  9.77s/it]"
     ]
    },
    {
     "name": "stdout",
     "output_type": "stream",
     "text": [
      "Train size :  60000  / Test size :  10000\n",
      "----------------------------------------\n",
      "Test set score: 0.968200\n",
      "KNN fitting Time: 0.0045 ± 0.00050 sec\n",
      "All Test dataset Prediction Time at once : 9.7620 ± 0.11073 sec\n",
      "Divide the Prediction Time by Test size : 976.19820000 ± 11.07274790 microsec\n"
     ]
    },
    {
     "name": "stderr",
     "output_type": "stream",
     "text": [
      "\n"
     ]
    }
   ],
   "source": [
    "config.k = 26\n",
    "\n",
    "avg_test_acc, avg_knn_fit_time, avg_pred_time = knn_run(train_data_X = train_features,\n",
    "                                                        train_data_y = train_mnist_y,\n",
    "                                                        test_data_X = test_features,\n",
    "                                                        test_data_y = test_mnist_y,\n",
    "                                                        config = config,\n",
    "                                                        weights = 'distance')"
   ]
  },
  {
   "cell_type": "markdown",
   "metadata": {},
   "source": [
    "### kNN with PCA feature 43"
   ]
  },
  {
   "cell_type": "code",
   "execution_count": 221,
   "metadata": {},
   "outputs": [
    {
     "name": "stdout",
     "output_type": "stream",
     "text": [
      "Device ── PC\n",
      "│\n",
      "├──Dataset\n",
      "│    └────Mnist\n",
      "│    └────Train size: 80%\n",
      "│    └────Feature size: 784\n",
      "│\n",
      "├──Method\n",
      "│    └────kNN\n",
      "│    └────k = 43\n",
      "│    └────Euclidean\n",
      "│\n",
      "├──Dimension reduction\n",
      "│    └────Method: PCA\n",
      "│    └────Component size: 43\n",
      "│    └────Feature Reduction Ratio: 5.5%\n",
      "│\n",
      "└──Iteration\n",
      "    └────10\n",
      "The number of components : 43\n",
      "\n",
      "Calculating Train Data SVD Matrix Time: 1.994393 sec\n",
      "Transform train X to 43-PCA Time: 0.255927 sec\n",
      "Transform test X to 43-PCA Time: 0.033377 sec\n"
     ]
    }
   ],
   "source": [
    "config.reduction_method = ['PCA', 43]\n",
    "\n",
    "pca_dims, train_features, test_features, pca_fit_time, train_features_extract_time, test_features_extract_time = \\\n",
    "    pca_run(train_data_X = train_mnist_X,\n",
    "            test_data_X = test_mnist_X,\n",
    "            config=config)\n",
    "\n",
    "n_components_list.append(config.reduction_method[1])\n",
    "pca_fit_time_list.append(pca_fit_time)\n",
    "train_features_extract_time_list.append(train_features_extract_time)\n",
    "test_features_extract_time_list.append(test_features_extract_time)"
   ]
  },
  {
   "cell_type": "code",
   "execution_count": 214,
   "metadata": {},
   "outputs": [
    {
     "name": "stdout",
     "output_type": "stream",
     "text": [
      "Device ── PC\n",
      "│\n",
      "├──Dataset\n",
      "│    └────Mnist\n",
      "│    └────Train size: 80%\n",
      "│    └────Feature size: 784\n",
      "│\n",
      "├──Method\n",
      "│    └────kNN\n",
      "│    └────k = 43\n",
      "│    └────Euclidean\n",
      "│\n",
      "├──Dimension reduction\n",
      "│    └────Method: PCA\n",
      "│    └────Component size: 43\n",
      "│    └────Feature Reduction Ratio: 5.5%\n",
      "│\n",
      "└──Iteration\n",
      "    └────10\n"
     ]
    },
    {
     "name": "stderr",
     "output_type": "stream",
     "text": [
      "100%|██████████| 10/10 [01:37<00:00,  9.71s/it]"
     ]
    },
    {
     "name": "stdout",
     "output_type": "stream",
     "text": [
      "Train size :  60000  / Test size :  10000\n",
      "----------------------------------------\n",
      "Test set score: 0.964800\n",
      "KNN fitting Time: 0.0056 ± 0.00017 sec\n",
      "All Test dataset Prediction Time at once : 9.7001 ± 0.20350 sec\n",
      "Divide the Prediction Time by Test size : 970.01017600 ± 20.35014620 microsec\n"
     ]
    },
    {
     "name": "stderr",
     "output_type": "stream",
     "text": [
      "\n"
     ]
    }
   ],
   "source": [
    "config.k = 43\n",
    "\n",
    "avg_test_acc, avg_knn_fit_time, avg_pred_time = knn_run(train_data_X = train_features,\n",
    "                                                        train_data_y = train_mnist_y,\n",
    "                                                        test_data_X = test_features,\n",
    "                                                        test_data_y = test_mnist_y,\n",
    "                                                        config = config,\n",
    "                                                        weights = 'distance')"
   ]
  },
  {
   "cell_type": "code",
   "execution_count": 211,
   "metadata": {},
   "outputs": [
    {
     "data": {
      "image/png": "[encoded data removed]",
      "text/plain": [
       "<Figure size 432x288 with 1 Axes>"
      ]
     },
     "metadata": {
      "needs_background": "light"
     },
     "output_type": "display_data"
    }
   ],
   "source": [
    "plt.figure()\n",
    "plt.plot(pca_fit_time_list, \"b\", label=\"Train SVD Matrix Time\")\n",
    "plt.legend()\n",
    "plt.plot(train_features_extract_time_list, \"r\", label=\"Train PCA Time\")\n",
    "plt.plot(test_features_extract_time_list, \"g\", label=\"Test PCA Time\")\n",
    "plt.legend()\n",
    "plt.title(\"PCA Time Comparison\")\n",
    "plt.show()"
   ]
  },
  {
   "cell_type": "code",
   "execution_count": null,
   "metadata": {},
   "outputs": [],
   "source": []
  },
  {
   "cell_type": "code",
   "execution_count": 186,
   "metadata": {},
   "outputs": [],
   "source": [
    "import pandas as pd\n",
    "df = pd.DataFrame()\n",
    "df['n_components'] = n_components_list\n",
    "df['train_svd'] = pca_fit_time_list\n",
    "df['train_features'] = train_features_extract_time_list\n",
    "df['test_features'] = test_features_extract_time_list"
   ]
  },
  {
   "cell_type": "code",
   "execution_count": 191,
   "metadata": {},
   "outputs": [
    {
     "data": {
      "text/html": [
       "<div>\n",
       "<style scoped>\n",
       "    .dataframe tbody tr th:only-of-type {\n",
       "        vertical-align: middle;\n",
       "    }\n",
       "\n",
       "    .dataframe tbody tr th {\n",
       "        vertical-align: top;\n",
       "    }\n",
       "\n",
       "    .dataframe thead th {\n",
       "        text-align: right;\n",
       "    }\n",
       "</style>\n",
       "<table border=\"1\" class=\"dataframe\">\n",
       "  <thead>\n",
       "    <tr style=\"text-align: right;\">\n",
       "      <th></th>\n",
       "      <th>n_components</th>\n",
       "      <th>train_svd</th>\n",
       "      <th>train_features</th>\n",
       "      <th>test_features</th>\n",
       "    </tr>\n",
       "  </thead>\n",
       "  <tbody>\n",
       "    <tr>\n",
       "      <th>0</th>\n",
       "      <td>2</td>\n",
       "      <td>1.178987</td>\n",
       "      <td>0.182520</td>\n",
       "      <td>0.027847</td>\n",
       "    </tr>\n",
       "    <tr>\n",
       "      <th>1</th>\n",
       "      <td>3</td>\n",
       "      <td>1.120458</td>\n",
       "      <td>0.194239</td>\n",
       "      <td>0.028477</td>\n",
       "    </tr>\n",
       "    <tr>\n",
       "      <th>2</th>\n",
       "      <td>4</td>\n",
       "      <td>1.157993</td>\n",
       "      <td>0.187360</td>\n",
       "      <td>0.027883</td>\n",
       "    </tr>\n",
       "    <tr>\n",
       "      <th>3</th>\n",
       "      <td>5</td>\n",
       "      <td>1.105571</td>\n",
       "      <td>0.186498</td>\n",
       "      <td>0.027711</td>\n",
       "    </tr>\n",
       "  </tbody>\n",
       "</table>\n",
       "</div>"
      ],
      "text/plain": [
       "   n_components  train_svd  train_features  test_features\n",
       "0             2   1.178987        0.182520       0.027847\n",
       "1             3   1.120458        0.194239       0.028477\n",
       "2             4   1.157993        0.187360       0.027883\n",
       "3             5   1.105571        0.186498       0.027711"
      ]
     },
     "execution_count": 191,
     "metadata": {},
     "output_type": "execute_result"
    }
   ],
   "source": [
    "df"
   ]
  },
  {
   "cell_type": "code",
   "execution_count": 208,
   "metadata": {},
   "outputs": [
    {
     "data": {
      "image/png": "[encoded data removed]",
      "text/plain": [
       "<Figure size 432x288 with 1 Axes>"
      ]
     },
     "metadata": {
      "needs_background": "light"
     },
     "output_type": "display_data"
    }
   ],
   "source": [
    "fig, ax1 = plt.subplots()\n",
    "\n",
    "sns.lineplot(x='n_components', \n",
    "             y='train_svd',\n",
    "             color='r',\n",
    "             marker=\"o\",\n",
    "             ax=ax1,\n",
    "             legend='auto',\n",
    "             data=df)\n",
    "# ax1.legend([\"train_svd\"], loc=1)\n",
    "\n",
    "\n",
    "sns.lineplot(x='n_components', \n",
    "             y='train_features',\n",
    "             color='b',\n",
    "             marker=\"o\",\n",
    "             ax=ax1,\n",
    "             data=df)\n",
    "# ax1.legend([\"train_features\"], loc=1)\n",
    "\n",
    "sns.lineplot(x='n_components', \n",
    "             y='test_features',\n",
    "             color='g',\n",
    "             marker=\"o\",\n",
    "             ax=ax1,\n",
    "             data=df)\n",
    "# ax1.legend([\"test_features\"], loc=1)\n",
    "\n",
    "ax1.set_ylabel(\"Seconds\")\n",
    "\n",
    "\n",
    "plt.show()"
   ]
  },
  {
   "cell_type": "code",
   "execution_count": null,
   "metadata": {},
   "outputs": [],
   "source": []
  }
 ],
 "metadata": {
  "interpreter": {
   "hash": "b0c26a7210f9eeb7af94b2211f2c1134ba3dda07980383ea6b2b27a603c32e05"
  },
  "kernelspec": {
   "display_name": "Python 3.7.12 ('GBR')",
   "language": "python",
   "name": "python3"
  },
  "language_info": {
   "codemirror_mode": {
    "name": "ipython",
    "version": 3
   },
   "file_extension": ".py",
   "mimetype": "text/x-python",
   "name": "python",
   "nbconvert_exporter": "python",
   "pygments_lexer": "ipython3",
   "version": "3.7.12"
  },
  "orig_nbformat": 4
 },
 "nbformat": 4,
 "nbformat_minor": 2
}
