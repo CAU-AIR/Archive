{
 "cells": [
  {
   "cell_type": "markdown",
   "metadata": {},
   "source": [
    "## wine Dataset Classification using K-Nearest Neighbors with Dimension Reduction\n",
    "\n",
    "kNN을 이용하여 PCA가 적용된 wine 데이터셋 분류\n",
    "\n",
    "<span style=\"color: #2D3748; background-color:#fff5b1;\">PCA를 적용하여 feature의 수를 2개와 3개로 구성한 후 kNN을 이용하여 실험한 결과 정확도 측면에서는 PCA를 적용하지 않은 방법과 비슷하지만 분류 시간의 경우 PCA를 적용하지 않은 경우 시간이 증가하였다.</span>"
   ]
  },
  {
   "cell_type": "code",
   "execution_count": 1,
   "metadata": {},
   "outputs": [
    {
     "name": "stderr",
     "output_type": "stream",
     "text": [
      "C:\\Users\\LAB\\Anaconda3\\envs\\lab\\lib\\site-packages\\numpy\\_distributor_init.py:30: UserWarning: loaded more than 1 DLL from .libs:\n",
      "C:\\Users\\LAB\\Anaconda3\\envs\\lab\\lib\\site-packages\\numpy\\.libs\\libopenblas.EL2C6PLE4ZYW3ECEVIV3OXXGRN2NRFM2.gfortran-win_amd64.dll\n",
      "C:\\Users\\LAB\\Anaconda3\\envs\\lab\\lib\\site-packages\\numpy\\.libs\\libopenblas.WCDJNK7YVMPZQ2ME2ZZHJJRJ3JIKNDB7.gfortran-win_amd64.dll\n",
      "  warnings.warn(\"loaded more than 1 DLL from .libs:\"\n",
      "<frozen importlib._bootstrap>:219: RuntimeWarning: scipy._lib.messagestream.MessageStream size changed, may indicate binary incompatibility. Expected 56 from C header, got 64 from PyObject\n"
     ]
    }
   ],
   "source": [
    "import time\n",
    "import numpy as np\n",
    "import matplotlib.pyplot as plt\n",
    "from sklearn.decomposition import PCA\n",
    "from sklearn.datasets import load_wine\n",
    "from sklearn.model_selection import train_test_split\n",
    "from sklearn.neighbors import KNeighborsClassifier"
   ]
  },
  {
   "cell_type": "code",
   "execution_count": 2,
   "metadata": {},
   "outputs": [],
   "source": [
    "comparison_test = []\n",
    "comparison_time = []"
   ]
  },
  {
   "cell_type": "markdown",
   "metadata": {},
   "source": [
    "## kNN with PCA feature 3"
   ]
  },
  {
   "cell_type": "code",
   "execution_count": 3,
   "metadata": {},
   "outputs": [
    {
     "name": "stdout",
     "output_type": "stream",
     "text": [
      "(178, 3)\n"
     ]
    }
   ],
   "source": [
    "wine = load_wine()\n",
    "\n",
    "pca = PCA(n_components=3)\n",
    "features = pca.fit(wine.data).transform(wine.data)\n",
    "\n",
    "feature_names = wine.feature_names\n",
    "target = wine.target\n",
    "target_names = wine.target_names\n",
    "\n",
    "print(features.shape)"
   ]
  },
  {
   "cell_type": "code",
   "execution_count": 4,
   "metadata": {},
   "outputs": [
    {
     "name": "stdout",
     "output_type": "stream",
     "text": [
      "train size :  142  / test size :  36\n",
      "----------------------------------------\n",
      "Test set score: 0.716667\n",
      "Training Time : 0.0063 sec\n"
     ]
    }
   ],
   "source": [
    "avg_test_acc = []\n",
    "avg_time = []\n",
    "\n",
    "max_seed = 10\n",
    "\n",
    "for seed in range(max_seed):\n",
    "    x_train, x_test, y_train, y_test = train_test_split(features, target, test_size=0.2, random_state=seed, shuffle=True)\n",
    "\n",
    "    k = 1\n",
    "\n",
    "    knn = KNeighborsClassifier(k, weights='distance', n_jobs=-1)\n",
    "    knn.fit(x_train, y_train)\n",
    "\n",
    "    start = time.perf_counter()\n",
    "    test_score = knn.score(x_test, y_test)\n",
    "    end = time.perf_counter() - start\n",
    "\n",
    "    avg_test_acc.append(test_score)\n",
    "    avg_time.append(end)\n",
    "\n",
    "print(\"train size : \", len(x_train), \" / test size : \", len(x_test))\n",
    "print(\"-----\" * 8)\n",
    "print(\"Test set score: %f\" % np.array(avg_test_acc).mean())\n",
    "print(\"Training Time : %.4f\" % np.array(avg_time).mean(), \"sec\")\n",
    "\n",
    "comparison_test.append(np.array(avg_test_acc).mean())\n",
    "comparison_time.append(np.array(avg_time).mean())"
   ]
  },
  {
   "cell_type": "markdown",
   "metadata": {},
   "source": [
    "## kNN with PCA feature 2"
   ]
  },
  {
   "cell_type": "code",
   "execution_count": 5,
   "metadata": {},
   "outputs": [
    {
     "name": "stdout",
     "output_type": "stream",
     "text": [
      "(178, 2)\n"
     ]
    }
   ],
   "source": [
    "pca = PCA(n_components=2)\n",
    "features = pca.fit(wine.data).transform(wine.data)\n",
    "\n",
    "feature_names = wine.feature_names\n",
    "target = wine.target\n",
    "target_names = wine.target_names\n",
    "\n",
    "print(features.shape)"
   ]
  },
  {
   "cell_type": "code",
   "execution_count": 6,
   "metadata": {},
   "outputs": [
    {
     "name": "stdout",
     "output_type": "stream",
     "text": [
      "train size :  142  / test size :  36\n",
      "----------------------------------------\n",
      "Test set score: 0.713889\n",
      "Training Time : 0.0050 sec\n"
     ]
    }
   ],
   "source": [
    "avg_test_acc = []\n",
    "avg_time = []\n",
    "\n",
    "max_seed = 10\n",
    "\n",
    "for seed in range(max_seed):\n",
    "    x_train, x_test, y_train, y_test = train_test_split(features, target, test_size=0.2, random_state=seed, shuffle=True)\n",
    "\n",
    "    k = 1\n",
    "\n",
    "    knn = KNeighborsClassifier(k, weights='distance', n_jobs=-1)\n",
    "    knn.fit(x_train, y_train)\n",
    "\n",
    "    start = time.perf_counter()\n",
    "    test_score = knn.score(x_test, y_test)\n",
    "    end = time.perf_counter() - start\n",
    "\n",
    "    avg_test_acc.append(test_score)\n",
    "    avg_time.append(end)\n",
    "\n",
    "print(\"train size : \", len(x_train), \" / test size : \", len(x_test))\n",
    "print(\"-----\" * 8)\n",
    "print(\"Test set score: %f\" % np.array(avg_test_acc).mean())\n",
    "print(\"Training Time : %.4f\" % np.array(avg_time).mean(), \"sec\")\n",
    "\n",
    "comparison_test.append(np.array(avg_test_acc).mean())\n",
    "comparison_time.append(np.array(avg_time).mean())"
   ]
  },
  {
   "cell_type": "markdown",
   "metadata": {},
   "source": [
    "## K-Nearest Neighbor"
   ]
  },
  {
   "cell_type": "code",
   "execution_count": 7,
   "metadata": {},
   "outputs": [],
   "source": [
    "wine = load_wine()\n",
    "\n",
    "features = wine.data\n",
    "feature_names = wine.feature_names\n",
    "target = wine.target\n",
    "target_names = wine.target_names"
   ]
  },
  {
   "cell_type": "code",
   "execution_count": 8,
   "metadata": {},
   "outputs": [
    {
     "name": "stdout",
     "output_type": "stream",
     "text": [
      "train size :  142  / test size :  36\n",
      "----------------------------------------\n",
      "Test set score: 0.747222\n",
      "Training Time : 0.0066 sec\n"
     ]
    }
   ],
   "source": [
    "avg_test_acc = []\n",
    "avg_time = []\n",
    "\n",
    "max_seed = 10\n",
    "\n",
    "for seed in range(max_seed):\n",
    "    x_train, x_test, y_train, y_test = train_test_split(features, target, test_size=0.2, random_state=seed, shuffle=True)\n",
    "\n",
    "    k = 1\n",
    "\n",
    "    knn = KNeighborsClassifier(k, weights='distance', n_jobs=-1)\n",
    "    knn.fit(x_train, y_train)\n",
    "\n",
    "    start = time.perf_counter()\n",
    "    test_score = knn.score(x_test, y_test)\n",
    "    end = time.perf_counter() - start\n",
    "\n",
    "    avg_test_acc.append(test_score)\n",
    "    avg_time.append(end)\n",
    "\n",
    "print(\"train size : \", len(x_train), \" / test size : \", len(x_test))\n",
    "print(\"-----\" * 8)\n",
    "print(\"Test set score: %f\" % np.array(avg_test_acc).mean())\n",
    "print(\"Training Time : %.4f\" % np.array(avg_time).mean(), \"sec\")\n",
    "\n",
    "comparison_test.append(np.array(avg_test_acc).mean())\n",
    "comparison_time.append(np.array(avg_time).mean())"
   ]
  },
  {
   "cell_type": "markdown",
   "metadata": {},
   "source": [
    "### Method Comparison"
   ]
  },
  {
   "cell_type": "code",
   "execution_count": 9,
   "metadata": {},
   "outputs": [
    {
     "data": {
      "image/png": "[encoded data removed]",
      "text/plain": [
       "<Figure size 432x288 with 2 Axes>"
      ]
     },
     "metadata": {},
     "output_type": "display_data"
    }
   ],
   "source": [
    "import seaborn as sns\n",
    "\n",
    "sns.set(style=\"white\", rc={\"lines.linewidth\": 3})\n",
    "\n",
    "fig, ax1 = plt.subplots()\n",
    "ax2 = ax1.twinx()\n",
    "\n",
    "sns.barplot(x=[\"PCA Feature 2\", \"PCA Feature 3\", \"Normal\"],\n",
    "            y=[comparison_test[1], comparison_test[0], comparison_test[2]], \n",
    "            color='#004488',\n",
    "            ax=ax1)\n",
    "\n",
    "sns.lineplot(x=[\"PCA Feature 2\", \"PCA Feature 3\", \"Normal\"], \n",
    "             y=[comparison_time[1], comparison_time[0], comparison_time[2]],\n",
    "             color='r',\n",
    "             marker=\"o\",\n",
    "             ax=ax2)\n",
    "plt.show()\n",
    "sns.set()"
   ]
  }
 ],
 "metadata": {
  "interpreter": {
   "hash": "29414a2290beb65c31b67b1d96c06414c96949cde43a8cd89a1c21fe9ae0305b"
  },
  "kernelspec": {
   "display_name": "lab",
   "language": "python",
   "name": "lab"
  },
  "language_info": {
   "codemirror_mode": {
    "name": "ipython",
    "version": 3
   },
   "file_extension": ".py",
   "mimetype": "text/x-python",
   "name": "python",
   "nbconvert_exporter": "python",
   "pygments_lexer": "ipython3",
   "version": "3.8.5"
  },
  "orig_nbformat": 4
 },
 "nbformat": 4,
 "nbformat_minor": 2
}
