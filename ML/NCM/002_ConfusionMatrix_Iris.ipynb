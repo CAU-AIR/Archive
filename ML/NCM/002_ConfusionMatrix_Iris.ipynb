{
 "cells": [
  {
   "cell_type": "markdown",
   "metadata": {},
   "source": [
    "## Confusion Matrix of Iris Dataset using NCM\n",
    "\n",
    "분류 모델의 성능을 측정하기 위한 confusion matrix\n",
    "\n",
    "실제 타겟의 값을 분류 모델을 통해 예측한 값과 비교\n",
    "\n",
    "Confusion matrix를 통해 분류 모델의 성능을 확인할 수 있으며, 어떤 종류의 오류가 발생하는지 확인 가능\n",
    "\n",
    "<span style=\"color: #2D3748; background-color:#fff5b1;\">Test size 0.2로 10번 반복 실험한 결과 setosa에 대한 분류는 잘 하지만 versicolor와 virginica를 잘못 분류하는 경우가 발생하였다.</span>\n",
    "\n",
    "<span style=\"color: #2D3748; background-color:#fff5b1;\">반복 실험 동안 계속 잘 못 분류되는 데이터를 분석한 결과 virginica label을 가진 데이터가 versicolor 데이터 특징과 거의 동일하기 때문에 분류하지 못하였다.</span>"
   ]
  },
  {
   "cell_type": "code",
   "execution_count": 3,
   "metadata": {},
   "outputs": [],
   "source": [
    "import time\n",
    "import numpy as np\n",
    "import matplotlib.pyplot as plt\n",
    "from sklearn.datasets import load_iris\n",
    "from sklearn.neighbors import KNeighborsClassifier\n",
    "from sklearn.model_selection import train_test_split\n",
    "from sklearn.metrics import confusion_matrix, ConfusionMatrixDisplay\n",
    "from sklearn.neighbors import NearestCentroid"
   ]
  },
  {
   "cell_type": "code",
   "execution_count": 4,
   "metadata": {},
   "outputs": [
    {
     "name": "stdout",
     "output_type": "stream",
     "text": [
      "dict_items([((6.8, 2.8, 4.8, 1.4, 1.0), 2), ((5.6, 2.8, 4.9, 2.0, 2.0), 1), ((6.2, 2.8, 4.8, 1.8, 2.0), 2), ((6.7, 3.0, 5.0, 1.7, 1.0), 3), ((5.7, 2.5, 5.0, 2.0, 2.0), 3), ((6.0, 2.7, 5.1, 1.6, 1.0), 1), ((6.1, 3.0, 4.9, 1.8, 2.0), 1), ((6.0, 2.2, 5.0, 1.5, 2.0), 3), ((4.9, 2.5, 4.5, 1.7, 2.0), 2), ((6.9, 3.1, 4.9, 1.5, 1.0), 2), ((6.0, 3.0, 4.8, 1.8, 2.0), 1), ((7.0, 3.2, 4.7, 1.4, 1.0), 1)])\n"
     ]
    },
    {
     "data": {
      "text/plain": [
       "<sklearn.metrics._plot.confusion_matrix.ConfusionMatrixDisplay at 0x2b745e48d60>"
      ]
     },
     "execution_count": 4,
     "metadata": {},
     "output_type": "execute_result"
    },
    {
     "data": {
      "image/png": "[encoded data removed]",
      "text/plain": [
       "<Figure size 432x288 with 2 Axes>"
      ]
     },
     "metadata": {
      "needs_background": "light"
     },
     "output_type": "display_data"
    },
    {
     "data": {
      "image/png": "[encoded data removed]",
      "text/plain": [
       "<Figure size 432x288 with 2 Axes>"
      ]
     },
     "metadata": {
      "needs_background": "light"
     },
     "output_type": "display_data"
    }
   ],
   "source": [
    "from collections import Counter\n",
    "\n",
    "iris = load_iris()\n",
    "\n",
    "max_seed = 10\n",
    "\n",
    "predict_list = []\n",
    "label_list = []\n",
    "error_value = []\n",
    "error = []\n",
    "\n",
    "for seed in range(max_seed):\n",
    "    x_train, x_test, y_train, y_test = train_test_split(iris.data, iris.target, test_size=0.2, random_state=seed, shuffle=True)\n",
    "\n",
    "    nc = NearestCentroid()\n",
    "    nc.fit(x_train, y_train)\n",
    "    predict = nc.predict(x_test)\n",
    "\n",
    "    predict_list.extend(predict)\n",
    "    label_list.extend(y_test)\n",
    "\n",
    "    equal = np.equal(predict, y_test)\n",
    "    idx = np.where(equal == False)\n",
    "    if len(idx[0]) != 0:\n",
    "        for idx in idx[0]:\n",
    "            values = x_test[idx]\n",
    "            values = np.append(values, y_test[idx])\n",
    "            error_value.append(values)\n",
    "\n",
    "error_value = np.array(error_value)\n",
    "counter = Counter(map(tuple, error_value.tolist()))\n",
    "\n",
    "max_list = list(counter.values())\n",
    "max_count = np.max(max_list)\n",
    "\n",
    "for key, value in counter.items():\n",
    "    if value == max_count:\n",
    "        error.append(key)\n",
    "\n",
    "cm = confusion_matrix(label_list, predict_list, labels=nc.classes_, normalize=\"true\")\n",
    "disp = ConfusionMatrixDisplay(confusion_matrix=cm, display_labels=iris.target_names)\n",
    "disp.plot(cmap=plt.cm.Blues)\n",
    "\n",
    "cm = confusion_matrix(label_list, predict_list, labels=nc.classes_)\n",
    "disp = ConfusionMatrixDisplay(confusion_matrix=cm, display_labels=iris.target_names)\n",
    "disp.plot(cmap=plt.cm.Blues)"
   ]
  },
  {
   "cell_type": "code",
   "execution_count": 5,
   "metadata": {},
   "outputs": [
    {
     "name": "stdout",
     "output_type": "stream",
     "text": [
      "Error data value :  (6.7, 3.0, 5.0, 1.7)  / label :  1\n",
      "1 th close distance :  [6.8 3.  5.5 2.1]  / label :  2\n",
      "2 th close distance :  [6.5 3.  5.8 2.2]  / label :  2\n",
      "3 th close distance :  [6.1 2.9 4.7 1.4]  / label :  1\n",
      "4 th close distance :  [5.  3.3 1.4 0.2]  / label :  0\n",
      "5 th close distance :  [6.3 2.5 5.  1.9]  / label :  2\n",
      "-------------------------------------------------------\n",
      "Error data value :  (5.7, 2.5, 5.0, 2.0)  / label :  2\n",
      "1 th close distance :  [6.8 3.  5.5 2.1]  / label :  2\n",
      "2 th close distance :  [6.5 3.  5.8 2.2]  / label :  2\n",
      "3 th close distance :  [6.1 2.9 4.7 1.4]  / label :  1\n",
      "4 th close distance :  [5.  3.3 1.4 0.2]  / label :  0\n",
      "5 th close distance :  [6.3 2.5 5.  1.9]  / label :  2\n",
      "-------------------------------------------------------\n",
      "Error data value :  (6.0, 2.2, 5.0, 1.5)  / label :  2\n",
      "1 th close distance :  [6.8 3.  5.5 2.1]  / label :  2\n",
      "2 th close distance :  [6.5 3.  5.8 2.2]  / label :  2\n",
      "3 th close distance :  [6.1 2.9 4.7 1.4]  / label :  1\n",
      "4 th close distance :  [5.  3.3 1.4 0.2]  / label :  0\n",
      "5 th close distance :  [6.3 2.5 5.  1.9]  / label :  2\n",
      "-------------------------------------------------------\n"
     ]
    }
   ],
   "source": [
    "from scipy.spatial.distance import euclidean\n",
    "\n",
    "k = 5\n",
    "\n",
    "for data in error:\n",
    "    dist_arr = []\n",
    "    print(\"Error data value : \", data[:4], \" / label : \", int(data[-1]))\n",
    "    \n",
    "    for idx, data in enumerate(iris.data):\n",
    "        data = data.reshape(1, -1)\n",
    "        dist = euclidean(data[:4], data)\n",
    "        dist_arr.append(dist)\n",
    "    \n",
    "    dist = np.argsort(dist_arr)[:k]\n",
    "    for s, d in enumerate(dist):\n",
    "        print(s+1, \"th close distance : \", x_train[d], \" / label : \", y_train[d])\n",
    "    print(\"-----\" * 11)"
   ]
  },
  {
   "cell_type": "markdown",
   "metadata": {},
   "source": [
    "## Nearest Centroid Classifier"
   ]
  },
  {
   "cell_type": "code",
   "execution_count": 40,
   "metadata": {},
   "outputs": [
    {
     "name": "stdout",
     "output_type": "stream",
     "text": [
      "train size :  120  / test size :  30\n",
      "\n",
      "Training set score: 0.941667\n",
      "Test set score: 0.900000\n",
      "Training Time : 0.0005 sec\n"
     ]
    },
    {
     "data": {
      "image/png": "[encoded data removed]",
      "text/plain": [
       "<Figure size 432x288 with 2 Axes>"
      ]
     },
     "metadata": {
      "needs_background": "light"
     },
     "output_type": "display_data"
    }
   ],
   "source": [
    "seed = 0\n",
    "\n",
    "x_train, x_test, y_train, y_test = train_test_split(iris.data, iris.target, test_size=0.2, random_state=seed, shuffle=True)\n",
    "\n",
    "print(\"train size : \", len(x_train), \" / test size : \", len(x_test))\n",
    "print()\n",
    "\n",
    "k = 1\n",
    "\n",
    "nc = NearestCentroid()\n",
    "nc.fit(x_train, y_train)\n",
    "\n",
    "train_score = nc.score(x_train, y_train)\n",
    "\n",
    "start = time.perf_counter()\n",
    "test_score = nc.score(x_test, y_test)\n",
    "end = time.perf_counter() - start\n",
    "\n",
    "print(\"Training set score: %f\" % train_score)\n",
    "print(\"Test set score: %f\" % test_score)\n",
    "print(\"Training Time : %.4f\" % (time.perf_counter() - start), \"sec\")\n",
    "\n",
    "disp = ConfusionMatrixDisplay.from_estimator(nc, x_test, y_test, display_labels=iris.target_names, cmap=plt.cm.Blues, normalize=\"true\")\n",
    "disp.ax_.set_title(\"Normalized confusion matrix\")\n",
    "plt.show()"
   ]
  }
 ],
 "metadata": {
  "interpreter": {
   "hash": "29414a2290beb65c31b67b1d96c06414c96949cde43a8cd89a1c21fe9ae0305b"
  },
  "kernelspec": {
   "display_name": "lab",
   "language": "python",
   "name": "lab"
  },
  "language_info": {
   "codemirror_mode": {
    "name": "ipython",
    "version": 3
   },
   "file_extension": ".py",
   "mimetype": "text/x-python",
   "name": "python",
   "nbconvert_exporter": "python",
   "pygments_lexer": "ipython3",
   "version": "3.8.5"
  },
  "orig_nbformat": 4
 },
 "nbformat": 4,
 "nbformat_minor": 2
}
