{
 "cells": [
  {
   "cell_type": "markdown",
   "metadata": {},
   "source": [
    "## Confusion Matrix of Wine Dataset using NCM\n",
    "\n",
    "분류 모델의 성능을 측정하기 위한 confusion matrix\n",
    "\n",
    "실제 타겟의 값을 분류 모델을 통해 예측한 값과 비교\n",
    "\n",
    "Confusion matrix를 통해 분류 모델의 성능을 확인할 수 있으며, 어떤 종류의 오류가 발생하는지 확인 가능\n",
    "\n",
    "<span style=\"color: #2D3748; background-color:#fff5b1;\">Test size 0.2로 10번 반복 실험한 결과 setosa에 대한 분류는 잘 하지만 versicolor와 virginica를 잘못 분류하는 경우가 발생하였다.</span>\n",
    "\n",
    "<span style=\"color: #2D3748; background-color:#fff5b1;\">반복 실험 동안 계속 잘 못 분류되는 데이터를 분석한 결과 virginica label을 가진 데이터가 versicolor 데이터 특징과 거의 동일하기 때문에 분류하지 못하였다.</span>"
   ]
  },
  {
   "cell_type": "code",
   "execution_count": 1,
   "metadata": {},
   "outputs": [
    {
     "name": "stderr",
     "output_type": "stream",
     "text": [
      "C:\\Users\\LAB\\Anaconda3\\envs\\lab\\lib\\site-packages\\numpy\\_distributor_init.py:30: UserWarning: loaded more than 1 DLL from .libs:\n",
      "C:\\Users\\LAB\\Anaconda3\\envs\\lab\\lib\\site-packages\\numpy\\.libs\\libopenblas.EL2C6PLE4ZYW3ECEVIV3OXXGRN2NRFM2.gfortran-win_amd64.dll\n",
      "C:\\Users\\LAB\\Anaconda3\\envs\\lab\\lib\\site-packages\\numpy\\.libs\\libopenblas.WCDJNK7YVMPZQ2ME2ZZHJJRJ3JIKNDB7.gfortran-win_amd64.dll\n",
      "  warnings.warn(\"loaded more than 1 DLL from .libs:\"\n",
      "<frozen importlib._bootstrap>:219: RuntimeWarning: scipy._lib.messagestream.MessageStream size changed, may indicate binary incompatibility. Expected 56 from C header, got 64 from PyObject\n"
     ]
    }
   ],
   "source": [
    "import numpy as np\n",
    "import matplotlib.pyplot as plt\n",
    "from sklearn.datasets import load_wine\n",
    "from sklearn.neighbors import NearestCentroid\n",
    "from sklearn.model_selection import train_test_split\n",
    "from sklearn.metrics import confusion_matrix, ConfusionMatrixDisplay"
   ]
  },
  {
   "cell_type": "code",
   "execution_count": 2,
   "metadata": {},
   "outputs": [],
   "source": [
    "wine = load_wine()\n",
    "\n",
    "features = wine.data\n",
    "target = wine.target\n",
    "target_names = wine.target_names"
   ]
  },
  {
   "cell_type": "code",
   "execution_count": 3,
   "metadata": {},
   "outputs": [
    {
     "data": {
      "text/plain": [
       "<sklearn.metrics._plot.confusion_matrix.ConfusionMatrixDisplay at 0x200ca5c0b50>"
      ]
     },
     "execution_count": 3,
     "metadata": {},
     "output_type": "execute_result"
    },
    {
     "data": {
      "image/png": "[encoded data removed]",
      "text/plain": [
       "<Figure size 432x288 with 2 Axes>"
      ]
     },
     "metadata": {
      "needs_background": "light"
     },
     "output_type": "display_data"
    },
    {
     "data": {
      "image/png": "[encoded data removed]",
      "text/plain": [
       "<Figure size 432x288 with 2 Axes>"
      ]
     },
     "metadata": {
      "needs_background": "light"
     },
     "output_type": "display_data"
    }
   ],
   "source": [
    "from collections import Counter\n",
    "\n",
    "max_seed = 10\n",
    "\n",
    "predict_list = []\n",
    "label_list = []\n",
    "error_value = []\n",
    "error_seed = []\n",
    "error = []\n",
    "error_list = []\n",
    "\n",
    "for seed in range(max_seed):\n",
    "    x_train, x_test, y_train, y_test = train_test_split(features, target, test_size=0.2, random_state=seed, shuffle=True)\n",
    "\n",
    "    k = 1\n",
    "\n",
    "    nc = NearestCentroid()\n",
    "    nc.fit(x_train, y_train)\n",
    "    predict = nc.predict(x_test)\n",
    "\n",
    "    predict_list.extend(predict)\n",
    "    label_list.extend(y_test)\n",
    "\n",
    "    equal = np.equal(predict, y_test)\n",
    "    idx = np.where(equal == False)\n",
    "    if len(idx[0]) != 0:\n",
    "        for idx in idx[0]:\n",
    "            values = x_test[idx]\n",
    "            values_seed = np.append(values, seed)\n",
    "            values = np.append(values, y_test[idx])\n",
    "            error_value.append(values)\n",
    "            error_seed.append(values_seed)\n",
    "\n",
    "error_value = np.array(error_value)\n",
    "counter = Counter(map(tuple, error_value.tolist()))\n",
    "\n",
    "max_list = list(counter.values())\n",
    "max_count = np.max(max_list)\n",
    "\n",
    "for key, value in counter.items():\n",
    "    if value == max_count or value > 5:\n",
    "        error.append(key)\n",
    "\n",
    "error_seed = np.array(error_seed)\n",
    "error = np.array(error)\n",
    "\n",
    "for idx, e_list in enumerate(error):\n",
    "    for s_idx, seed_list in enumerate(error_seed):\n",
    "        error_equal = np.array_equal(seed_list[:13], e_list[:13])\n",
    "        if error_equal:\n",
    "            add_seed = np.append(error[idx], seed_list[-1])\n",
    "            error_list.append(add_seed)\n",
    "\n",
    "cm = confusion_matrix(label_list, predict_list, labels=nc.classes_, normalize=\"true\")\n",
    "disp = ConfusionMatrixDisplay(confusion_matrix=cm, display_labels=target_names)\n",
    "disp.plot(cmap=plt.cm.Blues)\n",
    "\n",
    "cm = confusion_matrix(label_list, predict_list, labels=nc.classes_)\n",
    "disp = ConfusionMatrixDisplay(confusion_matrix=cm, display_labels=target_names)\n",
    "disp.plot(cmap=plt.cm.Blues)"
   ]
  },
  {
   "cell_type": "markdown",
   "metadata": {},
   "source": [
    "## Analysis Dataset"
   ]
  },
  {
   "cell_type": "code",
   "execution_count": 4,
   "metadata": {},
   "outputs": [
    {
     "name": "stdout",
     "output_type": "stream",
     "text": [
      "Seed :  0\n",
      "Error data value :  [ 12.79   2.67   2.48  22.   112.     1.48   1.36   0.24   1.26  10.8\n",
      "   0.48   1.47 480.  ]  / label :  2\n",
      "1 th close mean value :  [ 12.265636   1.908      2.241273  20.314545  95.909091   2.213091\n",
      "   1.979636   0.356182   1.665636   2.931818   1.059745   2.796545\n",
      " 527.8     ]  / label :  1  / distance :  51.113738150013\n",
      "2 th close mean value :  [ 13.134048   3.347143   2.441667  21.392857 100.071429   1.702857\n",
      "   0.782619   0.456429   1.170952   7.329286   0.690714   1.678095\n",
      " 635.119048]  / label :  2  / distance :  155.6204617025197\n",
      "3 th close mean value :  [  13.724667    2.030889    2.450667   16.911111  105.133333    2.833111\n",
      "    3.000667    0.285778    1.939333    5.496444    1.068444    3.176889\n",
      " 1104.6     ]  / label :  0  / distance :  624.6886140716156\n",
      "-------------------------------------------------------\n",
      "Seed :  1\n",
      "Error data value :  [ 12.79   2.67   2.48  22.   112.     1.48   1.36   0.24   1.26  10.8\n",
      "   0.48   1.47 480.  ]  / label :  2\n",
      "1 th close mean value :  [ 12.310517   1.991724   2.23069   20.165517  93.086207   2.24431\n",
      "   2.049828   0.365345   1.603276   3.084828   1.064586   2.752931\n",
      " 524.327586]  / label :  1  / distance :  48.882400038078686\n",
      "2 th close mean value :  [ 13.17641    3.432564   2.426154  21.435897  98.794872   1.633077\n",
      "   0.751538   0.451282   1.148205   7.405385   0.682308   1.685897\n",
      " 643.717949]  / label :  2  / distance :  164.28954872848766\n",
      "3 th close mean value :  [  13.712       2.042889    2.451111   17.064444  106.244444    2.829778\n",
      "    2.958222    0.294667    1.870444    5.445333    1.064222    3.159778\n",
      " 1104.555556]  / label :  0  / distance :  624.6318861981487\n",
      "-------------------------------------------------------\n",
      "Seed :  2\n",
      "Error data value :  [ 12.79   2.67   2.48  22.   112.     1.48   1.36   0.24   1.26  10.8\n",
      "   0.48   1.47 480.  ]  / label :  2\n",
      "1 th close mean value :  [ 12.309194   1.922097   2.218871  20.362903  93.806452   2.268065\n",
      "   2.077097   0.361452   1.624355   3.071613   1.044129   2.799355\n",
      " 525.016129]  / label :  1  / distance :  49.23506936766634\n",
      "2 th close mean value :  [ 13.172051   3.447436   2.434872  21.333333  98.051282   1.663846\n",
      "   0.722051   0.457436   1.112308   7.028718   0.691282   1.718974\n",
      " 630.641026]  / label :  2  / distance :  151.33843284294414\n",
      "3 th close mean value :  [  13.718049    1.976098    2.433171   16.802439  107.707317    2.844146\n",
      "    3.010488    0.284146    1.896341    5.63561     1.069512    3.115854\n",
      " 1114.317073]  / label :  0  / distance :  634.3813168914106\n",
      "-------------------------------------------------------\n",
      "Seed :  6\n",
      "Error data value :  [ 12.79   2.67   2.48  22.   112.     1.48   1.36   0.24   1.26  10.8\n",
      "   0.48   1.47 480.  ]  / label :  2\n",
      "1 th close mean value :  [ 12.294737   1.936316   2.246842  20.45614   93.964912   2.287018\n",
      "   2.105614   0.362632   1.597544   3.097018   1.044491   2.821754\n",
      " 518.122807]  / label :  1  / distance :  42.94941522569307\n",
      "2 th close mean value :  [ 13.115385   3.261282   2.422051  21.269231  99.230769   1.704615\n",
      "   0.775385   0.448974   1.178462   7.405128   0.679744   1.657692\n",
      " 641.923077]  / label :  2  / distance :  162.46590963218492\n",
      "3 th close mean value :  [  13.726522    2.03587     2.447826   17.06087   106.217391    2.863043\n",
      "    2.98587     0.287174    1.874783    5.573478    1.057391    3.172826\n",
      " 1112.326087]  / label :  0  / distance :  632.4008855299719\n",
      "-------------------------------------------------------\n",
      "Seed :  8\n",
      "Error data value :  [ 12.79   2.67   2.48  22.   112.     1.48   1.36   0.24   1.26  10.8\n",
      "   0.48   1.47 480.  ]  / label :  2\n",
      "1 th close mean value :  [ 12.279298   1.877719   2.258596  20.314035  94.649123   2.251404\n",
      "   2.066316   0.367193   1.619123   3.067193   1.058526   2.796667\n",
      " 535.315789]  / label :  1  / distance :  58.547413783877275\n",
      "2 th close mean value :  [ 13.168108   3.386216   2.399189  21.013514  96.108108   1.651622\n",
      "   0.734054   0.462973   1.154054   7.384865   0.685135   1.691892\n",
      " 634.054054]  / label :  2  / distance :  154.9163518941352\n",
      "3 th close mean value :  [  13.813333    2.045208    2.434167   16.94375   106.083333    2.811042\n",
      "    2.982917    0.281458    1.937708    5.575625    1.070625    3.159583\n",
      " 1121.916667]  / label :  0  / distance :  641.9925103854866\n",
      "-------------------------------------------------------\n",
      "Seed :  0\n",
      "Error data value :  [ 13.24   2.59   2.87  21.   118.     2.8    2.69   0.39   1.82   4.32\n",
      "   1.04   2.93 735.  ]  / label :  0\n",
      "1 th close mean value :  [ 13.134048   3.347143   2.441667  21.392857 100.071429   1.702857\n",
      "   0.782619   0.456429   1.170952   7.329286   0.690714   1.678095\n",
      " 635.119048]  / label :  2  / distance :  101.56068720676878\n",
      "2 th close mean value :  [ 12.265636   1.908      2.241273  20.314545  95.909091   2.213091\n",
      "   1.979636   0.356182   1.665636   2.931818   1.059745   2.796545\n",
      " 527.8     ]  / label :  1  / distance :  208.38653319783785\n",
      "3 th close mean value :  [  13.724667    2.030889    2.450667   16.911111  105.133333    2.833111\n",
      "    3.000667    0.285778    1.939333    5.496444    1.068444    3.176889\n",
      " 1104.6     ]  / label :  0  / distance :  369.84959371140826\n",
      "-------------------------------------------------------\n",
      "Seed :  1\n",
      "Error data value :  [ 13.24   2.59   2.87  21.   118.     2.8    2.69   0.39   1.82   4.32\n",
      "   1.04   2.93 735.  ]  / label :  0\n",
      "1 th close mean value :  [ 13.17641    3.432564   2.426154  21.435897  98.794872   1.633077\n",
      "   0.751538   0.451282   1.148205   7.405385   0.682308   1.685897\n",
      " 643.717949]  / label :  2  / distance :  93.3762311245561\n",
      "2 th close mean value :  [ 12.310517   1.991724   2.23069   20.165517  93.086207   2.24431\n",
      "   2.049828   0.365345   1.603276   3.084828   1.064586   2.752931\n",
      " 524.327586]  / label :  1  / distance :  212.151393512616\n",
      "3 th close mean value :  [  13.712       2.042889    2.451111   17.064444  106.244444    2.829778\n",
      "    2.958222    0.294667    1.870444    5.445333    1.064222    3.159778\n",
      " 1104.555556]  / label :  0  / distance :  369.76626689168444\n",
      "-------------------------------------------------------\n",
      "Seed :  3\n",
      "Error data value :  [ 13.24   2.59   2.87  21.   118.     2.8    2.69   0.39   1.82   4.32\n",
      "   1.04   2.93 735.  ]  / label :  0\n",
      "1 th close mean value :  [ 13.201707   3.479024   2.445366  21.560976  98.536585   1.693171\n",
      "   0.771707   0.450976   1.139268   7.498537   0.687073   1.711951\n",
      " 623.170732]  / label :  2  / distance :  113.5912845290665\n",
      "2 th close mean value :  [ 12.268596   1.995614   2.210175  20.080702  94.947368   2.273509\n",
      "   2.075614   0.361579   1.616316   3.087544   1.04193    2.811579\n",
      " 509.807018]  / label :  1  / distance :  226.38045520963894\n",
      "3 th close mean value :  [  13.778636    1.992273    2.437727   16.825     106.386364    2.838864\n",
      "    3.003409    0.288409    1.912955    5.590455    1.065682    3.153636\n",
      " 1119.25    ]  / label :  0  / distance :  384.45154098501695\n",
      "-------------------------------------------------------\n",
      "Seed :  6\n",
      "Error data value :  [ 13.24   2.59   2.87  21.   118.     2.8    2.69   0.39   1.82   4.32\n",
      "   1.04   2.93 735.  ]  / label :  0\n",
      "1 th close mean value :  [ 13.115385   3.261282   2.422051  21.269231  99.230769   1.704615\n",
      "   0.775385   0.448974   1.178462   7.405128   0.679744   1.657692\n",
      " 641.923077]  / label :  2  / distance :  95.04148652831428\n",
      "2 th close mean value :  [ 12.294737   1.936316   2.246842  20.45614   93.964912   2.287018\n",
      "   2.105614   0.362632   1.597544   3.097018   1.044491   2.821754\n",
      " 518.122807]  / label :  1  / distance :  218.21450348059273\n",
      "3 th close mean value :  [  13.726522    2.03587     2.447826   17.06087   106.217391    2.863043\n",
      "    2.98587     0.287174    1.874783    5.573478    1.057391    3.172826\n",
      " 1112.326087]  / label :  0  / distance :  377.533813149586\n",
      "-------------------------------------------------------\n",
      "Seed :  8\n",
      "Error data value :  [ 13.24   2.59   2.87  21.   118.     2.8    2.69   0.39   1.82   4.32\n",
      "   1.04   2.93 735.  ]  / label :  0\n",
      "1 th close mean value :  [ 13.168108   3.386216   2.399189  21.013514  96.108108   1.651622\n",
      "   0.734054   0.462973   1.154054   7.384865   0.685135   1.691892\n",
      " 634.054054]  / label :  2  / distance :  103.3771998624688\n",
      "2 th close mean value :  [ 12.279298   1.877719   2.258596  20.314035  94.649123   2.251404\n",
      "   2.066316   0.367193   1.619123   3.067193   1.058526   2.796667\n",
      " 535.315789]  / label :  1  / distance :  201.05631179176365\n",
      "3 th close mean value :  [  13.813333    2.045208    2.434167   16.94375   106.083333    2.811042\n",
      "    2.982917    0.281458    1.937708    5.575625    1.070625    3.159583\n",
      " 1121.916667]  / label :  0  / distance :  387.1246883265034\n",
      "-------------------------------------------------------\n"
     ]
    }
   ],
   "source": [
    "from scipy.spatial.distance import euclidean\n",
    "np.set_printoptions(precision=6, suppress=True)\n",
    "\n",
    "for e in error_list:\n",
    "    dist_arr = []\n",
    "    print(\"Seed : \", int(e[-1]))\n",
    "    print(\"Error data value : \", e[:13], \" / label : \", int(e[-2]))\n",
    "\n",
    "    x_train, x_test, y_train, y_test = train_test_split(features, target, test_size=0.2, random_state=int(e[-1]), shuffle=True)\n",
    "    nc = NearestCentroid()\n",
    "    nc.fit(x_train, y_train)\n",
    "\n",
    "    mean_list = nc.centroids_\n",
    "    mean_list.reshape(3, -1)\n",
    "    label = [\"0\", \"1\", \"2\"]\n",
    "    \n",
    "    for s, mean_value in enumerate(mean_list):\n",
    "        dist = euclidean(e[:13], mean_value)\n",
    "        dist_arr.append(dist)\n",
    "\n",
    "    dist = np.argsort(dist_arr)\n",
    "\n",
    "    for s, d in enumerate(dist):\n",
    "        print(s+1, \"th close mean value : \", mean_list[d], \" / label : \", label[d], \" / distance : \", dist_arr[d])\n",
    "    print(\"-----\" * 11)"
   ]
  }
 ],
 "metadata": {
  "interpreter": {
   "hash": "ef298fc41f1c944450b137f71a863fad07b94cfee850be5694a07d1477901498"
  },
  "kernelspec": {
   "display_name": "lab",
   "language": "python",
   "name": "lab"
  },
  "language_info": {
   "codemirror_mode": {
    "name": "ipython",
    "version": 3
   },
   "file_extension": ".py",
   "mimetype": "text/x-python",
   "name": "python",
   "nbconvert_exporter": "python",
   "pygments_lexer": "ipython3",
   "version": "3.8.5"
  },
  "orig_nbformat": 4
 },
 "nbformat": 4,
 "nbformat_minor": 2
}
