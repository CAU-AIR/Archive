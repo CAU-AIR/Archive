{
 "cells": [
  {
   "cell_type": "markdown",
   "metadata": {},
   "source": [
    "## Iris Dataset Classification using K-Nearest Neighbors with Dimension Reduction\n",
    "\n",
    "kNN을 이용하여 PCA가 적용된 iris 데이터셋 분류\n",
    "\n",
    "<span style=\"color: #2D3748; background-color:#fff5b1;\">PCA를 적용하여 feature의 수를 2개와 3개로 구성한 후 kNN을 이용하여 실험한 결과 정확도 측면에서는 PCA를 적용하지 않은 방법과 비슷하지만 분류 시간의 경우 PCA를 적용하지 않은 경우 시간이 증가하였다.</span>"
   ]
  },
  {
   "cell_type": "code",
   "execution_count": 206,
   "metadata": {},
   "outputs": [],
   "source": [
    "import time\n",
    "import numpy as np\n",
    "import matplotlib.pyplot as plt\n",
    "from sklearn.decomposition import PCA\n",
    "from sklearn.datasets import load_iris\n",
    "from sklearn.model_selection import train_test_split\n",
    "from sklearn.neighbors import KNeighborsClassifier"
   ]
  },
  {
   "cell_type": "code",
   "execution_count": 207,
   "metadata": {},
   "outputs": [],
   "source": [
    "comparison_train = []\n",
    "comparison_test = []\n",
    "comparison_time = []"
   ]
  },
  {
   "cell_type": "markdown",
   "metadata": {},
   "source": [
    "## kNN with PCA feature 3"
   ]
  },
  {
   "cell_type": "code",
   "execution_count": 208,
   "metadata": {},
   "outputs": [
    {
     "name": "stdout",
     "output_type": "stream",
     "text": [
      "(150, 3)\n"
     ]
    }
   ],
   "source": [
    "iris = load_iris()\n",
    "\n",
    "pca = PCA(n_components=3)\n",
    "features = pca.fit(iris.data).transform(iris.data)\n",
    "\n",
    "feature_names = iris.feature_names\n",
    "target = iris.target\n",
    "target_names = iris.target_names\n",
    "\n",
    "print(features.shape)"
   ]
  },
  {
   "cell_type": "code",
   "execution_count": 209,
   "metadata": {},
   "outputs": [
    {
     "name": "stdout",
     "output_type": "stream",
     "text": [
      "train size :  120  / test size :  30\n",
      "\n",
      "Training set score: 1.000000\n",
      "Test set score: 0.953333\n",
      "Training Time : 0.0047 sec\n"
     ]
    }
   ],
   "source": [
    "avg_training_acc = []\n",
    "avg_test_acc = []\n",
    "avg_time = []\n",
    "\n",
    "max_seed = 10\n",
    "\n",
    "for seed in range(max_seed):\n",
    "    x_train, x_test, y_train, y_test = train_test_split(features, target, test_size=0.2, random_state=seed, shuffle=True)\n",
    "\n",
    "    k = 1\n",
    "\n",
    "    knn = KNeighborsClassifier(k, weights='distance', n_jobs=-1)\n",
    "    knn.fit(x_train, y_train)\n",
    "\n",
    "    train_score = knn.score(x_train, y_train)\n",
    "\n",
    "    start = time.perf_counter()\n",
    "    test_score = knn.score(x_test, y_test)\n",
    "    end = time.perf_counter() - start\n",
    "\n",
    "    avg_training_acc.append(train_score)\n",
    "    avg_test_acc.append(test_score)\n",
    "    avg_time.append(end)\n",
    "\n",
    "print(\"train size : \", len(x_train), \" / test size : \", len(x_test))\n",
    "print()\n",
    "print(\"Training set score: %f\" % np.array(avg_training_acc).mean())\n",
    "print(\"Test set score: %f\" % np.array(avg_test_acc).mean())\n",
    "print(\"Training Time : %.4f\" % np.array(avg_time).mean(), \"sec\")\n",
    "\n",
    "comparison_train.append(np.array(avg_training_acc).mean())\n",
    "comparison_test.append(np.array(avg_test_acc).mean())\n",
    "comparison_time.append(np.array(avg_time).mean())"
   ]
  },
  {
   "cell_type": "markdown",
   "metadata": {},
   "source": [
    "## kNN with PCA feature 2"
   ]
  },
  {
   "cell_type": "code",
   "execution_count": 210,
   "metadata": {},
   "outputs": [
    {
     "name": "stdout",
     "output_type": "stream",
     "text": [
      "(150, 2)\n"
     ]
    }
   ],
   "source": [
    "pca = PCA(n_components=2)\n",
    "features = pca.fit(iris.data).transform(iris.data)\n",
    "\n",
    "feature_names = iris.feature_names\n",
    "target = iris.target\n",
    "target_names = iris.target_names\n",
    "\n",
    "print(features.shape)"
   ]
  },
  {
   "cell_type": "code",
   "execution_count": 211,
   "metadata": {},
   "outputs": [
    {
     "name": "stdout",
     "output_type": "stream",
     "text": [
      "train size :  120  / test size :  30\n",
      "\n",
      "Training set score: 1.000000\n",
      "Test set score: 0.960000\n",
      "Training Time : 0.0048 sec\n"
     ]
    }
   ],
   "source": [
    "avg_training_acc = []\n",
    "avg_test_acc = []\n",
    "avg_time = []\n",
    "\n",
    "max_seed = 10\n",
    "\n",
    "for seed in range(max_seed):\n",
    "    x_train, x_test, y_train, y_test = train_test_split(features, target, test_size=0.2, random_state=seed, shuffle=True)\n",
    "\n",
    "    k = 1\n",
    "\n",
    "    knn = KNeighborsClassifier(k, weights='distance', n_jobs=-1)\n",
    "    knn.fit(x_train, y_train)\n",
    "\n",
    "    train_score = knn.score(x_train, y_train)\n",
    "\n",
    "    start = time.perf_counter()\n",
    "    test_score = knn.score(x_test, y_test)\n",
    "    end = time.perf_counter() - start\n",
    "\n",
    "    avg_training_acc.append(train_score)\n",
    "    avg_test_acc.append(test_score)\n",
    "    avg_time.append(end)\n",
    "\n",
    "print(\"train size : \", len(x_train), \" / test size : \", len(x_test))\n",
    "print()\n",
    "print(\"Training set score: %f\" % np.array(avg_training_acc).mean())\n",
    "print(\"Test set score: %f\" % np.array(avg_test_acc).mean())\n",
    "print(\"Training Time : %.4f\" % np.array(avg_time).mean(), \"sec\")\n",
    "\n",
    "comparison_train.append(np.array(avg_training_acc).mean())\n",
    "comparison_test.append(np.array(avg_test_acc).mean())\n",
    "comparison_time.append(np.array(avg_time).mean())"
   ]
  },
  {
   "cell_type": "markdown",
   "metadata": {},
   "source": [
    "## K-Nearest Neighbor"
   ]
  },
  {
   "cell_type": "code",
   "execution_count": 212,
   "metadata": {},
   "outputs": [],
   "source": [
    "iris = load_iris()\n",
    "\n",
    "features = iris.data\n",
    "feature_names = iris.feature_names\n",
    "target = iris.target\n",
    "target_names = iris.target_names"
   ]
  },
  {
   "cell_type": "code",
   "execution_count": 213,
   "metadata": {},
   "outputs": [
    {
     "name": "stdout",
     "output_type": "stream",
     "text": [
      "train size :  120  / test size :  30\n",
      "\n",
      "Training set score: 1.000000\n",
      "Test set score: 0.950000\n",
      "Training Time : 0.0052 sec\n"
     ]
    }
   ],
   "source": [
    "avg_training_acc = []\n",
    "avg_test_acc = []\n",
    "avg_time = []\n",
    "\n",
    "max_seed = 10\n",
    "\n",
    "for seed in range(max_seed):\n",
    "    x_train, x_test, y_train, y_test = train_test_split(features, target, test_size=0.2, random_state=seed, shuffle=True)\n",
    "\n",
    "    k = 1\n",
    "\n",
    "    knn = KNeighborsClassifier(k, weights='distance', n_jobs=-1)\n",
    "    knn.fit(x_train, y_train)\n",
    "\n",
    "    train_score = knn.score(x_train, y_train)\n",
    "\n",
    "    start = time.perf_counter()\n",
    "    test_score = knn.score(x_test, y_test)\n",
    "    end = time.perf_counter() - start\n",
    "\n",
    "    avg_training_acc.append(train_score)\n",
    "    avg_test_acc.append(test_score)\n",
    "    avg_time.append(end)\n",
    "\n",
    "print(\"train size : \", len(x_train), \" / test size : \", len(x_test))\n",
    "print()\n",
    "print(\"Training set score: %f\" % np.array(avg_training_acc).mean())\n",
    "print(\"Test set score: %f\" % np.array(avg_test_acc).mean())\n",
    "print(\"Training Time : %.4f\" % np.array(avg_time).mean(), \"sec\")\n",
    "\n",
    "comparison_train.append(np.array(avg_training_acc).mean())\n",
    "comparison_test.append(np.array(avg_test_acc).mean())\n",
    "comparison_time.append(np.array(avg_time).mean())"
   ]
  },
  {
   "cell_type": "markdown",
   "metadata": {},
   "source": [
    "### Method Comparison"
   ]
  },
  {
   "cell_type": "code",
   "execution_count": 214,
   "metadata": {},
   "outputs": [
    {
     "data": {
      "image/png": "[encoded data removed]",
      "text/plain": [
       "<Figure size 432x288 with 1 Axes>"
      ]
     },
     "metadata": {
      "needs_background": "light"
     },
     "output_type": "display_data"
    }
   ],
   "source": [
    "xticks = [\"Train\", \"Test\"]\n",
    "method = [\"PCA Feature 2\", \"PCA Feature 3\", \"Normal\"]\n",
    "\n",
    "x1 = [1,4]\n",
    "data1 = [comparison_train[1], comparison_test[1]]\n",
    "plt.bar(x1, data1, color='r')\n",
    "\n",
    "x2 = [2,5]\n",
    "data2 = [comparison_train[0], comparison_test[0]]\n",
    "plt.bar(x2, data2, color='g')\n",
    "\n",
    "x3 = [3,6]\n",
    "data3 = [comparison_train[2], comparison_test[2]]\n",
    "plt.bar(x3, data3, color='b')\n",
    "\n",
    "plt.xticks(x2, xticks)\n",
    "plt.legend(method, loc='center right', bbox_to_anchor=(1.4, 0.5))\n",
    "plt.show()"
   ]
  },
  {
   "cell_type": "code",
   "execution_count": 215,
   "metadata": {},
   "outputs": [
    {
     "data": {
      "image/png": "[encoded data removed]",
      "text/plain": [
       "<Figure size 432x288 with 1 Axes>"
      ]
     },
     "metadata": {
      "needs_background": "light"
     },
     "output_type": "display_data"
    }
   ],
   "source": [
    "xticks = [\"Time\"]\n",
    "method = [\"PCA Feature 2\", \"PCA Feature 3\", \"Normal\"]\n",
    "\n",
    "x1 = [1]\n",
    "data1 = [comparison_time[1]]\n",
    "plt.bar(x1, data1, color='r')\n",
    "\n",
    "x2 = [2]\n",
    "data2 = [comparison_time[0]]\n",
    "plt.bar(x2, data2, color='g')\n",
    "\n",
    "x3 = [3]\n",
    "data3 = [comparison_time[2]]\n",
    "plt.bar(x3, data3, color='b')\n",
    "\n",
    "plt.xticks(x2, xticks)\n",
    "plt.legend(method, loc='center right', bbox_to_anchor=(1.4, 0.5))\n",
    "plt.show()"
   ]
  }
 ],
 "metadata": {
  "interpreter": {
   "hash": "ef298fc41f1c944450b137f71a863fad07b94cfee850be5694a07d1477901498"
  },
  "kernelspec": {
   "display_name": "lab",
   "language": "python",
   "name": "python3"
  },
  "language_info": {
   "codemirror_mode": {
    "name": "ipython",
    "version": 3
   },
   "file_extension": ".py",
   "mimetype": "text/x-python",
   "name": "python",
   "nbconvert_exporter": "python",
   "pygments_lexer": "ipython3",
   "version": "3.8.5"
  },
  "orig_nbformat": 4
 },
 "nbformat": 4,
 "nbformat_minor": 2
}
