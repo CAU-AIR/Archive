{
 "cells": [
  {
   "cell_type": "markdown",
   "metadata": {},
   "source": [
    "## Iris Dataset Classification using DBSCAN with Dimension Reduction\n",
    "\n",
    "k-Means을 이용하여 PCA가 적용된 iris 데이터셋 분류\n",
    "\n",
    "<span style=\"color: #2D3748; background-color:#fff5b1;\">PCA를 적용하여 feature의 수를 2개와 3개로 구성한 후 k-Means을 이용하여 실험한 결과 정확도 측면에서는 PCA를 적용하지 않은 방법과 비슷하지만 분류 시간의 경우 PCA를 적용하지 않은 경우 시간이 증가하였다.</span>"
   ]
  },
  {
   "cell_type": "code",
   "execution_count": 225,
   "metadata": {},
   "outputs": [],
   "source": [
    "import time\n",
    "import numpy as np\n",
    "import matplotlib.pyplot as plt\n",
    "import sklearn.metrics as metrics\n",
    "from sklearn.cluster import DBSCAN\n",
    "from sklearn.decomposition import PCA\n",
    "from sklearn.datasets import load_iris\n",
    "from sklearn.preprocessing import MinMaxScaler"
   ]
  },
  {
   "cell_type": "code",
   "execution_count": 226,
   "metadata": {},
   "outputs": [],
   "source": [
    "scaler = MinMaxScaler()\n",
    "\n",
    "comparison_acc = []\n",
    "comparison_time = []"
   ]
  },
  {
   "cell_type": "markdown",
   "metadata": {},
   "source": [
    "## DBSCAN with PCA feature 3"
   ]
  },
  {
   "cell_type": "code",
   "execution_count": 227,
   "metadata": {},
   "outputs": [
    {
     "name": "stdout",
     "output_type": "stream",
     "text": [
      "(150, 3)\n"
     ]
    }
   ],
   "source": [
    "iris = load_iris()\n",
    "\n",
    "pca = PCA(n_components=3)\n",
    "features = pca.fit(iris.data).transform(iris.data)\n",
    "features = scaler.fit_transform(features)\n",
    "target = iris.target\n",
    "\n",
    "print(features.shape)"
   ]
  },
  {
   "cell_type": "code",
   "execution_count": 228,
   "metadata": {},
   "outputs": [
    {
     "name": "stdout",
     "output_type": "stream",
     "text": [
      "Test set score: 0.633333\n",
      "Training Time : 0.0084 sec\n"
     ]
    }
   ],
   "source": [
    "epsilon = 0.2\n",
    "point = 10\n",
    "\n",
    "db = DBSCAN(eps=epsilon, min_samples=point, n_jobs=-1)\n",
    "\n",
    "start = time.perf_counter()\n",
    "db.fit(features, target)\n",
    "end = time.perf_counter() - start\n",
    "\n",
    "acc = metrics.accuracy_score(target, db.labels_)\n",
    "\n",
    "print(\"Test set score: %f\" % acc)\n",
    "print(\"Training Time : %.4f\" % end, \"sec\")\n",
    "\n",
    "comparison_acc.append(acc)\n",
    "comparison_time.append(end)"
   ]
  },
  {
   "cell_type": "markdown",
   "metadata": {},
   "source": [
    "## DBSCAN with PCA feature 2"
   ]
  },
  {
   "cell_type": "code",
   "execution_count": 229,
   "metadata": {},
   "outputs": [
    {
     "name": "stdout",
     "output_type": "stream",
     "text": [
      "(150, 2)\n"
     ]
    }
   ],
   "source": [
    "pca = PCA(n_components=2)\n",
    "features = pca.fit(iris.data).transform(iris.data)\n",
    "features = scaler.fit_transform(features)\n",
    "target = iris.target\n",
    "\n",
    "print(features.shape)"
   ]
  },
  {
   "cell_type": "code",
   "execution_count": 230,
   "metadata": {},
   "outputs": [
    {
     "name": "stdout",
     "output_type": "stream",
     "text": [
      "Test set score: 0.666667\n",
      "Training Time : 0.0079 sec\n"
     ]
    }
   ],
   "source": [
    "epsilon = 0.2\n",
    "point = 10\n",
    "\n",
    "db = DBSCAN(eps=epsilon, min_samples=point, n_jobs=-1)\n",
    "\n",
    "start = time.perf_counter()\n",
    "db.fit(features, target)\n",
    "end = time.perf_counter() - start\n",
    "\n",
    "acc = metrics.accuracy_score(target, db.labels_)\n",
    "\n",
    "print(\"Test set score: %f\" % acc)\n",
    "print(\"Training Time : %.4f\" % end, \"sec\")\n",
    "\n",
    "comparison_acc.append(acc)\n",
    "comparison_time.append(end)"
   ]
  },
  {
   "cell_type": "markdown",
   "metadata": {},
   "source": [
    "## DBSCAN"
   ]
  },
  {
   "cell_type": "code",
   "execution_count": 231,
   "metadata": {},
   "outputs": [
    {
     "name": "stdout",
     "output_type": "stream",
     "text": [
      "(150, 4)\n"
     ]
    }
   ],
   "source": [
    "iris = load_iris()\n",
    "\n",
    "features = iris.data\n",
    "features = scaler.fit_transform(features)\n",
    "target = iris.target\n",
    "\n",
    "print(features.shape)"
   ]
  },
  {
   "cell_type": "code",
   "execution_count": 232,
   "metadata": {},
   "outputs": [
    {
     "name": "stdout",
     "output_type": "stream",
     "text": [
      "Test set score: 0.666667\n",
      "Training Time : 0.0087 sec\n"
     ]
    }
   ],
   "source": [
    "epsilon = 0.3\n",
    "point = 10\n",
    "\n",
    "db = DBSCAN(eps=epsilon, min_samples=point, n_jobs=-1)\n",
    "\n",
    "start = time.perf_counter()\n",
    "db.fit(features, target)\n",
    "end = time.perf_counter() - start\n",
    "\n",
    "acc = metrics.accuracy_score(target, db.labels_)\n",
    "\n",
    "print(\"Test set score: %f\" % acc)\n",
    "print(\"Training Time : %.4f\" % end, \"sec\")\n",
    "\n",
    "comparison_acc.append(acc)\n",
    "comparison_time.append(end)"
   ]
  },
  {
   "cell_type": "markdown",
   "metadata": {},
   "source": [
    "### Method Comparison"
   ]
  },
  {
   "cell_type": "code",
   "execution_count": 233,
   "metadata": {},
   "outputs": [
    {
     "data": {
      "image/png": "[encoded data removed]",
      "text/plain": [
       "<Figure size 432x288 with 2 Axes>"
      ]
     },
     "metadata": {},
     "output_type": "display_data"
    }
   ],
   "source": [
    "import seaborn as sns\n",
    "\n",
    "sns.set(style=\"white\", rc={\"lines.linewidth\": 3})\n",
    "\n",
    "fig, ax1 = plt.subplots()\n",
    "ax2 = ax1.twinx()\n",
    "\n",
    "sns.barplot(x=[\"PCA Feature 2\", \"PCA Feature 3\", \"Normal\"],\n",
    "            y=[comparison_acc[1], comparison_acc[0], comparison_acc[2]], \n",
    "            color='#004488',\n",
    "            ax=ax1)\n",
    "\n",
    "sns.lineplot(x=[\"PCA Feature 2\", \"PCA Feature 3\", \"Normal\"], \n",
    "             y=[comparison_time[1], comparison_time[0], comparison_time[2]],\n",
    "             color='r',\n",
    "             marker=\"o\",\n",
    "             ax=ax2)\n",
    "\n",
    "ax1.set_ylabel(\"Accuracy\")\n",
    "ax2.set_ylabel(\"Seconds\")\n",
    "\n",
    "ax1.legend([\"Accuracy\"], loc=1, bbox_to_anchor=(1.5, 0.5))\n",
    "ax2.legend([\"Time\"], loc=4, bbox_to_anchor=(1.5, 0.5))\n",
    "\n",
    "plt.show()\n",
    "sns.set()"
   ]
  }
 ],
 "metadata": {
  "interpreter": {
   "hash": "ef298fc41f1c944450b137f71a863fad07b94cfee850be5694a07d1477901498"
  },
  "kernelspec": {
   "display_name": "lab",
   "language": "python",
   "name": "lab"
  },
  "language_info": {
   "codemirror_mode": {
    "name": "ipython",
    "version": 3
   },
   "file_extension": ".py",
   "mimetype": "text/x-python",
   "name": "python",
   "nbconvert_exporter": "python",
   "pygments_lexer": "ipython3",
   "version": "3.8.5"
  },
  "orig_nbformat": 4
 },
 "nbformat": 4,
 "nbformat_minor": 2
}
