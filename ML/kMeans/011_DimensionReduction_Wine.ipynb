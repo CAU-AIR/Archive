{
 "cells": [
  {
   "cell_type": "markdown",
   "metadata": {},
   "source": [
    "## wine Dataset Classification using k-Means with Dimension Reduction\n",
    "\n",
    "k-Means을 이용하여 PCA가 적용된 wine 데이터셋 분류\n",
    "\n",
    "<span style=\"color: #2D3748; background-color:#fff5b1;\">PCA를 적용하여 feature의 수를 2개와 3개로 구성한 후 k-Means을 이용하여 실험한 결과 정확도 측면에서는 PCA를 적용하지 않은 방법과 비슷하지만 분류 시간의 경우 PCA를 적용하지 않은 경우 시간이 증가하였다.</span>"
   ]
  },
  {
   "cell_type": "code",
   "execution_count": 82,
   "metadata": {},
   "outputs": [],
   "source": [
    "import time\n",
    "import numpy as np\n",
    "import matplotlib.pyplot as plt\n",
    "import sklearn.metrics as metrics\n",
    "from sklearn.cluster import KMeans\n",
    "from sklearn.decomposition import PCA\n",
    "from sklearn.datasets import load_wine"
   ]
  },
  {
   "cell_type": "code",
   "execution_count": 83,
   "metadata": {},
   "outputs": [],
   "source": [
    "comparison_acc = []\n",
    "comparison_time = []"
   ]
  },
  {
   "cell_type": "markdown",
   "metadata": {},
   "source": [
    "## k-Means with PCA feature 3"
   ]
  },
  {
   "cell_type": "code",
   "execution_count": 84,
   "metadata": {},
   "outputs": [
    {
     "name": "stdout",
     "output_type": "stream",
     "text": [
      "(178, 3)\n"
     ]
    }
   ],
   "source": [
    "wine = load_wine()\n",
    "\n",
    "pca = PCA(n_components=3)\n",
    "features = pca.fit(wine.data).transform(wine.data)\n",
    "target = wine.target\n",
    "\n",
    "print(features.shape)"
   ]
  },
  {
   "cell_type": "code",
   "execution_count": 85,
   "metadata": {},
   "outputs": [
    {
     "name": "stdout",
     "output_type": "stream",
     "text": [
      "seed :  0  / accuracy :  0.1853932584269663\n",
      "seed :  1  / accuracy :  0.702247191011236\n",
      "seed :  2  / accuracy :  0.1853932584269663\n",
      "seed :  3  / accuracy :  0.1853932584269663\n",
      "seed :  4  / accuracy :  0.16853932584269662\n",
      "seed :  5  / accuracy :  0.16853932584269662\n",
      "seed :  6  / accuracy :  0.16853932584269662\n",
      "seed :  7  / accuracy :  0.1853932584269663\n",
      "seed :  8  / accuracy :  0.1853932584269663\n",
      "seed :  9  / accuracy :  0.16853932584269662\n",
      "--------------------------------------------------\n",
      "Clustering Average Accuracy : 0.230337\n",
      "Clustering Average Time : 0.0244 sec\n"
     ]
    }
   ],
   "source": [
    "avg_acc = []\n",
    "avg_time = []\n",
    "\n",
    "max_seed = 10\n",
    "\n",
    "for seed in range(max_seed):\n",
    "    k = 3\n",
    "\n",
    "    k_means = KMeans(n_clusters=k, random_state=seed)\n",
    "\n",
    "    start = time.perf_counter()\n",
    "    k_means.fit(features, target)\n",
    "    end = time.perf_counter() - start\n",
    "\n",
    "    score = metrics.accuracy_score(target, k_means.labels_)\n",
    "    print(\"seed : \", seed, \" / accuracy : \", score)\n",
    "\n",
    "    avg_acc.append(score)\n",
    "    avg_time.append(end)\n",
    "\n",
    "print(\"-----\" * 10)\n",
    "print(\"Clustering Average Accuracy : %f\" % np.array(avg_acc).mean())\n",
    "print(\"Clustering Average Time : %.4f\" % np.array(avg_time).mean(), \"sec\")\n",
    "\n",
    "comparison_acc.append(np.array(avg_acc).mean())\n",
    "comparison_time.append(np.array(avg_time).mean())"
   ]
  },
  {
   "cell_type": "markdown",
   "metadata": {},
   "source": [
    "## k-Means with PCA feature 2"
   ]
  },
  {
   "cell_type": "code",
   "execution_count": 86,
   "metadata": {},
   "outputs": [
    {
     "name": "stdout",
     "output_type": "stream",
     "text": [
      "(178, 2)\n"
     ]
    }
   ],
   "source": [
    "pca = PCA(n_components=2)\n",
    "features = pca.fit(wine.data).transform(wine.data)\n",
    "target = wine.target\n",
    "\n",
    "print(features.shape)"
   ]
  },
  {
   "cell_type": "code",
   "execution_count": 87,
   "metadata": {},
   "outputs": [
    {
     "name": "stdout",
     "output_type": "stream",
     "text": [
      "seed :  0  / accuracy :  0.1853932584269663\n",
      "seed :  1  / accuracy :  0.702247191011236\n",
      "seed :  2  / accuracy :  0.1853932584269663\n",
      "seed :  3  / accuracy :  0.1853932584269663\n",
      "seed :  4  / accuracy :  0.16853932584269662\n",
      "seed :  5  / accuracy :  0.16853932584269662\n",
      "seed :  6  / accuracy :  0.16853932584269662\n",
      "seed :  7  / accuracy :  0.1853932584269663\n",
      "seed :  8  / accuracy :  0.1853932584269663\n",
      "seed :  9  / accuracy :  0.16853932584269662\n",
      "--------------------------------------------------\n",
      "Clustering Average Accuracy : 0.230337\n",
      "Clustering Average Time : 0.0244 sec\n"
     ]
    }
   ],
   "source": [
    "avg_acc = []\n",
    "avg_time = []\n",
    "\n",
    "max_seed = 10\n",
    "\n",
    "for seed in range(max_seed):\n",
    "    k = 3\n",
    "\n",
    "    k_means = KMeans(n_clusters=k, random_state=seed)\n",
    "\n",
    "    start = time.perf_counter()\n",
    "    k_means.fit(features, target)\n",
    "    end = time.perf_counter() - start\n",
    "\n",
    "    score = metrics.accuracy_score(target, k_means.labels_)\n",
    "    print(\"seed : \", seed, \" / accuracy : \", score)\n",
    "\n",
    "    avg_acc.append(score)\n",
    "    avg_time.append(end)\n",
    "\n",
    "print(\"-----\" * 10)\n",
    "print(\"Clustering Average Accuracy : %f\" % np.array(avg_acc).mean())\n",
    "print(\"Clustering Average Time : %.4f\" % np.array(avg_time).mean(), \"sec\")\n",
    "\n",
    "comparison_acc.append(np.array(avg_acc).mean())\n",
    "comparison_time.append(np.array(avg_time).mean())"
   ]
  },
  {
   "cell_type": "markdown",
   "metadata": {},
   "source": [
    "## k-Means"
   ]
  },
  {
   "cell_type": "code",
   "execution_count": 88,
   "metadata": {},
   "outputs": [
    {
     "name": "stdout",
     "output_type": "stream",
     "text": [
      "(178, 13)\n"
     ]
    }
   ],
   "source": [
    "wine = load_wine()\n",
    "\n",
    "features = wine.data\n",
    "target = wine.target\n",
    "\n",
    "print(features.shape)"
   ]
  },
  {
   "cell_type": "code",
   "execution_count": 89,
   "metadata": {},
   "outputs": [
    {
     "name": "stdout",
     "output_type": "stream",
     "text": [
      "seed :  0  / accuracy :  0.1853932584269663\n",
      "seed :  1  / accuracy :  0.702247191011236\n",
      "seed :  2  / accuracy :  0.1853932584269663\n",
      "seed :  3  / accuracy :  0.1853932584269663\n",
      "seed :  4  / accuracy :  0.16853932584269662\n",
      "seed :  5  / accuracy :  0.16853932584269662\n",
      "seed :  6  / accuracy :  0.16853932584269662\n",
      "seed :  7  / accuracy :  0.1853932584269663\n",
      "seed :  8  / accuracy :  0.1853932584269663\n",
      "seed :  9  / accuracy :  0.16853932584269662\n",
      "--------------------------------------------------\n",
      "Clustering Average Accuracy : 0.230337\n",
      "Clustering Average Time : 0.0249 sec\n"
     ]
    }
   ],
   "source": [
    "avg_acc = []\n",
    "avg_time = []\n",
    "\n",
    "max_seed = 10\n",
    "\n",
    "for seed in range(max_seed):\n",
    "    k = 3\n",
    "\n",
    "    k_means = KMeans(n_clusters=k, random_state=seed)\n",
    "\n",
    "    start = time.perf_counter()\n",
    "    k_means.fit(features, target)\n",
    "    end = time.perf_counter() - start\n",
    "\n",
    "    score = metrics.accuracy_score(target, k_means.labels_)\n",
    "    print(\"seed : \", seed, \" / accuracy : \", score)\n",
    "\n",
    "    avg_acc.append(score)\n",
    "    avg_time.append(end)\n",
    "\n",
    "print(\"-----\" * 10)\n",
    "print(\"Clustering Average Accuracy : %f\" % np.array(avg_acc).mean())\n",
    "print(\"Clustering Average Time : %.4f\" % np.array(avg_time).mean(), \"sec\")\n",
    "\n",
    "comparison_acc.append(np.array(avg_acc).mean())\n",
    "comparison_time.append(np.array(avg_time).mean())"
   ]
  },
  {
   "cell_type": "markdown",
   "metadata": {},
   "source": [
    "### Method Comparison"
   ]
  },
  {
   "cell_type": "code",
   "execution_count": 90,
   "metadata": {},
   "outputs": [
    {
     "data": {
      "image/png": "[encoded data removed]",
      "text/plain": [
       "<Figure size 432x288 with 2 Axes>"
      ]
     },
     "metadata": {},
     "output_type": "display_data"
    }
   ],
   "source": [
    "import seaborn as sns\n",
    "\n",
    "sns.set(style=\"white\", rc={\"lines.linewidth\": 3})\n",
    "\n",
    "fig, ax1 = plt.subplots()\n",
    "ax2 = ax1.twinx()\n",
    "\n",
    "sns.barplot(x=[\"PCA Feature 2\", \"PCA Feature 3\", \"Normal\"],\n",
    "            y=[comparison_acc[1], comparison_acc[0], comparison_acc[2]], \n",
    "            color='#004488',\n",
    "            ax=ax1)\n",
    "\n",
    "sns.lineplot(x=[\"PCA Feature 2\", \"PCA Feature 3\", \"Normal\"], \n",
    "             y=[comparison_time[1], comparison_time[0], comparison_time[2]],\n",
    "             color='r',\n",
    "             marker=\"o\",\n",
    "             ax=ax2)\n",
    "\n",
    "ax1.set_ylabel(\"Accuracy\")\n",
    "ax2.set_ylabel(\"Seconds\")\n",
    "\n",
    "ax1.legend([\"Accuracy\"], loc=1, bbox_to_anchor=(1.5, 0.5))\n",
    "ax2.legend([\"Time\"], loc=4, bbox_to_anchor=(1.5, 0.5))\n",
    "\n",
    "plt.show()\n",
    "sns.set()"
   ]
  }
 ],
 "metadata": {
  "interpreter": {
   "hash": "ef298fc41f1c944450b137f71a863fad07b94cfee850be5694a07d1477901498"
  },
  "kernelspec": {
   "display_name": "lab",
   "language": "python",
   "name": "lab"
  },
  "language_info": {
   "codemirror_mode": {
    "name": "ipython",
    "version": 3
   },
   "file_extension": ".py",
   "mimetype": "text/x-python",
   "name": "python",
   "nbconvert_exporter": "python",
   "pygments_lexer": "ipython3",
   "version": "3.8.5"
  },
  "orig_nbformat": 4
 },
 "nbformat": 4,
 "nbformat_minor": 2
}
