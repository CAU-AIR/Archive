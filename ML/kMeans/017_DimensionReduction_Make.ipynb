{
 "cells": [
  {
   "cell_type": "markdown",
   "metadata": {},
   "source": [
    "## wine Dataset Classification using k-Means with Dimension Reduction\n",
    "\n",
    "k-Means을 이용하여 PCA가 적용된 wine 데이터셋 분류\n",
    "\n",
    "<span style=\"color: #2D3748; background-color:#fff5b1;\">PCA를 적용하여 feature의 수를 2개와 3개로 구성한 후 k-Means을 이용하여 실험한 결과 정확도 측면에서는 PCA를 적용하지 않은 방법과 비슷하지만 분류 시간의 경우 PCA를 적용하지 않은 경우 시간이 증가하였다.</span>"
   ]
  },
  {
   "cell_type": "code",
   "execution_count": 109,
   "metadata": {},
   "outputs": [],
   "source": [
    "import time\n",
    "import numpy as np\n",
    "import matplotlib.pyplot as plt\n",
    "import sklearn.metrics as metrics\n",
    "from sklearn.cluster import KMeans\n",
    "from sklearn.decomposition import PCA\n",
    "from sklearn.datasets import make_classification"
   ]
  },
  {
   "cell_type": "code",
   "execution_count": 110,
   "metadata": {},
   "outputs": [],
   "source": [
    "comparison_acc = []\n",
    "comparison_time = []"
   ]
  },
  {
   "cell_type": "markdown",
   "metadata": {},
   "source": [
    "## k-Means with PCA feature 3"
   ]
  },
  {
   "cell_type": "code",
   "execution_count": 111,
   "metadata": {},
   "outputs": [
    {
     "name": "stdout",
     "output_type": "stream",
     "text": [
      "(15000, 3)\n"
     ]
    }
   ],
   "source": [
    "features, target = make_classification(n_samples=15000, n_features=4, n_informative=4, n_redundant=0, n_classes=3, n_clusters_per_class=1, random_state=0)\n",
    "\n",
    "pca = PCA(n_components=3)\n",
    "features = pca.fit(features).transform(features)\n",
    "target = target\n",
    "\n",
    "print(features.shape)"
   ]
  },
  {
   "cell_type": "code",
   "execution_count": 112,
   "metadata": {},
   "outputs": [
    {
     "name": "stdout",
     "output_type": "stream",
     "text": [
      "seed :  0  / accuracy :  0.4254\n",
      "seed :  1  / accuracy :  0.3066\n",
      "seed :  2  / accuracy :  0.047933333333333335\n",
      "seed :  3  / accuracy :  0.42273333333333335\n",
      "seed :  4  / accuracy :  0.2680666666666667\n",
      "seed :  5  / accuracy :  0.09173333333333333\n",
      "seed :  6  / accuracy :  0.8570666666666666\n",
      "seed :  7  / accuracy :  0.2704666666666667\n",
      "seed :  8  / accuracy :  0.09426666666666667\n",
      "seed :  9  / accuracy :  0.3052666666666667\n",
      "--------------------------------------------------\n",
      "Clustering Average Accuracy : 0.308953\n",
      "Clustering Average Time : 0.1141 sec\n"
     ]
    }
   ],
   "source": [
    "avg_acc = []\n",
    "avg_time = []\n",
    "\n",
    "max_seed = 10\n",
    "\n",
    "for seed in range(max_seed):\n",
    "    k = 3\n",
    "\n",
    "    k_means = KMeans(n_clusters=k, random_state=seed)\n",
    "\n",
    "    start = time.perf_counter()\n",
    "    k_means.fit(features, target)\n",
    "    end = time.perf_counter() - start\n",
    "\n",
    "    score = metrics.accuracy_score(target, k_means.labels_)\n",
    "    print(\"seed : \", seed, \" / accuracy : \", score)\n",
    "\n",
    "    avg_acc.append(score)\n",
    "    avg_time.append(end)\n",
    "\n",
    "print(\"-----\" * 10)\n",
    "print(\"Clustering Average Accuracy : %f\" % np.array(avg_acc).mean())\n",
    "print(\"Clustering Average Time : %.4f\" % np.array(avg_time).mean(), \"sec\")\n",
    "\n",
    "comparison_acc.append(np.array(avg_acc).mean())\n",
    "comparison_time.append(np.array(avg_time).mean())"
   ]
  },
  {
   "cell_type": "markdown",
   "metadata": {},
   "source": [
    "## k-Means with PCA feature 2"
   ]
  },
  {
   "cell_type": "code",
   "execution_count": 113,
   "metadata": {},
   "outputs": [
    {
     "name": "stdout",
     "output_type": "stream",
     "text": [
      "(15000, 2)\n"
     ]
    }
   ],
   "source": [
    "features, target = make_classification(n_samples=15000, n_features=4, n_informative=4, n_redundant=0, n_classes=3, n_clusters_per_class=1, random_state=0)\n",
    "\n",
    "pca = PCA(n_components=2)\n",
    "features = pca.fit(features).transform(features)\n",
    "target = target\n",
    "\n",
    "print(features.shape)"
   ]
  },
  {
   "cell_type": "code",
   "execution_count": 114,
   "metadata": {},
   "outputs": [
    {
     "name": "stdout",
     "output_type": "stream",
     "text": [
      "seed :  0  / accuracy :  0.0972\n",
      "seed :  1  / accuracy :  0.0658\n",
      "seed :  2  / accuracy :  0.2617333333333333\n",
      "seed :  3  / accuracy :  0.0658\n",
      "seed :  4  / accuracy :  0.4159333333333333\n",
      "seed :  5  / accuracy :  0.09846666666666666\n",
      "seed :  6  / accuracy :  0.8356666666666667\n",
      "seed :  7  / accuracy :  0.0658\n",
      "seed :  8  / accuracy :  0.09846666666666666\n",
      "seed :  9  / accuracy :  0.8357333333333333\n",
      "--------------------------------------------------\n",
      "Clustering Average Accuracy : 0.284060\n",
      "Clustering Average Time : 0.1192 sec\n"
     ]
    }
   ],
   "source": [
    "avg_acc = []\n",
    "avg_time = []\n",
    "\n",
    "max_seed = 10\n",
    "\n",
    "for seed in range(max_seed):\n",
    "    k = 3\n",
    "\n",
    "    k_means = KMeans(n_clusters=k, random_state=seed)\n",
    "\n",
    "    start = time.perf_counter()\n",
    "    k_means.fit(features, target)\n",
    "    end = time.perf_counter() - start\n",
    "\n",
    "    score = metrics.accuracy_score(target, k_means.labels_)\n",
    "    print(\"seed : \", seed, \" / accuracy : \", score)\n",
    "\n",
    "    avg_acc.append(score)\n",
    "    avg_time.append(end)\n",
    "\n",
    "print(\"-----\" * 10)\n",
    "print(\"Clustering Average Accuracy : %f\" % np.array(avg_acc).mean())\n",
    "print(\"Clustering Average Time : %.4f\" % np.array(avg_time).mean(), \"sec\")\n",
    "\n",
    "comparison_acc.append(np.array(avg_acc).mean())\n",
    "comparison_time.append(np.array(avg_time).mean())"
   ]
  },
  {
   "cell_type": "markdown",
   "metadata": {},
   "source": [
    "## k-Means"
   ]
  },
  {
   "cell_type": "code",
   "execution_count": 115,
   "metadata": {},
   "outputs": [],
   "source": [
    "features, target = make_classification(n_samples=15000, n_features=4, n_informative=4, n_redundant=0, n_classes=3, n_clusters_per_class=1, random_state=0)"
   ]
  },
  {
   "cell_type": "code",
   "execution_count": 116,
   "metadata": {},
   "outputs": [
    {
     "name": "stdout",
     "output_type": "stream",
     "text": [
      "seed :  0  / accuracy :  0.0946\n",
      "seed :  1  / accuracy :  0.8573333333333333\n",
      "seed :  2  / accuracy :  0.045066666666666665\n",
      "seed :  3  / accuracy :  0.43093333333333333\n",
      "seed :  4  / accuracy :  0.4308666666666667\n",
      "seed :  5  / accuracy :  0.30593333333333333\n",
      "seed :  6  / accuracy :  0.42993333333333333\n",
      "seed :  7  / accuracy :  0.8579333333333333\n",
      "seed :  8  / accuracy :  0.43066666666666664\n",
      "seed :  9  / accuracy :  0.8572666666666666\n",
      "--------------------------------------------------\n",
      "Clustering Average Accuracy : 0.474053\n",
      "Clustering Average Time : 0.1165 sec\n"
     ]
    }
   ],
   "source": [
    "avg_acc = []\n",
    "avg_time = []\n",
    "\n",
    "max_seed = 10\n",
    "\n",
    "for seed in range(max_seed):\n",
    "    k = 3\n",
    "\n",
    "    k_means = KMeans(n_clusters=k, random_state=seed)\n",
    "\n",
    "    start = time.perf_counter()\n",
    "    k_means.fit(features, target)\n",
    "    end = time.perf_counter() - start\n",
    "\n",
    "    score = metrics.accuracy_score(target, k_means.labels_)\n",
    "    print(\"seed : \", seed, \" / accuracy : \", score)\n",
    "\n",
    "    avg_acc.append(score)\n",
    "    avg_time.append(end)\n",
    "\n",
    "print(\"-----\" * 10)\n",
    "print(\"Clustering Average Accuracy : %f\" % np.array(avg_acc).mean())\n",
    "print(\"Clustering Average Time : %.4f\" % np.array(avg_time).mean(), \"sec\")\n",
    "\n",
    "comparison_acc.append(np.array(avg_acc).mean())\n",
    "comparison_time.append(np.array(avg_time).mean())"
   ]
  },
  {
   "cell_type": "markdown",
   "metadata": {},
   "source": [
    "### Method Comparison"
   ]
  },
  {
   "cell_type": "code",
   "execution_count": 117,
   "metadata": {},
   "outputs": [
    {
     "data": {
      "image/png": "[encoded data removed]",
      "text/plain": [
       "<Figure size 432x288 with 2 Axes>"
      ]
     },
     "metadata": {},
     "output_type": "display_data"
    }
   ],
   "source": [
    "import seaborn as sns\n",
    "\n",
    "sns.set(style=\"white\", rc={\"lines.linewidth\": 3})\n",
    "\n",
    "fig, ax1 = plt.subplots()\n",
    "ax2 = ax1.twinx()\n",
    "\n",
    "sns.barplot(x=[\"PCA Feature 2\", \"PCA Feature 3\", \"Normal\"],\n",
    "            y=[comparison_acc[1], comparison_acc[0], comparison_acc[2]], \n",
    "            color='#004488',\n",
    "            ax=ax1)\n",
    "\n",
    "sns.lineplot(x=[\"PCA Feature 2\", \"PCA Feature 3\", \"Normal\"], \n",
    "             y=[comparison_time[1], comparison_time[0], comparison_time[2]],\n",
    "             color='r',\n",
    "             marker=\"o\",\n",
    "             ax=ax2)\n",
    "\n",
    "ax1.set_ylabel(\"Accuracy\")\n",
    "ax2.set_ylabel(\"Seconds\")\n",
    "\n",
    "ax1.legend([\"Accuracy\"], loc=1, bbox_to_anchor=(1.5, 0.5))\n",
    "ax2.legend([\"Time\"], loc=4, bbox_to_anchor=(1.5, 0.5))\n",
    "\n",
    "plt.show()\n",
    "sns.set()"
   ]
  }
 ],
 "metadata": {
  "interpreter": {
   "hash": "44d038e57c4d3fbff5a53bd332178fb4937d473a635afbd764b704f04b5ece8f"
  },
  "kernelspec": {
   "display_name": "lab",
   "language": "python",
   "name": "python3"
  },
  "language_info": {
   "codemirror_mode": {
    "name": "ipython",
    "version": 3
   },
   "file_extension": ".py",
   "mimetype": "text/x-python",
   "name": "python",
   "nbconvert_exporter": "python",
   "pygments_lexer": "ipython3",
   "version": "3.8.3"
  },
  "orig_nbformat": 4
 },
 "nbformat": 4,
 "nbformat_minor": 2
}
